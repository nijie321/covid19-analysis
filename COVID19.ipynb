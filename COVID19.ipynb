{
 "cells": [
  {
   "cell_type": "code",
   "execution_count": 186,
   "metadata": {},
   "outputs": [
    {
     "data": {
      "text/plain": [
       "\"https://raw.githubusercontent.com/CSSEGISandData/COVID-19/master/csse_covid_19_data/csse_covid_19_time_series/time_series_covid19_confirmed_global.csv\""
      ]
     },
     "execution_count": 186,
     "metadata": {},
     "output_type": "execute_result"
    }
   ],
   "source": [
    "url = \"https://raw.githubusercontent.com/CSSEGISandData/COVID-19/master/csse_covid_19_data/csse_covid_19_time_series/time_series_covid19_confirmed_global.csv\"\n"
   ]
  },
  {
   "cell_type": "code",
   "execution_count": 187,
   "metadata": {},
   "outputs": [
    {
     "data": {
      "text/plain": [
       "\"https://raw.githubusercontent.com/CSSEGISandData/COVID-19/master/csse_covid_19_data/csse_covid_19_time_series/time_series_covid19_confirmed_global.csv\""
      ]
     },
     "execution_count": 187,
     "metadata": {},
     "output_type": "execute_result"
    }
   ],
   "source": [
    "url"
   ]
  },
  {
   "cell_type": "code",
   "execution_count": 188,
   "metadata": {},
   "outputs": [],
   "source": [
    "# download(url, \"covid_data.csv\")"
   ]
  },
  {
   "cell_type": "code",
   "execution_count": 189,
   "metadata": {
    "scrolled": true
   },
   "outputs": [],
   "source": [
    "# using Pkg\n",
    "# Pkg.add(\"CSV\")"
   ]
  },
  {
   "cell_type": "code",
   "execution_count": 190,
   "metadata": {},
   "outputs": [],
   "source": [
    "using CSV"
   ]
  },
  {
   "cell_type": "code",
   "execution_count": 191,
   "metadata": {
    "scrolled": true
   },
   "outputs": [
    {
     "data": {
      "text/html": [
       "<table class=\"data-frame\"><thead><tr><th></th><th>Province/State</th><th>Country/Region</th><th>Lat</th><th>Long</th><th>1/22/20</th></tr><tr><th></th><th>String?</th><th>String</th><th>Float64</th><th>Float64</th><th>Int64</th></tr></thead><tbody><p>266 rows × 144 columns (omitted printing of 139 columns)</p><tr><th>1</th><td><em>missing</em></td><td>Afghanistan</td><td>33.0</td><td>65.0</td><td>0</td></tr><tr><th>2</th><td><em>missing</em></td><td>Albania</td><td>41.1533</td><td>20.1683</td><td>0</td></tr><tr><th>3</th><td><em>missing</em></td><td>Algeria</td><td>28.0339</td><td>1.6596</td><td>0</td></tr><tr><th>4</th><td><em>missing</em></td><td>Andorra</td><td>42.5063</td><td>1.5218</td><td>0</td></tr><tr><th>5</th><td><em>missing</em></td><td>Angola</td><td>-11.2027</td><td>17.8739</td><td>0</td></tr><tr><th>6</th><td><em>missing</em></td><td>Antigua and Barbuda</td><td>17.0608</td><td>-61.7964</td><td>0</td></tr><tr><th>7</th><td><em>missing</em></td><td>Argentina</td><td>-38.4161</td><td>-63.6167</td><td>0</td></tr><tr><th>8</th><td><em>missing</em></td><td>Armenia</td><td>40.0691</td><td>45.0382</td><td>0</td></tr><tr><th>9</th><td>Australian Capital Territory</td><td>Australia</td><td>-35.4735</td><td>149.012</td><td>0</td></tr><tr><th>10</th><td>New South Wales</td><td>Australia</td><td>-33.8688</td><td>151.209</td><td>0</td></tr><tr><th>11</th><td>Northern Territory</td><td>Australia</td><td>-12.4634</td><td>130.846</td><td>0</td></tr><tr><th>12</th><td>Queensland</td><td>Australia</td><td>-28.0167</td><td>153.4</td><td>0</td></tr><tr><th>13</th><td>South Australia</td><td>Australia</td><td>-34.9285</td><td>138.601</td><td>0</td></tr><tr><th>14</th><td>Tasmania</td><td>Australia</td><td>-41.4545</td><td>145.971</td><td>0</td></tr><tr><th>15</th><td>Victoria</td><td>Australia</td><td>-37.8136</td><td>144.963</td><td>0</td></tr><tr><th>16</th><td>Western Australia</td><td>Australia</td><td>-31.9505</td><td>115.861</td><td>0</td></tr><tr><th>17</th><td><em>missing</em></td><td>Austria</td><td>47.5162</td><td>14.5501</td><td>0</td></tr><tr><th>18</th><td><em>missing</em></td><td>Azerbaijan</td><td>40.1431</td><td>47.5769</td><td>0</td></tr><tr><th>19</th><td><em>missing</em></td><td>Bahamas</td><td>25.0343</td><td>-77.3963</td><td>0</td></tr><tr><th>20</th><td><em>missing</em></td><td>Bahrain</td><td>26.0275</td><td>50.55</td><td>0</td></tr><tr><th>21</th><td><em>missing</em></td><td>Bangladesh</td><td>23.685</td><td>90.3563</td><td>0</td></tr><tr><th>22</th><td><em>missing</em></td><td>Barbados</td><td>13.1939</td><td>-59.5432</td><td>0</td></tr><tr><th>23</th><td><em>missing</em></td><td>Belarus</td><td>53.7098</td><td>27.9534</td><td>0</td></tr><tr><th>24</th><td><em>missing</em></td><td>Belgium</td><td>50.8333</td><td>4.0</td><td>0</td></tr><tr><th>25</th><td><em>missing</em></td><td>Benin</td><td>9.3077</td><td>2.3158</td><td>0</td></tr><tr><th>26</th><td><em>missing</em></td><td>Bhutan</td><td>27.5142</td><td>90.4336</td><td>0</td></tr><tr><th>27</th><td><em>missing</em></td><td>Bolivia</td><td>-16.2902</td><td>-63.5887</td><td>0</td></tr><tr><th>28</th><td><em>missing</em></td><td>Bosnia and Herzegovina</td><td>43.9159</td><td>17.6791</td><td>0</td></tr><tr><th>29</th><td><em>missing</em></td><td>Brazil</td><td>-14.235</td><td>-51.9253</td><td>0</td></tr><tr><th>30</th><td><em>missing</em></td><td>Brunei</td><td>4.5353</td><td>114.728</td><td>0</td></tr><tr><th>&vellip;</th><td>&vellip;</td><td>&vellip;</td><td>&vellip;</td><td>&vellip;</td><td>&vellip;</td></tr></tbody></table>"
      ],
      "text/latex": [
       "\\begin{tabular}{r|cccccc}\n",
       "\t& Province/State & Country/Region & Lat & Long & 1/22/20 & \\\\\n",
       "\t\\hline\n",
       "\t& String? & String & Float64 & Float64 & Int64 & \\\\\n",
       "\t\\hline\n",
       "\t1 & \\emph{missing} & Afghanistan & 33.0 & 65.0 & 0 & $\\dots$ \\\\\n",
       "\t2 & \\emph{missing} & Albania & 41.1533 & 20.1683 & 0 & $\\dots$ \\\\\n",
       "\t3 & \\emph{missing} & Algeria & 28.0339 & 1.6596 & 0 & $\\dots$ \\\\\n",
       "\t4 & \\emph{missing} & Andorra & 42.5063 & 1.5218 & 0 & $\\dots$ \\\\\n",
       "\t5 & \\emph{missing} & Angola & -11.2027 & 17.8739 & 0 & $\\dots$ \\\\\n",
       "\t6 & \\emph{missing} & Antigua and Barbuda & 17.0608 & -61.7964 & 0 & $\\dots$ \\\\\n",
       "\t7 & \\emph{missing} & Argentina & -38.4161 & -63.6167 & 0 & $\\dots$ \\\\\n",
       "\t8 & \\emph{missing} & Armenia & 40.0691 & 45.0382 & 0 & $\\dots$ \\\\\n",
       "\t9 & Australian Capital Territory & Australia & -35.4735 & 149.012 & 0 & $\\dots$ \\\\\n",
       "\t10 & New South Wales & Australia & -33.8688 & 151.209 & 0 & $\\dots$ \\\\\n",
       "\t11 & Northern Territory & Australia & -12.4634 & 130.846 & 0 & $\\dots$ \\\\\n",
       "\t12 & Queensland & Australia & -28.0167 & 153.4 & 0 & $\\dots$ \\\\\n",
       "\t13 & South Australia & Australia & -34.9285 & 138.601 & 0 & $\\dots$ \\\\\n",
       "\t14 & Tasmania & Australia & -41.4545 & 145.971 & 0 & $\\dots$ \\\\\n",
       "\t15 & Victoria & Australia & -37.8136 & 144.963 & 0 & $\\dots$ \\\\\n",
       "\t16 & Western Australia & Australia & -31.9505 & 115.861 & 0 & $\\dots$ \\\\\n",
       "\t17 & \\emph{missing} & Austria & 47.5162 & 14.5501 & 0 & $\\dots$ \\\\\n",
       "\t18 & \\emph{missing} & Azerbaijan & 40.1431 & 47.5769 & 0 & $\\dots$ \\\\\n",
       "\t19 & \\emph{missing} & Bahamas & 25.0343 & -77.3963 & 0 & $\\dots$ \\\\\n",
       "\t20 & \\emph{missing} & Bahrain & 26.0275 & 50.55 & 0 & $\\dots$ \\\\\n",
       "\t21 & \\emph{missing} & Bangladesh & 23.685 & 90.3563 & 0 & $\\dots$ \\\\\n",
       "\t22 & \\emph{missing} & Barbados & 13.1939 & -59.5432 & 0 & $\\dots$ \\\\\n",
       "\t23 & \\emph{missing} & Belarus & 53.7098 & 27.9534 & 0 & $\\dots$ \\\\\n",
       "\t24 & \\emph{missing} & Belgium & 50.8333 & 4.0 & 0 & $\\dots$ \\\\\n",
       "\t25 & \\emph{missing} & Benin & 9.3077 & 2.3158 & 0 & $\\dots$ \\\\\n",
       "\t26 & \\emph{missing} & Bhutan & 27.5142 & 90.4336 & 0 & $\\dots$ \\\\\n",
       "\t27 & \\emph{missing} & Bolivia & -16.2902 & -63.5887 & 0 & $\\dots$ \\\\\n",
       "\t28 & \\emph{missing} & Bosnia and Herzegovina & 43.9159 & 17.6791 & 0 & $\\dots$ \\\\\n",
       "\t29 & \\emph{missing} & Brazil & -14.235 & -51.9253 & 0 & $\\dots$ \\\\\n",
       "\t30 & \\emph{missing} & Brunei & 4.5353 & 114.728 & 0 & $\\dots$ \\\\\n",
       "\t$\\dots$ & $\\dots$ & $\\dots$ & $\\dots$ & $\\dots$ & $\\dots$ &  \\\\\n",
       "\\end{tabular}\n"
      ],
      "text/plain": [
       "266×144 DataFrame. Omitted printing of 141 columns\n",
       "│ Row │ Province/State                   │ Country/Region        │ Lat      │\n",
       "│     │ \u001b[90mUnion{Missing, String}\u001b[39m           │ \u001b[90mString\u001b[39m                │ \u001b[90mFloat64\u001b[39m  │\n",
       "├─────┼──────────────────────────────────┼───────────────────────┼──────────┤\n",
       "│ 1   │ \u001b[90mmissing\u001b[39m                          │ Afghanistan           │ 33.0     │\n",
       "│ 2   │ \u001b[90mmissing\u001b[39m                          │ Albania               │ 41.1533  │\n",
       "│ 3   │ \u001b[90mmissing\u001b[39m                          │ Algeria               │ 28.0339  │\n",
       "│ 4   │ \u001b[90mmissing\u001b[39m                          │ Andorra               │ 42.5063  │\n",
       "│ 5   │ \u001b[90mmissing\u001b[39m                          │ Angola                │ -11.2027 │\n",
       "│ 6   │ \u001b[90mmissing\u001b[39m                          │ Antigua and Barbuda   │ 17.0608  │\n",
       "│ 7   │ \u001b[90mmissing\u001b[39m                          │ Argentina             │ -38.4161 │\n",
       "│ 8   │ \u001b[90mmissing\u001b[39m                          │ Armenia               │ 40.0691  │\n",
       "│ 9   │ Australian Capital Territory     │ Australia             │ -35.4735 │\n",
       "│ 10  │ New South Wales                  │ Australia             │ -33.8688 │\n",
       "⋮\n",
       "│ 256 │ Bonaire, Sint Eustatius and Saba │ Netherlands           │ 12.1784  │\n",
       "│ 257 │ \u001b[90mmissing\u001b[39m                          │ Malawi                │ -13.2543 │\n",
       "│ 258 │ Falkland Islands (Malvinas)      │ United Kingdom        │ -51.7963 │\n",
       "│ 259 │ Saint Pierre and Miquelon        │ France                │ 46.8852  │\n",
       "│ 260 │ \u001b[90mmissing\u001b[39m                          │ South Sudan           │ 6.877    │\n",
       "│ 261 │ \u001b[90mmissing\u001b[39m                          │ Western Sahara        │ 24.2155  │\n",
       "│ 262 │ \u001b[90mmissing\u001b[39m                          │ Sao Tome and Principe │ 0.18636  │\n",
       "│ 263 │ \u001b[90mmissing\u001b[39m                          │ Yemen                 │ 15.5527  │\n",
       "│ 264 │ \u001b[90mmissing\u001b[39m                          │ Comoros               │ -11.6455 │\n",
       "│ 265 │ \u001b[90mmissing\u001b[39m                          │ Tajikistan            │ 38.861   │\n",
       "│ 266 │ \u001b[90mmissing\u001b[39m                          │ Lesotho               │ -29.61   │"
      ]
     },
     "execution_count": 191,
     "metadata": {},
     "output_type": "execute_result"
    }
   ],
   "source": [
    "data = CSV.read(\"covid_data.csv\")"
   ]
  },
  {
   "cell_type": "code",
   "execution_count": 192,
   "metadata": {},
   "outputs": [],
   "source": [
    "# using Pkg\n",
    "# Pkg.add(\"DataFrames\")"
   ]
  },
  {
   "cell_type": "code",
   "execution_count": 193,
   "metadata": {},
   "outputs": [],
   "source": [
    "using DataFrames"
   ]
  },
  {
   "cell_type": "code",
   "execution_count": 194,
   "metadata": {},
   "outputs": [],
   "source": [
    "# using Pkg\n",
    "# Pkg.add(\"Interact\")"
   ]
  },
  {
   "cell_type": "code",
   "execution_count": 258,
   "metadata": {
    "scrolled": true
   },
   "outputs": [],
   "source": [
    "using Interact"
   ]
  },
  {
   "cell_type": "code",
   "execution_count": 259,
   "metadata": {},
   "outputs": [
    {
     "data": {
      "application/vnd.webio.node+json": {
       "children": [
        {
         "children": [
          {
           "children": [
            {
             "children": [
              {
               "children": [
                {
                 "children": [
                  "i"
                 ],
                 "instanceArgs": {
                  "namespace": "html",
                  "tag": "label"
                 },
                 "nodeType": "DOM",
                 "props": {
                  "className": "interact ",
                  "style": {
                   "padding": "5px 10px 0px 10px"
                  }
                 },
                 "type": "node"
                }
               ],
               "instanceArgs": {
                "namespace": "html",
                "tag": "div"
               },
               "nodeType": "DOM",
               "props": {
                "className": "interact-flex-row-left"
               },
               "type": "node"
              },
              {
               "children": [
                {
                 "children": [],
                 "instanceArgs": {
                  "namespace": "html",
                  "tag": "input"
                 },
                 "nodeType": "DOM",
                 "props": {
                  "attributes": {
                   "data-bind": "numericValue: index, valueUpdate: 'input', event: {change: function (){this.changes(this.changes()+1)}}",
                   "orient": "horizontal",
                   "type": "range"
                  },
                  "className": "slider slider is-fullwidth",
                  "max": 10,
                  "min": 1,
                  "step": 1,
                  "style": {}
                 },
                 "type": "node"
                }
               ],
               "instanceArgs": {
                "namespace": "html",
                "tag": "div"
               },
               "nodeType": "DOM",
               "props": {
                "className": "interact-flex-row-center"
               },
               "type": "node"
              },
              {
               "children": [
                {
                 "children": [],
                 "instanceArgs": {
                  "namespace": "html",
                  "tag": "p"
                 },
                 "nodeType": "DOM",
                 "props": {
                  "attributes": {
                   "data-bind": "text: formatted_val"
                  }
                 },
                 "type": "node"
                }
               ],
               "instanceArgs": {
                "namespace": "html",
                "tag": "div"
               },
               "nodeType": "DOM",
               "props": {
                "className": "interact-flex-row-right"
               },
               "type": "node"
              }
             ],
             "instanceArgs": {
              "namespace": "html",
              "tag": "div"
             },
             "nodeType": "DOM",
             "props": {
              "className": "interact-flex-row interact-widget"
             },
             "type": "node"
            }
           ],
           "instanceArgs": {
            "handlers": {
             "changes": [
              "(function (val){return (val!=this.model[\"changes\"]()) ? (this.valueFromJulia[\"changes\"]=true, this.model[\"changes\"](val)) : undefined})"
             ],
             "index": [
              "(function (val){return (val!=this.model[\"index\"]()) ? (this.valueFromJulia[\"index\"]=true, this.model[\"index\"](val)) : undefined})"
             ]
            },
            "id": "16439071599552675782",
            "imports": {
             "data": [
              {
               "name": "knockout",
               "type": "js",
               "url": "/assetserver/2157388af3d6d86568eafc09a309e401c236faee-knockout.js"
              },
              {
               "name": "knockout_punches",
               "type": "js",
               "url": "/assetserver/b00210f913135d4addde28134ceecd2d9193c6e7-knockout_punches.js"
              },
              {
               "name": null,
               "type": "js",
               "url": "/assetserver/12c840a31458668260c09bf28698f40409d4e067-all.js"
              },
              {
               "name": null,
               "type": "css",
               "url": "/assetserver/6bd76268e6b605d1b5319ae30426172ea6079d91-style.css"
              },
              {
               "name": null,
               "type": "css",
               "url": "/assetserver/7e8ea1878bedc7a77aea469b5faf43596cabefa6-bulma_confined.min.css"
              }
             ],
             "type": "async_block"
            },
            "mount_callbacks": [
             "function () {\n    var handler = (function (ko, koPunches) {\n    ko.punches.enableAll();\n    ko.bindingHandlers.numericValue = {\n        init: function(element, valueAccessor, allBindings, data, context) {\n            var stringified = ko.observable(ko.unwrap(valueAccessor()));\n            stringified.subscribe(function(value) {\n                var val = parseFloat(value);\n                if (!isNaN(val)) {\n                    valueAccessor()(val);\n                }\n            });\n            valueAccessor().subscribe(function(value) {\n                var str = JSON.stringify(value);\n                if ((str == \"0\") && ([\"-0\", \"-0.\"].indexOf(stringified()) >= 0))\n                     return;\n                 if ([\"null\", \"\"].indexOf(str) >= 0)\n                     return;\n                stringified(str);\n            });\n            ko.applyBindingsToNode(\n                element,\n                {\n                    value: stringified,\n                    valueUpdate: allBindings.get('valueUpdate'),\n                },\n                context,\n            );\n        }\n    };\n    var json_data = {\"formatted_vals\":[\"1\",\"2\",\"3\",\"4\",\"5\",\"6\",\"7\",\"8\",\"9\",\"10\"],\"changes\":WebIO.getval({\"name\":\"changes\",\"scope\":\"16439071599552675782\",\"id\":\"3787480160849437421\",\"type\":\"observable\"}),\"index\":WebIO.getval({\"name\":\"index\",\"scope\":\"16439071599552675782\",\"id\":\"3238693935572961137\",\"type\":\"observable\"})};\n    var self = this;\n    function AppViewModel() {\n        for (var key in json_data) {\n            var el = json_data[key];\n            this[key] = Array.isArray(el) ? ko.observableArray(el) : ko.observable(el);\n        }\n        \n        [this[\"formatted_val\"]=ko.computed(    function(){\n        return this.formatted_vals()[parseInt(this.index())-(1)];\n    }\n,this)]\n        [this[\"changes\"].subscribe((function (val){!(this.valueFromJulia[\"changes\"]) ? (WebIO.setval({\"name\":\"changes\",\"scope\":\"16439071599552675782\",\"id\":\"3787480160849437421\",\"type\":\"observable\"},val)) : undefined; return this.valueFromJulia[\"changes\"]=false}),self),this[\"index\"].subscribe((function (val){!(this.valueFromJulia[\"index\"]) ? (WebIO.setval({\"name\":\"index\",\"scope\":\"16439071599552675782\",\"id\":\"3238693935572961137\",\"type\":\"observable\"},val)) : undefined; return this.valueFromJulia[\"index\"]=false}),self)]\n        \n    }\n    self.model = new AppViewModel();\n    self.valueFromJulia = {};\n    for (var key in json_data) {\n        self.valueFromJulia[key] = false;\n    }\n    ko.applyBindings(self.model, self.dom);\n}\n);\n    (WebIO.importBlock({\"data\":[{\"name\":\"knockout\",\"type\":\"js\",\"url\":\"/assetserver/2157388af3d6d86568eafc09a309e401c236faee-knockout.js\"},{\"name\":\"knockout_punches\",\"type\":\"js\",\"url\":\"/assetserver/b00210f913135d4addde28134ceecd2d9193c6e7-knockout_punches.js\"}],\"type\":\"async_block\"})).then((imports) => handler.apply(this, imports));\n}\n"
            ],
            "observables": {
             "changes": {
              "id": "3787480160849437421",
              "sync": false,
              "value": 0
             },
             "index": {
              "id": "3238693935572961137",
              "sync": true,
              "value": 5
             }
            },
            "systemjs_options": null
           },
           "nodeType": "Scope",
           "props": {},
           "type": "node"
          }
         ],
         "instanceArgs": {
          "namespace": "html",
          "tag": "div"
         },
         "nodeType": "DOM",
         "props": {
          "className": "field interact-widget"
         },
         "type": "node"
        },
        {
         "children": [
          {
           "children": [],
           "instanceArgs": {
            "id": "14533961583481224896",
            "name": "obs-node"
           },
           "nodeType": "ObservableNode",
           "props": {},
           "type": "node"
          }
         ],
         "instanceArgs": {
          "handlers": {},
          "id": "13211908780442711470",
          "imports": {
           "data": [],
           "type": "async_block"
          },
          "mount_callbacks": [],
          "observables": {
           "obs-node": {
            "id": "14533961583481224896",
            "sync": false,
            "value": {
             "children": [
              {
               "children": [],
               "instanceArgs": {
                "namespace": "html",
                "tag": "div"
               },
               "nodeType": "DOM",
               "props": {
                "setInnerHtml": "25"
               },
               "type": "node"
              }
             ],
             "instanceArgs": {
              "namespace": "html",
              "tag": "div"
             },
             "nodeType": "DOM",
             "props": {
              "className": "interact-flex-row interact-widget"
             },
             "type": "node"
            }
           }
          },
          "systemjs_options": null
         },
         "nodeType": "Scope",
         "props": {},
         "type": "node"
        }
       ],
       "instanceArgs": {
        "namespace": "html",
        "tag": "div"
       },
       "nodeType": "DOM",
       "props": {},
       "type": "node"
      },
      "text/html": [
       "<div\n",
       "    class=\"webio-mountpoint\"\n",
       "    data-webio-mountpoint=\"293552289641625555\"\n",
       ">\n",
       "    <script>\n",
       "    if (window.require && require.defined && require.defined(\"nbextensions/webio-jupyter-notebook\")) {\n",
       "        console.log(\"Jupyter WebIO extension detected, not mounting.\");\n",
       "    } else if (window.WebIO) {\n",
       "        WebIO.mount(\n",
       "            document.querySelector('[data-webio-mountpoint=\"293552289641625555\"]'),\n",
       "            {\"props\":{},\"nodeType\":\"DOM\",\"type\":\"node\",\"instanceArgs\":{\"namespace\":\"html\",\"tag\":\"div\"},\"children\":[{\"props\":{\"className\":\"field interact-widget\"},\"nodeType\":\"DOM\",\"type\":\"node\",\"instanceArgs\":{\"namespace\":\"html\",\"tag\":\"div\"},\"children\":[{\"props\":{},\"nodeType\":\"Scope\",\"type\":\"node\",\"instanceArgs\":{\"imports\":{\"data\":[{\"name\":\"knockout\",\"type\":\"js\",\"url\":\"\\/assetserver\\/2157388af3d6d86568eafc09a309e401c236faee-knockout.js\"},{\"name\":\"knockout_punches\",\"type\":\"js\",\"url\":\"\\/assetserver\\/b00210f913135d4addde28134ceecd2d9193c6e7-knockout_punches.js\"},{\"name\":null,\"type\":\"js\",\"url\":\"\\/assetserver\\/12c840a31458668260c09bf28698f40409d4e067-all.js\"},{\"name\":null,\"type\":\"css\",\"url\":\"\\/assetserver\\/6bd76268e6b605d1b5319ae30426172ea6079d91-style.css\"},{\"name\":null,\"type\":\"css\",\"url\":\"\\/assetserver\\/7e8ea1878bedc7a77aea469b5faf43596cabefa6-bulma_confined.min.css\"}],\"type\":\"async_block\"},\"id\":\"16439071599552675782\",\"handlers\":{\"changes\":[\"(function (val){return (val!=this.model[\\\"changes\\\"]()) ? (this.valueFromJulia[\\\"changes\\\"]=true, this.model[\\\"changes\\\"](val)) : undefined})\"],\"index\":[\"(function (val){return (val!=this.model[\\\"index\\\"]()) ? (this.valueFromJulia[\\\"index\\\"]=true, this.model[\\\"index\\\"](val)) : undefined})\"]},\"systemjs_options\":null,\"mount_callbacks\":[\"function () {\\n    var handler = (function (ko, koPunches) {\\n    ko.punches.enableAll();\\n    ko.bindingHandlers.numericValue = {\\n        init: function(element, valueAccessor, allBindings, data, context) {\\n            var stringified = ko.observable(ko.unwrap(valueAccessor()));\\n            stringified.subscribe(function(value) {\\n                var val = parseFloat(value);\\n                if (!isNaN(val)) {\\n                    valueAccessor()(val);\\n                }\\n            });\\n            valueAccessor().subscribe(function(value) {\\n                var str = JSON.stringify(value);\\n                if ((str == \\\"0\\\") && ([\\\"-0\\\", \\\"-0.\\\"].indexOf(stringified()) >= 0))\\n                     return;\\n                 if ([\\\"null\\\", \\\"\\\"].indexOf(str) >= 0)\\n                     return;\\n                stringified(str);\\n            });\\n            ko.applyBindingsToNode(\\n                element,\\n                {\\n                    value: stringified,\\n                    valueUpdate: allBindings.get('valueUpdate'),\\n                },\\n                context,\\n            );\\n        }\\n    };\\n    var json_data = {\\\"formatted_vals\\\":[\\\"1\\\",\\\"2\\\",\\\"3\\\",\\\"4\\\",\\\"5\\\",\\\"6\\\",\\\"7\\\",\\\"8\\\",\\\"9\\\",\\\"10\\\"],\\\"changes\\\":WebIO.getval({\\\"name\\\":\\\"changes\\\",\\\"scope\\\":\\\"16439071599552675782\\\",\\\"id\\\":\\\"3787480160849437421\\\",\\\"type\\\":\\\"observable\\\"}),\\\"index\\\":WebIO.getval({\\\"name\\\":\\\"index\\\",\\\"scope\\\":\\\"16439071599552675782\\\",\\\"id\\\":\\\"3238693935572961137\\\",\\\"type\\\":\\\"observable\\\"})};\\n    var self = this;\\n    function AppViewModel() {\\n        for (var key in json_data) {\\n            var el = json_data[key];\\n            this[key] = Array.isArray(el) ? ko.observableArray(el) : ko.observable(el);\\n        }\\n        \\n        [this[\\\"formatted_val\\\"]=ko.computed(    function(){\\n        return this.formatted_vals()[parseInt(this.index())-(1)];\\n    }\\n,this)]\\n        [this[\\\"changes\\\"].subscribe((function (val){!(this.valueFromJulia[\\\"changes\\\"]) ? (WebIO.setval({\\\"name\\\":\\\"changes\\\",\\\"scope\\\":\\\"16439071599552675782\\\",\\\"id\\\":\\\"3787480160849437421\\\",\\\"type\\\":\\\"observable\\\"},val)) : undefined; return this.valueFromJulia[\\\"changes\\\"]=false}),self),this[\\\"index\\\"].subscribe((function (val){!(this.valueFromJulia[\\\"index\\\"]) ? (WebIO.setval({\\\"name\\\":\\\"index\\\",\\\"scope\\\":\\\"16439071599552675782\\\",\\\"id\\\":\\\"3238693935572961137\\\",\\\"type\\\":\\\"observable\\\"},val)) : undefined; return this.valueFromJulia[\\\"index\\\"]=false}),self)]\\n        \\n    }\\n    self.model = new AppViewModel();\\n    self.valueFromJulia = {};\\n    for (var key in json_data) {\\n        self.valueFromJulia[key] = false;\\n    }\\n    ko.applyBindings(self.model, self.dom);\\n}\\n);\\n    (WebIO.importBlock({\\\"data\\\":[{\\\"name\\\":\\\"knockout\\\",\\\"type\\\":\\\"js\\\",\\\"url\\\":\\\"\\/assetserver\\/2157388af3d6d86568eafc09a309e401c236faee-knockout.js\\\"},{\\\"name\\\":\\\"knockout_punches\\\",\\\"type\\\":\\\"js\\\",\\\"url\\\":\\\"\\/assetserver\\/b00210f913135d4addde28134ceecd2d9193c6e7-knockout_punches.js\\\"}],\\\"type\\\":\\\"async_block\\\"})).then((imports) => handler.apply(this, imports));\\n}\\n\"],\"observables\":{\"changes\":{\"sync\":false,\"id\":\"3787480160849437421\",\"value\":0},\"index\":{\"sync\":true,\"id\":\"3238693935572961137\",\"value\":5}}},\"children\":[{\"props\":{\"className\":\"interact-flex-row interact-widget\"},\"nodeType\":\"DOM\",\"type\":\"node\",\"instanceArgs\":{\"namespace\":\"html\",\"tag\":\"div\"},\"children\":[{\"props\":{\"className\":\"interact-flex-row-left\"},\"nodeType\":\"DOM\",\"type\":\"node\",\"instanceArgs\":{\"namespace\":\"html\",\"tag\":\"div\"},\"children\":[{\"props\":{\"className\":\"interact \",\"style\":{\"padding\":\"5px 10px 0px 10px\"}},\"nodeType\":\"DOM\",\"type\":\"node\",\"instanceArgs\":{\"namespace\":\"html\",\"tag\":\"label\"},\"children\":[\"i\"]}]},{\"props\":{\"className\":\"interact-flex-row-center\"},\"nodeType\":\"DOM\",\"type\":\"node\",\"instanceArgs\":{\"namespace\":\"html\",\"tag\":\"div\"},\"children\":[{\"props\":{\"max\":10,\"min\":1,\"attributes\":{\"type\":\"range\",\"data-bind\":\"numericValue: index, valueUpdate: 'input', event: {change: function (){this.changes(this.changes()+1)}}\",\"orient\":\"horizontal\"},\"step\":1,\"className\":\"slider slider is-fullwidth\",\"style\":{}},\"nodeType\":\"DOM\",\"type\":\"node\",\"instanceArgs\":{\"namespace\":\"html\",\"tag\":\"input\"},\"children\":[]}]},{\"props\":{\"className\":\"interact-flex-row-right\"},\"nodeType\":\"DOM\",\"type\":\"node\",\"instanceArgs\":{\"namespace\":\"html\",\"tag\":\"div\"},\"children\":[{\"props\":{\"attributes\":{\"data-bind\":\"text: formatted_val\"}},\"nodeType\":\"DOM\",\"type\":\"node\",\"instanceArgs\":{\"namespace\":\"html\",\"tag\":\"p\"},\"children\":[]}]}]}]}]},{\"props\":{},\"nodeType\":\"Scope\",\"type\":\"node\",\"instanceArgs\":{\"imports\":{\"data\":[],\"type\":\"async_block\"},\"id\":\"14682411126208801097\",\"handlers\":{},\"systemjs_options\":null,\"mount_callbacks\":[],\"observables\":{\"obs-node\":{\"sync\":false,\"id\":\"807339263375405339\",\"value\":{\"props\":{\"className\":\"interact-flex-row interact-widget\"},\"nodeType\":\"DOM\",\"type\":\"node\",\"instanceArgs\":{\"namespace\":\"html\",\"tag\":\"div\"},\"children\":[{\"props\":{\"setInnerHtml\":\"25\"},\"nodeType\":\"DOM\",\"type\":\"node\",\"instanceArgs\":{\"namespace\":\"html\",\"tag\":\"div\"},\"children\":[]}]}}}},\"children\":[{\"props\":{},\"nodeType\":\"ObservableNode\",\"type\":\"node\",\"instanceArgs\":{\"id\":\"807339263375405339\",\"name\":\"obs-node\"},\"children\":[]}]}]},\n",
       "            window,\n",
       "        );\n",
       "    } else {\n",
       "        document\n",
       "            .querySelector('[data-webio-mountpoint=\"293552289641625555\"]')\n",
       "            .innerHTML = (\n",
       "                '<div style=\"padding: 1em; background-color: #f8d6da; border: 1px solid #f5c6cb\">' +\n",
       "                '<p><strong>WebIO not detected.</strong></p>' +\n",
       "                '<p>Please read ' +\n",
       "                '<a href=\"https://juliagizmos.github.io/WebIO.jl/latest/troubleshooting/not-detected/\" target=\"_blank\">the troubleshooting guide</a> ' +\n",
       "                'for more information on how to resolve this issue.</p>' +\n",
       "                '<p><a href=\"https://juliagizmos.github.io/WebIO.jl/latest/troubleshooting/not-detected/\" target=\"_blank\">https://juliagizmos.github.io/WebIO.jl/latest/troubleshooting/not-detected/</a></p>' +\n",
       "                '</div>'\n",
       "            );\n",
       "    }\n",
       "    </script>\n",
       "</div>\n"
      ],
      "text/plain": [
       "Node{WebIO.DOM}(WebIO.DOM(:html, :div), Any[Node{WebIO.DOM}(WebIO.DOM(:html, :div), Any[Scope(Node{WebIO.DOM}(WebIO.DOM(:html, :div), Any[Node{WebIO.DOM}(WebIO.DOM(:html, :div), Any[Node{WebIO.DOM}(WebIO.DOM(:html, :label), Any[\"i\"], Dict{Symbol,Any}(:className => \"interact \",:style => Dict{Any,Any}(:padding => \"5px 10px 0px 10px\")))], Dict{Symbol,Any}(:className => \"interact-flex-row-left\")), Node{WebIO.DOM}(WebIO.DOM(:html, :div), Any[Node{WebIO.DOM}(WebIO.DOM(:html, :input), Any[], Dict{Symbol,Any}(:max => 10,:min => 1,:attributes => Dict{Any,Any}(:type => \"range\",Symbol(\"data-bind\") => \"numericValue: index, valueUpdate: 'input', event: {change: function (){this.changes(this.changes()+1)}}\",\"orient\" => \"horizontal\"),:step => 1,:className => \"slider slider is-fullwidth\",:style => Dict{Any,Any}()))], Dict{Symbol,Any}(:className => \"interact-flex-row-center\")), Node{WebIO.DOM}(WebIO.DOM(:html, :div), Any[Node{WebIO.DOM}(WebIO.DOM(:html, :p), Any[], Dict{Symbol,Any}(:attributes => Dict(\"data-bind\" => \"text: formatted_val\")))], Dict{Symbol,Any}(:className => \"interact-flex-row-right\"))], Dict{Symbol,Any}(:className => \"interact-flex-row interact-widget\")), Dict{String,Tuple{Observables.AbstractObservable,Union{Nothing, Bool}}}(\"changes\" => (Observable{Int64} with 1 listeners. Value:\n",
       "0, nothing),\"index\" => (Observable{Int64} with 2 listeners. Value:\n",
       "5, nothing)), Set(String[]), nothing, Asset[Asset(\"js\", \"knockout\", \"/home/geekj3t/.julia/packages/Knockout/IP1uR/src/../assets/knockout.js\"), Asset(\"js\", \"knockout_punches\", \"/home/geekj3t/.julia/packages/Knockout/IP1uR/src/../assets/knockout_punches.js\"), Asset(\"js\", nothing, \"/home/geekj3t/.julia/packages/InteractBase/sOe2Z/src/../assets/all.js\"), Asset(\"css\", nothing, \"/home/geekj3t/.julia/packages/InteractBase/sOe2Z/src/../assets/style.css\"), Asset(\"css\", nothing, \"/home/geekj3t/.julia/packages/Interact/SbgIk/src/../assets/bulma_confined.min.css\")], Dict{Any,Any}(\"changes\" => Any[WebIO.JSString(\"(function (val){return (val!=this.model[\\\"changes\\\"]()) ? (this.valueFromJulia[\\\"changes\\\"]=true, this.model[\\\"changes\\\"](val)) : undefined})\")],\"index\" => Any[WebIO.JSString(\"(function (val){return (val!=this.model[\\\"index\\\"]()) ? (this.valueFromJulia[\\\"index\\\"]=true, this.model[\\\"index\\\"](val)) : undefined})\")]), WebIO.ConnectionPool(Channel{Any}(sz_max:32,sz_curr:0), Set(AbstractConnection[]), Base.GenericCondition{Base.AlwaysLockedST}(Base.InvasiveLinkedList{Task}(Task (runnable) @0x00007f5c1cd3bd00, Task (runnable) @0x00007f5c1cd3bd00), Base.AlwaysLockedST(1))), WebIO.JSString[WebIO.JSString(\"function () {\\n    var handler = (function (ko, koPunches) {\\n    ko.punches.enableAll();\\n    ko.bindingHandlers.numericValue = {\\n        init: function(element, valueAccessor, allBindings, data, context) {\\n            var stringified = ko.observable(ko.unwrap(valueAccessor()));\\n            stringified.subscribe(function(value) {\\n                var val = parseFloat(value);\\n                if (!isNaN(val)) {\\n                    valueAccessor()(val);\\n                }\\n            });\\n            valueAccessor().subscribe(function(value) {\\n                var str = JSON.stringify(value);\\n                if ((str == \\\"0\\\") && ([\\\"-0\\\", \\\"-0.\\\"].indexOf(stringified()) >= 0))\\n                     return;\\n                 if ([\\\"null\\\", \\\"\\\"].indexOf(str) >= 0)\\n                     return;\\n                stringified(str);\\n            });\\n            ko.applyBindingsToNode(\\n                element,\\n                {\\n                    value: stringified,\\n                    valueUpdate: allBindings.get('valueUpdate'),\\n                },\\n                context,\\n            );\\n        }\\n    };\\n    var json_data = {\\\"formatted_vals\\\":[\\\"1\\\",\\\"2\\\",\\\"3\\\",\\\"4\\\",\\\"5\\\",\\\"6\\\",\\\"7\\\",\\\"8\\\",\\\"9\\\",\\\"10\\\"],\\\"changes\\\":WebIO.getval({\\\"name\\\":\\\"changes\\\",\\\"scope\\\":\\\"16439071599552675782\\\",\\\"id\\\":\\\"3787480160849437421\\\",\\\"type\\\":\\\"observable\\\"}),\\\"index\\\":WebIO.getval({\\\"name\\\":\\\"index\\\",\\\"scope\\\":\\\"16439071599552675782\\\",\\\"id\\\":\\\"3238693935572961137\\\",\\\"type\\\":\\\"observable\\\"})};\\n    var self = this;\\n    function AppViewModel() {\\n        for (var key in json_data) {\\n            var el = json_data[key];\\n            this[key] = Array.isArray(el) ? ko.observableArray(el) : ko.observable(el);\\n        }\\n        \\n        [this[\\\"formatted_val\\\"]=ko.computed(    function(){\\n        return this.formatted_vals()[parseInt(this.index())-(1)];\\n    }\\n,this)]\\n        [this[\\\"changes\\\"].subscribe((function (val){!(this.valueFromJulia[\\\"changes\\\"]) ? (WebIO.setval({\\\"name\\\":\\\"changes\\\",\\\"scope\\\":\\\"16439071599552675782\\\",\\\"id\\\":\\\"3787480160849437421\\\",\\\"type\\\":\\\"observable\\\"},val)) : undefined; return this.valueFromJulia[\\\"changes\\\"]=false}),self),this[\\\"index\\\"].subscribe((function (val){!(this.valueFromJulia[\\\"index\\\"]) ? (WebIO.setval({\\\"name\\\":\\\"index\\\",\\\"scope\\\":\\\"16439071599552675782\\\",\\\"id\\\":\\\"3238693935572961137\\\",\\\"type\\\":\\\"observable\\\"},val)) : undefined; return this.valueFromJulia[\\\"index\\\"]=false}),self)]\\n        \\n    }\\n    self.model = new AppViewModel();\\n    self.valueFromJulia = {};\\n    for (var key in json_data) {\\n        self.valueFromJulia[key] = false;\\n    }\\n    ko.applyBindings(self.model, self.dom);\\n}\\n);\\n    (WebIO.importBlock({\\\"data\\\":[{\\\"name\\\":\\\"knockout\\\",\\\"type\\\":\\\"js\\\",\\\"url\\\":\\\"/assetserver/2157388af3d6d86568eafc09a309e401c236faee-knockout.js\\\"},{\\\"name\\\":\\\"knockout_punches\\\",\\\"type\\\":\\\"js\\\",\\\"url\\\":\\\"/assetserver/b00210f913135d4addde28134ceecd2d9193c6e7-knockout_punches.js\\\"}],\\\"type\\\":\\\"async_block\\\"})).then((imports) => handler.apply(this, imports));\\n}\\n\")])], Dict{Symbol,Any}(:className => \"field interact-widget\")), Observable{Any} with 0 listeners. Value:\n",
       "Node{WebIO.DOM}(WebIO.DOM(:html, :div), Any[HTML{Int64}(25)], Dict{Symbol,Any}(:className => \"interact-flex-row interact-widget\"))], Dict{Symbol,Any}())"
      ]
     },
     "execution_count": 259,
     "metadata": {
      "application/vnd.webio.node+json": {
       "kernelId": "cb8ff918-c7dd-4b70-bf5c-3d3aa19adfaf"
      }
     },
     "output_type": "execute_result"
    }
   ],
   "source": [
    "@manipulate for i in 1:10\n",
    "    HTML(i^2)\n",
    "end"
   ]
  },
  {
   "cell_type": "code",
   "execution_count": 197,
   "metadata": {
    "scrolled": true
   },
   "outputs": [
    {
     "data": {
      "text/html": [
       "<table class=\"data-frame\"><thead><tr><th></th><th>province</th><th>all_countries</th><th>Lat</th><th>Long</th><th>1/22/20</th></tr><tr><th></th><th>String?</th><th>String</th><th>Float64</th><th>Float64</th><th>Int64</th></tr></thead><tbody><p>266 rows × 144 columns (omitted printing of 139 columns)</p><tr><th>1</th><td><em>missing</em></td><td>Afghanistan</td><td>33.0</td><td>65.0</td><td>0</td></tr><tr><th>2</th><td><em>missing</em></td><td>Albania</td><td>41.1533</td><td>20.1683</td><td>0</td></tr><tr><th>3</th><td><em>missing</em></td><td>Algeria</td><td>28.0339</td><td>1.6596</td><td>0</td></tr><tr><th>4</th><td><em>missing</em></td><td>Andorra</td><td>42.5063</td><td>1.5218</td><td>0</td></tr><tr><th>5</th><td><em>missing</em></td><td>Angola</td><td>-11.2027</td><td>17.8739</td><td>0</td></tr><tr><th>6</th><td><em>missing</em></td><td>Antigua and Barbuda</td><td>17.0608</td><td>-61.7964</td><td>0</td></tr><tr><th>7</th><td><em>missing</em></td><td>Argentina</td><td>-38.4161</td><td>-63.6167</td><td>0</td></tr><tr><th>8</th><td><em>missing</em></td><td>Armenia</td><td>40.0691</td><td>45.0382</td><td>0</td></tr><tr><th>9</th><td>Australian Capital Territory</td><td>Australia</td><td>-35.4735</td><td>149.012</td><td>0</td></tr><tr><th>10</th><td>New South Wales</td><td>Australia</td><td>-33.8688</td><td>151.209</td><td>0</td></tr><tr><th>11</th><td>Northern Territory</td><td>Australia</td><td>-12.4634</td><td>130.846</td><td>0</td></tr><tr><th>12</th><td>Queensland</td><td>Australia</td><td>-28.0167</td><td>153.4</td><td>0</td></tr><tr><th>13</th><td>South Australia</td><td>Australia</td><td>-34.9285</td><td>138.601</td><td>0</td></tr><tr><th>14</th><td>Tasmania</td><td>Australia</td><td>-41.4545</td><td>145.971</td><td>0</td></tr><tr><th>15</th><td>Victoria</td><td>Australia</td><td>-37.8136</td><td>144.963</td><td>0</td></tr><tr><th>16</th><td>Western Australia</td><td>Australia</td><td>-31.9505</td><td>115.861</td><td>0</td></tr><tr><th>17</th><td><em>missing</em></td><td>Austria</td><td>47.5162</td><td>14.5501</td><td>0</td></tr><tr><th>18</th><td><em>missing</em></td><td>Azerbaijan</td><td>40.1431</td><td>47.5769</td><td>0</td></tr><tr><th>19</th><td><em>missing</em></td><td>Bahamas</td><td>25.0343</td><td>-77.3963</td><td>0</td></tr><tr><th>20</th><td><em>missing</em></td><td>Bahrain</td><td>26.0275</td><td>50.55</td><td>0</td></tr><tr><th>21</th><td><em>missing</em></td><td>Bangladesh</td><td>23.685</td><td>90.3563</td><td>0</td></tr><tr><th>22</th><td><em>missing</em></td><td>Barbados</td><td>13.1939</td><td>-59.5432</td><td>0</td></tr><tr><th>23</th><td><em>missing</em></td><td>Belarus</td><td>53.7098</td><td>27.9534</td><td>0</td></tr><tr><th>24</th><td><em>missing</em></td><td>Belgium</td><td>50.8333</td><td>4.0</td><td>0</td></tr><tr><th>25</th><td><em>missing</em></td><td>Benin</td><td>9.3077</td><td>2.3158</td><td>0</td></tr><tr><th>26</th><td><em>missing</em></td><td>Bhutan</td><td>27.5142</td><td>90.4336</td><td>0</td></tr><tr><th>27</th><td><em>missing</em></td><td>Bolivia</td><td>-16.2902</td><td>-63.5887</td><td>0</td></tr><tr><th>28</th><td><em>missing</em></td><td>Bosnia and Herzegovina</td><td>43.9159</td><td>17.6791</td><td>0</td></tr><tr><th>29</th><td><em>missing</em></td><td>Brazil</td><td>-14.235</td><td>-51.9253</td><td>0</td></tr><tr><th>30</th><td><em>missing</em></td><td>Brunei</td><td>4.5353</td><td>114.728</td><td>0</td></tr><tr><th>&vellip;</th><td>&vellip;</td><td>&vellip;</td><td>&vellip;</td><td>&vellip;</td><td>&vellip;</td></tr></tbody></table>"
      ],
      "text/latex": [
       "\\begin{tabular}{r|cccccc}\n",
       "\t& province & all\\_countries & Lat & Long & 1/22/20 & \\\\\n",
       "\t\\hline\n",
       "\t& String? & String & Float64 & Float64 & Int64 & \\\\\n",
       "\t\\hline\n",
       "\t1 & \\emph{missing} & Afghanistan & 33.0 & 65.0 & 0 & $\\dots$ \\\\\n",
       "\t2 & \\emph{missing} & Albania & 41.1533 & 20.1683 & 0 & $\\dots$ \\\\\n",
       "\t3 & \\emph{missing} & Algeria & 28.0339 & 1.6596 & 0 & $\\dots$ \\\\\n",
       "\t4 & \\emph{missing} & Andorra & 42.5063 & 1.5218 & 0 & $\\dots$ \\\\\n",
       "\t5 & \\emph{missing} & Angola & -11.2027 & 17.8739 & 0 & $\\dots$ \\\\\n",
       "\t6 & \\emph{missing} & Antigua and Barbuda & 17.0608 & -61.7964 & 0 & $\\dots$ \\\\\n",
       "\t7 & \\emph{missing} & Argentina & -38.4161 & -63.6167 & 0 & $\\dots$ \\\\\n",
       "\t8 & \\emph{missing} & Armenia & 40.0691 & 45.0382 & 0 & $\\dots$ \\\\\n",
       "\t9 & Australian Capital Territory & Australia & -35.4735 & 149.012 & 0 & $\\dots$ \\\\\n",
       "\t10 & New South Wales & Australia & -33.8688 & 151.209 & 0 & $\\dots$ \\\\\n",
       "\t11 & Northern Territory & Australia & -12.4634 & 130.846 & 0 & $\\dots$ \\\\\n",
       "\t12 & Queensland & Australia & -28.0167 & 153.4 & 0 & $\\dots$ \\\\\n",
       "\t13 & South Australia & Australia & -34.9285 & 138.601 & 0 & $\\dots$ \\\\\n",
       "\t14 & Tasmania & Australia & -41.4545 & 145.971 & 0 & $\\dots$ \\\\\n",
       "\t15 & Victoria & Australia & -37.8136 & 144.963 & 0 & $\\dots$ \\\\\n",
       "\t16 & Western Australia & Australia & -31.9505 & 115.861 & 0 & $\\dots$ \\\\\n",
       "\t17 & \\emph{missing} & Austria & 47.5162 & 14.5501 & 0 & $\\dots$ \\\\\n",
       "\t18 & \\emph{missing} & Azerbaijan & 40.1431 & 47.5769 & 0 & $\\dots$ \\\\\n",
       "\t19 & \\emph{missing} & Bahamas & 25.0343 & -77.3963 & 0 & $\\dots$ \\\\\n",
       "\t20 & \\emph{missing} & Bahrain & 26.0275 & 50.55 & 0 & $\\dots$ \\\\\n",
       "\t21 & \\emph{missing} & Bangladesh & 23.685 & 90.3563 & 0 & $\\dots$ \\\\\n",
       "\t22 & \\emph{missing} & Barbados & 13.1939 & -59.5432 & 0 & $\\dots$ \\\\\n",
       "\t23 & \\emph{missing} & Belarus & 53.7098 & 27.9534 & 0 & $\\dots$ \\\\\n",
       "\t24 & \\emph{missing} & Belgium & 50.8333 & 4.0 & 0 & $\\dots$ \\\\\n",
       "\t25 & \\emph{missing} & Benin & 9.3077 & 2.3158 & 0 & $\\dots$ \\\\\n",
       "\t26 & \\emph{missing} & Bhutan & 27.5142 & 90.4336 & 0 & $\\dots$ \\\\\n",
       "\t27 & \\emph{missing} & Bolivia & -16.2902 & -63.5887 & 0 & $\\dots$ \\\\\n",
       "\t28 & \\emph{missing} & Bosnia and Herzegovina & 43.9159 & 17.6791 & 0 & $\\dots$ \\\\\n",
       "\t29 & \\emph{missing} & Brazil & -14.235 & -51.9253 & 0 & $\\dots$ \\\\\n",
       "\t30 & \\emph{missing} & Brunei & 4.5353 & 114.728 & 0 & $\\dots$ \\\\\n",
       "\t$\\dots$ & $\\dots$ & $\\dots$ & $\\dots$ & $\\dots$ & $\\dots$ &  \\\\\n",
       "\\end{tabular}\n"
      ],
      "text/plain": [
       "266×144 DataFrame. Omitted printing of 141 columns\n",
       "│ Row │ province                         │ all_countries         │ Lat      │\n",
       "│     │ \u001b[90mUnion{Missing, String}\u001b[39m           │ \u001b[90mString\u001b[39m                │ \u001b[90mFloat64\u001b[39m  │\n",
       "├─────┼──────────────────────────────────┼───────────────────────┼──────────┤\n",
       "│ 1   │ \u001b[90mmissing\u001b[39m                          │ Afghanistan           │ 33.0     │\n",
       "│ 2   │ \u001b[90mmissing\u001b[39m                          │ Albania               │ 41.1533  │\n",
       "│ 3   │ \u001b[90mmissing\u001b[39m                          │ Algeria               │ 28.0339  │\n",
       "│ 4   │ \u001b[90mmissing\u001b[39m                          │ Andorra               │ 42.5063  │\n",
       "│ 5   │ \u001b[90mmissing\u001b[39m                          │ Angola                │ -11.2027 │\n",
       "│ 6   │ \u001b[90mmissing\u001b[39m                          │ Antigua and Barbuda   │ 17.0608  │\n",
       "│ 7   │ \u001b[90mmissing\u001b[39m                          │ Argentina             │ -38.4161 │\n",
       "│ 8   │ \u001b[90mmissing\u001b[39m                          │ Armenia               │ 40.0691  │\n",
       "│ 9   │ Australian Capital Territory     │ Australia             │ -35.4735 │\n",
       "│ 10  │ New South Wales                  │ Australia             │ -33.8688 │\n",
       "⋮\n",
       "│ 256 │ Bonaire, Sint Eustatius and Saba │ Netherlands           │ 12.1784  │\n",
       "│ 257 │ \u001b[90mmissing\u001b[39m                          │ Malawi                │ -13.2543 │\n",
       "│ 258 │ Falkland Islands (Malvinas)      │ United Kingdom        │ -51.7963 │\n",
       "│ 259 │ Saint Pierre and Miquelon        │ France                │ 46.8852  │\n",
       "│ 260 │ \u001b[90mmissing\u001b[39m                          │ South Sudan           │ 6.877    │\n",
       "│ 261 │ \u001b[90mmissing\u001b[39m                          │ Western Sahara        │ 24.2155  │\n",
       "│ 262 │ \u001b[90mmissing\u001b[39m                          │ Sao Tome and Principe │ 0.18636  │\n",
       "│ 263 │ \u001b[90mmissing\u001b[39m                          │ Yemen                 │ 15.5527  │\n",
       "│ 264 │ \u001b[90mmissing\u001b[39m                          │ Comoros               │ -11.6455 │\n",
       "│ 265 │ \u001b[90mmissing\u001b[39m                          │ Tajikistan            │ 38.861   │\n",
       "│ 266 │ \u001b[90mmissing\u001b[39m                          │ Lesotho               │ -29.61   │"
      ]
     },
     "execution_count": 197,
     "metadata": {},
     "output_type": "execute_result"
    }
   ],
   "source": [
    "rename!(data, 1 => \"province\", 2 => \"all_countries\")"
   ]
  },
  {
   "cell_type": "code",
   "execution_count": 198,
   "metadata": {},
   "outputs": [
    {
     "data": {
      "text/plain": [
       "7-element Array{String,1}:\n",
       " \"China\"\n",
       " \"Japan\"\n",
       " \"Korea, South\"\n",
       " \"US\"\n",
       " \"United Kingdom\"\n",
       " \"France\"\n",
       " \"Germany\""
      ]
     },
     "execution_count": 198,
     "metadata": {},
     "output_type": "execute_result"
    }
   ],
   "source": [
    "countries = [\"China\",\"Japan\",\"Korea, South\",\"US\",\"United Kingdom\",\"France\",\"Germany\"]"
   ]
  },
  {
   "cell_type": "code",
   "execution_count": 274,
   "metadata": {},
   "outputs": [
    {
     "data": {
      "text/plain": [
       "Dict{String,Array{Float64,1}} with 7 entries:\n",
       "  \"Germany\"        => [0.0, 0.0, 0.0, 0.0, 0.0, 0.0, 0.0, 0.0, 0.0, 0.0  …  0.0…\n",
       "  \"United Kingdom\" => [0.0, 0.0, 0.0, 0.0, 0.0, 0.0, 0.0, 0.0, 0.0, 0.0  …  0.0…\n",
       "  \"China\"          => [0.0, 0.0, 0.0, 0.0, 0.0, 0.0, 0.0, 0.0, 0.0, 0.0  …  0.0…\n",
       "  \"Korea, South\"   => [0.0, 0.0, 0.0, 0.0, 0.0, 0.0, 0.0, 0.0, 0.0, 0.0  …  0.0…\n",
       "  \"Japan\"          => [0.0, 0.0, 0.0, 0.0, 0.0, 0.0, 0.0, 0.0, 0.0, 0.0  …  0.0…\n",
       "  \"France\"         => [0.0, 0.0, 0.0, 0.0, 0.0, 0.0, 0.0, 0.0, 0.0, 0.0  …  0.0…\n",
       "  \"US\"             => [0.0, 0.0, 0.0, 0.0, 0.0, 0.0, 0.0, 0.0, 0.0, 0.0  …  0.0…"
      ]
     },
     "execution_count": 274,
     "metadata": {},
     "output_type": "execute_result"
    }
   ],
   "source": [
    "countries_case_count = Dict(i => zeros(Float64, num_days) for i in countries)"
   ]
  },
  {
   "cell_type": "code",
   "execution_count": 275,
   "metadata": {},
   "outputs": [],
   "source": [
    "for row in eachrow(data)\n",
    "    indexVal = row[:all_countries]\n",
    "    \n",
    "    if indexVal in countries\n",
    "        countries_case_count[indexVal] += convert(Vector, row[5:end])\n",
    "    end\n",
    "end\n"
   ]
  },
  {
   "cell_type": "code",
   "execution_count": 276,
   "metadata": {
    "scrolled": true
   },
   "outputs": [
    {
     "data": {
      "text/plain": [
       "548"
      ]
     },
     "execution_count": 276,
     "metadata": {},
     "output_type": "execute_result"
    }
   ],
   "source": [
    "sum(data[data[!,:all_countries] .== \"China\",5])"
   ]
  },
  {
   "cell_type": "code",
   "execution_count": 277,
   "metadata": {},
   "outputs": [
    {
     "ename": "UndefVarError",
     "evalue": "UndefVarError: country not defined",
     "output_type": "error",
     "traceback": [
      "UndefVarError: country not defined",
      "",
      "Stacktrace:",
      " [1] top-level scope at In[277]:1"
     ]
    }
   ],
   "source": [
    "[startswith(country, )]"
   ]
  },
  {
   "cell_type": "code",
   "execution_count": 278,
   "metadata": {},
   "outputs": [
    {
     "ename": "UndefVarError",
     "evalue": "UndefVarError: country not defined",
     "output_type": "error",
     "traceback": [
      "UndefVarError: country not defined",
      "",
      "Stacktrace:",
      " [1] top-level scope at In[278]:1"
     ]
    }
   ],
   "source": [
    "country \n",
    "for country in countlines\n",
    "    println(\"country = $country\")\n",
    "    if startswith(, )"
   ]
  },
  {
   "cell_type": "code",
   "execution_count": 279,
   "metadata": {},
   "outputs": [
    {
     "data": {
      "text/plain": [
       "266-element WeakRefStrings.StringArray{String,1}:\n",
       " \"Afghanistan\"\n",
       " \"Albania\"\n",
       " \"Algeria\"\n",
       " \"Andorra\"\n",
       " \"Angola\"\n",
       " \"Antigua and Barbuda\"\n",
       " \"Argentina\"\n",
       " \"Armenia\"\n",
       " \"Australia\"\n",
       " \"Australia\"\n",
       " \"Australia\"\n",
       " \"Australia\"\n",
       " \"Australia\"\n",
       " ⋮\n",
       " \"Sierra Leone\"\n",
       " \"Netherlands\"\n",
       " \"Malawi\"\n",
       " \"United Kingdom\"\n",
       " \"France\"\n",
       " \"South Sudan\"\n",
       " \"Western Sahara\"\n",
       " \"Sao Tome and Principe\"\n",
       " \"Yemen\"\n",
       " \"Comoros\"\n",
       " \"Tajikistan\"\n",
       " \"Lesotho\""
      ]
     },
     "execution_count": 279,
     "metadata": {},
     "output_type": "execute_result"
    }
   ],
   "source": [
    "data[:,2]"
   ]
  },
  {
   "cell_type": "code",
   "execution_count": 280,
   "metadata": {},
   "outputs": [
    {
     "data": {
      "text/plain": [
       "4-element Array{String,1}:\n",
       " \"Albania\"\n",
       " \"Algeria\"\n",
       " \"Andorra\"\n",
       " \"Angola\""
      ]
     },
     "execution_count": 280,
     "metadata": {},
     "output_type": "execute_result"
    }
   ],
   "source": [
    "data[2:5,2]"
   ]
  },
  {
   "cell_type": "code",
   "execution_count": 281,
   "metadata": {
    "scrolled": true
   },
   "outputs": [
    {
     "name": "stderr",
     "output_type": "stream",
     "text": [
      "┌ Warning: `getindex(df::DataFrame, col_ind::ColumnIndex)` is deprecated, use `df[!, col_ind]` instead.\n",
      "│   caller = top-level scope at In[281]:1\n",
      "└ @ Core In[281]:1\n"
     ]
    },
    {
     "data": {
      "text/plain": [
       "266-element Array{Bool,1}:\n",
       " 0\n",
       " 0\n",
       " 0\n",
       " 0\n",
       " 0\n",
       " 0\n",
       " 0\n",
       " 0\n",
       " 0\n",
       " 0\n",
       " 0\n",
       " 0\n",
       " 0\n",
       " ⋮\n",
       " 0\n",
       " 0\n",
       " 0\n",
       " 1\n",
       " 1\n",
       " 0\n",
       " 0\n",
       " 0\n",
       " 0\n",
       " 0\n",
       " 0\n",
       " 0"
      ]
     },
     "execution_count": 281,
     "metadata": {},
     "output_type": "execute_result"
    }
   ],
   "source": [
    "index = map(x -> x in countries, data[:all_countries])"
   ]
  },
  {
   "cell_type": "code",
   "execution_count": 282,
   "metadata": {
    "scrolled": true
   },
   "outputs": [
    {
     "name": "stderr",
     "output_type": "stream",
     "text": [
      "┌ Warning: `tail(df::AbstractDataFrame)` is deprecated, use `last(df, 6)` instead.\n",
      "│   caller = top-level scope at In[282]:1\n",
      "└ @ Core In[282]:1\n"
     ]
    },
    {
     "data": {
      "text/html": [
       "<table class=\"data-frame\"><thead><tr><th></th><th>province</th><th>all_countries</th><th>Lat</th><th>Long</th><th>1/22/20</th><th>1/23/20</th></tr><tr><th></th><th>String?</th><th>String</th><th>Float64</th><th>Float64</th><th>Int64</th><th>Int64</th></tr></thead><tbody><p>6 rows × 144 columns (omitted printing of 138 columns)</p><tr><th>1</th><td><em>missing</em></td><td>US</td><td>37.0902</td><td>-95.7129</td><td>1</td><td>1</td></tr><tr><th>2</th><td>Anguilla</td><td>United Kingdom</td><td>18.2206</td><td>-63.0686</td><td>0</td><td>0</td></tr><tr><th>3</th><td>British Virgin Islands</td><td>United Kingdom</td><td>18.4207</td><td>-64.64</td><td>0</td><td>0</td></tr><tr><th>4</th><td>Turks and Caicos Islands</td><td>United Kingdom</td><td>21.694</td><td>-71.7979</td><td>0</td><td>0</td></tr><tr><th>5</th><td>Falkland Islands (Malvinas)</td><td>United Kingdom</td><td>-51.7963</td><td>-59.5236</td><td>0</td><td>0</td></tr><tr><th>6</th><td>Saint Pierre and Miquelon</td><td>France</td><td>46.8852</td><td>-56.3159</td><td>0</td><td>0</td></tr></tbody></table>"
      ],
      "text/latex": [
       "\\begin{tabular}{r|ccccccc}\n",
       "\t& province & all\\_countries & Lat & Long & 1/22/20 & 1/23/20 & \\\\\n",
       "\t\\hline\n",
       "\t& String? & String & Float64 & Float64 & Int64 & Int64 & \\\\\n",
       "\t\\hline\n",
       "\t1 & \\emph{missing} & US & 37.0902 & -95.7129 & 1 & 1 & $\\dots$ \\\\\n",
       "\t2 & Anguilla & United Kingdom & 18.2206 & -63.0686 & 0 & 0 & $\\dots$ \\\\\n",
       "\t3 & British Virgin Islands & United Kingdom & 18.4207 & -64.64 & 0 & 0 & $\\dots$ \\\\\n",
       "\t4 & Turks and Caicos Islands & United Kingdom & 21.694 & -71.7979 & 0 & 0 & $\\dots$ \\\\\n",
       "\t5 & Falkland Islands (Malvinas) & United Kingdom & -51.7963 & -59.5236 & 0 & 0 & $\\dots$ \\\\\n",
       "\t6 & Saint Pierre and Miquelon & France & 46.8852 & -56.3159 & 0 & 0 & $\\dots$ \\\\\n",
       "\\end{tabular}\n"
      ],
      "text/plain": [
       "6×144 DataFrame. Omitted printing of 140 columns\n",
       "│ Row │ province                    │ all_countries  │ Lat      │ Long     │\n",
       "│     │ \u001b[90mUnion{Missing, String}\u001b[39m      │ \u001b[90mString\u001b[39m         │ \u001b[90mFloat64\u001b[39m  │ \u001b[90mFloat64\u001b[39m  │\n",
       "├─────┼─────────────────────────────┼────────────────┼──────────┼──────────┤\n",
       "│ 1   │ \u001b[90mmissing\u001b[39m                     │ US             │ 37.0902  │ -95.7129 │\n",
       "│ 2   │ Anguilla                    │ United Kingdom │ 18.2206  │ -63.0686 │\n",
       "│ 3   │ British Virgin Islands      │ United Kingdom │ 18.4207  │ -64.64   │\n",
       "│ 4   │ Turks and Caicos Islands    │ United Kingdom │ 21.694   │ -71.7979 │\n",
       "│ 5   │ Falkland Islands (Malvinas) │ United Kingdom │ -51.7963 │ -59.5236 │\n",
       "│ 6   │ Saint Pierre and Miquelon   │ France         │ 46.8852  │ -56.3159 │"
      ]
     },
     "execution_count": 282,
     "metadata": {},
     "output_type": "execute_result"
    }
   ],
   "source": [
    "tail(data[index,:])"
   ]
  },
  {
   "cell_type": "code",
   "execution_count": 283,
   "metadata": {
    "scrolled": true
   },
   "outputs": [
    {
     "data": {
      "text/html": [
       "<table class=\"data-frame\"><thead><tr><th></th><th>province</th><th>all_countries</th><th>Lat</th><th>Long</th><th>1/22/20</th><th>1/23/20</th><th>1/24/20</th><th>1/25/20</th></tr><tr><th></th><th>String?</th><th>String</th><th>Float64</th><th>Float64</th><th>Int64</th><th>Int64</th><th>Int64</th><th>Int64</th></tr></thead><tbody><p>59 rows × 144 columns (omitted printing of 136 columns)</p><tr><th>1</th><td>Anhui</td><td>China</td><td>31.8257</td><td>117.226</td><td>1</td><td>9</td><td>15</td><td>39</td></tr><tr><th>2</th><td>Beijing</td><td>China</td><td>40.1824</td><td>116.414</td><td>14</td><td>22</td><td>36</td><td>41</td></tr><tr><th>3</th><td>Chongqing</td><td>China</td><td>30.0572</td><td>107.874</td><td>6</td><td>9</td><td>27</td><td>57</td></tr><tr><th>4</th><td>Fujian</td><td>China</td><td>26.0789</td><td>117.987</td><td>1</td><td>5</td><td>10</td><td>18</td></tr><tr><th>5</th><td>Gansu</td><td>China</td><td>37.8099</td><td>101.058</td><td>0</td><td>2</td><td>2</td><td>4</td></tr><tr><th>6</th><td>Guangdong</td><td>China</td><td>23.3417</td><td>113.424</td><td>26</td><td>32</td><td>53</td><td>78</td></tr><tr><th>7</th><td>Guangxi</td><td>China</td><td>23.8298</td><td>108.788</td><td>2</td><td>5</td><td>23</td><td>23</td></tr><tr><th>8</th><td>Guizhou</td><td>China</td><td>26.8154</td><td>106.875</td><td>1</td><td>3</td><td>3</td><td>4</td></tr><tr><th>9</th><td>Hainan</td><td>China</td><td>19.1959</td><td>109.745</td><td>4</td><td>5</td><td>8</td><td>19</td></tr><tr><th>10</th><td>Hebei</td><td>China</td><td>39.549</td><td>116.131</td><td>1</td><td>1</td><td>2</td><td>8</td></tr><tr><th>11</th><td>Heilongjiang</td><td>China</td><td>47.862</td><td>127.761</td><td>0</td><td>2</td><td>4</td><td>9</td></tr><tr><th>12</th><td>Henan</td><td>China</td><td>33.882</td><td>113.614</td><td>5</td><td>5</td><td>9</td><td>32</td></tr><tr><th>13</th><td>Hong Kong</td><td>China</td><td>22.3</td><td>114.2</td><td>0</td><td>2</td><td>2</td><td>5</td></tr><tr><th>14</th><td>Hubei</td><td>China</td><td>30.9756</td><td>112.271</td><td>444</td><td>444</td><td>549</td><td>761</td></tr><tr><th>15</th><td>Hunan</td><td>China</td><td>27.6104</td><td>111.709</td><td>4</td><td>9</td><td>24</td><td>43</td></tr><tr><th>16</th><td>Inner Mongolia</td><td>China</td><td>44.0935</td><td>113.945</td><td>0</td><td>0</td><td>1</td><td>7</td></tr><tr><th>17</th><td>Jiangsu</td><td>China</td><td>32.9711</td><td>119.455</td><td>1</td><td>5</td><td>9</td><td>18</td></tr><tr><th>18</th><td>Jiangxi</td><td>China</td><td>27.614</td><td>115.722</td><td>2</td><td>7</td><td>18</td><td>18</td></tr><tr><th>19</th><td>Jilin</td><td>China</td><td>43.6661</td><td>126.192</td><td>0</td><td>1</td><td>3</td><td>4</td></tr><tr><th>20</th><td>Liaoning</td><td>China</td><td>41.2956</td><td>122.609</td><td>2</td><td>3</td><td>4</td><td>17</td></tr><tr><th>21</th><td>Macau</td><td>China</td><td>22.1667</td><td>113.55</td><td>1</td><td>2</td><td>2</td><td>2</td></tr><tr><th>22</th><td>Ningxia</td><td>China</td><td>37.2692</td><td>106.165</td><td>1</td><td>1</td><td>2</td><td>3</td></tr><tr><th>23</th><td>Qinghai</td><td>China</td><td>35.7452</td><td>95.9956</td><td>0</td><td>0</td><td>0</td><td>1</td></tr><tr><th>24</th><td>Shaanxi</td><td>China</td><td>35.1917</td><td>108.87</td><td>0</td><td>3</td><td>5</td><td>15</td></tr><tr><th>25</th><td>Shandong</td><td>China</td><td>36.3427</td><td>118.15</td><td>2</td><td>6</td><td>15</td><td>27</td></tr><tr><th>26</th><td>Shanghai</td><td>China</td><td>31.202</td><td>121.449</td><td>9</td><td>16</td><td>20</td><td>33</td></tr><tr><th>27</th><td>Shanxi</td><td>China</td><td>37.5777</td><td>112.292</td><td>1</td><td>1</td><td>1</td><td>6</td></tr><tr><th>28</th><td>Sichuan</td><td>China</td><td>30.6171</td><td>102.71</td><td>5</td><td>8</td><td>15</td><td>28</td></tr><tr><th>29</th><td>Tianjin</td><td>China</td><td>39.3054</td><td>117.323</td><td>4</td><td>4</td><td>8</td><td>10</td></tr><tr><th>30</th><td>Tibet</td><td>China</td><td>31.6927</td><td>88.0924</td><td>0</td><td>0</td><td>0</td><td>0</td></tr><tr><th>&vellip;</th><td>&vellip;</td><td>&vellip;</td><td>&vellip;</td><td>&vellip;</td><td>&vellip;</td><td>&vellip;</td><td>&vellip;</td><td>&vellip;</td></tr></tbody></table>"
      ],
      "text/latex": [
       "\\begin{tabular}{r|ccccccccc}\n",
       "\t& province & all\\_countries & Lat & Long & 1/22/20 & 1/23/20 & 1/24/20 & 1/25/20 & \\\\\n",
       "\t\\hline\n",
       "\t& String? & String & Float64 & Float64 & Int64 & Int64 & Int64 & Int64 & \\\\\n",
       "\t\\hline\n",
       "\t1 & Anhui & China & 31.8257 & 117.226 & 1 & 9 & 15 & 39 & $\\dots$ \\\\\n",
       "\t2 & Beijing & China & 40.1824 & 116.414 & 14 & 22 & 36 & 41 & $\\dots$ \\\\\n",
       "\t3 & Chongqing & China & 30.0572 & 107.874 & 6 & 9 & 27 & 57 & $\\dots$ \\\\\n",
       "\t4 & Fujian & China & 26.0789 & 117.987 & 1 & 5 & 10 & 18 & $\\dots$ \\\\\n",
       "\t5 & Gansu & China & 37.8099 & 101.058 & 0 & 2 & 2 & 4 & $\\dots$ \\\\\n",
       "\t6 & Guangdong & China & 23.3417 & 113.424 & 26 & 32 & 53 & 78 & $\\dots$ \\\\\n",
       "\t7 & Guangxi & China & 23.8298 & 108.788 & 2 & 5 & 23 & 23 & $\\dots$ \\\\\n",
       "\t8 & Guizhou & China & 26.8154 & 106.875 & 1 & 3 & 3 & 4 & $\\dots$ \\\\\n",
       "\t9 & Hainan & China & 19.1959 & 109.745 & 4 & 5 & 8 & 19 & $\\dots$ \\\\\n",
       "\t10 & Hebei & China & 39.549 & 116.131 & 1 & 1 & 2 & 8 & $\\dots$ \\\\\n",
       "\t11 & Heilongjiang & China & 47.862 & 127.761 & 0 & 2 & 4 & 9 & $\\dots$ \\\\\n",
       "\t12 & Henan & China & 33.882 & 113.614 & 5 & 5 & 9 & 32 & $\\dots$ \\\\\n",
       "\t13 & Hong Kong & China & 22.3 & 114.2 & 0 & 2 & 2 & 5 & $\\dots$ \\\\\n",
       "\t14 & Hubei & China & 30.9756 & 112.271 & 444 & 444 & 549 & 761 & $\\dots$ \\\\\n",
       "\t15 & Hunan & China & 27.6104 & 111.709 & 4 & 9 & 24 & 43 & $\\dots$ \\\\\n",
       "\t16 & Inner Mongolia & China & 44.0935 & 113.945 & 0 & 0 & 1 & 7 & $\\dots$ \\\\\n",
       "\t17 & Jiangsu & China & 32.9711 & 119.455 & 1 & 5 & 9 & 18 & $\\dots$ \\\\\n",
       "\t18 & Jiangxi & China & 27.614 & 115.722 & 2 & 7 & 18 & 18 & $\\dots$ \\\\\n",
       "\t19 & Jilin & China & 43.6661 & 126.192 & 0 & 1 & 3 & 4 & $\\dots$ \\\\\n",
       "\t20 & Liaoning & China & 41.2956 & 122.609 & 2 & 3 & 4 & 17 & $\\dots$ \\\\\n",
       "\t21 & Macau & China & 22.1667 & 113.55 & 1 & 2 & 2 & 2 & $\\dots$ \\\\\n",
       "\t22 & Ningxia & China & 37.2692 & 106.165 & 1 & 1 & 2 & 3 & $\\dots$ \\\\\n",
       "\t23 & Qinghai & China & 35.7452 & 95.9956 & 0 & 0 & 0 & 1 & $\\dots$ \\\\\n",
       "\t24 & Shaanxi & China & 35.1917 & 108.87 & 0 & 3 & 5 & 15 & $\\dots$ \\\\\n",
       "\t25 & Shandong & China & 36.3427 & 118.15 & 2 & 6 & 15 & 27 & $\\dots$ \\\\\n",
       "\t26 & Shanghai & China & 31.202 & 121.449 & 9 & 16 & 20 & 33 & $\\dots$ \\\\\n",
       "\t27 & Shanxi & China & 37.5777 & 112.292 & 1 & 1 & 1 & 6 & $\\dots$ \\\\\n",
       "\t28 & Sichuan & China & 30.6171 & 102.71 & 5 & 8 & 15 & 28 & $\\dots$ \\\\\n",
       "\t29 & Tianjin & China & 39.3054 & 117.323 & 4 & 4 & 8 & 10 & $\\dots$ \\\\\n",
       "\t30 & Tibet & China & 31.6927 & 88.0924 & 0 & 0 & 0 & 0 & $\\dots$ \\\\\n",
       "\t$\\dots$ & $\\dots$ & $\\dots$ & $\\dots$ & $\\dots$ & $\\dots$ & $\\dots$ & $\\dots$ & $\\dots$ &  \\\\\n",
       "\\end{tabular}\n"
      ],
      "text/plain": [
       "59×144 DataFrame. Omitted printing of 140 columns\n",
       "│ Row │ province                    │ all_countries  │ Lat      │ Long     │\n",
       "│     │ \u001b[90mUnion{Missing, String}\u001b[39m      │ \u001b[90mString\u001b[39m         │ \u001b[90mFloat64\u001b[39m  │ \u001b[90mFloat64\u001b[39m  │\n",
       "├─────┼─────────────────────────────┼────────────────┼──────────┼──────────┤\n",
       "│ 1   │ Anhui                       │ China          │ 31.8257  │ 117.226  │\n",
       "│ 2   │ Beijing                     │ China          │ 40.1824  │ 116.414  │\n",
       "│ 3   │ Chongqing                   │ China          │ 30.0572  │ 107.874  │\n",
       "│ 4   │ Fujian                      │ China          │ 26.0789  │ 117.987  │\n",
       "│ 5   │ Gansu                       │ China          │ 37.8099  │ 101.058  │\n",
       "│ 6   │ Guangdong                   │ China          │ 23.3417  │ 113.424  │\n",
       "│ 7   │ Guangxi                     │ China          │ 23.8298  │ 108.788  │\n",
       "│ 8   │ Guizhou                     │ China          │ 26.8154  │ 106.875  │\n",
       "│ 9   │ Hainan                      │ China          │ 19.1959  │ 109.745  │\n",
       "│ 10  │ Hebei                       │ China          │ 39.549   │ 116.131  │\n",
       "⋮\n",
       "│ 49  │ Channel Islands             │ United Kingdom │ 49.3723  │ -2.3644  │\n",
       "│ 50  │ Gibraltar                   │ United Kingdom │ 36.1408  │ -5.3536  │\n",
       "│ 51  │ Isle of Man                 │ United Kingdom │ 54.2361  │ -4.5481  │\n",
       "│ 52  │ Montserrat                  │ United Kingdom │ 16.7425  │ -62.1874 │\n",
       "│ 53  │ \u001b[90mmissing\u001b[39m                     │ United Kingdom │ 55.3781  │ -3.436   │\n",
       "│ 54  │ \u001b[90mmissing\u001b[39m                     │ US             │ 37.0902  │ -95.7129 │\n",
       "│ 55  │ Anguilla                    │ United Kingdom │ 18.2206  │ -63.0686 │\n",
       "│ 56  │ British Virgin Islands      │ United Kingdom │ 18.4207  │ -64.64   │\n",
       "│ 57  │ Turks and Caicos Islands    │ United Kingdom │ 21.694   │ -71.7979 │\n",
       "│ 58  │ Falkland Islands (Malvinas) │ United Kingdom │ -51.7963 │ -59.5236 │\n",
       "│ 59  │ Saint Pierre and Miquelon   │ France         │ 46.8852  │ -56.3159 │"
      ]
     },
     "execution_count": 283,
     "metadata": {},
     "output_type": "execute_result"
    }
   ],
   "source": [
    "filtered_data = data[index,:]"
   ]
  },
  {
   "cell_type": "code",
   "execution_count": 284,
   "metadata": {
    "scrolled": true
   },
   "outputs": [
    {
     "ename": "MethodError",
     "evalue": "MethodError: no method matching +(::Array{Float64,1}, ::Int64)\nClosest candidates are:\n  +(::Any, ::Any, !Matched::Any, !Matched::Any...) at operators.jl:529\n  +(!Matched::Complex{Bool}, ::Real) at complex.jl:301\n  +(!Matched::Missing, ::Number) at missing.jl:115\n  ...",
     "output_type": "error",
     "traceback": [
      "MethodError: no method matching +(::Array{Float64,1}, ::Int64)\nClosest candidates are:\n  +(::Any, ::Any, !Matched::Any, !Matched::Any...) at operators.jl:529\n  +(!Matched::Complex{Bool}, ::Real) at complex.jl:301\n  +(!Matched::Missing, ::Number) at missing.jl:115\n  ...",
      "",
      "Stacktrace:",
      " [1] top-level scope at ./In[284]:4"
     ]
    }
   ],
   "source": [
    "for row in eachrow(filtered_data)\n",
    "    country_name = row[:all_countries]\n",
    "#     println(country_name)\n",
    "    countries_case_count[country_name] += sum(row[5:end])\n",
    "#     println(sum(row[5:end]))\n",
    "end"
   ]
  },
  {
   "cell_type": "code",
   "execution_count": 285,
   "metadata": {},
   "outputs": [
    {
     "data": {
      "text/plain": [
       "Dict{String,Array{Float64,1}} with 7 entries:\n",
       "  \"Germany\"        => [0.0, 0.0, 0.0, 0.0, 0.0, 1.0, 4.0, 4.0, 4.0, 5.0  …  183…\n",
       "  \"United Kingdom\" => [0.0, 0.0, 0.0, 0.0, 0.0, 0.0, 0.0, 0.0, 0.0, 2.0  …  276…\n",
       "  \"China\"          => [548.0, 643.0, 920.0, 1406.0, 2075.0, 2877.0, 5509.0, 608…\n",
       "  \"Korea, South\"   => [1.0, 1.0, 2.0, 2.0, 3.0, 4.0, 4.0, 4.0, 4.0, 11.0  …  11…\n",
       "  \"Japan\"          => [2.0, 2.0, 2.0, 2.0, 4.0, 4.0, 7.0, 7.0, 11.0, 15.0  …  1…\n",
       "  \"France\"         => [0.0, 0.0, 2.0, 3.0, 3.0, 3.0, 4.0, 5.0, 5.0, 5.0  …  189…\n",
       "  \"US\"             => [1.0, 1.0, 2.0, 2.0, 5.0, 5.0, 5.0, 5.0, 5.0, 7.0  …  1.7…"
      ]
     },
     "execution_count": 285,
     "metadata": {},
     "output_type": "execute_result"
    }
   ],
   "source": [
    "countries_case_count"
   ]
  },
  {
   "cell_type": "code",
   "execution_count": 286,
   "metadata": {},
   "outputs": [
    {
     "name": "stderr",
     "output_type": "stream",
     "text": [
      "┌ Warning: `lastindex(df::AbstractDataFrame)` is deprecated, use `ncol(df)` instead.\n",
      "│   caller = top-level scope at In[286]:1\n",
      "└ @ Core In[286]:1\n",
      "┌ Warning: `getindex(df::DataFrame, col_inds::Union{AbstractVector, Regex, Not})` is deprecated, use `df[:, col_inds]` instead.\n",
      "│   caller = top-level scope at In[286]:1\n",
      "└ @ Core In[286]:1\n"
     ]
    },
    {
     "data": {
      "text/plain": [
       "(266, 140)"
      ]
     },
     "execution_count": 286,
     "metadata": {},
     "output_type": "execute_result"
    }
   ],
   "source": [
    "size(data[5:end])"
   ]
  },
  {
   "cell_type": "code",
   "execution_count": 287,
   "metadata": {},
   "outputs": [
    {
     "name": "stderr",
     "output_type": "stream",
     "text": [
      "┌ Warning: `lastindex(df::AbstractDataFrame)` is deprecated, use `ncol(df)` instead.\n",
      "│   caller = top-level scope at In[287]:1\n",
      "└ @ Core In[287]:1\n",
      "┌ Warning: `getindex(df::DataFrame, col_inds::Union{AbstractVector, Regex, Not})` is deprecated, use `df[:, col_inds]` instead.\n",
      "│   caller = top-level scope at In[287]:1\n",
      "└ @ Core In[287]:1\n"
     ]
    },
    {
     "data": {
      "text/plain": [
       "140"
      ]
     },
     "execution_count": 287,
     "metadata": {},
     "output_type": "execute_result"
    }
   ],
   "source": [
    "num_days = size(data[5:end])[2]"
   ]
  },
  {
   "cell_type": "code",
   "execution_count": 289,
   "metadata": {
    "scrolled": true
   },
   "outputs": [],
   "source": [
    "# using Pkg; Pkg.add(\"Plots\")"
   ]
  },
  {
   "cell_type": "code",
   "execution_count": 290,
   "metadata": {},
   "outputs": [],
   "source": [
    "using Plots"
   ]
  },
  {
   "cell_type": "code",
   "execution_count": 291,
   "metadata": {},
   "outputs": [
    {
     "data": {
      "text/plain": [
       "GR"
      ]
     },
     "execution_count": 291,
     "metadata": {},
     "output_type": "execute_result"
    }
   ],
   "source": [
    "GR"
   ]
  },
  {
   "cell_type": "code",
   "execution_count": 292,
   "metadata": {},
   "outputs": [
    {
     "data": {
      "text/plain": [
       "188-element Array{String,1}:\n",
       " \"Afghanistan\"\n",
       " \"Albania\"\n",
       " \"Algeria\"\n",
       " \"Andorra\"\n",
       " \"Angola\"\n",
       " \"Antigua and Barbuda\"\n",
       " \"Argentina\"\n",
       " \"Armenia\"\n",
       " \"Australia\"\n",
       " \"Austria\"\n",
       " \"Azerbaijan\"\n",
       " \"Bahamas\"\n",
       " \"Bahrain\"\n",
       " ⋮\n",
       " \"MS Zaandam\"\n",
       " \"Botswana\"\n",
       " \"Burundi\"\n",
       " \"Sierra Leone\"\n",
       " \"Malawi\"\n",
       " \"South Sudan\"\n",
       " \"Western Sahara\"\n",
       " \"Sao Tome and Principe\"\n",
       " \"Yemen\"\n",
       " \"Comoros\"\n",
       " \"Tajikistan\"\n",
       " \"Lesotho\""
      ]
     },
     "execution_count": 292,
     "metadata": {},
     "output_type": "execute_result"
    }
   ],
   "source": [
    "unique(data[!,2])"
   ]
  },
  {
   "cell_type": "code",
   "execution_count": 262,
   "metadata": {},
   "outputs": [
    {
     "data": {
      "image/svg+xml": [
       "<?xml version=\"1.0\" encoding=\"utf-8\"?>\n",
       "<svg xmlns=\"http://www.w3.org/2000/svg\" xmlns:xlink=\"http://www.w3.org/1999/xlink\" width=\"600\" height=\"400\" viewBox=\"0 0 2400 1600\">\n",
       "<defs>\n",
       "  <clipPath id=\"clip420\">\n",
       "    <rect x=\"0\" y=\"0\" width=\"2400\" height=\"1600\"/>\n",
       "  </clipPath>\n",
       "</defs>\n",
       "<path clip-path=\"url(#clip420)\" d=\"\n",
       "M0 1600 L2400 1600 L2400 0 L0 0  Z\n",
       "  \" fill=\"#ffffff\" fill-rule=\"evenodd\" fill-opacity=\"1\"/>\n",
       "<defs>\n",
       "  <clipPath id=\"clip421\">\n",
       "    <rect x=\"480\" y=\"0\" width=\"1681\" height=\"1600\"/>\n",
       "  </clipPath>\n",
       "</defs>\n",
       "<path clip-path=\"url(#clip420)\" d=\"\n",
       "M211.602 1423.18 L2352.76 1423.18 L2352.76 123.472 L211.602 123.472  Z\n",
       "  \" fill=\"#ffffff\" fill-rule=\"evenodd\" fill-opacity=\"1\"/>\n",
       "<defs>\n",
       "  <clipPath id=\"clip422\">\n",
       "    <rect x=\"211\" y=\"123\" width=\"2142\" height=\"1301\"/>\n",
       "  </clipPath>\n",
       "</defs>\n",
       "<polyline clip-path=\"url(#clip422)\" style=\"stroke:#000000; stroke-width:2; stroke-opacity:0.1; fill:none\" points=\"\n",
       "  211.602,1423.18 211.602,123.472 \n",
       "  \"/>\n",
       "<polyline clip-path=\"url(#clip422)\" style=\"stroke:#000000; stroke-width:2; stroke-opacity:0.1; fill:none\" points=\"\n",
       "  517.481,1423.18 517.481,123.472 \n",
       "  \"/>\n",
       "<polyline clip-path=\"url(#clip422)\" style=\"stroke:#000000; stroke-width:2; stroke-opacity:0.1; fill:none\" points=\"\n",
       "  823.361,1423.18 823.361,123.472 \n",
       "  \"/>\n",
       "<polyline clip-path=\"url(#clip422)\" style=\"stroke:#000000; stroke-width:2; stroke-opacity:0.1; fill:none\" points=\"\n",
       "  1129.24,1423.18 1129.24,123.472 \n",
       "  \"/>\n",
       "<polyline clip-path=\"url(#clip422)\" style=\"stroke:#000000; stroke-width:2; stroke-opacity:0.1; fill:none\" points=\"\n",
       "  1435.12,1423.18 1435.12,123.472 \n",
       "  \"/>\n",
       "<polyline clip-path=\"url(#clip422)\" style=\"stroke:#000000; stroke-width:2; stroke-opacity:0.1; fill:none\" points=\"\n",
       "  1741,1423.18 1741,123.472 \n",
       "  \"/>\n",
       "<polyline clip-path=\"url(#clip422)\" style=\"stroke:#000000; stroke-width:2; stroke-opacity:0.1; fill:none\" points=\"\n",
       "  2046.88,1423.18 2046.88,123.472 \n",
       "  \"/>\n",
       "<polyline clip-path=\"url(#clip422)\" style=\"stroke:#000000; stroke-width:2; stroke-opacity:0.1; fill:none\" points=\"\n",
       "  2352.76,1423.18 2352.76,123.472 \n",
       "  \"/>\n",
       "<polyline clip-path=\"url(#clip422)\" style=\"stroke:#000000; stroke-width:2; stroke-opacity:0.1; fill:none\" points=\"\n",
       "  211.602,1423.18 2352.76,1423.18 \n",
       "  \"/>\n",
       "<polyline clip-path=\"url(#clip422)\" style=\"stroke:#000000; stroke-width:2; stroke-opacity:0.1; fill:none\" points=\"\n",
       "  211.602,1163.24 2352.76,1163.24 \n",
       "  \"/>\n",
       "<polyline clip-path=\"url(#clip422)\" style=\"stroke:#000000; stroke-width:2; stroke-opacity:0.1; fill:none\" points=\"\n",
       "  211.602,903.297 2352.76,903.297 \n",
       "  \"/>\n",
       "<polyline clip-path=\"url(#clip422)\" style=\"stroke:#000000; stroke-width:2; stroke-opacity:0.1; fill:none\" points=\"\n",
       "  211.602,643.355 2352.76,643.355 \n",
       "  \"/>\n",
       "<polyline clip-path=\"url(#clip422)\" style=\"stroke:#000000; stroke-width:2; stroke-opacity:0.1; fill:none\" points=\"\n",
       "  211.602,383.414 2352.76,383.414 \n",
       "  \"/>\n",
       "<polyline clip-path=\"url(#clip422)\" style=\"stroke:#000000; stroke-width:2; stroke-opacity:0.1; fill:none\" points=\"\n",
       "  211.602,123.472 2352.76,123.472 \n",
       "  \"/>\n",
       "<polyline clip-path=\"url(#clip420)\" style=\"stroke:#000000; stroke-width:4; stroke-opacity:1; fill:none\" points=\"\n",
       "  211.602,1423.18 2352.76,1423.18 \n",
       "  \"/>\n",
       "<polyline clip-path=\"url(#clip420)\" style=\"stroke:#000000; stroke-width:4; stroke-opacity:1; fill:none\" points=\"\n",
       "  211.602,1423.18 211.602,123.472 \n",
       "  \"/>\n",
       "<polyline clip-path=\"url(#clip420)\" style=\"stroke:#000000; stroke-width:4; stroke-opacity:1; fill:none\" points=\"\n",
       "  211.602,1423.18 211.602,1407.58 \n",
       "  \"/>\n",
       "<polyline clip-path=\"url(#clip420)\" style=\"stroke:#000000; stroke-width:4; stroke-opacity:1; fill:none\" points=\"\n",
       "  517.481,1423.18 517.481,1407.58 \n",
       "  \"/>\n",
       "<polyline clip-path=\"url(#clip420)\" style=\"stroke:#000000; stroke-width:4; stroke-opacity:1; fill:none\" points=\"\n",
       "  823.361,1423.18 823.361,1407.58 \n",
       "  \"/>\n",
       "<polyline clip-path=\"url(#clip420)\" style=\"stroke:#000000; stroke-width:4; stroke-opacity:1; fill:none\" points=\"\n",
       "  1129.24,1423.18 1129.24,1407.58 \n",
       "  \"/>\n",
       "<polyline clip-path=\"url(#clip420)\" style=\"stroke:#000000; stroke-width:4; stroke-opacity:1; fill:none\" points=\"\n",
       "  1435.12,1423.18 1435.12,1407.58 \n",
       "  \"/>\n",
       "<polyline clip-path=\"url(#clip420)\" style=\"stroke:#000000; stroke-width:4; stroke-opacity:1; fill:none\" points=\"\n",
       "  1741,1423.18 1741,1407.58 \n",
       "  \"/>\n",
       "<polyline clip-path=\"url(#clip420)\" style=\"stroke:#000000; stroke-width:4; stroke-opacity:1; fill:none\" points=\"\n",
       "  2046.88,1423.18 2046.88,1407.58 \n",
       "  \"/>\n",
       "<polyline clip-path=\"url(#clip420)\" style=\"stroke:#000000; stroke-width:4; stroke-opacity:1; fill:none\" points=\"\n",
       "  2352.76,1423.18 2352.76,1407.58 \n",
       "  \"/>\n",
       "<polyline clip-path=\"url(#clip420)\" style=\"stroke:#000000; stroke-width:4; stroke-opacity:1; fill:none\" points=\"\n",
       "  211.602,1423.18 237.296,1423.18 \n",
       "  \"/>\n",
       "<polyline clip-path=\"url(#clip420)\" style=\"stroke:#000000; stroke-width:4; stroke-opacity:1; fill:none\" points=\"\n",
       "  211.602,1163.24 237.296,1163.24 \n",
       "  \"/>\n",
       "<polyline clip-path=\"url(#clip420)\" style=\"stroke:#000000; stroke-width:4; stroke-opacity:1; fill:none\" points=\"\n",
       "  211.602,903.297 237.296,903.297 \n",
       "  \"/>\n",
       "<polyline clip-path=\"url(#clip420)\" style=\"stroke:#000000; stroke-width:4; stroke-opacity:1; fill:none\" points=\"\n",
       "  211.602,643.355 237.296,643.355 \n",
       "  \"/>\n",
       "<polyline clip-path=\"url(#clip420)\" style=\"stroke:#000000; stroke-width:4; stroke-opacity:1; fill:none\" points=\"\n",
       "  211.602,383.414 237.296,383.414 \n",
       "  \"/>\n",
       "<polyline clip-path=\"url(#clip420)\" style=\"stroke:#000000; stroke-width:4; stroke-opacity:1; fill:none\" points=\"\n",
       "  211.602,123.472 237.296,123.472 \n",
       "  \"/>\n",
       "<path clip-path=\"url(#clip420)\" d=\"M 0 0 M211.602 1445.17 Q207.991 1445.17 206.163 1448.74 Q204.357 1452.28 204.357 1459.41 Q204.357 1466.51 206.163 1470.08 Q207.991 1473.62 211.602 1473.62 Q215.237 1473.62 217.042 1470.08 Q218.871 1466.51 218.871 1459.41 Q218.871 1452.28 217.042 1448.74 Q215.237 1445.17 211.602 1445.17 M211.602 1441.47 Q217.413 1441.47 220.468 1446.07 Q223.547 1450.66 223.547 1459.41 Q223.547 1468.13 220.468 1472.74 Q217.413 1477.32 211.602 1477.32 Q205.792 1477.32 202.714 1472.74 Q199.658 1468.13 199.658 1459.41 Q199.658 1450.66 202.714 1446.07 Q205.792 1441.47 211.602 1441.47 Z\" fill=\"#000000\" fill-rule=\"evenodd\" fill-opacity=\"1\" /><path clip-path=\"url(#clip420)\" d=\"M 0 0 M498.627 1472.72 L514.947 1472.72 L514.947 1476.65 L493.002 1476.65 L493.002 1472.72 Q495.664 1469.96 500.248 1465.33 Q504.854 1460.68 506.035 1459.34 Q508.28 1456.81 509.16 1455.08 Q510.063 1453.32 510.063 1451.63 Q510.063 1448.87 508.118 1447.14 Q506.197 1445.4 503.095 1445.4 Q500.896 1445.4 498.442 1446.17 Q496.012 1446.93 493.234 1448.48 L493.234 1443.76 Q496.058 1442.62 498.512 1442.05 Q500.965 1441.47 503.002 1441.47 Q508.373 1441.47 511.567 1444.15 Q514.762 1446.84 514.762 1451.33 Q514.762 1453.46 513.951 1455.38 Q513.164 1457.28 511.058 1459.87 Q510.479 1460.54 507.377 1463.76 Q504.276 1466.95 498.627 1472.72 Z\" fill=\"#000000\" fill-rule=\"evenodd\" fill-opacity=\"1\" /><path clip-path=\"url(#clip420)\" d=\"M 0 0 M530.016 1445.17 Q526.405 1445.17 524.576 1448.74 Q522.771 1452.28 522.771 1459.41 Q522.771 1466.51 524.576 1470.08 Q526.405 1473.62 530.016 1473.62 Q533.65 1473.62 535.456 1470.08 Q537.285 1466.51 537.285 1459.41 Q537.285 1452.28 535.456 1448.74 Q533.65 1445.17 530.016 1445.17 M530.016 1441.47 Q535.826 1441.47 538.882 1446.07 Q541.961 1450.66 541.961 1459.41 Q541.961 1468.13 538.882 1472.74 Q535.826 1477.32 530.016 1477.32 Q524.206 1477.32 521.127 1472.74 Q518.072 1468.13 518.072 1459.41 Q518.072 1450.66 521.127 1446.07 Q524.206 1441.47 530.016 1441.47 Z\" fill=\"#000000\" fill-rule=\"evenodd\" fill-opacity=\"1\" /><path clip-path=\"url(#clip420)\" d=\"M 0 0 M812.863 1446.17 L801.057 1464.61 L812.863 1464.61 L812.863 1446.17 M811.636 1442.09 L817.516 1442.09 L817.516 1464.61 L822.446 1464.61 L822.446 1468.5 L817.516 1468.5 L817.516 1476.65 L812.863 1476.65 L812.863 1468.5 L797.261 1468.5 L797.261 1463.99 L811.636 1442.09 Z\" fill=\"#000000\" fill-rule=\"evenodd\" fill-opacity=\"1\" /><path clip-path=\"url(#clip420)\" d=\"M 0 0 M837.516 1445.17 Q833.904 1445.17 832.076 1448.74 Q830.27 1452.28 830.27 1459.41 Q830.27 1466.51 832.076 1470.08 Q833.904 1473.62 837.516 1473.62 Q841.15 1473.62 842.955 1470.08 Q844.784 1466.51 844.784 1459.41 Q844.784 1452.28 842.955 1448.74 Q841.15 1445.17 837.516 1445.17 M837.516 1441.47 Q843.326 1441.47 846.381 1446.07 Q849.46 1450.66 849.46 1459.41 Q849.46 1468.13 846.381 1472.74 Q843.326 1477.32 837.516 1477.32 Q831.705 1477.32 828.627 1472.74 Q825.571 1468.13 825.571 1459.41 Q825.571 1450.66 828.627 1446.07 Q831.705 1441.47 837.516 1441.47 Z\" fill=\"#000000\" fill-rule=\"evenodd\" fill-opacity=\"1\" /><path clip-path=\"url(#clip420)\" d=\"M 0 0 M1116.14 1457.51 Q1112.99 1457.51 1111.14 1459.66 Q1109.31 1461.81 1109.31 1465.56 Q1109.31 1469.29 1111.14 1471.47 Q1112.99 1473.62 1116.14 1473.62 Q1119.29 1473.62 1121.11 1471.47 Q1122.97 1469.29 1122.97 1465.56 Q1122.97 1461.81 1121.11 1459.66 Q1119.29 1457.51 1116.14 1457.51 M1125.42 1442.86 L1125.42 1447.11 Q1123.66 1446.28 1121.86 1445.84 Q1120.07 1445.4 1118.31 1445.4 Q1113.68 1445.4 1111.23 1448.53 Q1108.8 1451.65 1108.45 1457.97 Q1109.82 1455.96 1111.88 1454.89 Q1113.94 1453.8 1116.42 1453.8 Q1121.62 1453.8 1124.63 1456.98 Q1127.67 1460.12 1127.67 1465.56 Q1127.67 1470.89 1124.52 1474.11 Q1121.37 1477.32 1116.14 1477.32 Q1110.14 1477.32 1106.97 1472.74 Q1103.8 1468.13 1103.8 1459.41 Q1103.8 1451.21 1107.69 1446.35 Q1111.58 1441.47 1118.13 1441.47 Q1119.89 1441.47 1121.67 1441.81 Q1123.48 1442.16 1125.42 1442.86 Z\" fill=\"#000000\" fill-rule=\"evenodd\" fill-opacity=\"1\" /><path clip-path=\"url(#clip420)\" d=\"M 0 0 M1142.73 1445.17 Q1139.12 1445.17 1137.3 1448.74 Q1135.49 1452.28 1135.49 1459.41 Q1135.49 1466.51 1137.3 1470.08 Q1139.12 1473.62 1142.73 1473.62 Q1146.37 1473.62 1148.17 1470.08 Q1150 1466.51 1150 1459.41 Q1150 1452.28 1148.17 1448.74 Q1146.37 1445.17 1142.73 1445.17 M1142.73 1441.47 Q1148.55 1441.47 1151.6 1446.07 Q1154.68 1450.66 1154.68 1459.41 Q1154.68 1468.13 1151.6 1472.74 Q1148.55 1477.32 1142.73 1477.32 Q1136.92 1477.32 1133.85 1472.74 Q1130.79 1468.13 1130.79 1459.41 Q1130.79 1450.66 1133.85 1446.07 Q1136.92 1441.47 1142.73 1441.47 Z\" fill=\"#000000\" fill-rule=\"evenodd\" fill-opacity=\"1\" /><path clip-path=\"url(#clip420)\" d=\"M 0 0 M1421.61 1460.24 Q1418.28 1460.24 1416.36 1462.02 Q1414.46 1463.8 1414.46 1466.93 Q1414.46 1470.05 1416.36 1471.84 Q1418.28 1473.62 1421.61 1473.62 Q1424.95 1473.62 1426.87 1471.84 Q1428.79 1470.03 1428.79 1466.93 Q1428.79 1463.8 1426.87 1462.02 Q1424.97 1460.24 1421.61 1460.24 M1416.94 1458.25 Q1413.93 1457.51 1412.24 1455.45 Q1410.57 1453.39 1410.57 1450.43 Q1410.57 1446.28 1413.51 1443.87 Q1416.47 1441.47 1421.61 1441.47 Q1426.77 1441.47 1429.71 1443.87 Q1432.65 1446.28 1432.65 1450.43 Q1432.65 1453.39 1430.96 1455.45 Q1429.3 1457.51 1426.31 1458.25 Q1429.69 1459.04 1431.57 1461.33 Q1433.46 1463.62 1433.46 1466.93 Q1433.46 1471.95 1430.38 1474.64 Q1427.33 1477.32 1421.61 1477.32 Q1415.89 1477.32 1412.82 1474.64 Q1409.76 1471.95 1409.76 1466.93 Q1409.76 1463.62 1411.66 1461.33 Q1413.56 1459.04 1416.94 1458.25 M1415.22 1450.86 Q1415.22 1453.55 1416.89 1455.05 Q1418.58 1456.56 1421.61 1456.56 Q1424.62 1456.56 1426.31 1455.05 Q1428.02 1453.55 1428.02 1450.86 Q1428.02 1448.18 1426.31 1446.68 Q1424.62 1445.17 1421.61 1445.17 Q1418.58 1445.17 1416.89 1446.68 Q1415.22 1448.18 1415.22 1450.86 Z\" fill=\"#000000\" fill-rule=\"evenodd\" fill-opacity=\"1\" /><path clip-path=\"url(#clip420)\" d=\"M 0 0 M1448.53 1445.17 Q1444.92 1445.17 1443.09 1448.74 Q1441.29 1452.28 1441.29 1459.41 Q1441.29 1466.51 1443.09 1470.08 Q1444.92 1473.62 1448.53 1473.62 Q1452.17 1473.62 1453.97 1470.08 Q1455.8 1466.51 1455.8 1459.41 Q1455.8 1452.28 1453.97 1448.74 Q1452.17 1445.17 1448.53 1445.17 M1448.53 1441.47 Q1454.34 1441.47 1457.4 1446.07 Q1460.48 1450.66 1460.48 1459.41 Q1460.48 1468.13 1457.4 1472.74 Q1454.34 1477.32 1448.53 1477.32 Q1442.72 1477.32 1439.64 1472.74 Q1436.59 1468.13 1436.59 1459.41 Q1436.59 1450.66 1439.64 1446.07 Q1442.72 1441.47 1448.53 1441.47 Z\" fill=\"#000000\" fill-rule=\"evenodd\" fill-opacity=\"1\" /><path clip-path=\"url(#clip420)\" d=\"M 0 0 M1704.37 1472.72 L1712 1472.72 L1712 1446.35 L1703.69 1448.02 L1703.69 1443.76 L1711.96 1442.09 L1716.63 1442.09 L1716.63 1472.72 L1724.27 1472.72 L1724.27 1476.65 L1704.37 1476.65 L1704.37 1472.72 Z\" fill=\"#000000\" fill-rule=\"evenodd\" fill-opacity=\"1\" /><path clip-path=\"url(#clip420)\" d=\"M 0 0 M1739.34 1445.17 Q1735.73 1445.17 1733.9 1448.74 Q1732.1 1452.28 1732.1 1459.41 Q1732.1 1466.51 1733.9 1470.08 Q1735.73 1473.62 1739.34 1473.62 Q1742.98 1473.62 1744.78 1470.08 Q1746.61 1466.51 1746.61 1459.41 Q1746.61 1452.28 1744.78 1448.74 Q1742.98 1445.17 1739.34 1445.17 M1739.34 1441.47 Q1745.15 1441.47 1748.21 1446.07 Q1751.29 1450.66 1751.29 1459.41 Q1751.29 1468.13 1748.21 1472.74 Q1745.15 1477.32 1739.34 1477.32 Q1733.53 1477.32 1730.45 1472.74 Q1727.4 1468.13 1727.4 1459.41 Q1727.4 1450.66 1730.45 1446.07 Q1733.53 1441.47 1739.34 1441.47 Z\" fill=\"#000000\" fill-rule=\"evenodd\" fill-opacity=\"1\" /><path clip-path=\"url(#clip420)\" d=\"M 0 0 M1766.36 1445.17 Q1762.75 1445.17 1760.92 1448.74 Q1759.11 1452.28 1759.11 1459.41 Q1759.11 1466.51 1760.92 1470.08 Q1762.75 1473.62 1766.36 1473.62 Q1769.99 1473.62 1771.8 1470.08 Q1773.62 1466.51 1773.62 1459.41 Q1773.62 1452.28 1771.8 1448.74 Q1769.99 1445.17 1766.36 1445.17 M1766.36 1441.47 Q1772.17 1441.47 1775.22 1446.07 Q1778.3 1450.66 1778.3 1459.41 Q1778.3 1468.13 1775.22 1472.74 Q1772.17 1477.32 1766.36 1477.32 Q1760.55 1477.32 1757.47 1472.74 Q1754.41 1468.13 1754.41 1459.41 Q1754.41 1450.66 1757.47 1446.07 Q1760.55 1441.47 1766.36 1441.47 Z\" fill=\"#000000\" fill-rule=\"evenodd\" fill-opacity=\"1\" /><path clip-path=\"url(#clip420)\" d=\"M 0 0 M2011.04 1472.72 L2018.68 1472.72 L2018.68 1446.35 L2010.37 1448.02 L2010.37 1443.76 L2018.64 1442.09 L2023.31 1442.09 L2023.31 1472.72 L2030.95 1472.72 L2030.95 1476.65 L2011.04 1476.65 L2011.04 1472.72 Z\" fill=\"#000000\" fill-rule=\"evenodd\" fill-opacity=\"1\" /><path clip-path=\"url(#clip420)\" d=\"M 0 0 M2040.05 1472.72 L2056.37 1472.72 L2056.37 1476.65 L2034.42 1476.65 L2034.42 1472.72 Q2037.09 1469.96 2041.67 1465.33 Q2046.27 1460.68 2047.46 1459.34 Q2049.7 1456.81 2050.58 1455.08 Q2051.48 1453.32 2051.48 1451.63 Q2051.48 1448.87 2049.54 1447.14 Q2047.62 1445.4 2044.52 1445.4 Q2042.32 1445.4 2039.86 1446.17 Q2037.43 1446.93 2034.65 1448.48 L2034.65 1443.76 Q2037.48 1442.62 2039.93 1442.05 Q2042.39 1441.47 2044.42 1441.47 Q2049.79 1441.47 2052.99 1444.15 Q2056.18 1446.84 2056.18 1451.33 Q2056.18 1453.46 2055.37 1455.38 Q2054.59 1457.28 2052.48 1459.87 Q2051.9 1460.54 2048.8 1463.76 Q2045.7 1466.95 2040.05 1472.72 Z\" fill=\"#000000\" fill-rule=\"evenodd\" fill-opacity=\"1\" /><path clip-path=\"url(#clip420)\" d=\"M 0 0 M2071.44 1445.17 Q2067.83 1445.17 2066 1448.74 Q2064.19 1452.28 2064.19 1459.41 Q2064.19 1466.51 2066 1470.08 Q2067.83 1473.62 2071.44 1473.62 Q2075.07 1473.62 2076.88 1470.08 Q2078.71 1466.51 2078.71 1459.41 Q2078.71 1452.28 2076.88 1448.74 Q2075.07 1445.17 2071.44 1445.17 M2071.44 1441.47 Q2077.25 1441.47 2080.3 1446.07 Q2083.38 1450.66 2083.38 1459.41 Q2083.38 1468.13 2080.3 1472.74 Q2077.25 1477.32 2071.44 1477.32 Q2065.63 1477.32 2062.55 1472.74 Q2059.49 1468.13 2059.49 1459.41 Q2059.49 1450.66 2062.55 1446.07 Q2065.63 1441.47 2071.44 1441.47 Z\" fill=\"#000000\" fill-rule=\"evenodd\" fill-opacity=\"1\" /><path clip-path=\"url(#clip420)\" d=\"M 0 0 M2315.88 1472.72 L2323.52 1472.72 L2323.52 1446.35 L2315.21 1448.02 L2315.21 1443.76 L2323.47 1442.09 L2328.15 1442.09 L2328.15 1472.72 L2335.79 1472.72 L2335.79 1476.65 L2315.88 1476.65 L2315.88 1472.72 Z\" fill=\"#000000\" fill-rule=\"evenodd\" fill-opacity=\"1\" /><path clip-path=\"url(#clip420)\" d=\"M 0 0 M2353.7 1446.17 L2341.9 1464.61 L2353.7 1464.61 L2353.7 1446.17 M2352.48 1442.09 L2358.36 1442.09 L2358.36 1464.61 L2363.29 1464.61 L2363.29 1468.5 L2358.36 1468.5 L2358.36 1476.65 L2353.7 1476.65 L2353.7 1468.5 L2338.1 1468.5 L2338.1 1463.99 L2352.48 1442.09 Z\" fill=\"#000000\" fill-rule=\"evenodd\" fill-opacity=\"1\" /><path clip-path=\"url(#clip420)\" d=\"M 0 0 M2378.36 1445.17 Q2374.75 1445.17 2372.92 1448.74 Q2371.11 1452.28 2371.11 1459.41 Q2371.11 1466.51 2372.92 1470.08 Q2374.75 1473.62 2378.36 1473.62 Q2381.99 1473.62 2383.8 1470.08 Q2385.63 1466.51 2385.63 1459.41 Q2385.63 1452.28 2383.8 1448.74 Q2381.99 1445.17 2378.36 1445.17 M2378.36 1441.47 Q2384.17 1441.47 2387.22 1446.07 Q2390.3 1450.66 2390.3 1459.41 Q2390.3 1468.13 2387.22 1472.74 Q2384.17 1477.32 2378.36 1477.32 Q2372.55 1477.32 2369.47 1472.74 Q2366.41 1468.13 2366.41 1459.41 Q2366.41 1450.66 2369.47 1446.07 Q2372.55 1441.47 2378.36 1441.47 Z\" fill=\"#000000\" fill-rule=\"evenodd\" fill-opacity=\"1\" /><path clip-path=\"url(#clip420)\" d=\"M 0 0 M138.691 1408.98 Q135.08 1408.98 133.251 1412.54 Q131.445 1416.08 131.445 1423.21 Q131.445 1430.32 133.251 1433.89 Q135.08 1437.43 138.691 1437.43 Q142.325 1437.43 144.13 1433.89 Q145.959 1430.32 145.959 1423.21 Q145.959 1416.08 144.13 1412.54 Q142.325 1408.98 138.691 1408.98 M138.691 1405.27 Q144.501 1405.27 147.556 1409.88 Q150.635 1414.46 150.635 1423.21 Q150.635 1431.94 147.556 1436.55 Q144.501 1441.13 138.691 1441.13 Q132.88 1441.13 129.802 1436.55 Q126.746 1431.94 126.746 1423.21 Q126.746 1414.46 129.802 1409.88 Q132.88 1405.27 138.691 1405.27 Z\" fill=\"#000000\" fill-rule=\"evenodd\" fill-opacity=\"1\" /><path clip-path=\"url(#clip420)\" d=\"M 0 0 M155.704 1434.58 L160.589 1434.58 L160.589 1440.46 L155.704 1440.46 L155.704 1434.58 Z\" fill=\"#000000\" fill-rule=\"evenodd\" fill-opacity=\"1\" /><path clip-path=\"url(#clip420)\" d=\"M 0 0 M175.658 1408.98 Q172.047 1408.98 170.218 1412.54 Q168.413 1416.08 168.413 1423.21 Q168.413 1430.32 170.218 1433.89 Q172.047 1437.43 175.658 1437.43 Q179.292 1437.43 181.098 1433.89 Q182.927 1430.32 182.927 1423.21 Q182.927 1416.08 181.098 1412.54 Q179.292 1408.98 175.658 1408.98 M175.658 1405.27 Q181.468 1405.27 184.524 1409.88 Q187.602 1414.46 187.602 1423.21 Q187.602 1431.94 184.524 1436.55 Q181.468 1441.13 175.658 1441.13 Q169.848 1441.13 166.769 1436.55 Q163.714 1431.94 163.714 1423.21 Q163.714 1414.46 166.769 1409.88 Q169.848 1405.27 175.658 1405.27 Z\" fill=\"#000000\" fill-rule=\"evenodd\" fill-opacity=\"1\" /><path clip-path=\"url(#clip420)\" d=\"M 0 0 M140.288 1149.04 Q136.677 1149.04 134.848 1152.6 Q133.043 1156.14 133.043 1163.27 Q133.043 1170.38 134.848 1173.94 Q136.677 1177.49 140.288 1177.49 Q143.922 1177.49 145.728 1173.94 Q147.556 1170.38 147.556 1163.27 Q147.556 1156.14 145.728 1152.6 Q143.922 1149.04 140.288 1149.04 M140.288 1145.33 Q146.098 1145.33 149.154 1149.94 Q152.232 1154.52 152.232 1163.27 Q152.232 1172 149.154 1176.61 Q146.098 1181.19 140.288 1181.19 Q134.478 1181.19 131.399 1176.61 Q128.343 1172 128.343 1163.27 Q128.343 1154.52 131.399 1149.94 Q134.478 1145.33 140.288 1145.33 Z\" fill=\"#000000\" fill-rule=\"evenodd\" fill-opacity=\"1\" /><path clip-path=\"url(#clip420)\" d=\"M 0 0 M157.302 1174.64 L162.186 1174.64 L162.186 1180.52 L157.302 1180.52 L157.302 1174.64 Z\" fill=\"#000000\" fill-rule=\"evenodd\" fill-opacity=\"1\" /><path clip-path=\"url(#clip420)\" d=\"M 0 0 M171.283 1176.58 L187.602 1176.58 L187.602 1180.52 L165.658 1180.52 L165.658 1176.58 Q168.32 1173.83 172.903 1169.2 Q177.51 1164.55 178.69 1163.2 Q180.936 1160.68 181.815 1158.94 Q182.718 1157.19 182.718 1155.5 Q182.718 1152.74 180.774 1151 Q178.852 1149.27 175.751 1149.27 Q173.552 1149.27 171.098 1150.03 Q168.667 1150.8 165.89 1152.35 L165.89 1147.62 Q168.714 1146.49 171.167 1145.91 Q173.621 1145.33 175.658 1145.33 Q181.028 1145.33 184.223 1148.02 Q187.417 1150.7 187.417 1155.19 Q187.417 1157.32 186.607 1159.25 Q185.82 1161.14 183.714 1163.74 Q183.135 1164.41 180.033 1167.62 Q176.931 1170.82 171.283 1176.58 Z\" fill=\"#000000\" fill-rule=\"evenodd\" fill-opacity=\"1\" /><path clip-path=\"url(#clip420)\" d=\"M 0 0 M138.205 889.095 Q134.593 889.095 132.765 892.66 Q130.959 896.202 130.959 903.331 Q130.959 910.438 132.765 914.003 Q134.593 917.544 138.205 917.544 Q141.839 917.544 143.644 914.003 Q145.473 910.438 145.473 903.331 Q145.473 896.202 143.644 892.66 Q141.839 889.095 138.205 889.095 M138.205 885.392 Q144.015 885.392 147.07 889.998 Q150.149 894.582 150.149 903.331 Q150.149 912.058 147.07 916.665 Q144.015 921.248 138.205 921.248 Q132.394 921.248 129.316 916.665 Q126.26 912.058 126.26 903.331 Q126.26 894.582 129.316 889.998 Q132.394 885.392 138.205 885.392 Z\" fill=\"#000000\" fill-rule=\"evenodd\" fill-opacity=\"1\" /><path clip-path=\"url(#clip420)\" d=\"M 0 0 M155.218 914.697 L160.103 914.697 L160.103 920.577 L155.218 920.577 L155.218 914.697 Z\" fill=\"#000000\" fill-rule=\"evenodd\" fill-opacity=\"1\" /><path clip-path=\"url(#clip420)\" d=\"M 0 0 M178.019 890.091 L166.214 908.54 L178.019 908.54 L178.019 890.091 M176.792 886.017 L182.672 886.017 L182.672 908.54 L187.602 908.54 L187.602 912.429 L182.672 912.429 L182.672 920.577 L178.019 920.577 L178.019 912.429 L162.417 912.429 L162.417 907.915 L176.792 886.017 Z\" fill=\"#000000\" fill-rule=\"evenodd\" fill-opacity=\"1\" /><path clip-path=\"url(#clip420)\" d=\"M 0 0 M138.529 629.154 Q134.918 629.154 133.089 632.719 Q131.283 636.26 131.283 643.39 Q131.283 650.496 133.089 654.061 Q134.918 657.603 138.529 657.603 Q142.163 657.603 143.968 654.061 Q145.797 650.496 145.797 643.39 Q145.797 636.26 143.968 632.719 Q142.163 629.154 138.529 629.154 M138.529 625.45 Q144.339 625.45 147.394 630.057 Q150.473 634.64 150.473 643.39 Q150.473 652.117 147.394 656.723 Q144.339 661.307 138.529 661.307 Q132.718 661.307 129.64 656.723 Q126.584 652.117 126.584 643.39 Q126.584 634.64 129.64 630.057 Q132.718 625.45 138.529 625.45 Z\" fill=\"#000000\" fill-rule=\"evenodd\" fill-opacity=\"1\" /><path clip-path=\"url(#clip420)\" d=\"M 0 0 M155.542 654.756 L160.427 654.756 L160.427 660.635 L155.542 660.635 L155.542 654.756 Z\" fill=\"#000000\" fill-rule=\"evenodd\" fill-opacity=\"1\" /><path clip-path=\"url(#clip420)\" d=\"M 0 0 M176.075 641.492 Q172.927 641.492 171.075 643.645 Q169.246 645.797 169.246 649.547 Q169.246 653.274 171.075 655.45 Q172.927 657.603 176.075 657.603 Q179.223 657.603 181.052 655.45 Q182.903 653.274 182.903 649.547 Q182.903 645.797 181.052 643.645 Q179.223 641.492 176.075 641.492 M185.357 626.839 L185.357 631.098 Q183.598 630.265 181.792 629.825 Q180.01 629.385 178.251 629.385 Q173.621 629.385 171.167 632.51 Q168.737 635.635 168.39 641.955 Q169.755 639.941 171.815 638.876 Q173.876 637.788 176.352 637.788 Q181.561 637.788 184.57 640.959 Q187.602 644.108 187.602 649.547 Q187.602 654.871 184.454 658.089 Q181.306 661.307 176.075 661.307 Q170.079 661.307 166.908 656.723 Q163.737 652.117 163.737 643.39 Q163.737 635.196 167.626 630.334 Q171.515 625.45 178.065 625.45 Q179.825 625.45 181.607 625.797 Q183.413 626.145 185.357 626.839 Z\" fill=\"#000000\" fill-rule=\"evenodd\" fill-opacity=\"1\" /><path clip-path=\"url(#clip420)\" d=\"M 0 0 M138.783 369.212 Q135.172 369.212 133.343 372.777 Q131.538 376.319 131.538 383.448 Q131.538 390.555 133.343 394.12 Q135.172 397.661 138.783 397.661 Q142.417 397.661 144.223 394.12 Q146.052 390.555 146.052 383.448 Q146.052 376.319 144.223 372.777 Q142.417 369.212 138.783 369.212 M138.783 365.509 Q144.593 365.509 147.649 370.115 Q150.728 374.698 150.728 383.448 Q150.728 392.175 147.649 396.782 Q144.593 401.365 138.783 401.365 Q132.973 401.365 129.894 396.782 Q126.839 392.175 126.839 383.448 Q126.839 374.698 129.894 370.115 Q132.973 365.509 138.783 365.509 Z\" fill=\"#000000\" fill-rule=\"evenodd\" fill-opacity=\"1\" /><path clip-path=\"url(#clip420)\" d=\"M 0 0 M155.797 394.814 L160.681 394.814 L160.681 400.694 L155.797 400.694 L155.797 394.814 Z\" fill=\"#000000\" fill-rule=\"evenodd\" fill-opacity=\"1\" /><path clip-path=\"url(#clip420)\" d=\"M 0 0 M175.751 384.282 Q172.417 384.282 170.496 386.064 Q168.598 387.847 168.598 390.971 Q168.598 394.096 170.496 395.879 Q172.417 397.661 175.751 397.661 Q179.084 397.661 181.005 395.879 Q182.927 394.073 182.927 390.971 Q182.927 387.847 181.005 386.064 Q179.107 384.282 175.751 384.282 M171.075 382.291 Q168.065 381.55 166.376 379.49 Q164.709 377.43 164.709 374.467 Q164.709 370.323 167.649 367.916 Q170.612 365.509 175.751 365.509 Q180.913 365.509 183.852 367.916 Q186.792 370.323 186.792 374.467 Q186.792 377.43 185.102 379.49 Q183.436 381.55 180.45 382.291 Q183.829 383.078 185.704 385.37 Q187.602 387.661 187.602 390.971 Q187.602 395.995 184.524 398.68 Q181.468 401.365 175.751 401.365 Q170.033 401.365 166.954 398.68 Q163.899 395.995 163.899 390.971 Q163.899 387.661 165.797 385.37 Q167.695 383.078 171.075 382.291 M169.362 374.907 Q169.362 377.592 171.028 379.097 Q172.718 380.601 175.751 380.601 Q178.76 380.601 180.45 379.097 Q182.163 377.592 182.163 374.907 Q182.163 372.222 180.45 370.717 Q178.76 369.212 175.751 369.212 Q172.718 369.212 171.028 370.717 Q169.362 372.222 169.362 374.907 Z\" fill=\"#000000\" fill-rule=\"evenodd\" fill-opacity=\"1\" /><path clip-path=\"url(#clip420)\" d=\"M 0 0 M130.728 136.817 L138.367 136.817 L138.367 110.451 L130.056 112.118 L130.056 107.859 L138.32 106.192 L142.996 106.192 L142.996 136.817 L150.635 136.817 L150.635 140.752 L130.728 140.752 L130.728 136.817 Z\" fill=\"#000000\" fill-rule=\"evenodd\" fill-opacity=\"1\" /><path clip-path=\"url(#clip420)\" d=\"M 0 0 M155.704 134.873 L160.589 134.873 L160.589 140.752 L155.704 140.752 L155.704 134.873 Z\" fill=\"#000000\" fill-rule=\"evenodd\" fill-opacity=\"1\" /><path clip-path=\"url(#clip420)\" d=\"M 0 0 M175.658 109.271 Q172.047 109.271 170.218 112.836 Q168.413 116.377 168.413 123.507 Q168.413 130.613 170.218 134.178 Q172.047 137.72 175.658 137.72 Q179.292 137.72 181.098 134.178 Q182.927 130.613 182.927 123.507 Q182.927 116.377 181.098 112.836 Q179.292 109.271 175.658 109.271 M175.658 105.567 Q181.468 105.567 184.524 110.174 Q187.602 114.757 187.602 123.507 Q187.602 132.234 184.524 136.84 Q181.468 141.423 175.658 141.423 Q169.848 141.423 166.769 136.84 Q163.714 132.234 163.714 123.507 Q163.714 114.757 166.769 110.174 Q169.848 105.567 175.658 105.567 Z\" fill=\"#000000\" fill-rule=\"evenodd\" fill-opacity=\"1\" /><path clip-path=\"url(#clip420)\" d=\"M 0 0 M820.417 28.9478 L820.417 35.9153 Q817.257 34.1734 814.057 33.3227 Q810.897 32.4315 807.656 32.4315 Q800.405 32.4315 796.395 37.0496 Q792.384 41.6271 792.384 49.9314 Q792.384 58.2358 796.395 62.8538 Q800.405 67.4314 807.656 67.4314 Q810.897 67.4314 814.057 66.5807 Q817.257 65.6895 820.417 63.9476 L820.417 70.8341 Q817.297 72.2924 813.935 73.0216 Q810.613 73.7508 806.846 73.7508 Q796.597 73.7508 790.561 67.3098 Q784.526 60.8689 784.526 49.9314 Q784.526 38.832 790.602 32.472 Q796.719 26.1121 807.332 26.1121 Q810.775 26.1121 814.057 26.8413 Q817.338 27.5299 820.417 28.9478 Z\" fill=\"#000000\" fill-rule=\"evenodd\" fill-opacity=\"1\" /><path clip-path=\"url(#clip420)\" d=\"M 0 0 M845.816 32.4315 Q839.82 32.4315 836.337 37.1306 Q832.853 41.7891 832.853 49.9314 Q832.853 58.0738 836.296 62.7728 Q839.78 67.4314 845.816 67.4314 Q851.771 67.4314 855.254 62.7323 Q858.738 58.0333 858.738 49.9314 Q858.738 41.8701 855.254 37.1711 Q851.771 32.4315 845.816 32.4315 M845.816 26.1121 Q855.538 26.1121 861.088 32.4315 Q866.637 38.7509 866.637 49.9314 Q866.637 61.0714 861.088 67.4314 Q855.538 73.7508 845.816 73.7508 Q836.053 73.7508 830.503 67.4314 Q824.994 61.0714 824.994 49.9314 Q824.994 38.7509 830.503 32.4315 Q836.053 26.1121 845.816 26.1121 Z\" fill=\"#000000\" fill-rule=\"evenodd\" fill-opacity=\"1\" /><path clip-path=\"url(#clip420)\" d=\"M 0 0 M912.17 45.1919 L912.17 72.576 L904.716 72.576 L904.716 45.4349 Q904.716 38.994 902.204 35.7938 Q899.693 32.5936 894.67 32.5936 Q888.634 32.5936 885.15 36.4419 Q881.666 40.2903 881.666 46.9338 L881.666 72.576 L874.172 72.576 L874.172 27.2059 L881.666 27.2059 L881.666 34.2544 Q884.34 30.163 887.945 28.1376 Q891.591 26.1121 896.331 26.1121 Q904.149 26.1121 908.159 30.9732 Q912.17 35.7938 912.17 45.1919 Z\" fill=\"#000000\" fill-rule=\"evenodd\" fill-opacity=\"1\" /><path clip-path=\"url(#clip420)\" d=\"M 0 0 M942.956 9.54393 L942.956 15.7418 L935.827 15.7418 Q931.816 15.7418 930.237 17.3622 Q928.697 18.9825 928.697 23.1955 L928.697 27.2059 L940.972 27.2059 L940.972 32.9987 L928.697 32.9987 L928.697 72.576 L921.203 72.576 L921.203 32.9987 L914.073 32.9987 L914.073 27.2059 L921.203 27.2059 L921.203 24.0462 Q921.203 16.471 924.727 13.0277 Q928.252 9.54393 935.908 9.54393 L942.956 9.54393 Z\" fill=\"#000000\" fill-rule=\"evenodd\" fill-opacity=\"1\" /><path clip-path=\"url(#clip420)\" d=\"M 0 0 M950.775 27.2059 L958.228 27.2059 L958.228 72.576 L950.775 72.576 L950.775 27.2059 M950.775 9.54393 L958.228 9.54393 L958.228 18.9825 L950.775 18.9825 L950.775 9.54393 Z\" fill=\"#000000\" fill-rule=\"evenodd\" fill-opacity=\"1\" /><path clip-path=\"url(#clip420)\" d=\"M 0 0 M992.337 34.1734 Q991.081 33.4443 989.582 33.1202 Q988.124 32.7556 986.342 32.7556 Q980.022 32.7556 976.619 36.8875 Q973.257 40.9789 973.257 48.6757 L973.257 72.576 L965.763 72.576 L965.763 27.2059 L973.257 27.2059 L973.257 34.2544 Q975.607 30.1225 979.374 28.1376 Q983.141 26.1121 988.529 26.1121 Q989.299 26.1121 990.23 26.2337 Q991.162 26.3147 992.296 26.5172 L992.337 34.1734 Z\" fill=\"#000000\" fill-rule=\"evenodd\" fill-opacity=\"1\" /><path clip-path=\"url(#clip420)\" d=\"M 0 0 M1034.02 35.9153 Q1036.82 30.8922 1040.7 28.5022 Q1044.59 26.1121 1049.86 26.1121 Q1056.95 26.1121 1060.8 31.0947 Q1064.65 36.0368 1064.65 45.1919 L1064.65 72.576 L1057.15 72.576 L1057.15 45.4349 Q1057.15 38.913 1054.84 35.7533 Q1052.53 32.5936 1047.79 32.5936 Q1042 32.5936 1038.64 36.4419 Q1035.28 40.2903 1035.28 46.9338 L1035.28 72.576 L1027.78 72.576 L1027.78 45.4349 Q1027.78 38.8725 1025.47 35.7533 Q1023.16 32.5936 1018.34 32.5936 Q1012.63 32.5936 1009.27 36.4824 Q1005.91 40.3308 1005.91 46.9338 L1005.91 72.576 L998.413 72.576 L998.413 27.2059 L1005.91 27.2059 L1005.91 34.2544 Q1008.46 30.082 1012.02 28.0971 Q1015.59 26.1121 1020.49 26.1121 Q1025.43 26.1121 1028.88 28.6237 Q1032.36 31.1352 1034.02 35.9153 Z\" fill=\"#000000\" fill-rule=\"evenodd\" fill-opacity=\"1\" /><path clip-path=\"url(#clip420)\" d=\"M 0 0 M1111.27 48.0275 L1111.27 51.6733 L1077 51.6733 Q1077.49 59.3701 1081.62 63.421 Q1085.79 67.4314 1093.2 67.4314 Q1097.5 67.4314 1101.51 66.3781 Q1105.56 65.3249 1109.53 63.2184 L1109.53 70.267 Q1105.52 71.9684 1101.31 72.8596 Q1097.09 73.7508 1092.76 73.7508 Q1081.9 73.7508 1075.54 67.4314 Q1069.22 61.1119 1069.22 50.3365 Q1069.22 39.1965 1075.22 32.6746 Q1081.25 26.1121 1091.46 26.1121 Q1100.62 26.1121 1105.92 32.0264 Q1111.27 37.9003 1111.27 48.0275 M1103.82 45.84 Q1103.74 39.7232 1100.37 36.0774 Q1097.05 32.4315 1091.54 32.4315 Q1085.31 32.4315 1081.54 35.9558 Q1077.81 39.4801 1077.24 45.8805 L1103.82 45.84 Z\" fill=\"#000000\" fill-rule=\"evenodd\" fill-opacity=\"1\" /><path clip-path=\"url(#clip420)\" d=\"M 0 0 M1148.94 34.0924 L1148.94 9.54393 L1156.4 9.54393 L1156.4 72.576 L1148.94 72.576 L1148.94 65.7705 Q1146.6 69.8214 1142.99 71.8063 Q1139.43 73.7508 1134.4 73.7508 Q1126.18 73.7508 1120.99 67.1883 Q1115.85 60.6258 1115.85 49.9314 Q1115.85 39.2371 1120.99 32.6746 Q1126.18 26.1121 1134.4 26.1121 Q1139.43 26.1121 1142.99 28.0971 Q1146.6 30.0415 1148.94 34.0924 M1123.55 49.9314 Q1123.55 58.1548 1126.91 62.8538 Q1130.31 67.5124 1136.23 67.5124 Q1142.14 67.5124 1145.54 62.8538 Q1148.94 58.1548 1148.94 49.9314 Q1148.94 41.7081 1145.54 37.0496 Q1142.14 32.3505 1136.23 32.3505 Q1130.31 32.3505 1126.91 37.0496 Q1123.55 41.7081 1123.55 49.9314 Z\" fill=\"#000000\" fill-rule=\"evenodd\" fill-opacity=\"1\" /><path clip-path=\"url(#clip420)\" d=\"M 0 0 M1236.2 16.7545 L1236.2 25.383 Q1232.07 21.5346 1227.37 19.6307 Q1222.71 17.7268 1217.45 17.7268 Q1207.08 17.7268 1201.57 24.0867 Q1196.06 30.4061 1196.06 42.3968 Q1196.06 54.3469 1201.57 60.7069 Q1207.08 67.0263 1217.45 67.0263 Q1222.71 67.0263 1227.37 65.1223 Q1232.07 63.2184 1236.2 59.3701 L1236.2 67.9175 Q1231.91 70.8341 1227.09 72.2924 Q1222.31 73.7508 1216.96 73.7508 Q1203.23 73.7508 1195.33 65.3654 Q1187.43 56.9395 1187.43 42.3968 Q1187.43 27.8135 1195.33 19.4281 Q1203.23 11.0023 1216.96 11.0023 Q1222.39 11.0023 1227.17 12.4606 Q1231.99 13.8784 1236.2 16.7545 Z\" fill=\"#000000\" fill-rule=\"evenodd\" fill-opacity=\"1\" /><path clip-path=\"url(#clip420)\" d=\"M 0 0 M1268.89 17.6457 Q1259.98 17.6457 1254.71 24.2892 Q1249.49 30.9327 1249.49 42.3968 Q1249.49 53.8203 1254.71 60.4638 Q1259.98 67.1073 1268.89 67.1073 Q1277.8 67.1073 1282.99 60.4638 Q1288.22 53.8203 1288.22 42.3968 Q1288.22 30.9327 1282.99 24.2892 Q1277.8 17.6457 1268.89 17.6457 M1268.89 11.0023 Q1281.61 11.0023 1289.23 19.5497 Q1296.84 28.0566 1296.84 42.3968 Q1296.84 56.6965 1289.23 65.2439 Q1281.61 73.7508 1268.89 73.7508 Q1256.13 73.7508 1248.48 65.2439 Q1240.86 56.737 1240.86 42.3968 Q1240.86 28.0566 1248.48 19.5497 Q1256.13 11.0023 1268.89 11.0023 Z\" fill=\"#000000\" fill-rule=\"evenodd\" fill-opacity=\"1\" /><path clip-path=\"url(#clip420)\" d=\"M 0 0 M1319.12 72.576 L1296.03 12.096 L1304.58 12.096 L1323.74 63.0159 L1342.94 12.096 L1351.45 12.096 L1328.4 72.576 L1319.12 72.576 Z\" fill=\"#000000\" fill-rule=\"evenodd\" fill-opacity=\"1\" /><path clip-path=\"url(#clip420)\" d=\"M 0 0 M1359.59 12.096 L1367.77 12.096 L1367.77 72.576 L1359.59 72.576 L1359.59 12.096 Z\" fill=\"#000000\" fill-rule=\"evenodd\" fill-opacity=\"1\" /><path clip-path=\"url(#clip420)\" d=\"M 0 0 M1384.1 18.8205 L1384.1 65.8515 L1393.98 65.8515 Q1406.5 65.8515 1412.29 60.1802 Q1418.13 54.509 1418.13 42.2752 Q1418.13 30.1225 1412.29 24.4918 Q1406.5 18.8205 1393.98 18.8205 L1384.1 18.8205 M1375.92 12.096 L1392.73 12.096 Q1410.31 12.096 1418.53 19.4281 Q1426.76 26.7198 1426.76 42.2752 Q1426.76 57.9117 1418.49 65.2439 Q1410.23 72.576 1392.73 72.576 L1375.92 72.576 L1375.92 12.096 Z\" fill=\"#000000\" fill-rule=\"evenodd\" fill-opacity=\"1\" /><path clip-path=\"url(#clip420)\" d=\"M 0 0 M1430.81 46.5287 L1452.64 46.5287 L1452.64 53.1722 L1430.81 53.1722 L1430.81 46.5287 Z\" fill=\"#000000\" fill-rule=\"evenodd\" fill-opacity=\"1\" /><path clip-path=\"url(#clip420)\" d=\"M 0 0 M1462.93 65.6895 L1476.3 65.6895 L1476.3 19.5497 L1461.76 22.4663 L1461.76 15.0127 L1476.22 12.096 L1484.4 12.096 L1484.4 65.6895 L1497.77 65.6895 L1497.77 72.576 L1462.93 72.576 L1462.93 65.6895 Z\" fill=\"#000000\" fill-rule=\"evenodd\" fill-opacity=\"1\" /><path clip-path=\"url(#clip420)\" d=\"M 0 0 M1506.88 71.3202 L1506.88 63.8666 Q1509.96 65.3249 1513.12 66.0946 Q1516.28 66.8642 1519.32 66.8642 Q1527.42 66.8642 1531.67 61.436 Q1535.97 55.9673 1536.58 44.8678 Q1534.23 48.3516 1530.62 50.215 Q1527.02 52.0784 1522.64 52.0784 Q1513.57 52.0784 1508.26 46.6097 Q1502.99 41.1005 1502.99 31.5808 Q1502.99 22.2638 1508.5 16.633 Q1514.01 11.0023 1523.17 11.0023 Q1533.66 11.0023 1539.17 19.0636 Q1544.72 27.0843 1544.72 42.3968 Q1544.72 56.6965 1537.91 65.2439 Q1531.15 73.7508 1519.68 73.7508 Q1516.6 73.7508 1513.45 73.1431 Q1510.29 72.5355 1506.88 71.3202 M1523.17 45.678 Q1528.68 45.678 1531.88 41.9107 Q1535.12 38.1433 1535.12 31.5808 Q1535.12 25.0589 1531.88 21.2916 Q1528.68 17.4837 1523.17 17.4837 Q1517.66 17.4837 1514.42 21.2916 Q1511.22 25.0589 1511.22 31.5808 Q1511.22 38.1433 1514.42 41.9107 Q1517.66 45.678 1523.17 45.678 Z\" fill=\"#000000\" fill-rule=\"evenodd\" fill-opacity=\"1\" /><path clip-path=\"url(#clip420)\" d=\"M 0 0 M1611.56 28.9478 L1611.56 35.9153 Q1608.4 34.1734 1605.2 33.3227 Q1602.04 32.4315 1598.8 32.4315 Q1591.55 32.4315 1587.54 37.0496 Q1583.53 41.6271 1583.53 49.9314 Q1583.53 58.2358 1587.54 62.8538 Q1591.55 67.4314 1598.8 67.4314 Q1602.04 67.4314 1605.2 66.5807 Q1608.4 65.6895 1611.56 63.9476 L1611.56 70.8341 Q1608.44 72.2924 1605.08 73.0216 Q1601.75 73.7508 1597.99 73.7508 Q1587.74 73.7508 1581.7 67.3098 Q1575.67 60.8689 1575.67 49.9314 Q1575.67 38.832 1581.74 32.472 Q1587.86 26.1121 1598.47 26.1121 Q1601.92 26.1121 1605.2 26.8413 Q1608.48 27.5299 1611.56 28.9478 Z\" fill=\"#000000\" fill-rule=\"evenodd\" fill-opacity=\"1\" /><path clip-path=\"url(#clip420)\" d=\"M 0 0 M1640 49.7694 Q1630.96 49.7694 1627.48 51.8354 Q1623.99 53.9013 1623.99 58.8839 Q1623.99 62.8538 1626.59 65.2034 Q1629.22 67.5124 1633.72 67.5124 Q1639.91 67.5124 1643.64 63.1374 Q1647.41 58.7219 1647.41 51.4303 L1647.41 49.7694 L1640 49.7694 M1654.86 46.6907 L1654.86 72.576 L1647.41 72.576 L1647.41 65.6895 Q1644.86 69.8214 1641.05 71.8063 Q1637.24 73.7508 1631.73 73.7508 Q1624.76 73.7508 1620.63 69.8619 Q1616.54 65.9325 1616.54 59.3701 Q1616.54 51.7138 1621.64 47.825 Q1626.79 43.9361 1636.96 43.9361 L1647.41 43.9361 L1647.41 43.2069 Q1647.41 38.0623 1644.01 35.2672 Q1640.64 32.4315 1634.53 32.4315 Q1630.64 32.4315 1626.95 33.3632 Q1623.27 34.295 1619.86 36.1584 L1619.86 29.2718 Q1623.95 27.692 1627.8 26.9223 Q1631.65 26.1121 1635.3 26.1121 Q1645.14 26.1121 1650 31.2163 Q1654.86 36.3204 1654.86 46.6907 Z\" fill=\"#000000\" fill-rule=\"evenodd\" fill-opacity=\"1\" /><path clip-path=\"url(#clip420)\" d=\"M 0 0 M1691.6 28.5427 L1691.6 35.5912 Q1688.44 33.9709 1685.04 33.1607 Q1681.64 32.3505 1677.99 32.3505 Q1672.44 32.3505 1669.65 34.0519 Q1666.89 35.7533 1666.89 39.156 Q1666.89 41.7486 1668.88 43.2475 Q1670.86 44.7058 1676.86 46.0426 L1679.41 46.6097 Q1687.35 48.3111 1690.67 51.4303 Q1694.03 54.509 1694.03 60.0587 Q1694.03 66.3781 1689.01 70.0644 Q1684.03 73.7508 1675.28 73.7508 Q1671.63 73.7508 1667.66 73.0216 Q1663.73 72.3329 1659.36 70.9151 L1659.36 63.2184 Q1663.49 65.3654 1667.5 66.4591 Q1671.51 67.5124 1675.44 67.5124 Q1680.71 67.5124 1683.54 65.73 Q1686.38 63.9071 1686.38 60.6258 Q1686.38 57.5877 1684.31 55.9673 Q1682.29 54.3469 1675.36 52.8481 L1672.77 52.2405 Q1665.84 50.7821 1662.76 47.7845 Q1659.68 44.7463 1659.68 39.4801 Q1659.68 33.0797 1664.22 29.5959 Q1668.76 26.1121 1677.1 26.1121 Q1681.23 26.1121 1684.88 26.7198 Q1688.53 27.3274 1691.6 28.5427 Z\" fill=\"#000000\" fill-rule=\"evenodd\" fill-opacity=\"1\" /><path clip-path=\"url(#clip420)\" d=\"M 0 0 M1740.66 48.0275 L1740.66 51.6733 L1706.39 51.6733 Q1706.88 59.3701 1711.01 63.421 Q1715.18 67.4314 1722.59 67.4314 Q1726.89 67.4314 1730.9 66.3781 Q1734.95 65.3249 1738.92 63.2184 L1738.92 70.267 Q1734.91 71.9684 1730.7 72.8596 Q1726.48 73.7508 1722.15 73.7508 Q1711.29 73.7508 1704.93 67.4314 Q1698.61 61.1119 1698.61 50.3365 Q1698.61 39.1965 1704.61 32.6746 Q1710.64 26.1121 1720.85 26.1121 Q1730.01 26.1121 1735.31 32.0264 Q1740.66 37.9003 1740.66 48.0275 M1733.21 45.84 Q1733.13 39.7232 1729.76 36.0774 Q1726.44 32.4315 1720.93 32.4315 Q1714.69 32.4315 1710.93 35.9558 Q1707.2 39.4801 1706.63 45.8805 L1733.21 45.84 Z\" fill=\"#000000\" fill-rule=\"evenodd\" fill-opacity=\"1\" /><path clip-path=\"url(#clip420)\" d=\"M 0 0 M1777.4 28.5427 L1777.4 35.5912 Q1774.24 33.9709 1770.84 33.1607 Q1767.44 32.3505 1763.79 32.3505 Q1758.24 32.3505 1755.45 34.0519 Q1752.69 35.7533 1752.69 39.156 Q1752.69 41.7486 1754.68 43.2475 Q1756.66 44.7058 1762.66 46.0426 L1765.21 46.6097 Q1773.15 48.3111 1776.47 51.4303 Q1779.83 54.509 1779.83 60.0587 Q1779.83 66.3781 1774.81 70.0644 Q1769.83 73.7508 1761.08 73.7508 Q1757.43 73.7508 1753.46 73.0216 Q1749.53 72.3329 1745.16 70.9151 L1745.16 63.2184 Q1749.29 65.3654 1753.3 66.4591 Q1757.31 67.5124 1761.24 67.5124 Q1766.51 67.5124 1769.34 65.73 Q1772.18 63.9071 1772.18 60.6258 Q1772.18 57.5877 1770.11 55.9673 Q1768.09 54.3469 1761.16 52.8481 L1758.57 52.2405 Q1751.64 50.7821 1748.56 47.7845 Q1745.48 44.7463 1745.48 39.4801 Q1745.48 33.0797 1750.02 29.5959 Q1754.56 26.1121 1762.9 26.1121 Q1767.03 26.1121 1770.68 26.7198 Q1774.32 27.3274 1777.4 28.5427 Z\" fill=\"#000000\" fill-rule=\"evenodd\" fill-opacity=\"1\" /><path clip-path=\"url(#clip420)\" d=\"M 0 0 M1241.53 1525.81 L1241.53 1506.52 L1247.39 1506.52 L1247.39 1556.04 L1241.53 1556.04 L1241.53 1550.7 Q1239.69 1553.88 1236.86 1555.44 Q1234.05 1556.97 1230.11 1556.97 Q1223.65 1556.97 1219.57 1551.81 Q1215.53 1546.65 1215.53 1538.25 Q1215.53 1529.85 1219.57 1524.69 Q1223.65 1519.54 1230.11 1519.54 Q1234.05 1519.54 1236.86 1521.1 Q1239.69 1522.62 1241.53 1525.81 M1221.58 1538.25 Q1221.58 1544.71 1224.22 1548.4 Q1226.89 1552.07 1231.54 1552.07 Q1236.19 1552.07 1238.86 1548.4 Q1241.53 1544.71 1241.53 1538.25 Q1241.53 1531.79 1238.86 1528.13 Q1236.19 1524.44 1231.54 1524.44 Q1226.89 1524.44 1224.22 1528.13 Q1221.58 1531.79 1221.58 1538.25 Z\" fill=\"#000000\" fill-rule=\"evenodd\" fill-opacity=\"1\" /><path clip-path=\"url(#clip420)\" d=\"M 0 0 M1269.73 1538.12 Q1262.64 1538.12 1259.9 1539.75 Q1257.16 1541.37 1257.16 1545.29 Q1257.16 1548.4 1259.2 1550.25 Q1261.27 1552.07 1264.8 1552.07 Q1269.67 1552.07 1272.6 1548.63 Q1275.56 1545.16 1275.56 1539.43 L1275.56 1538.12 L1269.73 1538.12 M1281.42 1535.71 L1281.42 1556.04 L1275.56 1556.04 L1275.56 1550.63 Q1273.55 1553.88 1270.56 1555.44 Q1267.57 1556.97 1263.24 1556.97 Q1257.77 1556.97 1254.52 1553.91 Q1251.31 1550.82 1251.31 1545.67 Q1251.31 1539.65 1255.32 1536.6 Q1259.36 1533.54 1267.35 1533.54 L1275.56 1533.54 L1275.56 1532.97 Q1275.56 1528.93 1272.89 1526.73 Q1270.24 1524.5 1265.44 1524.5 Q1262.38 1524.5 1259.49 1525.23 Q1256.59 1525.97 1253.92 1527.43 L1253.92 1522.02 Q1257.13 1520.78 1260.15 1520.17 Q1263.18 1519.54 1266.04 1519.54 Q1273.78 1519.54 1277.6 1523.55 Q1281.42 1527.56 1281.42 1535.71 Z\" fill=\"#000000\" fill-rule=\"evenodd\" fill-opacity=\"1\" /><path clip-path=\"url(#clip420)\" d=\"M 0 0 M1302.39 1559.35 Q1299.91 1565.72 1297.55 1567.66 Q1295.2 1569.6 1291.25 1569.6 L1286.57 1569.6 L1286.57 1564.7 L1290.01 1564.7 Q1292.43 1564.7 1293.76 1563.56 Q1295.1 1562.41 1296.72 1558.14 L1297.78 1555.47 L1283.36 1520.4 L1289.56 1520.4 L1300.7 1548.28 L1311.84 1520.4 L1318.05 1520.4 L1302.39 1559.35 Z\" fill=\"#000000\" fill-rule=\"evenodd\" fill-opacity=\"1\" /><path clip-path=\"url(#clip420)\" d=\"M 0 0 M1346.92 1521.45 L1346.92 1526.98 Q1344.44 1525.71 1341.76 1525.07 Q1339.09 1524.44 1336.22 1524.44 Q1331.86 1524.44 1329.67 1525.77 Q1327.5 1527.11 1327.5 1529.79 Q1327.5 1531.82 1329.06 1533 Q1330.62 1534.15 1335.33 1535.2 L1337.34 1535.64 Q1343.58 1536.98 1346.19 1539.43 Q1348.83 1541.85 1348.83 1546.21 Q1348.83 1551.17 1344.88 1554.07 Q1340.97 1556.97 1334.09 1556.97 Q1331.23 1556.97 1328.11 1556.39 Q1325.02 1555.85 1321.58 1554.74 L1321.58 1548.69 Q1324.83 1550.38 1327.98 1551.24 Q1331.13 1552.07 1334.22 1552.07 Q1338.36 1552.07 1340.58 1550.66 Q1342.81 1549.23 1342.81 1546.65 Q1342.81 1544.27 1341.19 1542.99 Q1339.6 1541.72 1334.16 1540.54 L1332.12 1540.07 Q1326.68 1538.92 1324.26 1536.56 Q1321.84 1534.18 1321.84 1530.04 Q1321.84 1525.01 1325.4 1522.27 Q1328.97 1519.54 1335.52 1519.54 Q1338.77 1519.54 1341.63 1520.01 Q1344.5 1520.49 1346.92 1521.45 Z\" fill=\"#000000\" fill-rule=\"evenodd\" fill-opacity=\"1\" /><path clip-path=\"url(#clip420)\" d=\"M 0 0 M53.7248 947.539 L59.1993 947.539 Q57.8307 950.022 57.1623 952.537 Q56.4621 955.019 56.4621 957.565 Q56.4621 963.263 60.0905 966.414 Q63.6872 969.565 70.212 969.565 Q76.7369 969.565 80.3653 966.414 Q83.9619 963.263 83.9619 957.565 Q83.9619 955.019 83.2935 952.537 Q82.5933 950.022 81.2247 947.539 L86.6355 947.539 Q87.7814 949.99 88.3543 952.632 Q88.9272 955.242 88.9272 958.202 Q88.9272 966.255 83.8664 970.997 Q78.8057 975.74 70.212 975.74 Q61.491 975.74 56.4939 970.965 Q51.4968 966.159 51.4968 957.82 Q51.4968 955.115 52.0697 952.537 Q52.6108 949.958 53.7248 947.539 Z\" fill=\"#000000\" fill-rule=\"evenodd\" fill-opacity=\"1\" /><path clip-path=\"url(#clip420)\" d=\"M 0 0 M56.4621 927.583 Q56.4621 932.294 60.1542 935.031 Q63.8145 937.768 70.212 937.768 Q76.6095 937.768 80.3017 935.063 Q83.9619 932.325 83.9619 927.583 Q83.9619 922.904 80.2698 920.167 Q76.5777 917.43 70.212 917.43 Q63.8781 917.43 60.186 920.167 Q56.4621 922.904 56.4621 927.583 M51.4968 927.583 Q51.4968 919.944 56.4621 915.584 Q61.4273 911.223 70.212 911.223 Q78.9649 911.223 83.9619 915.584 Q88.9272 919.944 88.9272 927.583 Q88.9272 935.254 83.9619 939.614 Q78.9649 943.943 70.212 943.943 Q61.4273 943.943 56.4621 939.614 Q51.4968 935.254 51.4968 927.583 Z\" fill=\"#000000\" fill-rule=\"evenodd\" fill-opacity=\"1\" /><path clip-path=\"url(#clip420)\" d=\"M 0 0 M66.4881 875.448 L88.0042 875.448 L88.0042 881.304 L66.679 881.304 Q61.6183 881.304 59.1038 883.278 Q56.5894 885.251 56.5894 889.198 Q56.5894 893.94 59.6131 896.677 Q62.6368 899.415 67.8567 899.415 L88.0042 899.415 L88.0042 905.303 L52.3562 905.303 L52.3562 899.415 L57.8944 899.415 Q54.6797 897.314 53.0883 894.481 Q51.4968 891.617 51.4968 887.893 Q51.4968 881.75 55.3163 878.599 Q59.1038 875.448 66.4881 875.448 Z\" fill=\"#000000\" fill-rule=\"evenodd\" fill-opacity=\"1\" /><path clip-path=\"url(#clip420)\" d=\"M 0 0 M38.479 851.258 L43.3487 851.258 L43.3487 856.86 Q43.3487 860.011 44.6219 861.252 Q45.895 862.462 49.2052 862.462 L52.3562 862.462 L52.3562 852.818 L56.9077 852.818 L56.9077 862.462 L88.0042 862.462 L88.0042 868.35 L56.9077 868.35 L56.9077 873.952 L52.3562 873.952 L52.3562 868.35 L49.8736 868.35 Q43.9216 868.35 41.2162 865.581 Q38.479 862.812 38.479 856.796 L38.479 851.258 Z\" fill=\"#000000\" fill-rule=\"evenodd\" fill-opacity=\"1\" /><path clip-path=\"url(#clip420)\" d=\"M 0 0 M52.3562 845.115 L52.3562 839.259 L88.0042 839.259 L88.0042 845.115 L52.3562 845.115 M38.479 845.115 L38.479 839.259 L45.895 839.259 L45.895 845.115 L38.479 845.115 Z\" fill=\"#000000\" fill-rule=\"evenodd\" fill-opacity=\"1\" /><path clip-path=\"url(#clip420)\" d=\"M 0 0 M57.8307 812.459 Q57.2578 813.446 57.0032 814.624 Q56.7167 815.769 56.7167 817.17 Q56.7167 822.135 59.9632 824.809 Q63.1779 827.45 69.2253 827.45 L88.0042 827.45 L88.0042 833.339 L52.3562 833.339 L52.3562 827.45 L57.8944 827.45 Q54.6479 825.604 53.0883 822.644 Q51.4968 819.684 51.4968 815.451 Q51.4968 814.846 51.5923 814.114 Q51.656 813.382 51.8151 812.491 L57.8307 812.459 Z\" fill=\"#000000\" fill-rule=\"evenodd\" fill-opacity=\"1\" /><path clip-path=\"url(#clip420)\" d=\"M 0 0 M59.1993 779.708 Q55.2526 777.511 53.3747 774.456 Q51.4968 771.4 51.4968 767.263 Q51.4968 761.693 55.4117 758.669 Q59.2948 755.645 66.4881 755.645 L88.0042 755.645 L88.0042 761.534 L66.679 761.534 Q61.5546 761.534 59.072 763.348 Q56.5894 765.162 56.5894 768.886 Q56.5894 773.437 59.6131 776.079 Q62.6368 778.721 67.8567 778.721 L88.0042 778.721 L88.0042 784.609 L66.679 784.609 Q61.5228 784.609 59.072 786.423 Q56.5894 788.238 56.5894 792.025 Q56.5894 796.513 59.6449 799.155 Q62.6686 801.797 67.8567 801.797 L88.0042 801.797 L88.0042 807.685 L52.3562 807.685 L52.3562 801.797 L57.8944 801.797 Q54.616 799.791 53.0564 796.99 Q51.4968 794.19 51.4968 790.338 Q51.4968 786.455 53.4702 783.75 Q55.4436 781.013 59.1993 779.708 Z\" fill=\"#000000\" fill-rule=\"evenodd\" fill-opacity=\"1\" /><path clip-path=\"url(#clip420)\" d=\"M 0 0 M53.7248 703.128 L59.1993 703.128 Q57.8307 705.611 57.1623 708.125 Q56.4621 710.608 56.4621 713.154 Q56.4621 718.851 60.0905 722.002 Q63.6872 725.153 70.212 725.153 Q76.7369 725.153 80.3653 722.002 Q83.9619 718.851 83.9619 713.154 Q83.9619 710.608 83.2935 708.125 Q82.5933 705.611 81.2247 703.128 L86.6355 703.128 Q87.7814 705.579 88.3543 708.221 Q88.9272 710.831 88.9272 713.791 Q88.9272 721.843 83.8664 726.586 Q78.8057 731.328 70.212 731.328 Q61.491 731.328 56.4939 726.554 Q51.4968 721.748 51.4968 713.409 Q51.4968 710.703 52.0697 708.125 Q52.6108 705.547 53.7248 703.128 Z\" fill=\"#000000\" fill-rule=\"evenodd\" fill-opacity=\"1\" /><path clip-path=\"url(#clip420)\" d=\"M 0 0 M70.0847 680.785 Q70.0847 687.882 71.7079 690.62 Q73.3312 693.357 77.2461 693.357 Q80.3653 693.357 82.2114 691.32 Q84.0256 689.251 84.0256 685.718 Q84.0256 680.848 80.5881 677.92 Q77.1188 674.96 71.3897 674.96 L70.0847 674.96 L70.0847 680.785 M67.6657 669.103 L88.0042 669.103 L88.0042 674.96 L82.5933 674.96 Q85.8398 676.965 87.3994 679.957 Q88.9272 682.949 88.9272 687.278 Q88.9272 692.752 85.8716 695.999 Q82.7843 699.213 77.6281 699.213 Q71.6125 699.213 68.5569 695.203 Q65.5014 691.161 65.5014 683.172 L65.5014 674.96 L64.9285 674.96 Q60.8862 674.96 58.6901 677.633 Q56.4621 680.275 56.4621 685.081 Q56.4621 688.137 57.1941 691.033 Q57.9262 693.93 59.3903 696.603 L53.9795 696.603 Q52.7381 693.389 52.1334 690.365 Q51.4968 687.341 51.4968 684.477 Q51.4968 676.742 55.5072 672.923 Q59.5176 669.103 67.6657 669.103 Z\" fill=\"#000000\" fill-rule=\"evenodd\" fill-opacity=\"1\" /><path clip-path=\"url(#clip420)\" d=\"M 0 0 M53.4065 640.235 L58.9447 640.235 Q57.6716 642.718 57.035 645.391 Q56.3984 648.065 56.3984 650.929 Q56.3984 655.29 57.7352 657.486 Q59.072 659.65 61.7456 659.65 Q63.7826 659.65 64.9603 658.091 Q66.1061 656.531 67.1565 651.821 L67.6021 649.815 Q68.9389 643.577 71.3897 640.967 Q73.8086 638.325 78.1691 638.325 Q83.1344 638.325 86.0308 642.272 Q88.9272 646.187 88.9272 653.062 Q88.9272 655.926 88.3543 659.046 Q87.8132 662.133 86.6992 665.57 L80.6518 665.57 Q82.3387 662.324 83.198 659.173 Q84.0256 656.022 84.0256 652.935 Q84.0256 648.797 82.6251 646.569 Q81.1929 644.341 78.6147 644.341 Q76.2276 644.341 74.9545 645.964 Q73.6813 647.556 72.5037 652.998 L72.0262 655.035 Q70.8804 660.478 68.5251 662.897 Q66.138 665.316 62.0002 665.316 Q56.9713 665.316 54.2341 661.751 Q51.4968 658.186 51.4968 651.63 Q51.4968 648.383 51.9743 645.519 Q52.4517 642.654 53.4065 640.235 Z\" fill=\"#000000\" fill-rule=\"evenodd\" fill-opacity=\"1\" /><path clip-path=\"url(#clip420)\" d=\"M 0 0 M68.7161 601.691 L71.5806 601.691 L71.5806 628.618 Q77.6281 628.236 80.8109 624.989 Q83.9619 621.711 83.9619 615.886 Q83.9619 612.512 83.1344 609.361 Q82.3069 606.178 80.6518 603.059 L86.1899 603.059 Q87.5267 606.21 88.227 609.52 Q88.9272 612.831 88.9272 616.236 Q88.9272 624.766 83.9619 629.763 Q78.9967 634.729 70.5303 634.729 Q61.7774 634.729 56.6531 630.018 Q51.4968 625.276 51.4968 617.255 Q51.4968 610.062 56.1438 605.892 Q60.7589 601.691 68.7161 601.691 M66.9973 607.547 Q62.1912 607.611 59.3266 610.252 Q56.4621 612.862 56.4621 617.191 Q56.4621 622.093 59.2312 625.053 Q62.0002 627.981 67.0292 628.427 L66.9973 607.547 Z\" fill=\"#000000\" fill-rule=\"evenodd\" fill-opacity=\"1\" /><path clip-path=\"url(#clip420)\" d=\"M 0 0 M53.4065 572.822 L58.9447 572.822 Q57.6716 575.305 57.035 577.978 Q56.3984 580.652 56.3984 583.517 Q56.3984 587.877 57.7352 590.073 Q59.072 592.238 61.7456 592.238 Q63.7826 592.238 64.9603 590.678 Q66.1061 589.118 67.1565 584.408 L67.6021 582.403 Q68.9389 576.164 71.3897 573.554 Q73.8086 570.912 78.1691 570.912 Q83.1344 570.912 86.0308 574.859 Q88.9272 578.774 88.9272 585.649 Q88.9272 588.514 88.3543 591.633 Q87.8132 594.72 86.6992 598.158 L80.6518 598.158 Q82.3387 594.911 83.198 591.76 Q84.0256 588.609 84.0256 585.522 Q84.0256 581.384 82.6251 579.156 Q81.1929 576.928 78.6147 576.928 Q76.2276 576.928 74.9545 578.551 Q73.6813 580.143 72.5037 585.585 L72.0262 587.622 Q70.8804 593.065 68.5251 595.484 Q66.138 597.903 62.0002 597.903 Q56.9713 597.903 54.2341 594.338 Q51.4968 590.773 51.4968 584.217 Q51.4968 580.97 51.9743 578.106 Q52.4517 575.241 53.4065 572.822 Z\" fill=\"#000000\" fill-rule=\"evenodd\" fill-opacity=\"1\" /></svg>\n"
      ]
     },
     "execution_count": 262,
     "metadata": {},
     "output_type": "execute_result"
    }
   ],
   "source": [
    "p = plot(xlims=(0, num_days));\n",
    "xlabel!(\"days\")\n",
    "ylabel!(\"confirm cases\")\n",
    "title!(\"confirmed COVID-19 cases\")"
   ]
  },
  {
   "cell_type": "code",
   "execution_count": 301,
   "metadata": {},
   "outputs": [
    {
     "data": {
      "text/plain": [
       "7-element Array{Array{Float64,1},1}:\n",
       " [NaN, NaN, NaN, NaN, NaN, 1.0, 4.0, 4.0, 4.0, 5.0  …  183410.0, 183594.0, 183879.0, 184121.0, 184472.0, 184924.0, 185450.0, 185750.0, 186109.0, 186506.0]\n",
       " [NaN, NaN, NaN, NaN, NaN, NaN, NaN, NaN, NaN, 2.0  …  276156.0, 277736.0, 279392.0, 281270.0, 283079.0, 284734.0, 286294.0, 287621.0, 288834.0, 290581.0]\n",
       " [548.0, 643.0, 920.0, 1406.0, 2075.0, 2877.0, 5509.0, 6087.0, 8141.0, 9802.0  …  84146.0, 84154.0, 84161.0, 84160.0, 84171.0, 84177.0, 84186.0, 84191.0, 84195.0, 84198.0]\n",
       " [1.0, 1.0, 2.0, 2.0, 3.0, 4.0, 4.0, 4.0, 4.0, 11.0  …  11503.0, 11541.0, 11590.0, 11629.0, 11668.0, 11719.0, 11776.0, 11814.0, 11852.0, 11902.0]\n",
       " [2.0, 2.0, 2.0, 2.0, 4.0, 4.0, 7.0, 7.0, 11.0, 15.0  …  16751.0, 16787.0, 16837.0, 16867.0, 16911.0, 16958.0, 17000.0, 17039.0, 17060.0, 17111.0]\n",
       " [NaN, NaN, 2.0, 3.0, 3.0, 3.0, 4.0, 5.0, 5.0, 5.0  …  189009.0, 189348.0, 188450.0, 192330.0, 189569.0, 190180.0, 190759.0, 191102.0, 191313.0, 191523.0]\n",
       " [1.0, 1.0, 2.0, 2.0, 5.0, 5.0, 5.0, 5.0, 5.0, 7.0  …  1.790172e6, 1.81102e6, 1.831821e6, 1.85152e6, 1.87266e6, 1.902632e6, 1.925765e6, 1.943882e6, 1.961428e6, 1.97323e6]"
      ]
     },
     "execution_count": 301,
     "metadata": {},
     "output_type": "execute_result"
    }
   ],
   "source": [
    "replace!.(values(countries_case_count), 0 => NaN)"
   ]
  },
  {
   "cell_type": "code",
   "execution_count": 302,
   "metadata": {},
   "outputs": [
    {
     "data": {
      "text/plain": [
       "Base.ValueIterator for a Dict{String,Array{Float64,1}} with 7 entries. Values:\n",
       "  [NaN, NaN, NaN, NaN, NaN, 1.0, 4.0, 4.0, 4.0, 5.0  …  183410.0, 183594.0, 183…\n",
       "  [NaN, NaN, NaN, NaN, NaN, NaN, NaN, NaN, NaN, 2.0  …  276156.0, 277736.0, 279…\n",
       "  [548.0, 643.0, 920.0, 1406.0, 2075.0, 2877.0, 5509.0, 6087.0, 8141.0, 9802.0 …\n",
       "  [1.0, 1.0, 2.0, 2.0, 3.0, 4.0, 4.0, 4.0, 4.0, 11.0  …  11503.0, 11541.0, 1159…\n",
       "  [2.0, 2.0, 2.0, 2.0, 4.0, 4.0, 7.0, 7.0, 11.0, 15.0  …  16751.0, 16787.0, 168…\n",
       "  [NaN, NaN, 2.0, 3.0, 3.0, 3.0, 4.0, 5.0, 5.0, 5.0  …  189009.0, 189348.0, 188…\n",
       "  [1.0, 1.0, 2.0, 2.0, 5.0, 5.0, 5.0, 5.0, 5.0, 7.0  …  1.790172e6, 1.81102e6, …"
      ]
     },
     "execution_count": 302,
     "metadata": {},
     "output_type": "execute_result"
    }
   ],
   "source": [
    "values(countries_case_count)"
   ]
  },
  {
   "cell_type": "code",
   "execution_count": 304,
   "metadata": {},
   "outputs": [
    {
     "data": {
      "application/vnd.webio.node+json": {
       "children": [
        {
         "children": [
          {
           "children": [
            {
             "children": [
              {
               "children": [
                {
                 "children": [
                  "i"
                 ],
                 "instanceArgs": {
                  "namespace": "html",
                  "tag": "label"
                 },
                 "nodeType": "DOM",
                 "props": {
                  "className": "interact ",
                  "style": {
                   "padding": "5px 10px 0px 10px"
                  }
                 },
                 "type": "node"
                }
               ],
               "instanceArgs": {
                "namespace": "html",
                "tag": "div"
               },
               "nodeType": "DOM",
               "props": {
                "className": "interact-flex-row-left"
               },
               "type": "node"
              },
              {
               "children": [
                {
                 "children": [],
                 "instanceArgs": {
                  "namespace": "html",
                  "tag": "input"
                 },
                 "nodeType": "DOM",
                 "props": {
                  "attributes": {
                   "data-bind": "numericValue: index, valueUpdate: 'input', event: {change: function (){this.changes(this.changes()+1)}}",
                   "orient": "horizontal",
                   "type": "range"
                  },
                  "className": "slider slider is-fullwidth",
                  "max": 140,
                  "min": 1,
                  "step": 1,
                  "style": {}
                 },
                 "type": "node"
                }
               ],
               "instanceArgs": {
                "namespace": "html",
                "tag": "div"
               },
               "nodeType": "DOM",
               "props": {
                "className": "interact-flex-row-center"
               },
               "type": "node"
              },
              {
               "children": [
                {
                 "children": [],
                 "instanceArgs": {
                  "namespace": "html",
                  "tag": "p"
                 },
                 "nodeType": "DOM",
                 "props": {
                  "attributes": {
                   "data-bind": "text: formatted_val"
                  }
                 },
                 "type": "node"
                }
               ],
               "instanceArgs": {
                "namespace": "html",
                "tag": "div"
               },
               "nodeType": "DOM",
               "props": {
                "className": "interact-flex-row-right"
               },
               "type": "node"
              }
             ],
             "instanceArgs": {
              "namespace": "html",
              "tag": "div"
             },
             "nodeType": "DOM",
             "props": {
              "className": "interact-flex-row interact-widget"
             },
             "type": "node"
            }
           ],
           "instanceArgs": {
            "handlers": {
             "changes": [
              "(function (val){return (val!=this.model[\"changes\"]()) ? (this.valueFromJulia[\"changes\"]=true, this.model[\"changes\"](val)) : undefined})"
             ],
             "index": [
              "(function (val){return (val!=this.model[\"index\"]()) ? (this.valueFromJulia[\"index\"]=true, this.model[\"index\"](val)) : undefined})"
             ]
            },
            "id": "5670719907083174453",
            "imports": {
             "data": [
              {
               "name": "knockout",
               "type": "js",
               "url": "/assetserver/2157388af3d6d86568eafc09a309e401c236faee-knockout.js"
              },
              {
               "name": "knockout_punches",
               "type": "js",
               "url": "/assetserver/b00210f913135d4addde28134ceecd2d9193c6e7-knockout_punches.js"
              },
              {
               "name": null,
               "type": "js",
               "url": "/assetserver/12c840a31458668260c09bf28698f40409d4e067-all.js"
              },
              {
               "name": null,
               "type": "css",
               "url": "/assetserver/6bd76268e6b605d1b5319ae30426172ea6079d91-style.css"
              },
              {
               "name": null,
               "type": "css",
               "url": "/assetserver/7e8ea1878bedc7a77aea469b5faf43596cabefa6-bulma_confined.min.css"
              }
             ],
             "type": "async_block"
            },
            "mount_callbacks": [
             "function () {\n    var handler = (function (ko, koPunches) {\n    ko.punches.enableAll();\n    ko.bindingHandlers.numericValue = {\n        init: function(element, valueAccessor, allBindings, data, context) {\n            var stringified = ko.observable(ko.unwrap(valueAccessor()));\n            stringified.subscribe(function(value) {\n                var val = parseFloat(value);\n                if (!isNaN(val)) {\n                    valueAccessor()(val);\n                }\n            });\n            valueAccessor().subscribe(function(value) {\n                var str = JSON.stringify(value);\n                if ((str == \"0\") && ([\"-0\", \"-0.\"].indexOf(stringified()) >= 0))\n                     return;\n                 if ([\"null\", \"\"].indexOf(str) >= 0)\n                     return;\n                stringified(str);\n            });\n            ko.applyBindingsToNode(\n                element,\n                {\n                    value: stringified,\n                    valueUpdate: allBindings.get('valueUpdate'),\n                },\n                context,\n            );\n        }\n    };\n    var json_data = {\"formatted_vals\":[\"1\",\"2\",\"3\",\"4\",\"5\",\"6\",\"7\",\"8\",\"9\",\"10\",\"11\",\"12\",\"13\",\"14\",\"15\",\"16\",\"17\",\"18\",\"19\",\"20\",\"21\",\"22\",\"23\",\"24\",\"25\",\"26\",\"27\",\"28\",\"29\",\"30\",\"31\",\"32\",\"33\",\"34\",\"35\",\"36\",\"37\",\"38\",\"39\",\"40\",\"41\",\"42\",\"43\",\"44\",\"45\",\"46\",\"47\",\"48\",\"49\",\"50\",\"51\",\"52\",\"53\",\"54\",\"55\",\"56\",\"57\",\"58\",\"59\",\"60\",\"61\",\"62\",\"63\",\"64\",\"65\",\"66\",\"67\",\"68\",\"69\",\"70\",\"71\",\"72\",\"73\",\"74\",\"75\",\"76\",\"77\",\"78\",\"79\",\"80\",\"81\",\"82\",\"83\",\"84\",\"85\",\"86\",\"87\",\"88\",\"89\",\"90\",\"91\",\"92\",\"93\",\"94\",\"95\",\"96\",\"97\",\"98\",\"99\",\"100\",\"101\",\"102\",\"103\",\"104\",\"105\",\"106\",\"107\",\"108\",\"109\",\"110\",\"111\",\"112\",\"113\",\"114\",\"115\",\"116\",\"117\",\"118\",\"119\",\"120\",\"121\",\"122\",\"123\",\"124\",\"125\",\"126\",\"127\",\"128\",\"129\",\"130\",\"131\",\"132\",\"133\",\"134\",\"135\",\"136\",\"137\",\"138\",\"139\",\"140\"],\"changes\":WebIO.getval({\"name\":\"changes\",\"scope\":\"5670719907083174453\",\"id\":\"15835865741898499462\",\"type\":\"observable\"}),\"index\":WebIO.getval({\"name\":\"index\",\"scope\":\"5670719907083174453\",\"id\":\"839363559751596114\",\"type\":\"observable\"})};\n    var self = this;\n    function AppViewModel() {\n        for (var key in json_data) {\n            var el = json_data[key];\n            this[key] = Array.isArray(el) ? ko.observableArray(el) : ko.observable(el);\n        }\n        \n        [this[\"formatted_val\"]=ko.computed(    function(){\n        return this.formatted_vals()[parseInt(this.index())-(1)];\n    }\n,this)]\n        [this[\"changes\"].subscribe((function (val){!(this.valueFromJulia[\"changes\"]) ? (WebIO.setval({\"name\":\"changes\",\"scope\":\"5670719907083174453\",\"id\":\"15835865741898499462\",\"type\":\"observable\"},val)) : undefined; return this.valueFromJulia[\"changes\"]=false}),self),this[\"index\"].subscribe((function (val){!(this.valueFromJulia[\"index\"]) ? (WebIO.setval({\"name\":\"index\",\"scope\":\"5670719907083174453\",\"id\":\"839363559751596114\",\"type\":\"observable\"},val)) : undefined; return this.valueFromJulia[\"index\"]=false}),self)]\n        \n    }\n    self.model = new AppViewModel();\n    self.valueFromJulia = {};\n    for (var key in json_data) {\n        self.valueFromJulia[key] = false;\n    }\n    ko.applyBindings(self.model, self.dom);\n}\n);\n    (WebIO.importBlock({\"data\":[{\"name\":\"knockout\",\"type\":\"js\",\"url\":\"/assetserver/2157388af3d6d86568eafc09a309e401c236faee-knockout.js\"},{\"name\":\"knockout_punches\",\"type\":\"js\",\"url\":\"/assetserver/b00210f913135d4addde28134ceecd2d9193c6e7-knockout_punches.js\"}],\"type\":\"async_block\"})).then((imports) => handler.apply(this, imports));\n}\n"
            ],
            "observables": {
             "changes": {
              "id": "15835865741898499462",
              "sync": false,
              "value": 0
             },
             "index": {
              "id": "839363559751596114",
              "sync": true,
              "value": 70
             }
            },
            "systemjs_options": null
           },
           "nodeType": "Scope",
           "props": {},
           "type": "node"
          }
         ],
         "instanceArgs": {
          "namespace": "html",
          "tag": "div"
         },
         "nodeType": "DOM",
         "props": {
          "className": "field interact-widget"
         },
         "type": "node"
        },
        {
         "children": [
          {
           "children": [],
           "instanceArgs": {
            "id": "7822174442071913809",
            "name": "obs-node"
           },
           "nodeType": "ObservableNode",
           "props": {},
           "type": "node"
          }
         ],
         "instanceArgs": {
          "handlers": {},
          "id": "3787645431455832061",
          "imports": {
           "data": [],
           "type": "async_block"
          },
          "mount_callbacks": [],
          "observables": {
           "obs-node": {
            "id": "7822174442071913809",
            "sync": false,
            "value": {
             "children": [
              {
               "children": [],
               "instanceArgs": {
                "namespace": "html",
                "tag": "div"
               },
               "nodeType": "DOM",
               "props": {
                "setInnerHtml": "<?xml version=\"1.0\" encoding=\"utf-8\"?>\n<svg xmlns=\"http://www.w3.org/2000/svg\" xmlns:xlink=\"http://www.w3.org/1999/xlink\" width=\"600\" height=\"400\" viewBox=\"0 0 2400 1600\">\n<defs>\n  <clipPath id=\"clip300\">\n    <rect x=\"0\" y=\"0\" width=\"2400\" height=\"1600\"/>\n  </clipPath>\n</defs>\n<path clip-path=\"url(#clip300)\" d=\"\nM0 1600 L2400 1600 L2400 0 L0 0  Z\n  \" fill=\"#ffffff\" fill-rule=\"evenodd\" fill-opacity=\"1\"/>\n<defs>\n  <clipPath id=\"clip301\">\n    <rect x=\"480\" y=\"0\" width=\"1681\" height=\"1600\"/>\n  </clipPath>\n</defs>\n<path clip-path=\"url(#clip300)\" d=\"\nM260.051 1423.18 L2352.76 1423.18 L2352.76 123.472 L260.051 123.472  Z\n  \" fill=\"#ffffff\" fill-rule=\"evenodd\" fill-opacity=\"1\"/>\n<defs>\n  <clipPath id=\"clip302\">\n    <rect x=\"260\" y=\"123\" width=\"2094\" height=\"1301\"/>\n  </clipPath>\n</defs>\n<polyline clip-path=\"url(#clip302)\" style=\"stroke:#000000; stroke-width:2; stroke-opacity:0.1; fill:none\" points=\"\n  260.051,1423.18 260.051,123.472 \n  \"/>\n<polyline clip-path=\"url(#clip302)\" style=\"stroke:#000000; stroke-width:2; stroke-opacity:0.1; fill:none\" points=\"\n  559.009,1423.18 559.009,123.472 \n  \"/>\n<polyline clip-path=\"url(#clip302)\" style=\"stroke:#000000; stroke-width:2; stroke-opacity:0.1; fill:none\" points=\"\n  857.967,1423.18 857.967,123.472 \n  \"/>\n<polyline clip-path=\"url(#clip302)\" style=\"stroke:#000000; stroke-width:2; stroke-opacity:0.1; fill:none\" points=\"\n  1156.92,1423.18 1156.92,123.472 \n  \"/>\n<polyline clip-path=\"url(#clip302)\" style=\"stroke:#000000; stroke-width:2; stroke-opacity:0.1; fill:none\" points=\"\n  1455.88,1423.18 1455.88,123.472 \n  \"/>\n<polyline clip-path=\"url(#clip302)\" style=\"stroke:#000000; stroke-width:2; stroke-opacity:0.1; fill:none\" points=\"\n  1754.84,1423.18 1754.84,123.472 \n  \"/>\n<polyline clip-path=\"url(#clip302)\" style=\"stroke:#000000; stroke-width:2; stroke-opacity:0.1; fill:none\" points=\"\n  2053.8,1423.18 2053.8,123.472 \n  \"/>\n<polyline clip-path=\"url(#clip302)\" style=\"stroke:#000000; stroke-width:2; stroke-opacity:0.1; fill:none\" points=\"\n  2352.76,1423.18 2352.76,123.472 \n  \"/>\n<polyline clip-path=\"url(#clip302)\" style=\"stroke:#000000; stroke-width:2; stroke-opacity:0.1; fill:none\" points=\"\n  260.051,1386.4 2352.76,1386.4 \n  \"/>\n<polyline clip-path=\"url(#clip302)\" style=\"stroke:#000000; stroke-width:2; stroke-opacity:0.1; fill:none\" points=\"\n  260.051,1153.93 2352.76,1153.93 \n  \"/>\n<polyline clip-path=\"url(#clip302)\" style=\"stroke:#000000; stroke-width:2; stroke-opacity:0.1; fill:none\" points=\"\n  260.051,921.469 2352.76,921.469 \n  \"/>\n<polyline clip-path=\"url(#clip302)\" style=\"stroke:#000000; stroke-width:2; stroke-opacity:0.1; fill:none\" points=\"\n  260.051,689.006 2352.76,689.006 \n  \"/>\n<polyline clip-path=\"url(#clip302)\" style=\"stroke:#000000; stroke-width:2; stroke-opacity:0.1; fill:none\" points=\"\n  260.051,456.543 2352.76,456.543 \n  \"/>\n<polyline clip-path=\"url(#clip302)\" style=\"stroke:#000000; stroke-width:2; stroke-opacity:0.1; fill:none\" points=\"\n  260.051,224.08 2352.76,224.08 \n  \"/>\n<polyline clip-path=\"url(#clip300)\" style=\"stroke:#000000; stroke-width:4; stroke-opacity:1; fill:none\" points=\"\n  260.051,1423.18 2352.76,1423.18 \n  \"/>\n<polyline clip-path=\"url(#clip300)\" style=\"stroke:#000000; stroke-width:4; stroke-opacity:1; fill:none\" points=\"\n  260.051,1423.18 260.051,123.472 \n  \"/>\n<polyline clip-path=\"url(#clip300)\" style=\"stroke:#000000; stroke-width:4; stroke-opacity:1; fill:none\" points=\"\n  260.051,1423.18 260.051,1407.58 \n  \"/>\n<polyline clip-path=\"url(#clip300)\" style=\"stroke:#000000; stroke-width:4; stroke-opacity:1; fill:none\" points=\"\n  559.009,1423.18 559.009,1407.58 \n  \"/>\n<polyline clip-path=\"url(#clip300)\" style=\"stroke:#000000; stroke-width:4; stroke-opacity:1; fill:none\" points=\"\n  857.967,1423.18 857.967,1407.58 \n  \"/>\n<polyline clip-path=\"url(#clip300)\" style=\"stroke:#000000; stroke-width:4; stroke-opacity:1; fill:none\" points=\"\n  1156.92,1423.18 1156.92,1407.58 \n  \"/>\n<polyline clip-path=\"url(#clip300)\" style=\"stroke:#000000; stroke-width:4; stroke-opacity:1; fill:none\" points=\"\n  1455.88,1423.18 1455.88,1407.58 \n  \"/>\n<polyline clip-path=\"url(#clip300)\" style=\"stroke:#000000; stroke-width:4; stroke-opacity:1; fill:none\" points=\"\n  1754.84,1423.18 1754.84,1407.58 \n  \"/>\n<polyline clip-path=\"url(#clip300)\" style=\"stroke:#000000; stroke-width:4; stroke-opacity:1; fill:none\" points=\"\n  2053.8,1423.18 2053.8,1407.58 \n  \"/>\n<polyline clip-path=\"url(#clip300)\" style=\"stroke:#000000; stroke-width:4; stroke-opacity:1; fill:none\" points=\"\n  2352.76,1423.18 2352.76,1407.58 \n  \"/>\n<polyline clip-path=\"url(#clip300)\" style=\"stroke:#000000; stroke-width:4; stroke-opacity:1; fill:none\" points=\"\n  260.051,1386.4 285.164,1386.4 \n  \"/>\n<polyline clip-path=\"url(#clip300)\" style=\"stroke:#000000; stroke-width:4; stroke-opacity:1; fill:none\" points=\"\n  260.051,1153.93 285.164,1153.93 \n  \"/>\n<polyline clip-path=\"url(#clip300)\" style=\"stroke:#000000; stroke-width:4; stroke-opacity:1; fill:none\" points=\"\n  260.051,921.469 285.164,921.469 \n  \"/>\n<polyline clip-path=\"url(#clip300)\" style=\"stroke:#000000; stroke-width:4; stroke-opacity:1; fill:none\" points=\"\n  260.051,689.006 285.164,689.006 \n  \"/>\n<polyline clip-path=\"url(#clip300)\" style=\"stroke:#000000; stroke-width:4; stroke-opacity:1; fill:none\" points=\"\n  260.051,456.543 285.164,456.543 \n  \"/>\n<polyline clip-path=\"url(#clip300)\" style=\"stroke:#000000; stroke-width:4; stroke-opacity:1; fill:none\" points=\"\n  260.051,224.08 285.164,224.08 \n  \"/>\n<path clip-path=\"url(#clip300)\" d=\"M 0 0 M260.051 1445.17 Q256.44 1445.17 254.611 1448.74 Q252.806 1452.28 252.806 1459.41 Q252.806 1466.51 254.611 1470.08 Q256.44 1473.62 260.051 1473.62 Q263.685 1473.62 265.491 1470.08 Q267.32 1466.51 267.32 1459.41 Q267.32 1452.28 265.491 1448.74 Q263.685 1445.17 260.051 1445.17 M260.051 1441.47 Q265.861 1441.47 268.917 1446.07 Q271.996 1450.66 271.996 1459.41 Q271.996 1468.13 268.917 1472.74 Q265.861 1477.32 260.051 1477.32 Q254.241 1477.32 251.162 1472.74 Q248.107 1468.13 248.107 1459.41 Q248.107 1450.66 251.162 1446.07 Q254.241 1441.47 260.051 1441.47 Z\" fill=\"#000000\" fill-rule=\"evenodd\" fill-opacity=\"1\" /><path clip-path=\"url(#clip300)\" d=\"M 0 0 M540.155 1472.72 L556.474 1472.72 L556.474 1476.65 L534.53 1476.65 L534.53 1472.72 Q537.192 1469.96 541.775 1465.33 Q546.382 1460.68 547.562 1459.34 Q549.808 1456.81 550.687 1455.08 Q551.59 1453.32 551.59 1451.63 Q551.59 1448.87 549.646 1447.14 Q547.724 1445.4 544.623 1445.4 Q542.423 1445.4 539.97 1446.17 Q537.539 1446.93 534.761 1448.48 L534.761 1443.76 Q537.586 1442.62 540.039 1442.05 Q542.493 1441.47 544.53 1441.47 Q549.9 1441.47 553.095 1444.15 Q556.289 1446.84 556.289 1451.33 Q556.289 1453.46 555.479 1455.38 Q554.692 1457.28 552.585 1459.87 Q552.007 1460.54 548.905 1463.76 Q545.803 1466.95 540.155 1472.72 Z\" fill=\"#000000\" fill-rule=\"evenodd\" fill-opacity=\"1\" /><path clip-path=\"url(#clip300)\" d=\"M 0 0 M571.544 1445.17 Q567.933 1445.17 566.104 1448.74 Q564.298 1452.28 564.298 1459.41 Q564.298 1466.51 566.104 1470.08 Q567.933 1473.62 571.544 1473.62 Q575.178 1473.62 576.983 1470.08 Q578.812 1466.51 578.812 1459.41 Q578.812 1452.28 576.983 1448.74 Q575.178 1445.17 571.544 1445.17 M571.544 1441.47 Q577.354 1441.47 580.409 1446.07 Q583.488 1450.66 583.488 1459.41 Q583.488 1468.13 580.409 1472.74 Q577.354 1477.32 571.544 1477.32 Q565.734 1477.32 562.655 1472.74 Q559.599 1468.13 559.599 1459.41 Q559.599 1450.66 562.655 1446.07 Q565.734 1441.47 571.544 1441.47 Z\" fill=\"#000000\" fill-rule=\"evenodd\" fill-opacity=\"1\" /><path clip-path=\"url(#clip300)\" d=\"M 0 0 M847.469 1446.17 L835.664 1464.61 L847.469 1464.61 L847.469 1446.17 M846.242 1442.09 L852.122 1442.09 L852.122 1464.61 L857.053 1464.61 L857.053 1468.5 L852.122 1468.5 L852.122 1476.65 L847.469 1476.65 L847.469 1468.5 L831.867 1468.5 L831.867 1463.99 L846.242 1442.09 Z\" fill=\"#000000\" fill-rule=\"evenodd\" fill-opacity=\"1\" /><path clip-path=\"url(#clip300)\" d=\"M 0 0 M872.122 1445.17 Q868.511 1445.17 866.682 1448.74 Q864.877 1452.28 864.877 1459.41 Q864.877 1466.51 866.682 1470.08 Q868.511 1473.62 872.122 1473.62 Q875.756 1473.62 877.562 1470.08 Q879.39 1466.51 879.39 1459.41 Q879.39 1452.28 877.562 1448.74 Q875.756 1445.17 872.122 1445.17 M872.122 1441.47 Q877.932 1441.47 880.988 1446.07 Q884.066 1450.66 884.066 1459.41 Q884.066 1468.13 880.988 1472.74 Q877.932 1477.32 872.122 1477.32 Q866.312 1477.32 863.233 1472.74 Q860.177 1468.13 860.177 1459.41 Q860.177 1450.66 863.233 1446.07 Q866.312 1441.47 872.122 1441.47 Z\" fill=\"#000000\" fill-rule=\"evenodd\" fill-opacity=\"1\" /><path clip-path=\"url(#clip300)\" d=\"M 0 0 M1143.82 1457.51 Q1140.67 1457.51 1138.82 1459.66 Q1136.99 1461.81 1136.99 1465.56 Q1136.99 1469.29 1138.82 1471.47 Q1140.67 1473.62 1143.82 1473.62 Q1146.97 1473.62 1148.8 1471.47 Q1150.65 1469.29 1150.65 1465.56 Q1150.65 1461.81 1148.8 1459.66 Q1146.97 1457.51 1143.82 1457.51 M1153.11 1442.86 L1153.11 1447.11 Q1151.35 1446.28 1149.54 1445.84 Q1147.76 1445.4 1146 1445.4 Q1141.37 1445.4 1138.92 1448.53 Q1136.48 1451.65 1136.14 1457.97 Q1137.5 1455.96 1139.56 1454.89 Q1141.62 1453.8 1144.1 1453.8 Q1149.31 1453.8 1152.32 1456.98 Q1155.35 1460.12 1155.35 1465.56 Q1155.35 1470.89 1152.2 1474.11 Q1149.05 1477.32 1143.82 1477.32 Q1137.83 1477.32 1134.66 1472.74 Q1131.48 1468.13 1131.48 1459.41 Q1131.48 1451.21 1135.37 1446.35 Q1139.26 1441.47 1145.81 1441.47 Q1147.57 1441.47 1149.36 1441.81 Q1151.16 1442.16 1153.11 1442.86 Z\" fill=\"#000000\" fill-rule=\"evenodd\" fill-opacity=\"1\" /><path clip-path=\"url(#clip300)\" d=\"M 0 0 M1170.42 1445.17 Q1166.81 1445.17 1164.98 1448.74 Q1163.17 1452.28 1163.17 1459.41 Q1163.17 1466.51 1164.98 1470.08 Q1166.81 1473.62 1170.42 1473.62 Q1174.05 1473.62 1175.86 1470.08 Q1177.69 1466.51 1177.69 1459.41 Q1177.69 1452.28 1175.86 1448.74 Q1174.05 1445.17 1170.42 1445.17 M1170.42 1441.47 Q1176.23 1441.47 1179.29 1446.07 Q1182.36 1450.66 1182.36 1459.41 Q1182.36 1468.13 1179.29 1472.74 Q1176.23 1477.32 1170.42 1477.32 Q1164.61 1477.32 1161.53 1472.74 Q1158.48 1468.13 1158.48 1459.41 Q1158.48 1450.66 1161.53 1446.07 Q1164.61 1441.47 1170.42 1441.47 Z\" fill=\"#000000\" fill-rule=\"evenodd\" fill-opacity=\"1\" /><path clip-path=\"url(#clip300)\" d=\"M 0 0 M1442.38 1460.24 Q1439.04 1460.24 1437.12 1462.02 Q1435.22 1463.8 1435.22 1466.93 Q1435.22 1470.05 1437.12 1471.84 Q1439.04 1473.62 1442.38 1473.62 Q1445.71 1473.62 1447.63 1471.84 Q1449.55 1470.03 1449.55 1466.93 Q1449.55 1463.8 1447.63 1462.02 Q1445.73 1460.24 1442.38 1460.24 M1437.7 1458.25 Q1434.69 1457.51 1433 1455.45 Q1431.33 1453.39 1431.33 1450.43 Q1431.33 1446.28 1434.27 1443.87 Q1437.24 1441.47 1442.38 1441.47 Q1447.54 1441.47 1450.48 1443.87 Q1453.42 1446.28 1453.42 1450.43 Q1453.42 1453.39 1451.73 1455.45 Q1450.06 1457.51 1447.07 1458.25 Q1450.45 1459.04 1452.33 1461.33 Q1454.23 1463.62 1454.23 1466.93 Q1454.23 1471.95 1451.15 1474.64 Q1448.09 1477.32 1442.38 1477.32 Q1436.66 1477.32 1433.58 1474.64 Q1430.52 1471.95 1430.52 1466.93 Q1430.52 1463.62 1432.42 1461.33 Q1434.32 1459.04 1437.7 1458.25 M1435.99 1450.86 Q1435.99 1453.55 1437.65 1455.05 Q1439.34 1456.56 1442.38 1456.56 Q1445.38 1456.56 1447.07 1455.05 Q1448.79 1453.55 1448.79 1450.86 Q1448.79 1448.18 1447.07 1446.68 Q1445.38 1445.17 1442.38 1445.17 Q1439.34 1445.17 1437.65 1446.68 Q1435.99 1448.18 1435.99 1450.86 Z\" fill=\"#000000\" fill-rule=\"evenodd\" fill-opacity=\"1\" /><path clip-path=\"url(#clip300)\" d=\"M 0 0 M1469.3 1445.17 Q1465.69 1445.17 1463.86 1448.74 Q1462.05 1452.28 1462.05 1459.41 Q1462.05 1466.51 1463.86 1470.08 Q1465.69 1473.62 1469.3 1473.62 Q1472.93 1473.62 1474.74 1470.08 Q1476.57 1466.51 1476.57 1459.41 Q1476.57 1452.28 1474.74 1448.74 Q1472.93 1445.17 1469.3 1445.17 M1469.3 1441.47 Q1475.11 1441.47 1478.16 1446.07 Q1481.24 1450.66 1481.24 1459.41 Q1481.24 1468.13 1478.16 1472.74 Q1475.11 1477.32 1469.3 1477.32 Q1463.49 1477.32 1460.41 1472.74 Q1457.35 1468.13 1457.35 1459.41 Q1457.35 1450.66 1460.41 1446.07 Q1463.49 1441.47 1469.3 1441.47 Z\" fill=\"#000000\" fill-rule=\"evenodd\" fill-opacity=\"1\" /><path clip-path=\"url(#clip300)\" d=\"M 0 0 M1718.21 1472.72 L1725.85 1472.72 L1725.85 1446.35 L1717.54 1448.02 L1717.54 1443.76 L1725.8 1442.09 L1730.48 1442.09 L1730.48 1472.72 L1738.12 1472.72 L1738.12 1476.65 L1718.21 1476.65 L1718.21 1472.72 Z\" fill=\"#000000\" fill-rule=\"evenodd\" fill-opacity=\"1\" /><path clip-path=\"url(#clip300)\" d=\"M 0 0 M1753.19 1445.17 Q1749.57 1445.17 1747.75 1448.74 Q1745.94 1452.28 1745.94 1459.41 Q1745.94 1466.51 1747.75 1470.08 Q1749.57 1473.62 1753.19 1473.62 Q1756.82 1473.62 1758.62 1470.08 Q1760.45 1466.51 1760.45 1459.41 Q1760.45 1452.28 1758.62 1448.74 Q1756.82 1445.17 1753.19 1445.17 M1753.19 1441.47 Q1759 1441.47 1762.05 1446.07 Q1765.13 1450.66 1765.13 1459.41 Q1765.13 1468.13 1762.05 1472.74 Q1759 1477.32 1753.19 1477.32 Q1747.38 1477.32 1744.3 1472.74 Q1741.24 1468.13 1741.24 1459.41 Q1741.24 1450.66 1744.3 1446.07 Q1747.38 1441.47 1753.19 1441.47 Z\" fill=\"#000000\" fill-rule=\"evenodd\" fill-opacity=\"1\" /><path clip-path=\"url(#clip300)\" d=\"M 0 0 M1780.2 1445.17 Q1776.59 1445.17 1774.76 1448.74 Q1772.95 1452.28 1772.95 1459.41 Q1772.95 1466.51 1774.76 1470.08 Q1776.59 1473.62 1780.2 1473.62 Q1783.83 1473.62 1785.64 1470.08 Q1787.47 1466.51 1787.47 1459.41 Q1787.47 1452.28 1785.64 1448.74 Q1783.83 1445.17 1780.2 1445.17 M1780.2 1441.47 Q1786.01 1441.47 1789.06 1446.07 Q1792.14 1450.66 1792.14 1459.41 Q1792.14 1468.13 1789.06 1472.74 Q1786.01 1477.32 1780.2 1477.32 Q1774.39 1477.32 1771.31 1472.74 Q1768.25 1468.13 1768.25 1459.41 Q1768.25 1450.66 1771.31 1446.07 Q1774.39 1441.47 1780.2 1441.47 Z\" fill=\"#000000\" fill-rule=\"evenodd\" fill-opacity=\"1\" /><path clip-path=\"url(#clip300)\" d=\"M 0 0 M2017.96 1472.72 L2025.6 1472.72 L2025.6 1446.35 L2017.29 1448.02 L2017.29 1443.76 L2025.56 1442.09 L2030.23 1442.09 L2030.23 1472.72 L2037.87 1472.72 L2037.87 1476.65 L2017.96 1476.65 L2017.96 1472.72 Z\" fill=\"#000000\" fill-rule=\"evenodd\" fill-opacity=\"1\" /><path clip-path=\"url(#clip300)\" d=\"M 0 0 M2046.97 1472.72 L2063.29 1472.72 L2063.29 1476.65 L2041.34 1476.65 L2041.34 1472.72 Q2044.01 1469.96 2048.59 1465.33 Q2053.2 1460.68 2054.38 1459.34 Q2056.62 1456.81 2057.5 1455.08 Q2058.4 1453.32 2058.4 1451.63 Q2058.4 1448.87 2056.46 1447.14 Q2054.54 1445.4 2051.44 1445.4 Q2049.24 1445.4 2046.78 1446.17 Q2044.35 1446.93 2041.58 1448.48 L2041.58 1443.76 Q2044.4 1442.62 2046.85 1442.05 Q2049.31 1441.47 2051.34 1441.47 Q2056.71 1441.47 2059.91 1444.15 Q2063.1 1446.84 2063.1 1451.33 Q2063.1 1453.46 2062.29 1455.38 Q2061.51 1457.28 2059.4 1459.87 Q2058.82 1460.54 2055.72 1463.76 Q2052.62 1466.95 2046.97 1472.72 Z\" fill=\"#000000\" fill-rule=\"evenodd\" fill-opacity=\"1\" /><path clip-path=\"url(#clip300)\" d=\"M 0 0 M2078.36 1445.17 Q2074.75 1445.17 2072.92 1448.74 Q2071.11 1452.28 2071.11 1459.41 Q2071.11 1466.51 2072.92 1470.08 Q2074.75 1473.62 2078.36 1473.62 Q2081.99 1473.62 2083.8 1470.08 Q2085.63 1466.51 2085.63 1459.41 Q2085.63 1452.28 2083.8 1448.74 Q2081.99 1445.17 2078.36 1445.17 M2078.36 1441.47 Q2084.17 1441.47 2087.22 1446.07 Q2090.3 1450.66 2090.3 1459.41 Q2090.3 1468.13 2087.22 1472.74 Q2084.17 1477.32 2078.36 1477.32 Q2072.55 1477.32 2069.47 1472.74 Q2066.41 1468.13 2066.41 1459.41 Q2066.41 1450.66 2069.47 1446.07 Q2072.55 1441.47 2078.36 1441.47 Z\" fill=\"#000000\" fill-rule=\"evenodd\" fill-opacity=\"1\" /><path clip-path=\"url(#clip300)\" d=\"M 0 0 M2315.88 1472.72 L2323.52 1472.72 L2323.52 1446.35 L2315.21 1448.02 L2315.21 1443.76 L2323.47 1442.09 L2328.15 1442.09 L2328.15 1472.72 L2335.79 1472.72 L2335.79 1476.65 L2315.88 1476.65 L2315.88 1472.72 Z\" fill=\"#000000\" fill-rule=\"evenodd\" fill-opacity=\"1\" /><path clip-path=\"url(#clip300)\" d=\"M 0 0 M2353.7 1446.17 L2341.9 1464.61 L2353.7 1464.61 L2353.7 1446.17 M2352.48 1442.09 L2358.36 1442.09 L2358.36 1464.61 L2363.29 1464.61 L2363.29 1468.5 L2358.36 1468.5 L2358.36 1476.65 L2353.7 1476.65 L2353.7 1468.5 L2338.1 1468.5 L2338.1 1463.99 L2352.48 1442.09 Z\" fill=\"#000000\" fill-rule=\"evenodd\" fill-opacity=\"1\" /><path clip-path=\"url(#clip300)\" d=\"M 0 0 M2378.36 1445.17 Q2374.75 1445.17 2372.92 1448.74 Q2371.11 1452.28 2371.11 1459.41 Q2371.11 1466.51 2372.92 1470.08 Q2374.75 1473.62 2378.36 1473.62 Q2381.99 1473.62 2383.8 1470.08 Q2385.63 1466.51 2385.63 1459.41 Q2385.63 1452.28 2383.8 1448.74 Q2381.99 1445.17 2378.36 1445.17 M2378.36 1441.47 Q2384.17 1441.47 2387.22 1446.07 Q2390.3 1450.66 2390.3 1459.41 Q2390.3 1468.13 2387.22 1472.74 Q2384.17 1477.32 2378.36 1477.32 Q2372.55 1477.32 2369.47 1472.74 Q2366.41 1468.13 2366.41 1459.41 Q2366.41 1450.66 2369.47 1446.07 Q2372.55 1441.47 2378.36 1441.47 Z\" fill=\"#000000\" fill-rule=\"evenodd\" fill-opacity=\"1\" /><path clip-path=\"url(#clip300)\" d=\"M 0 0 M169.721 1406.19 L177.359 1406.19 L177.359 1379.82 L169.049 1381.49 L169.049 1377.23 L177.313 1375.56 L181.989 1375.56 L181.989 1406.19 L189.628 1406.19 L189.628 1410.12 L169.721 1410.12 L169.721 1406.19 Z\" fill=\"#000000\" fill-rule=\"evenodd\" fill-opacity=\"1\" /><path clip-path=\"url(#clip300)\" d=\"M 0 0 M204.697 1378.64 Q201.086 1378.64 199.257 1382.21 Q197.452 1385.75 197.452 1392.88 Q197.452 1399.98 199.257 1403.55 Q201.086 1407.09 204.697 1407.09 Q208.331 1407.09 210.137 1403.55 Q211.966 1399.98 211.966 1392.88 Q211.966 1385.75 210.137 1382.21 Q208.331 1378.64 204.697 1378.64 M204.697 1374.94 Q210.507 1374.94 213.563 1379.54 Q216.642 1384.13 216.642 1392.88 Q216.642 1401.6 213.563 1406.21 Q210.507 1410.79 204.697 1410.79 Q198.887 1410.79 195.808 1406.21 Q192.753 1401.6 192.753 1392.88 Q192.753 1384.13 195.808 1379.54 Q198.887 1374.94 204.697 1374.94 Z\" fill=\"#000000\" fill-rule=\"evenodd\" fill-opacity=\"1\" /><path clip-path=\"url(#clip300)\" d=\"M 0 0 M226.346 1357.13 Q223.412 1357.13 221.927 1360.03 Q220.46 1362.91 220.46 1368.7 Q220.46 1374.48 221.927 1377.37 Q223.412 1380.25 226.346 1380.25 Q229.299 1380.25 230.766 1377.37 Q232.252 1374.48 232.252 1368.7 Q232.252 1362.91 230.766 1360.03 Q229.299 1357.13 226.346 1357.13 M226.346 1354.13 Q231.067 1354.13 233.55 1357.87 Q236.051 1361.59 236.051 1368.7 Q236.051 1375.79 233.55 1379.53 Q231.067 1383.26 226.346 1383.26 Q221.626 1383.26 219.124 1379.53 Q216.642 1375.79 216.642 1368.7 Q216.642 1361.59 219.124 1357.87 Q221.626 1354.13 226.346 1354.13 Z\" fill=\"#000000\" fill-rule=\"evenodd\" fill-opacity=\"1\" /><path clip-path=\"url(#clip300)\" d=\"M 0 0 M172.41 1173.73 L180.049 1173.73 L180.049 1147.36 L171.739 1149.03 L171.739 1144.77 L180.003 1143.1 L184.679 1143.1 L184.679 1173.73 L192.317 1173.73 L192.317 1177.66 L172.41 1177.66 L172.41 1173.73 Z\" fill=\"#000000\" fill-rule=\"evenodd\" fill-opacity=\"1\" /><path clip-path=\"url(#clip300)\" d=\"M 0 0 M207.387 1146.18 Q203.776 1146.18 201.947 1149.74 Q200.141 1153.29 200.141 1160.41 Q200.141 1167.52 201.947 1171.09 Q203.776 1174.63 207.387 1174.63 Q211.021 1174.63 212.827 1171.09 Q214.655 1167.52 214.655 1160.41 Q214.655 1153.29 212.827 1149.74 Q211.021 1146.18 207.387 1146.18 M207.387 1142.48 Q213.197 1142.48 216.252 1147.08 Q219.331 1151.66 219.331 1160.41 Q219.331 1169.14 216.252 1173.75 Q213.197 1178.33 207.387 1178.33 Q201.577 1178.33 198.498 1173.75 Q195.442 1169.14 195.442 1160.41 Q195.442 1151.66 198.498 1147.08 Q201.577 1142.48 207.387 1142.48 Z\" fill=\"#000000\" fill-rule=\"evenodd\" fill-opacity=\"1\" /><path clip-path=\"url(#clip300)\" d=\"M 0 0 M219.877 1147.05 L226.083 1147.05 L226.083 1125.63 L219.331 1126.98 L219.331 1123.52 L226.046 1122.17 L229.845 1122.17 L229.845 1147.05 L236.051 1147.05 L236.051 1150.25 L219.877 1150.25 L219.877 1147.05 Z\" fill=\"#000000\" fill-rule=\"evenodd\" fill-opacity=\"1\" /><path clip-path=\"url(#clip300)\" d=\"M 0 0 M171.3 941.262 L178.939 941.262 L178.939 914.896 L170.629 916.563 L170.629 912.304 L178.893 910.637 L183.569 910.637 L183.569 941.262 L191.208 941.262 L191.208 945.197 L171.3 945.197 L171.3 941.262 Z\" fill=\"#000000\" fill-rule=\"evenodd\" fill-opacity=\"1\" /><path clip-path=\"url(#clip300)\" d=\"M 0 0 M206.277 913.716 Q202.666 913.716 200.837 917.281 Q199.032 920.822 199.032 927.952 Q199.032 935.058 200.837 938.623 Q202.666 942.165 206.277 942.165 Q209.911 942.165 211.717 938.623 Q213.546 935.058 213.546 927.952 Q213.546 920.822 211.717 917.281 Q209.911 913.716 206.277 913.716 M206.277 910.012 Q212.087 910.012 215.143 914.619 Q218.221 919.202 218.221 927.952 Q218.221 936.679 215.143 941.285 Q212.087 945.868 206.277 945.868 Q200.467 945.868 197.388 941.285 Q194.333 936.679 194.333 927.952 Q194.333 919.202 197.388 914.619 Q200.467 910.012 206.277 910.012 Z\" fill=\"#000000\" fill-rule=\"evenodd\" fill-opacity=\"1\" /><path clip-path=\"url(#clip300)\" d=\"M 0 0 M222.792 914.589 L236.051 914.589 L236.051 917.787 L218.221 917.787 L218.221 914.589 Q220.384 912.351 224.108 908.59 Q227.851 904.809 228.81 903.718 Q230.635 901.668 231.349 900.258 Q232.083 898.828 232.083 897.455 Q232.083 895.217 230.503 893.807 Q228.942 892.396 226.422 892.396 Q224.635 892.396 222.641 893.017 Q220.666 893.638 218.41 894.898 L218.41 891.061 Q220.704 890.139 222.698 889.669 Q224.691 889.199 226.346 889.199 Q230.71 889.199 233.305 891.381 Q235.901 893.562 235.901 897.211 Q235.901 898.941 235.243 900.502 Q234.603 902.045 232.892 904.151 Q232.421 904.696 229.901 907.311 Q227.381 909.906 222.792 914.589 Z\" fill=\"#000000\" fill-rule=\"evenodd\" fill-opacity=\"1\" /><path clip-path=\"url(#clip300)\" d=\"M 0 0 M170.642 708.799 L178.281 708.799 L178.281 682.433 L169.971 684.1 L169.971 679.841 L178.235 678.174 L182.911 678.174 L182.911 708.799 L190.549 708.799 L190.549 712.734 L170.642 712.734 L170.642 708.799 Z\" fill=\"#000000\" fill-rule=\"evenodd\" fill-opacity=\"1\" /><path clip-path=\"url(#clip300)\" d=\"M 0 0 M205.619 681.253 Q202.008 681.253 200.179 684.817 Q198.373 688.359 198.373 695.489 Q198.373 702.595 200.179 706.16 Q202.008 709.702 205.619 709.702 Q209.253 709.702 211.059 706.16 Q212.887 702.595 212.887 695.489 Q212.887 688.359 211.059 684.817 Q209.253 681.253 205.619 681.253 M205.619 677.549 Q211.429 677.549 214.485 682.155 Q217.563 686.739 217.563 695.489 Q217.563 704.216 214.485 708.822 Q211.429 713.405 205.619 713.405 Q199.809 713.405 196.73 708.822 Q193.674 704.216 193.674 695.489 Q193.674 686.739 196.73 682.155 Q199.809 677.549 205.619 677.549 Z\" fill=\"#000000\" fill-rule=\"evenodd\" fill-opacity=\"1\" /><path clip-path=\"url(#clip300)\" d=\"M 0 0 M230.258 670.183 Q232.986 670.766 234.509 672.61 Q236.051 674.453 236.051 677.161 Q236.051 681.318 233.192 683.593 Q230.334 685.869 225.067 685.869 Q223.3 685.869 221.419 685.512 Q219.557 685.173 217.563 684.477 L217.563 680.81 Q219.143 681.731 221.024 682.202 Q222.905 682.672 224.955 682.672 Q228.528 682.672 230.39 681.261 Q232.271 679.851 232.271 677.161 Q232.271 674.678 230.522 673.287 Q228.791 671.876 225.688 671.876 L222.416 671.876 L222.416 668.754 L225.839 668.754 Q228.641 668.754 230.127 667.644 Q231.613 666.516 231.613 664.409 Q231.613 662.246 230.07 661.099 Q228.547 659.933 225.688 659.933 Q224.127 659.933 222.34 660.272 Q220.554 660.61 218.41 661.325 L218.41 657.939 Q220.572 657.338 222.453 657.037 Q224.353 656.736 226.027 656.736 Q230.352 656.736 232.873 658.711 Q235.393 660.667 235.393 664.014 Q235.393 666.347 234.058 667.964 Q232.722 669.563 230.258 670.183 Z\" fill=\"#000000\" fill-rule=\"evenodd\" fill-opacity=\"1\" /><path clip-path=\"url(#clip300)\" d=\"M 0 0 M168.667 476.336 L176.306 476.336 L176.306 449.97 L167.996 451.637 L167.996 447.378 L176.26 445.711 L180.936 445.711 L180.936 476.336 L188.575 476.336 L188.575 480.271 L168.667 480.271 L168.667 476.336 Z\" fill=\"#000000\" fill-rule=\"evenodd\" fill-opacity=\"1\" /><path clip-path=\"url(#clip300)\" d=\"M 0 0 M203.644 448.79 Q200.033 448.79 198.204 452.354 Q196.399 455.896 196.399 463.026 Q196.399 470.132 198.204 473.697 Q200.033 477.239 203.644 477.239 Q207.278 477.239 209.084 473.697 Q210.912 470.132 210.912 463.026 Q210.912 455.896 209.084 452.354 Q207.278 448.79 203.644 448.79 M203.644 445.086 Q209.454 445.086 212.51 449.692 Q215.588 454.276 215.588 463.026 Q215.588 471.752 212.51 476.359 Q209.454 480.942 203.644 480.942 Q197.834 480.942 194.755 476.359 Q191.7 471.752 191.7 463.026 Q191.7 454.276 194.755 449.692 Q197.834 445.086 203.644 445.086 Z\" fill=\"#000000\" fill-rule=\"evenodd\" fill-opacity=\"1\" /><path clip-path=\"url(#clip300)\" d=\"M 0 0 M228.265 428.091 L218.673 443.08 L228.265 443.08 L228.265 428.091 M227.268 424.781 L232.045 424.781 L232.045 443.08 L236.051 443.08 L236.051 446.24 L232.045 446.24 L232.045 452.861 L228.265 452.861 L228.265 446.24 L215.588 446.24 L215.588 442.573 L227.268 424.781 Z\" fill=\"#000000\" fill-rule=\"evenodd\" fill-opacity=\"1\" /><path clip-path=\"url(#clip300)\" d=\"M 0 0 M170.962 243.873 L178.601 243.873 L178.601 217.507 L170.291 219.174 L170.291 214.914 L178.554 213.248 L183.23 213.248 L183.23 243.873 L190.869 243.873 L190.869 247.808 L170.962 247.808 L170.962 243.873 Z\" fill=\"#000000\" fill-rule=\"evenodd\" fill-opacity=\"1\" /><path clip-path=\"url(#clip300)\" d=\"M 0 0 M205.939 216.326 Q202.327 216.326 200.499 219.891 Q198.693 223.433 198.693 230.563 Q198.693 237.669 200.499 241.234 Q202.327 244.775 205.939 244.775 Q209.573 244.775 211.378 241.234 Q213.207 237.669 213.207 230.563 Q213.207 223.433 211.378 219.891 Q209.573 216.326 205.939 216.326 M205.939 212.623 Q211.749 212.623 214.804 217.229 Q217.883 221.813 217.883 230.563 Q217.883 239.289 214.804 243.896 Q211.749 248.479 205.939 248.479 Q200.128 248.479 197.05 243.896 Q193.994 239.289 193.994 230.563 Q193.994 221.813 197.05 217.229 Q200.128 212.623 205.939 212.623 Z\" fill=\"#000000\" fill-rule=\"evenodd\" fill-opacity=\"1\" /><path clip-path=\"url(#clip300)\" d=\"M 0 0 M219.068 192.317 L233.982 192.317 L233.982 195.515 L222.547 195.515 L222.547 202.398 Q223.375 202.116 224.202 201.985 Q225.03 201.834 225.857 201.834 Q230.559 201.834 233.305 204.411 Q236.051 206.987 236.051 211.388 Q236.051 215.921 233.23 218.441 Q230.409 220.943 225.274 220.943 Q223.506 220.943 221.663 220.642 Q219.839 220.341 217.883 219.739 L217.883 215.921 Q219.576 216.843 221.381 217.294 Q223.187 217.746 225.199 217.746 Q228.453 217.746 230.352 216.034 Q232.252 214.323 232.252 211.388 Q232.252 208.454 230.352 206.743 Q228.453 205.031 225.199 205.031 Q223.676 205.031 222.152 205.37 Q220.648 205.709 219.068 206.423 L219.068 192.317 Z\" fill=\"#000000\" fill-rule=\"evenodd\" fill-opacity=\"1\" /><path clip-path=\"url(#clip300)\" d=\"M 0 0 M844.641 28.9478 L844.641 35.9153 Q841.481 34.1734 838.281 33.3227 Q835.121 32.4315 831.881 32.4315 Q824.63 32.4315 820.619 37.0496 Q816.609 41.6271 816.609 49.9314 Q816.609 58.2358 820.619 62.8538 Q824.63 67.4314 831.881 67.4314 Q835.121 67.4314 838.281 66.5807 Q841.481 65.6895 844.641 63.9476 L844.641 70.8341 Q841.522 72.2924 838.16 73.0216 Q834.838 73.7508 831.07 73.7508 Q820.822 73.7508 814.786 67.3098 Q808.75 60.8689 808.75 49.9314 Q808.75 38.832 814.826 32.472 Q820.943 26.1121 831.557 26.1121 Q835 26.1121 838.281 26.8413 Q841.562 27.5299 844.641 28.9478 Z\" fill=\"#000000\" fill-rule=\"evenodd\" fill-opacity=\"1\" /><path clip-path=\"url(#clip300)\" d=\"M 0 0 M870.04 32.4315 Q864.045 32.4315 860.561 37.1306 Q857.077 41.7891 857.077 49.9314 Q857.077 58.0738 860.521 62.7728 Q864.004 67.4314 870.04 67.4314 Q875.995 67.4314 879.479 62.7323 Q882.963 58.0333 882.963 49.9314 Q882.963 41.8701 879.479 37.1711 Q875.995 32.4315 870.04 32.4315 M870.04 26.1121 Q879.762 26.1121 885.312 32.4315 Q890.862 38.7509 890.862 49.9314 Q890.862 61.0714 885.312 67.4314 Q879.762 73.7508 870.04 73.7508 Q860.277 73.7508 854.728 67.4314 Q849.219 61.0714 849.219 49.9314 Q849.219 38.7509 854.728 32.4315 Q860.277 26.1121 870.04 26.1121 Z\" fill=\"#000000\" fill-rule=\"evenodd\" fill-opacity=\"1\" /><path clip-path=\"url(#clip300)\" d=\"M 0 0 M936.394 45.1919 L936.394 72.576 L928.94 72.576 L928.94 45.4349 Q928.94 38.994 926.429 35.7938 Q923.917 32.5936 918.894 32.5936 Q912.858 32.5936 909.374 36.4419 Q905.891 40.2903 905.891 46.9338 L905.891 72.576 L898.396 72.576 L898.396 27.2059 L905.891 27.2059 L905.891 34.2544 Q908.564 30.163 912.17 28.1376 Q915.815 26.1121 920.555 26.1121 Q928.373 26.1121 932.384 30.9732 Q936.394 35.7938 936.394 45.1919 Z\" fill=\"#000000\" fill-rule=\"evenodd\" fill-opacity=\"1\" /><path clip-path=\"url(#clip300)\" d=\"M 0 0 M967.181 9.54393 L967.181 15.7418 L960.051 15.7418 Q956.041 15.7418 954.461 17.3622 Q952.922 18.9825 952.922 23.1955 L952.922 27.2059 L965.196 27.2059 L965.196 32.9987 L952.922 32.9987 L952.922 72.576 L945.427 72.576 L945.427 32.9987 L938.298 32.9987 L938.298 27.2059 L945.427 27.2059 L945.427 24.0462 Q945.427 16.471 948.952 13.0277 Q952.476 9.54393 960.132 9.54393 L967.181 9.54393 Z\" fill=\"#000000\" fill-rule=\"evenodd\" fill-opacity=\"1\" /><path clip-path=\"url(#clip300)\" d=\"M 0 0 M974.999 27.2059 L982.453 27.2059 L982.453 72.576 L974.999 72.576 L974.999 27.2059 M974.999 9.54393 L982.453 9.54393 L982.453 18.9825 L974.999 18.9825 L974.999 9.54393 Z\" fill=\"#000000\" fill-rule=\"evenodd\" fill-opacity=\"1\" /><path clip-path=\"url(#clip300)\" d=\"M 0 0 M1016.56 34.1734 Q1015.31 33.4443 1013.81 33.1202 Q1012.35 32.7556 1010.57 32.7556 Q1004.25 32.7556 1000.84 36.8875 Q997.482 40.9789 997.482 48.6757 L997.482 72.576 L989.987 72.576 L989.987 27.2059 L997.482 27.2059 L997.482 34.2544 Q999.831 30.1225 1003.6 28.1376 Q1007.37 26.1121 1012.75 26.1121 Q1013.52 26.1121 1014.45 26.2337 Q1015.39 26.3147 1016.52 26.5172 L1016.56 34.1734 Z\" fill=\"#000000\" fill-rule=\"evenodd\" fill-opacity=\"1\" /><path clip-path=\"url(#clip300)\" d=\"M 0 0 M1058.25 35.9153 Q1061.04 30.8922 1064.93 28.5022 Q1068.82 26.1121 1074.08 26.1121 Q1081.17 26.1121 1085.02 31.0947 Q1088.87 36.0368 1088.87 45.1919 L1088.87 72.576 L1081.38 72.576 L1081.38 45.4349 Q1081.38 38.913 1079.07 35.7533 Q1076.76 32.5936 1072.02 32.5936 Q1066.23 32.5936 1062.86 36.4419 Q1059.5 40.2903 1059.5 46.9338 L1059.5 72.576 L1052.01 72.576 L1052.01 45.4349 Q1052.01 38.8725 1049.7 35.7533 Q1047.39 32.5936 1042.57 32.5936 Q1036.86 32.5936 1033.49 36.4824 Q1030.13 40.3308 1030.13 46.9338 L1030.13 72.576 L1022.64 72.576 L1022.64 27.2059 L1030.13 27.2059 L1030.13 34.2544 Q1032.68 30.082 1036.25 28.0971 Q1039.81 26.1121 1044.72 26.1121 Q1049.66 26.1121 1053.1 28.6237 Q1056.58 31.1352 1058.25 35.9153 Z\" fill=\"#000000\" fill-rule=\"evenodd\" fill-opacity=\"1\" /><path clip-path=\"url(#clip300)\" d=\"M 0 0 M1135.5 48.0275 L1135.5 51.6733 L1101.23 51.6733 Q1101.71 59.3701 1105.84 63.421 Q1110.02 67.4314 1117.43 67.4314 Q1121.72 67.4314 1125.73 66.3781 Q1129.78 65.3249 1133.75 63.2184 L1133.75 70.267 Q1129.74 71.9684 1125.53 72.8596 Q1121.32 73.7508 1116.98 73.7508 Q1106.13 73.7508 1099.77 67.4314 Q1093.45 61.1119 1093.45 50.3365 Q1093.45 39.1965 1099.44 32.6746 Q1105.48 26.1121 1115.69 26.1121 Q1124.84 26.1121 1130.15 32.0264 Q1135.5 37.9003 1135.5 48.0275 M1128.04 45.84 Q1127.96 39.7232 1124.6 36.0774 Q1121.28 32.4315 1115.77 32.4315 Q1109.53 32.4315 1105.76 35.9558 Q1102.04 39.4801 1101.47 45.8805 L1128.04 45.84 Z\" fill=\"#000000\" fill-rule=\"evenodd\" fill-opacity=\"1\" /><path clip-path=\"url(#clip300)\" d=\"M 0 0 M1173.17 34.0924 L1173.17 9.54393 L1180.62 9.54393 L1180.62 72.576 L1173.17 72.576 L1173.17 65.7705 Q1170.82 69.8214 1167.21 71.8063 Q1163.65 73.7508 1158.63 73.7508 Q1150.4 73.7508 1145.22 67.1883 Q1140.07 60.6258 1140.07 49.9314 Q1140.07 39.2371 1145.22 32.6746 Q1150.4 26.1121 1158.63 26.1121 Q1163.65 26.1121 1167.21 28.0971 Q1170.82 30.0415 1173.17 34.0924 M1147.77 49.9314 Q1147.77 58.1548 1151.13 62.8538 Q1154.54 67.5124 1160.45 67.5124 Q1166.36 67.5124 1169.77 62.8538 Q1173.17 58.1548 1173.17 49.9314 Q1173.17 41.7081 1169.77 37.0496 Q1166.36 32.3505 1160.45 32.3505 Q1154.54 32.3505 1151.13 37.0496 Q1147.77 41.7081 1147.77 49.9314 Z\" fill=\"#000000\" fill-rule=\"evenodd\" fill-opacity=\"1\" /><path clip-path=\"url(#clip300)\" d=\"M 0 0 M1260.43 16.7545 L1260.43 25.383 Q1256.29 21.5346 1251.59 19.6307 Q1246.94 17.7268 1241.67 17.7268 Q1231.3 17.7268 1225.79 24.0867 Q1220.28 30.4061 1220.28 42.3968 Q1220.28 54.3469 1225.79 60.7069 Q1231.3 67.0263 1241.67 67.0263 Q1246.94 67.0263 1251.59 65.1223 Q1256.29 63.2184 1260.43 59.3701 L1260.43 67.9175 Q1256.13 70.8341 1251.31 72.2924 Q1246.53 73.7508 1241.18 73.7508 Q1227.45 73.7508 1219.55 65.3654 Q1211.65 56.9395 1211.65 42.3968 Q1211.65 27.8135 1219.55 19.4281 Q1227.45 11.0023 1241.18 11.0023 Q1246.61 11.0023 1251.39 12.4606 Q1256.21 13.8784 1260.43 16.7545 Z\" fill=\"#000000\" fill-rule=\"evenodd\" fill-opacity=\"1\" /><path clip-path=\"url(#clip300)\" d=\"M 0 0 M1293.12 17.6457 Q1284.2 17.6457 1278.94 24.2892 Q1273.71 30.9327 1273.71 42.3968 Q1273.71 53.8203 1278.94 60.4638 Q1284.2 67.1073 1293.12 67.1073 Q1302.03 67.1073 1307.21 60.4638 Q1312.44 53.8203 1312.44 42.3968 Q1312.44 30.9327 1307.21 24.2892 Q1302.03 17.6457 1293.12 17.6457 M1293.12 11.0023 Q1305.84 11.0023 1313.45 19.5497 Q1321.07 28.0566 1321.07 42.3968 Q1321.07 56.6965 1313.45 65.2439 Q1305.84 73.7508 1293.12 73.7508 Q1280.36 73.7508 1272.7 65.2439 Q1265.08 56.737 1265.08 42.3968 Q1265.08 28.0566 1272.7 19.5497 Q1280.36 11.0023 1293.12 11.0023 Z\" fill=\"#000000\" fill-rule=\"evenodd\" fill-opacity=\"1\" /><path clip-path=\"url(#clip300)\" d=\"M 0 0 M1343.35 72.576 L1320.26 12.096 L1328.81 12.096 L1347.97 63.0159 L1367.17 12.096 L1375.67 12.096 L1352.62 72.576 L1343.35 72.576 Z\" fill=\"#000000\" fill-rule=\"evenodd\" fill-opacity=\"1\" /><path clip-path=\"url(#clip300)\" d=\"M 0 0 M1383.82 12.096 L1392 12.096 L1392 72.576 L1383.82 72.576 L1383.82 12.096 Z\" fill=\"#000000\" fill-rule=\"evenodd\" fill-opacity=\"1\" /><path clip-path=\"url(#clip300)\" d=\"M 0 0 M1408.32 18.8205 L1408.32 65.8515 L1418.21 65.8515 Q1430.73 65.8515 1436.52 60.1802 Q1442.35 54.509 1442.35 42.2752 Q1442.35 30.1225 1436.52 24.4918 Q1430.73 18.8205 1418.21 18.8205 L1408.32 18.8205 M1400.14 12.096 L1416.95 12.096 Q1434.53 12.096 1442.76 19.4281 Q1450.98 26.7198 1450.98 42.2752 Q1450.98 57.9117 1442.72 65.2439 Q1434.45 72.576 1416.95 72.576 L1400.14 72.576 L1400.14 12.096 Z\" fill=\"#000000\" fill-rule=\"evenodd\" fill-opacity=\"1\" /><path clip-path=\"url(#clip300)\" d=\"M 0 0 M1455.03 46.5287 L1476.87 46.5287 L1476.87 53.1722 L1455.03 53.1722 L1455.03 46.5287 Z\" fill=\"#000000\" fill-rule=\"evenodd\" fill-opacity=\"1\" /><path clip-path=\"url(#clip300)\" d=\"M 0 0 M1487.15 65.6895 L1500.52 65.6895 L1500.52 19.5497 L1485.98 22.4663 L1485.98 15.0127 L1500.44 12.096 L1508.62 12.096 L1508.62 65.6895 L1521.99 65.6895 L1521.99 72.576 L1487.15 72.576 L1487.15 65.6895 Z\" fill=\"#000000\" fill-rule=\"evenodd\" fill-opacity=\"1\" /><path clip-path=\"url(#clip300)\" d=\"M 0 0 M1531.11 71.3202 L1531.11 63.8666 Q1534.19 65.3249 1537.35 66.0946 Q1540.51 66.8642 1543.54 66.8642 Q1551.65 66.8642 1555.9 61.436 Q1560.19 55.9673 1560.8 44.8678 Q1558.45 48.3516 1554.85 50.215 Q1551.24 52.0784 1546.87 52.0784 Q1537.79 52.0784 1532.48 46.6097 Q1527.22 41.1005 1527.22 31.5808 Q1527.22 22.2638 1532.73 16.633 Q1538.24 11.0023 1547.39 11.0023 Q1557.88 11.0023 1563.39 19.0636 Q1568.94 27.0843 1568.94 42.3968 Q1568.94 56.6965 1562.14 65.2439 Q1555.37 73.7508 1543.91 73.7508 Q1540.83 73.7508 1537.67 73.1431 Q1534.51 72.5355 1531.11 71.3202 M1547.39 45.678 Q1552.9 45.678 1556.1 41.9107 Q1559.34 38.1433 1559.34 31.5808 Q1559.34 25.0589 1556.1 21.2916 Q1552.9 17.4837 1547.39 17.4837 Q1541.88 17.4837 1538.64 21.2916 Q1535.44 25.0589 1535.44 31.5808 Q1535.44 38.1433 1538.64 41.9107 Q1541.88 45.678 1547.39 45.678 Z\" fill=\"#000000\" fill-rule=\"evenodd\" fill-opacity=\"1\" /><path clip-path=\"url(#clip300)\" d=\"M 0 0 M1635.78 28.9478 L1635.78 35.9153 Q1632.62 34.1734 1629.42 33.3227 Q1626.26 32.4315 1623.02 32.4315 Q1615.77 32.4315 1611.76 37.0496 Q1607.75 41.6271 1607.75 49.9314 Q1607.75 58.2358 1611.76 62.8538 Q1615.77 67.4314 1623.02 67.4314 Q1626.26 67.4314 1629.42 66.5807 Q1632.62 65.6895 1635.78 63.9476 L1635.78 70.8341 Q1632.66 72.2924 1629.3 73.0216 Q1625.98 73.7508 1622.21 73.7508 Q1611.96 73.7508 1605.93 67.3098 Q1599.89 60.8689 1599.89 49.9314 Q1599.89 38.832 1605.97 32.472 Q1612.08 26.1121 1622.7 26.1121 Q1626.14 26.1121 1629.42 26.8413 Q1632.7 27.5299 1635.78 28.9478 Z\" fill=\"#000000\" fill-rule=\"evenodd\" fill-opacity=\"1\" /><path clip-path=\"url(#clip300)\" d=\"M 0 0 M1664.22 49.7694 Q1655.19 49.7694 1651.7 51.8354 Q1648.22 53.9013 1648.22 58.8839 Q1648.22 62.8538 1650.81 65.2034 Q1653.44 67.5124 1657.94 67.5124 Q1664.14 67.5124 1667.87 63.1374 Q1671.63 58.7219 1671.63 51.4303 L1671.63 49.7694 L1664.22 49.7694 M1679.09 46.6907 L1679.09 72.576 L1671.63 72.576 L1671.63 65.6895 Q1669.08 69.8214 1665.27 71.8063 Q1661.47 73.7508 1655.96 73.7508 Q1648.99 73.7508 1644.86 69.8619 Q1640.77 65.9325 1640.77 59.3701 Q1640.77 51.7138 1645.87 47.825 Q1651.01 43.9361 1661.18 43.9361 L1671.63 43.9361 L1671.63 43.2069 Q1671.63 38.0623 1668.23 35.2672 Q1664.87 32.4315 1658.75 32.4315 Q1654.86 32.4315 1651.18 33.3632 Q1647.49 34.295 1644.09 36.1584 L1644.09 29.2718 Q1648.18 27.692 1652.03 26.9223 Q1655.88 26.1121 1659.52 26.1121 Q1669.36 26.1121 1674.23 31.2163 Q1679.09 36.3204 1679.09 46.6907 Z\" fill=\"#000000\" fill-rule=\"evenodd\" fill-opacity=\"1\" /><path clip-path=\"url(#clip300)\" d=\"M 0 0 M1715.83 28.5427 L1715.83 35.5912 Q1712.67 33.9709 1709.27 33.1607 Q1705.86 32.3505 1702.22 32.3505 Q1696.67 32.3505 1693.87 34.0519 Q1691.12 35.7533 1691.12 39.156 Q1691.12 41.7486 1693.1 43.2475 Q1695.09 44.7058 1701.08 46.0426 L1703.64 46.6097 Q1711.58 48.3111 1714.9 51.4303 Q1718.26 54.509 1718.26 60.0587 Q1718.26 66.3781 1713.24 70.0644 Q1708.25 73.7508 1699.5 73.7508 Q1695.86 73.7508 1691.89 73.0216 Q1687.96 72.3329 1683.58 70.9151 L1683.58 63.2184 Q1687.72 65.3654 1691.73 66.4591 Q1695.74 67.5124 1699.67 67.5124 Q1704.93 67.5124 1707.77 65.73 Q1710.6 63.9071 1710.6 60.6258 Q1710.6 57.5877 1708.54 55.9673 Q1706.51 54.3469 1699.58 52.8481 L1696.99 52.2405 Q1690.06 50.7821 1686.99 47.7845 Q1683.91 44.7463 1683.91 39.4801 Q1683.91 33.0797 1688.44 29.5959 Q1692.98 26.1121 1701.33 26.1121 Q1705.46 26.1121 1709.1 26.7198 Q1712.75 27.3274 1715.83 28.5427 Z\" fill=\"#000000\" fill-rule=\"evenodd\" fill-opacity=\"1\" /><path clip-path=\"url(#clip300)\" d=\"M 0 0 M1764.88 48.0275 L1764.88 51.6733 L1730.61 51.6733 Q1731.1 59.3701 1735.23 63.421 Q1739.4 67.4314 1746.82 67.4314 Q1751.11 67.4314 1755.12 66.3781 Q1759.17 65.3249 1763.14 63.2184 L1763.14 70.267 Q1759.13 71.9684 1754.92 72.8596 Q1750.71 73.7508 1746.37 73.7508 Q1735.52 73.7508 1729.16 67.4314 Q1722.84 61.1119 1722.84 50.3365 Q1722.84 39.1965 1728.83 32.6746 Q1734.87 26.1121 1745.08 26.1121 Q1754.23 26.1121 1759.54 32.0264 Q1764.88 37.9003 1764.88 48.0275 M1757.43 45.84 Q1757.35 39.7232 1753.99 36.0774 Q1750.67 32.4315 1745.16 32.4315 Q1738.92 32.4315 1735.15 35.9558 Q1731.42 39.4801 1730.86 45.8805 L1757.43 45.84 Z\" fill=\"#000000\" fill-rule=\"evenodd\" fill-opacity=\"1\" /><path clip-path=\"url(#clip300)\" d=\"M 0 0 M1801.63 28.5427 L1801.63 35.5912 Q1798.47 33.9709 1795.06 33.1607 Q1791.66 32.3505 1788.02 32.3505 Q1782.47 32.3505 1779.67 34.0519 Q1776.92 35.7533 1776.92 39.156 Q1776.92 41.7486 1778.9 43.2475 Q1780.89 44.7058 1786.88 46.0426 L1789.43 46.6097 Q1797.37 48.3111 1800.69 51.4303 Q1804.06 54.509 1804.06 60.0587 Q1804.06 66.3781 1799.03 70.0644 Q1794.05 73.7508 1785.3 73.7508 Q1781.66 73.7508 1777.69 73.0216 Q1773.76 72.3329 1769.38 70.9151 L1769.38 63.2184 Q1773.51 65.3654 1777.52 66.4591 Q1781.53 67.5124 1785.46 67.5124 Q1790.73 67.5124 1793.57 65.73 Q1796.4 63.9071 1796.4 60.6258 Q1796.4 57.5877 1794.33 55.9673 Q1792.31 54.3469 1785.38 52.8481 L1782.79 52.2405 Q1775.86 50.7821 1772.78 47.7845 Q1769.71 44.7463 1769.71 39.4801 Q1769.71 33.0797 1774.24 29.5959 Q1778.78 26.1121 1787.12 26.1121 Q1791.26 26.1121 1794.9 26.7198 Q1798.55 27.3274 1801.63 28.5427 Z\" fill=\"#000000\" fill-rule=\"evenodd\" fill-opacity=\"1\" /><path clip-path=\"url(#clip300)\" d=\"M 0 0 M1265.76 1525.81 L1265.76 1506.52 L1271.61 1506.52 L1271.61 1556.04 L1265.76 1556.04 L1265.76 1550.7 Q1263.91 1553.88 1261.08 1555.44 Q1258.28 1556.97 1254.33 1556.97 Q1247.87 1556.97 1243.8 1551.81 Q1239.75 1546.65 1239.75 1538.25 Q1239.75 1529.85 1243.8 1524.69 Q1247.87 1519.54 1254.33 1519.54 Q1258.28 1519.54 1261.08 1521.1 Q1263.91 1522.62 1265.76 1525.81 M1245.8 1538.25 Q1245.8 1544.71 1248.44 1548.4 Q1251.12 1552.07 1255.76 1552.07 Q1260.41 1552.07 1263.08 1548.4 Q1265.76 1544.71 1265.76 1538.25 Q1265.76 1531.79 1263.08 1528.13 Q1260.41 1524.44 1255.76 1524.44 Q1251.12 1524.44 1248.44 1528.13 Q1245.8 1531.79 1245.8 1538.25 Z\" fill=\"#000000\" fill-rule=\"evenodd\" fill-opacity=\"1\" /><path clip-path=\"url(#clip300)\" d=\"M 0 0 M1293.96 1538.12 Q1286.86 1538.12 1284.12 1539.75 Q1281.39 1541.37 1281.39 1545.29 Q1281.39 1548.4 1283.42 1550.25 Q1285.49 1552.07 1289.03 1552.07 Q1293.89 1552.07 1296.82 1548.63 Q1299.78 1545.16 1299.78 1539.43 L1299.78 1538.12 L1293.96 1538.12 M1305.64 1535.71 L1305.64 1556.04 L1299.78 1556.04 L1299.78 1550.63 Q1297.78 1553.88 1294.79 1555.44 Q1291.79 1556.97 1287.47 1556.97 Q1281.99 1556.97 1278.74 1553.91 Q1275.53 1550.82 1275.53 1545.67 Q1275.53 1539.65 1279.54 1536.6 Q1283.58 1533.54 1291.57 1533.54 L1299.78 1533.54 L1299.78 1532.97 Q1299.78 1528.93 1297.11 1526.73 Q1294.47 1524.5 1289.66 1524.5 Q1286.61 1524.5 1283.71 1525.23 Q1280.81 1525.97 1278.14 1527.43 L1278.14 1522.02 Q1281.35 1520.78 1284.38 1520.17 Q1287.4 1519.54 1290.27 1519.54 Q1298 1519.54 1301.82 1523.55 Q1305.64 1527.56 1305.64 1535.71 Z\" fill=\"#000000\" fill-rule=\"evenodd\" fill-opacity=\"1\" /><path clip-path=\"url(#clip300)\" d=\"M 0 0 M1326.61 1559.35 Q1324.13 1565.72 1321.78 1567.66 Q1319.42 1569.6 1315.47 1569.6 L1310.8 1569.6 L1310.8 1564.7 L1314.23 1564.7 Q1316.65 1564.7 1317.99 1563.56 Q1319.33 1562.41 1320.95 1558.14 L1322 1555.47 L1307.58 1520.4 L1313.79 1520.4 L1324.93 1548.28 L1336.07 1520.4 L1342.27 1520.4 L1326.61 1559.35 Z\" fill=\"#000000\" fill-rule=\"evenodd\" fill-opacity=\"1\" /><path clip-path=\"url(#clip300)\" d=\"M 0 0 M1371.14 1521.45 L1371.14 1526.98 Q1368.66 1525.71 1365.99 1525.07 Q1363.31 1524.44 1360.45 1524.44 Q1356.09 1524.44 1353.89 1525.77 Q1351.73 1527.11 1351.73 1529.79 Q1351.73 1531.82 1353.29 1533 Q1354.85 1534.15 1359.56 1535.2 L1361.56 1535.64 Q1367.8 1536.98 1370.41 1539.43 Q1373.05 1541.85 1373.05 1546.21 Q1373.05 1551.17 1369.11 1554.07 Q1365.19 1556.97 1358.32 1556.97 Q1355.45 1556.97 1352.33 1556.39 Q1349.24 1555.85 1345.81 1554.74 L1345.81 1548.69 Q1349.05 1550.38 1352.2 1551.24 Q1355.36 1552.07 1358.44 1552.07 Q1362.58 1552.07 1364.81 1550.66 Q1367.04 1549.23 1367.04 1546.65 Q1367.04 1544.27 1365.41 1542.99 Q1363.82 1541.72 1358.38 1540.54 L1356.34 1540.07 Q1350.9 1538.92 1348.48 1536.56 Q1346.06 1534.18 1346.06 1530.04 Q1346.06 1525.01 1349.63 1522.27 Q1353.19 1519.54 1359.75 1519.54 Q1362.99 1519.54 1365.86 1520.01 Q1368.72 1520.49 1371.14 1521.45 Z\" fill=\"#000000\" fill-rule=\"evenodd\" fill-opacity=\"1\" /><path clip-path=\"url(#clip300)\" d=\"M 0 0 M53.7248 947.539 L59.1993 947.539 Q57.8307 950.022 57.1623 952.537 Q56.4621 955.019 56.4621 957.565 Q56.4621 963.263 60.0905 966.414 Q63.6872 969.565 70.212 969.565 Q76.7369 969.565 80.3653 966.414 Q83.9619 963.263 83.9619 957.565 Q83.9619 955.019 83.2935 952.537 Q82.5933 950.022 81.2247 947.539 L86.6355 947.539 Q87.7814 949.99 88.3543 952.632 Q88.9272 955.242 88.9272 958.202 Q88.9272 966.255 83.8664 970.997 Q78.8057 975.74 70.212 975.74 Q61.491 975.74 56.4939 970.965 Q51.4968 966.159 51.4968 957.82 Q51.4968 955.115 52.0697 952.537 Q52.6108 949.958 53.7248 947.539 Z\" fill=\"#000000\" fill-rule=\"evenodd\" fill-opacity=\"1\" /><path clip-path=\"url(#clip300)\" d=\"M 0 0 M56.4621 927.583 Q56.4621 932.294 60.1542 935.031 Q63.8145 937.768 70.212 937.768 Q76.6095 937.768 80.3017 935.063 Q83.9619 932.325 83.9619 927.583 Q83.9619 922.904 80.2698 920.167 Q76.5777 917.43 70.212 917.43 Q63.8781 917.43 60.186 920.167 Q56.4621 922.904 56.4621 927.583 M51.4968 927.583 Q51.4968 919.944 56.4621 915.584 Q61.4273 911.223 70.212 911.223 Q78.9649 911.223 83.9619 915.584 Q88.9272 919.944 88.9272 927.583 Q88.9272 935.254 83.9619 939.614 Q78.9649 943.943 70.212 943.943 Q61.4273 943.943 56.4621 939.614 Q51.4968 935.254 51.4968 927.583 Z\" fill=\"#000000\" fill-rule=\"evenodd\" fill-opacity=\"1\" /><path clip-path=\"url(#clip300)\" d=\"M 0 0 M66.4881 875.448 L88.0042 875.448 L88.0042 881.304 L66.679 881.304 Q61.6183 881.304 59.1038 883.278 Q56.5894 885.251 56.5894 889.198 Q56.5894 893.94 59.6131 896.677 Q62.6368 899.415 67.8567 899.415 L88.0042 899.415 L88.0042 905.303 L52.3562 905.303 L52.3562 899.415 L57.8944 899.415 Q54.6797 897.314 53.0883 894.481 Q51.4968 891.617 51.4968 887.893 Q51.4968 881.75 55.3163 878.599 Q59.1038 875.448 66.4881 875.448 Z\" fill=\"#000000\" fill-rule=\"evenodd\" fill-opacity=\"1\" /><path clip-path=\"url(#clip300)\" d=\"M 0 0 M38.479 851.258 L43.3487 851.258 L43.3487 856.86 Q43.3487 860.011 44.6219 861.252 Q45.895 862.462 49.2052 862.462 L52.3562 862.462 L52.3562 852.818 L56.9077 852.818 L56.9077 862.462 L88.0042 862.462 L88.0042 868.35 L56.9077 868.35 L56.9077 873.952 L52.3562 873.952 L52.3562 868.35 L49.8736 868.35 Q43.9216 868.35 41.2162 865.581 Q38.479 862.812 38.479 856.796 L38.479 851.258 Z\" fill=\"#000000\" fill-rule=\"evenodd\" fill-opacity=\"1\" /><path clip-path=\"url(#clip300)\" d=\"M 0 0 M52.3562 845.115 L52.3562 839.259 L88.0042 839.259 L88.0042 845.115 L52.3562 845.115 M38.479 845.115 L38.479 839.259 L45.895 839.259 L45.895 845.115 L38.479 845.115 Z\" fill=\"#000000\" fill-rule=\"evenodd\" fill-opacity=\"1\" /><path clip-path=\"url(#clip300)\" d=\"M 0 0 M57.8307 812.459 Q57.2578 813.446 57.0032 814.624 Q56.7167 815.769 56.7167 817.17 Q56.7167 822.135 59.9632 824.809 Q63.1779 827.45 69.2253 827.45 L88.0042 827.45 L88.0042 833.339 L52.3562 833.339 L52.3562 827.45 L57.8944 827.45 Q54.6479 825.604 53.0883 822.644 Q51.4968 819.684 51.4968 815.451 Q51.4968 814.846 51.5923 814.114 Q51.656 813.382 51.8151 812.491 L57.8307 812.459 Z\" fill=\"#000000\" fill-rule=\"evenodd\" fill-opacity=\"1\" /><path clip-path=\"url(#clip300)\" d=\"M 0 0 M59.1993 779.708 Q55.2526 777.511 53.3747 774.456 Q51.4968 771.4 51.4968 767.263 Q51.4968 761.693 55.4117 758.669 Q59.2948 755.645 66.4881 755.645 L88.0042 755.645 L88.0042 761.534 L66.679 761.534 Q61.5546 761.534 59.072 763.348 Q56.5894 765.162 56.5894 768.886 Q56.5894 773.437 59.6131 776.079 Q62.6368 778.721 67.8567 778.721 L88.0042 778.721 L88.0042 784.609 L66.679 784.609 Q61.5228 784.609 59.072 786.423 Q56.5894 788.238 56.5894 792.025 Q56.5894 796.513 59.6449 799.155 Q62.6686 801.797 67.8567 801.797 L88.0042 801.797 L88.0042 807.685 L52.3562 807.685 L52.3562 801.797 L57.8944 801.797 Q54.616 799.791 53.0564 796.99 Q51.4968 794.19 51.4968 790.338 Q51.4968 786.455 53.4702 783.75 Q55.4436 781.013 59.1993 779.708 Z\" fill=\"#000000\" fill-rule=\"evenodd\" fill-opacity=\"1\" /><path clip-path=\"url(#clip300)\" d=\"M 0 0 M53.7248 703.128 L59.1993 703.128 Q57.8307 705.611 57.1623 708.125 Q56.4621 710.608 56.4621 713.154 Q56.4621 718.851 60.0905 722.002 Q63.6872 725.153 70.212 725.153 Q76.7369 725.153 80.3653 722.002 Q83.9619 718.851 83.9619 713.154 Q83.9619 710.608 83.2935 708.125 Q82.5933 705.611 81.2247 703.128 L86.6355 703.128 Q87.7814 705.579 88.3543 708.221 Q88.9272 710.831 88.9272 713.791 Q88.9272 721.843 83.8664 726.586 Q78.8057 731.328 70.212 731.328 Q61.491 731.328 56.4939 726.554 Q51.4968 721.748 51.4968 713.409 Q51.4968 710.703 52.0697 708.125 Q52.6108 705.547 53.7248 703.128 Z\" fill=\"#000000\" fill-rule=\"evenodd\" fill-opacity=\"1\" /><path clip-path=\"url(#clip300)\" d=\"M 0 0 M70.0847 680.785 Q70.0847 687.882 71.7079 690.62 Q73.3312 693.357 77.2461 693.357 Q80.3653 693.357 82.2114 691.32 Q84.0256 689.251 84.0256 685.718 Q84.0256 680.848 80.5881 677.92 Q77.1188 674.96 71.3897 674.96 L70.0847 674.96 L70.0847 680.785 M67.6657 669.103 L88.0042 669.103 L88.0042 674.96 L82.5933 674.96 Q85.8398 676.965 87.3994 679.957 Q88.9272 682.949 88.9272 687.278 Q88.9272 692.752 85.8716 695.999 Q82.7843 699.213 77.6281 699.213 Q71.6125 699.213 68.5569 695.203 Q65.5014 691.161 65.5014 683.172 L65.5014 674.96 L64.9285 674.96 Q60.8862 674.96 58.6901 677.633 Q56.4621 680.275 56.4621 685.081 Q56.4621 688.137 57.1941 691.033 Q57.9262 693.93 59.3903 696.603 L53.9795 696.603 Q52.7381 693.389 52.1334 690.365 Q51.4968 687.341 51.4968 684.477 Q51.4968 676.742 55.5072 672.923 Q59.5176 669.103 67.6657 669.103 Z\" fill=\"#000000\" fill-rule=\"evenodd\" fill-opacity=\"1\" /><path clip-path=\"url(#clip300)\" d=\"M 0 0 M53.4065 640.235 L58.9447 640.235 Q57.6716 642.718 57.035 645.391 Q56.3984 648.065 56.3984 650.929 Q56.3984 655.29 57.7352 657.486 Q59.072 659.65 61.7456 659.65 Q63.7826 659.65 64.9603 658.091 Q66.1061 656.531 67.1565 651.821 L67.6021 649.815 Q68.9389 643.577 71.3897 640.967 Q73.8086 638.325 78.1691 638.325 Q83.1344 638.325 86.0308 642.272 Q88.9272 646.187 88.9272 653.062 Q88.9272 655.926 88.3543 659.046 Q87.8132 662.133 86.6992 665.57 L80.6518 665.57 Q82.3387 662.324 83.198 659.173 Q84.0256 656.022 84.0256 652.935 Q84.0256 648.797 82.6251 646.569 Q81.1929 644.341 78.6147 644.341 Q76.2276 644.341 74.9545 645.964 Q73.6813 647.556 72.5037 652.998 L72.0262 655.035 Q70.8804 660.478 68.5251 662.897 Q66.138 665.316 62.0002 665.316 Q56.9713 665.316 54.2341 661.751 Q51.4968 658.186 51.4968 651.63 Q51.4968 648.383 51.9743 645.519 Q52.4517 642.654 53.4065 640.235 Z\" fill=\"#000000\" fill-rule=\"evenodd\" fill-opacity=\"1\" /><path clip-path=\"url(#clip300)\" d=\"M 0 0 M68.7161 601.691 L71.5806 601.691 L71.5806 628.618 Q77.6281 628.236 80.8109 624.989 Q83.9619 621.711 83.9619 615.886 Q83.9619 612.512 83.1344 609.361 Q82.3069 606.178 80.6518 603.059 L86.1899 603.059 Q87.5267 606.21 88.227 609.52 Q88.9272 612.831 88.9272 616.236 Q88.9272 624.766 83.9619 629.763 Q78.9967 634.729 70.5303 634.729 Q61.7774 634.729 56.6531 630.018 Q51.4968 625.276 51.4968 617.255 Q51.4968 610.062 56.1438 605.892 Q60.7589 601.691 68.7161 601.691 M66.9973 607.547 Q62.1912 607.611 59.3266 610.252 Q56.4621 612.862 56.4621 617.191 Q56.4621 622.093 59.2312 625.053 Q62.0002 627.981 67.0292 628.427 L66.9973 607.547 Z\" fill=\"#000000\" fill-rule=\"evenodd\" fill-opacity=\"1\" /><path clip-path=\"url(#clip300)\" d=\"M 0 0 M53.4065 572.822 L58.9447 572.822 Q57.6716 575.305 57.035 577.978 Q56.3984 580.652 56.3984 583.517 Q56.3984 587.877 57.7352 590.073 Q59.072 592.238 61.7456 592.238 Q63.7826 592.238 64.9603 590.678 Q66.1061 589.118 67.1565 584.408 L67.6021 582.403 Q68.9389 576.164 71.3897 573.554 Q73.8086 570.912 78.1691 570.912 Q83.1344 570.912 86.0308 574.859 Q88.9272 578.774 88.9272 585.649 Q88.9272 588.514 88.3543 591.633 Q87.8132 594.72 86.6992 598.158 L80.6518 598.158 Q82.3387 594.911 83.198 591.76 Q84.0256 588.609 84.0256 585.522 Q84.0256 581.384 82.6251 579.156 Q81.1929 576.928 78.6147 576.928 Q76.2276 576.928 74.9545 578.551 Q73.6813 580.143 72.5037 585.585 L72.0262 587.622 Q70.8804 593.065 68.5251 595.484 Q66.138 597.903 62.0002 597.903 Q56.9713 597.903 54.2341 594.338 Q51.4968 590.773 51.4968 584.217 Q51.4968 580.97 51.9743 578.106 Q52.4517 575.241 53.4065 572.822 Z\" fill=\"#000000\" fill-rule=\"evenodd\" fill-opacity=\"1\" /><polyline clip-path=\"url(#clip302)\" style=\"stroke:#009af9; stroke-width:4; stroke-opacity:1; fill:none\" points=\"\n  349.739,1386.4 364.686,1246.44 379.634,1246.44 394.582,1246.44 409.53,1223.91 424.478,1176.46 439.426,1153.93 454.374,1135.53 469.322,1135.53 484.27,1135.53 \n  499.217,1135.53 514.165,1127.44 529.113,1127.44 544.061,1119.96 559.009,1119.96 573.957,1106.48 588.905,1106.48 603.853,1106.48 618.801,1106.48 633.748,1106.48 \n  648.696,1106.48 663.644,1106.48 678.592,1106.48 693.54,1106.48 708.488,1106.48 723.436,1106.48 738.384,1106.48 753.332,1106.48 768.28,1106.48 783.227,1100.36 \n  798.175,1053.66 813.123,999.866 828.071,995.569 843.019,945.267 857.967,894.982 872.915,874.652 887.863,853.531 902.811,824.23 917.758,762.686 932.706,729.438 \n  947.654,711.661 962.602,685.047 977.55,672.639 992.498,651.008 1007.45,623.782 1022.39,615.166 1037.34,557.605 1052.29,535.269 1067.24,511.625 1082.19,488.704 \n  1097.13,464.338 1112.08,435.422 1127.03,413.477 1141.98,387.335 1156.92,375.97 1171.87,364.551 1186.82,348.858 1201.77,336.051 1216.72,323.58 1231.66,307.107 \n  1246.61,292.315 1261.56,279.607 1276.51,272.187 1291.46,264.685 1306.4,257.515 \n  \"/>\n<polyline clip-path=\"url(#clip302)\" style=\"stroke:#e26f46; stroke-width:4; stroke-opacity:1; fill:none\" points=\"\n  409.53,1316.42 424.478,1316.42 439.426,1316.42 454.374,1316.42 469.322,1316.42 484.27,1316.42 499.217,1316.42 514.165,1275.48 529.113,1275.48 544.061,1275.48 \n  559.009,1176.46 573.957,1176.46 588.905,1164.57 603.853,1164.57 618.801,1164.57 633.748,1164.57 648.696,1164.57 663.644,1164.57 678.592,1164.57 693.54,1164.57 \n  708.488,1164.57 723.436,1164.57 738.384,1164.57 753.332,1164.57 768.28,1127.44 783.227,1127.44 798.175,1127.44 813.123,1113 828.071,1083.95 843.019,1069.84 \n  857.967,1024.61 872.915,1013.98 887.863,989.449 902.811,936.696 917.758,906.485 932.706,871.526 947.654,848.018 962.602,819.709 977.55,803.412 992.498,785.634 \n  1007.45,767.622 1022.39,767.622 1037.34,711.282 1052.29,675.424 1067.24,675.336 1082.19,644.696 1097.13,621.068 1112.08,590.923 1127.03,588.134 1141.98,548.697 \n  1156.92,525.178 1171.87,512.499 1186.82,496.583 1201.77,477.023 1216.72,460.245 1231.66,439.731 1246.61,417.34 1261.56,401.136 1276.51,387.682 1291.46,374.885 \n  1306.4,362.113 \n  \"/>\n<polyline clip-path=\"url(#clip302)\" style=\"stroke:#3da44d; stroke-width:4; stroke-opacity:1; fill:none\" points=\"\n  274.999,749.73 289.947,733.59 304.895,697.424 319.843,654.605 334.791,615.311 349.739,582.32 364.686,516.734 379.634,506.662 394.582,477.307 409.53,458.562 \n  424.478,439.058 439.426,405.194 454.374,388.009 469.322,369.398 484.27,354.635 499.217,343.674 514.165,332.668 529.113,324.966 544.061,317.019 559.009,310.813 \n  573.957,306.082 588.905,305.238 603.853,275.829 618.801,265.483 633.748,262.404 648.696,259.352 663.644,256.638 678.592,254.192 693.54,253.638 708.488,253.02 \n  723.436,252.386 738.384,250.466 753.332,250.438 768.28,250.151 783.227,249.483 798.175,248.95 813.123,248.391 828.071,247.97 843.019,247.424 857.967,246.694 \n  872.915,246.437 887.863,246.279 902.811,246.122 917.758,245.933 932.706,245.741 947.654,245.641 962.602,245.575 977.55,245.529 992.498,245.495 1007.45,245.453 \n  1022.39,245.439 1037.34,245.423 1052.29,245.383 1067.24,245.35 1082.19,245.313 1097.13,245.282 1112.08,245.227 1127.03,245.16 1141.98,245.043 1156.92,244.975 \n  1171.87,244.813 1186.82,244.735 1201.77,244.62 1216.72,244.534 1231.66,244.384 1246.61,244.242 1261.56,244.117 1276.51,243.965 1291.46,243.872 1306.4,243.772 \n  \n  \"/>\n<polyline clip-path=\"url(#clip302)\" style=\"stroke:#c271d2; stroke-width:4; stroke-opacity:1; fill:none\" points=\"\n  274.999,1386.4 289.947,1386.4 304.895,1316.42 319.843,1316.42 334.791,1275.48 349.739,1246.44 364.686,1246.44 379.634,1246.44 394.582,1246.44 409.53,1144.31 \n  424.478,1135.53 439.426,1113 454.374,1113 469.322,1106.48 484.27,1089.13 499.217,1069.84 514.165,1065.55 529.113,1065.55 544.061,1061.43 559.009,1053.66 \n  573.957,1049.98 588.905,1049.98 603.853,1049.98 618.801,1049.98 633.748,1049.98 648.696,1046.44 663.644,1043.02 678.592,1039.71 693.54,1039.71 708.488,917.51 \n  723.436,849.492 738.384,773.51 753.332,740.242 768.28,707.453 783.227,691.356 798.175,665.594 813.123,631.59 828.071,603.307 843.019,573.168 857.967,555.943 \n  872.915,540.93 887.863,522.834 902.811,514.702 917.758,506.645 932.706,498.6 947.654,491.963 962.602,488.122 977.55,485.884 992.498,485.412 1007.45,482.211 \n  1022.39,480.738 1037.34,479.337 1052.29,477.992 1067.24,477.047 1082.19,476.136 1097.13,475.112 1112.08,473.989 1127.03,472.182 1141.98,471.161 1156.92,469.461 \n  1171.87,467.619 1186.82,467.619 1201.77,466.766 1216.72,465.655 1231.66,464.512 1246.61,463.523 1261.56,461.956 1276.51,460.844 1291.46,460.025 1306.4,458.727 \n  \n  \"/>\n<polyline clip-path=\"url(#clip302)\" style=\"stroke:#ac8d18; stroke-width:4; stroke-opacity:1; fill:none\" points=\"\n  274.999,1316.42 289.947,1316.42 304.895,1316.42 319.843,1316.42 334.791,1246.44 349.739,1246.44 364.686,1189.94 379.634,1189.94 394.582,1144.31 409.53,1113 \n  424.478,1083.95 439.426,1083.95 454.374,1083.95 469.322,1074.33 484.27,1074.33 499.217,1074.33 514.165,1061.43 529.113,1061.43 544.061,1057.47 559.009,1057.47 \n  573.957,1057.47 588.905,1049.98 603.853,1049.98 618.801,1046.44 633.748,1006.67 648.696,974.738 663.644,963.419 678.592,951.868 693.54,939.072 708.488,927.716 \n  723.436,916.544 738.384,901.394 753.332,882.574 768.28,874.652 783.227,867.899 798.175,857.202 813.123,844.66 828.071,838.263 843.019,832.665 857.967,826.569 \n  872.915,819.709 887.863,812.94 902.811,800.629 917.758,792.15 932.706,776.587 947.654,767.184 962.602,758.582 977.55,756.788 992.498,743.827 1007.45,734.22 \n  1022.39,734.22 1037.34,724.871 1052.29,715.001 1067.24,706.729 1082.19,706.729 1097.13,702.142 1112.08,700.885 1127.03,696.986 1141.98,692.813 1156.92,688.302 \n  1171.87,679.292 1186.82,676.846 1201.77,671.19 1216.72,661.977 1231.66,655.979 1246.61,650.249 1261.56,635.852 1276.51,626.029 1291.46,626.029 1306.4,621.429 \n  \n  \"/>\n<polyline clip-path=\"url(#clip302)\" style=\"stroke:#00a9ad; stroke-width:4; stroke-opacity:1; fill:none\" points=\"\n  304.895,1316.42 319.843,1275.48 334.791,1275.48 349.739,1275.48 364.686,1246.44 379.634,1223.91 394.582,1223.91 409.53,1223.91 424.478,1205.5 439.426,1205.5 \n  454.374,1205.5 469.322,1205.5 484.27,1205.5 499.217,1205.5 514.165,1205.5 529.113,1144.31 544.061,1144.31 559.009,1144.31 573.957,1144.31 588.905,1144.31 \n  603.853,1144.31 618.801,1144.31 633.748,1135.53 648.696,1135.53 663.644,1135.53 678.592,1135.53 693.54,1135.53 708.488,1135.53 723.436,1135.53 738.384,1135.53 \n  753.332,1135.53 768.28,1135.53 783.227,1119.96 798.175,1094.59 813.123,1019.15 828.071,978.22 843.019,921.469 857.967,894.982 872.915,856.14 887.863,849.492 \n  902.811,814.678 917.758,786.691 932.706,731.569 947.654,693.233 962.602,676.133 977.55,669.014 992.498,630.002 1007.45,605.226 1022.39,605.226 1037.34,557.44 \n  1052.29,537.248 1067.24,536.443 1082.19,497.231 1097.13,482.734 1112.08,465.799 1127.03,447.197 1141.98,431.953 1156.92,419.289 1171.87,407.571 1186.82,385.946 \n  1201.77,374.128 1216.72,361.643 1231.66,347.153 1246.61,334.786 1261.56,321.486 1276.51,314.815 1291.46,304.315 1306.4,288.506 \n  \"/>\n<polyline clip-path=\"url(#clip302)\" style=\"stroke:#ed5d92; stroke-width:4; stroke-opacity:1; fill:none\" points=\"\n  274.999,1386.4 289.947,1386.4 304.895,1316.42 319.843,1316.42 334.791,1223.91 349.739,1223.91 364.686,1223.91 379.634,1223.91 394.582,1223.91 409.53,1189.94 \n  424.478,1176.46 439.426,1176.46 454.374,1144.31 469.322,1144.31 484.27,1144.31 499.217,1144.31 514.165,1144.31 529.113,1144.31 544.061,1144.31 559.009,1144.31 \n  573.957,1135.53 588.905,1135.53 603.853,1127.44 618.801,1127.44 633.748,1127.44 648.696,1127.44 663.644,1127.44 678.592,1127.44 693.54,1127.44 708.488,1127.44 \n  723.436,1113 738.384,1113 753.332,1113 768.28,989.449 783.227,989.449 798.175,978.22 813.123,976.464 828.071,973.041 843.019,960.405 857.967,951.868 \n  872.915,923.509 887.863,904.76 902.811,881.21 917.758,842.329 932.706,822.321 947.654,780.758 962.602,755.219 977.55,742.618 992.498,692.918 1007.45,663.69 \n  1022.39,637.415 1037.34,610.281 1052.29,587.652 1067.24,561.498 1082.19,533.61 1097.13,501.017 1112.08,481.874 1127.03,424.408 1141.98,390.298 1156.92,361.643 \n  1171.87,335.155 1186.82,307.281 1201.77,286.429 1216.72,266.268 1231.66,241.88 1246.61,222.119 1261.56,204.182 1276.51,189.457 1291.46,175.284 1306.4,160.256 \n  \n  \"/>\n<path clip-path=\"url(#clip300)\" d=\"\nM1707.63 690.832 L2280.76 690.832 L2280.76 206.992 L1707.63 206.992  Z\n  \" fill=\"#ffffff\" fill-rule=\"evenodd\" fill-opacity=\"1\"/>\n<polyline clip-path=\"url(#clip300)\" style=\"stroke:#000000; stroke-width:4; stroke-opacity:1; fill:none\" points=\"\n  1707.63,690.832 2280.76,690.832 2280.76,206.992 1707.63,206.992 1707.63,690.832 \n  \"/>\n<polyline clip-path=\"url(#clip300)\" style=\"stroke:#009af9; stroke-width:4; stroke-opacity:1; fill:none\" points=\"\n  1731.63,267.472 1875.63,267.472 \n  \"/>\n<path clip-path=\"url(#clip300)\" d=\"M 0 0 M1925.19 279.822 L1925.19 270.539 L1917.55 270.539 L1917.55 266.697 L1929.82 266.697 L1929.82 281.535 Q1927.11 283.456 1923.85 284.451 Q1920.58 285.423 1916.88 285.423 Q1908.78 285.423 1904.19 280.701 Q1899.63 275.956 1899.63 267.507 Q1899.63 259.035 1904.19 254.312 Q1908.78 249.567 1916.88 249.567 Q1920.26 249.567 1923.29 250.4 Q1926.35 251.234 1928.91 252.854 L1928.91 257.831 Q1926.32 255.632 1923.41 254.521 Q1920.49 253.41 1917.27 253.41 Q1910.93 253.41 1907.73 256.951 Q1904.56 260.493 1904.56 267.507 Q1904.56 274.498 1907.73 278.039 Q1910.93 281.581 1917.27 281.581 Q1919.75 281.581 1921.69 281.164 Q1923.64 280.724 1925.19 279.822 Z\" fill=\"#000000\" fill-rule=\"evenodd\" fill-opacity=\"1\" /><path clip-path=\"url(#clip300)\" d=\"M 0 0 M1956.46 270.724 L1956.46 272.808 L1936.88 272.808 Q1937.16 277.206 1939.52 279.521 Q1941.9 281.812 1946.14 281.812 Q1948.59 281.812 1950.88 281.21 Q1953.2 280.609 1955.47 279.405 L1955.47 283.433 Q1953.17 284.405 1950.77 284.914 Q1948.36 285.423 1945.88 285.423 Q1939.68 285.423 1936.04 281.812 Q1932.43 278.201 1932.43 272.044 Q1932.43 265.678 1935.86 261.951 Q1939.31 258.201 1945.14 258.201 Q1950.37 258.201 1953.41 261.581 Q1956.46 264.937 1956.46 270.724 M1952.2 269.474 Q1952.16 265.979 1950.23 263.896 Q1948.34 261.812 1945.19 261.812 Q1941.62 261.812 1939.47 263.826 Q1937.34 265.84 1937.02 269.498 L1952.2 269.474 Z\" fill=\"#000000\" fill-rule=\"evenodd\" fill-opacity=\"1\" /><path clip-path=\"url(#clip300)\" d=\"M 0 0 M1975.95 262.808 Q1975.23 262.391 1974.38 262.206 Q1973.54 261.998 1972.53 261.998 Q1968.91 261.998 1966.97 264.359 Q1965.05 266.697 1965.05 271.095 L1965.05 284.752 L1960.77 284.752 L1960.77 258.826 L1965.05 258.826 L1965.05 262.854 Q1966.39 260.493 1968.54 259.359 Q1970.7 258.201 1973.78 258.201 Q1974.22 258.201 1974.75 258.271 Q1975.28 258.317 1975.93 258.433 L1975.95 262.808 Z\" fill=\"#000000\" fill-rule=\"evenodd\" fill-opacity=\"1\" /><path clip-path=\"url(#clip300)\" d=\"M 0 0 M1999.77 263.803 Q2001.37 260.933 2003.59 259.567 Q2005.81 258.201 2008.82 258.201 Q2012.87 258.201 2015.07 261.049 Q2017.27 263.873 2017.27 269.104 L2017.27 284.752 L2012.99 284.752 L2012.99 269.243 Q2012.99 265.516 2011.67 263.711 Q2010.35 261.905 2007.64 261.905 Q2004.33 261.905 2002.41 264.104 Q2000.49 266.303 2000.49 270.099 L2000.49 284.752 L1996.21 284.752 L1996.21 269.243 Q1996.21 265.493 1994.89 263.711 Q1993.57 261.905 1990.81 261.905 Q1987.55 261.905 1985.63 264.127 Q1983.71 266.326 1983.71 270.099 L1983.71 284.752 L1979.42 284.752 L1979.42 258.826 L1983.71 258.826 L1983.71 262.854 Q1985.16 260.47 1987.2 259.336 Q1989.24 258.201 1992.04 258.201 Q1994.86 258.201 1996.83 259.637 Q1998.82 261.072 1999.77 263.803 Z\" fill=\"#000000\" fill-rule=\"evenodd\" fill-opacity=\"1\" /><path clip-path=\"url(#clip300)\" d=\"M 0 0 M2033.52 271.72 Q2028.36 271.72 2026.37 272.9 Q2024.38 274.081 2024.38 276.928 Q2024.38 279.197 2025.86 280.539 Q2027.36 281.859 2029.93 281.859 Q2033.47 281.859 2035.6 279.359 Q2037.76 276.836 2037.76 272.669 L2037.76 271.72 L2033.52 271.72 M2042.02 269.961 L2042.02 284.752 L2037.76 284.752 L2037.76 280.817 Q2036.3 283.178 2034.12 284.312 Q2031.95 285.423 2028.8 285.423 Q2024.82 285.423 2022.46 283.201 Q2020.12 280.956 2020.12 277.206 Q2020.12 272.831 2023.03 270.609 Q2025.97 268.386 2031.78 268.386 L2037.76 268.386 L2037.76 267.97 Q2037.76 265.03 2035.81 263.433 Q2033.89 261.812 2030.4 261.812 Q2028.17 261.812 2026.07 262.345 Q2023.96 262.877 2022.02 263.942 L2022.02 260.007 Q2024.35 259.104 2026.55 258.664 Q2028.75 258.201 2030.84 258.201 Q2036.46 258.201 2039.24 261.118 Q2042.02 264.035 2042.02 269.961 Z\" fill=\"#000000\" fill-rule=\"evenodd\" fill-opacity=\"1\" /><path clip-path=\"url(#clip300)\" d=\"M 0 0 M2068.03 269.104 L2068.03 284.752 L2063.78 284.752 L2063.78 269.243 Q2063.78 265.562 2062.34 263.734 Q2060.9 261.905 2058.03 261.905 Q2054.59 261.905 2052.59 264.104 Q2050.6 266.303 2050.6 270.099 L2050.6 284.752 L2046.32 284.752 L2046.32 258.826 L2050.6 258.826 L2050.6 262.854 Q2052.13 260.516 2054.19 259.359 Q2056.28 258.201 2058.98 258.201 Q2063.45 258.201 2065.74 260.979 Q2068.03 263.734 2068.03 269.104 Z\" fill=\"#000000\" fill-rule=\"evenodd\" fill-opacity=\"1\" /><path clip-path=\"url(#clip300)\" d=\"M 0 0 M2083.29 287.16 Q2081.48 291.789 2079.77 293.201 Q2078.06 294.613 2075.19 294.613 L2071.78 294.613 L2071.78 291.048 L2074.28 291.048 Q2076.04 291.048 2077.02 290.215 Q2077.99 289.382 2079.17 286.28 L2079.93 284.335 L2069.45 258.826 L2073.96 258.826 L2082.06 279.104 L2090.16 258.826 L2094.68 258.826 L2083.29 287.16 Z\" fill=\"#000000\" fill-rule=\"evenodd\" fill-opacity=\"1\" /><polyline clip-path=\"url(#clip300)\" style=\"stroke:#e26f46; stroke-width:4; stroke-opacity:1; fill:none\" points=\"\n  1731.63,327.952 1875.63,327.952 \n  \"/>\n<path clip-path=\"url(#clip300)\" d=\"M 0 0 M1899.63 310.672 L1904.33 310.672 L1904.33 331.667 Q1904.33 337.223 1906.35 339.677 Q1908.36 342.107 1912.87 342.107 Q1917.36 342.107 1919.38 339.677 Q1921.39 337.223 1921.39 331.667 L1921.39 310.672 L1926.09 310.672 L1926.09 332.246 Q1926.09 339.005 1922.73 342.454 Q1919.4 345.903 1912.87 345.903 Q1906.32 345.903 1902.97 342.454 Q1899.63 339.005 1899.63 332.246 L1899.63 310.672 Z\" fill=\"#000000\" fill-rule=\"evenodd\" fill-opacity=\"1\" /><path clip-path=\"url(#clip300)\" d=\"M 0 0 M1952.11 329.584 L1952.11 345.232 L1947.85 345.232 L1947.85 329.723 Q1947.85 326.042 1946.41 324.214 Q1944.98 322.385 1942.11 322.385 Q1938.66 322.385 1936.67 324.584 Q1934.68 326.783 1934.68 330.579 L1934.68 345.232 L1930.4 345.232 L1930.4 319.306 L1934.68 319.306 L1934.68 323.334 Q1936.21 320.996 1938.27 319.839 Q1940.35 318.681 1943.06 318.681 Q1947.53 318.681 1949.82 321.459 Q1952.11 324.214 1952.11 329.584 Z\" fill=\"#000000\" fill-rule=\"evenodd\" fill-opacity=\"1\" /><path clip-path=\"url(#clip300)\" d=\"M 0 0 M1956.58 319.306 L1960.84 319.306 L1960.84 345.232 L1956.58 345.232 L1956.58 319.306 M1956.58 309.214 L1960.84 309.214 L1960.84 314.607 L1956.58 314.607 L1956.58 309.214 Z\" fill=\"#000000\" fill-rule=\"evenodd\" fill-opacity=\"1\" /><path clip-path=\"url(#clip300)\" d=\"M 0 0 M1969.52 311.945 L1969.52 319.306 L1978.29 319.306 L1978.29 322.617 L1969.52 322.617 L1969.52 336.691 Q1969.52 339.862 1970.37 340.765 Q1971.25 341.667 1973.91 341.667 L1978.29 341.667 L1978.29 345.232 L1973.91 345.232 Q1968.98 345.232 1967.11 343.403 Q1965.23 341.552 1965.23 336.691 L1965.23 322.617 L1962.11 322.617 L1962.11 319.306 L1965.23 319.306 L1965.23 311.945 L1969.52 311.945 Z\" fill=\"#000000\" fill-rule=\"evenodd\" fill-opacity=\"1\" /><path clip-path=\"url(#clip300)\" d=\"M 0 0 M2004.93 331.204 L2004.93 333.288 L1985.35 333.288 Q1985.63 337.686 1987.99 340.001 Q1990.37 342.292 1994.61 342.292 Q1997.06 342.292 1999.35 341.69 Q2001.67 341.089 2003.94 339.885 L2003.94 343.913 Q2001.65 344.885 1999.24 345.394 Q1996.83 345.903 1994.35 345.903 Q1988.15 345.903 1984.52 342.292 Q1980.91 338.681 1980.91 332.524 Q1980.91 326.158 1984.33 322.431 Q1987.78 318.681 1993.61 318.681 Q1998.85 318.681 2001.88 322.061 Q2004.93 325.417 2004.93 331.204 M2000.67 329.954 Q2000.63 326.459 1998.71 324.376 Q1996.81 322.292 1993.66 322.292 Q1990.1 322.292 1987.94 324.306 Q1985.81 326.32 1985.49 329.978 L2000.67 329.954 Z\" fill=\"#000000\" fill-rule=\"evenodd\" fill-opacity=\"1\" /><path clip-path=\"url(#clip300)\" d=\"M 0 0 M2026.46 323.242 L2026.46 309.214 L2030.72 309.214 L2030.72 345.232 L2026.46 345.232 L2026.46 341.343 Q2025.12 343.658 2023.06 344.792 Q2021.02 345.903 2018.15 345.903 Q2013.45 345.903 2010.49 342.153 Q2007.55 338.403 2007.55 332.292 Q2007.55 326.181 2010.49 322.431 Q2013.45 318.681 2018.15 318.681 Q2021.02 318.681 2023.06 319.816 Q2025.12 320.927 2026.46 323.242 M2011.95 332.292 Q2011.95 336.991 2013.87 339.677 Q2015.81 342.339 2019.19 342.339 Q2022.57 342.339 2024.52 339.677 Q2026.46 336.991 2026.46 332.292 Q2026.46 327.593 2024.52 324.931 Q2022.57 322.246 2019.19 322.246 Q2015.81 322.246 2013.87 324.931 Q2011.95 327.593 2011.95 332.292 Z\" fill=\"#000000\" fill-rule=\"evenodd\" fill-opacity=\"1\" /><path clip-path=\"url(#clip300)\" d=\"M 0 0 M2050.44 310.672 L2055.12 310.672 L2055.12 325.279 L2070.63 310.672 L2076.65 310.672 L2059.49 326.783 L2077.87 345.232 L2071.72 345.232 L2055.12 328.589 L2055.12 345.232 L2050.44 345.232 L2050.44 310.672 Z\" fill=\"#000000\" fill-rule=\"evenodd\" fill-opacity=\"1\" /><path clip-path=\"url(#clip300)\" d=\"M 0 0 M2082.34 319.306 L2086.6 319.306 L2086.6 345.232 L2082.34 345.232 L2082.34 319.306 M2082.34 309.214 L2086.6 309.214 L2086.6 314.607 L2082.34 314.607 L2082.34 309.214 Z\" fill=\"#000000\" fill-rule=\"evenodd\" fill-opacity=\"1\" /><path clip-path=\"url(#clip300)\" d=\"M 0 0 M2112.62 329.584 L2112.62 345.232 L2108.36 345.232 L2108.36 329.723 Q2108.36 326.042 2106.92 324.214 Q2105.49 322.385 2102.62 322.385 Q2099.17 322.385 2097.18 324.584 Q2095.19 326.783 2095.19 330.579 L2095.19 345.232 L2090.9 345.232 L2090.9 319.306 L2095.19 319.306 L2095.19 323.334 Q2096.71 320.996 2098.78 319.839 Q2100.86 318.681 2103.57 318.681 Q2108.03 318.681 2110.33 321.459 Q2112.62 324.214 2112.62 329.584 Z\" fill=\"#000000\" fill-rule=\"evenodd\" fill-opacity=\"1\" /><path clip-path=\"url(#clip300)\" d=\"M 0 0 M2134.15 331.968 Q2134.15 327.339 2132.22 324.792 Q2130.33 322.246 2126.88 322.246 Q2123.45 322.246 2121.53 324.792 Q2119.63 327.339 2119.63 331.968 Q2119.63 336.575 2121.53 339.121 Q2123.45 341.667 2126.88 341.667 Q2130.33 341.667 2132.22 339.121 Q2134.15 336.575 2134.15 331.968 M2138.4 342.015 Q2138.4 348.635 2135.46 351.852 Q2132.52 355.093 2126.46 355.093 Q2124.21 355.093 2122.22 354.746 Q2120.23 354.422 2118.36 353.727 L2118.36 349.584 Q2120.23 350.602 2122.06 351.089 Q2123.89 351.575 2125.79 351.575 Q2129.98 351.575 2132.06 349.376 Q2134.15 347.2 2134.15 342.778 L2134.15 340.672 Q2132.83 342.964 2130.77 344.098 Q2128.71 345.232 2125.84 345.232 Q2121.07 345.232 2118.15 341.598 Q2115.23 337.964 2115.23 331.968 Q2115.23 325.95 2118.15 322.316 Q2121.07 318.681 2125.84 318.681 Q2128.71 318.681 2130.77 319.816 Q2132.83 320.95 2134.15 323.242 L2134.15 319.306 L2138.4 319.306 L2138.4 342.015 Z\" fill=\"#000000\" fill-rule=\"evenodd\" fill-opacity=\"1\" /><path clip-path=\"url(#clip300)\" d=\"M 0 0 M2159.93 323.242 L2159.93 309.214 L2164.19 309.214 L2164.19 345.232 L2159.93 345.232 L2159.93 341.343 Q2158.59 343.658 2156.53 344.792 Q2154.49 345.903 2151.62 345.903 Q2146.92 345.903 2143.96 342.153 Q2141.02 338.403 2141.02 332.292 Q2141.02 326.181 2143.96 322.431 Q2146.92 318.681 2151.62 318.681 Q2154.49 318.681 2156.53 319.816 Q2158.59 320.927 2159.93 323.242 M2145.42 332.292 Q2145.42 336.991 2147.34 339.677 Q2149.28 342.339 2152.66 342.339 Q2156.04 342.339 2157.99 339.677 Q2159.93 336.991 2159.93 332.292 Q2159.93 327.593 2157.99 324.931 Q2156.04 322.246 2152.66 322.246 Q2149.28 322.246 2147.34 324.931 Q2145.42 327.593 2145.42 332.292 Z\" fill=\"#000000\" fill-rule=\"evenodd\" fill-opacity=\"1\" /><path clip-path=\"url(#clip300)\" d=\"M 0 0 M2178.71 322.292 Q2175.28 322.292 2173.29 324.978 Q2171.3 327.64 2171.3 332.292 Q2171.3 336.945 2173.27 339.63 Q2175.26 342.292 2178.71 342.292 Q2182.11 342.292 2184.1 339.607 Q2186.09 336.922 2186.09 332.292 Q2186.09 327.686 2184.1 325.001 Q2182.11 322.292 2178.71 322.292 M2178.71 318.681 Q2184.26 318.681 2187.43 322.292 Q2190.6 325.904 2190.6 332.292 Q2190.6 338.658 2187.43 342.292 Q2184.26 345.903 2178.71 345.903 Q2173.13 345.903 2169.96 342.292 Q2166.81 338.658 2166.81 332.292 Q2166.81 325.904 2169.96 322.292 Q2173.13 318.681 2178.71 318.681 Z\" fill=\"#000000\" fill-rule=\"evenodd\" fill-opacity=\"1\" /><path clip-path=\"url(#clip300)\" d=\"M 0 0 M2215.26 324.283 Q2216.85 321.413 2219.08 320.047 Q2221.3 318.681 2224.31 318.681 Q2228.36 318.681 2230.56 321.529 Q2232.76 324.353 2232.76 329.584 L2232.76 345.232 L2228.47 345.232 L2228.47 329.723 Q2228.47 325.996 2227.15 324.191 Q2225.83 322.385 2223.13 322.385 Q2219.82 322.385 2217.89 324.584 Q2215.97 326.783 2215.97 330.579 L2215.97 345.232 L2211.69 345.232 L2211.69 329.723 Q2211.69 325.973 2210.37 324.191 Q2209.05 322.385 2206.3 322.385 Q2203.03 322.385 2201.11 324.607 Q2199.19 326.806 2199.19 330.579 L2199.19 345.232 L2194.91 345.232 L2194.91 319.306 L2199.19 319.306 L2199.19 323.334 Q2200.65 320.95 2202.69 319.816 Q2204.72 318.681 2207.52 318.681 Q2210.35 318.681 2212.32 320.117 Q2214.31 321.552 2215.26 324.283 Z\" fill=\"#000000\" fill-rule=\"evenodd\" fill-opacity=\"1\" /><polyline clip-path=\"url(#clip300)\" style=\"stroke:#3da44d; stroke-width:4; stroke-opacity:1; fill:none\" points=\"\n  1731.63,388.432 1875.63,388.432 \n  \"/>\n<path clip-path=\"url(#clip300)\" d=\"M 0 0 M1927.5 373.814 L1927.5 378.745 Q1925.14 376.546 1922.46 375.458 Q1919.79 374.37 1916.79 374.37 Q1910.86 374.37 1907.71 378.004 Q1904.56 381.615 1904.56 388.467 Q1904.56 395.296 1907.71 398.93 Q1910.86 402.541 1916.79 402.541 Q1919.79 402.541 1922.46 401.453 Q1925.14 400.365 1927.5 398.166 L1927.5 403.05 Q1925.05 404.717 1922.29 405.55 Q1919.56 406.383 1916.51 406.383 Q1908.66 406.383 1904.15 401.592 Q1899.63 396.777 1899.63 388.467 Q1899.63 380.134 1904.15 375.342 Q1908.66 370.527 1916.51 370.527 Q1919.61 370.527 1922.34 371.36 Q1925.1 372.171 1927.5 373.814 Z\" fill=\"#000000\" fill-rule=\"evenodd\" fill-opacity=\"1\" /><path clip-path=\"url(#clip300)\" d=\"M 0 0 M1953.52 390.064 L1953.52 405.712 L1949.26 405.712 L1949.26 390.203 Q1949.26 386.522 1947.83 384.694 Q1946.39 382.865 1943.52 382.865 Q1940.07 382.865 1938.08 385.064 Q1936.09 387.263 1936.09 391.059 L1936.09 405.712 L1931.81 405.712 L1931.81 369.694 L1936.09 369.694 L1936.09 383.814 Q1937.62 381.476 1939.68 380.319 Q1941.76 379.161 1944.47 379.161 Q1948.94 379.161 1951.23 381.939 Q1953.52 384.694 1953.52 390.064 Z\" fill=\"#000000\" fill-rule=\"evenodd\" fill-opacity=\"1\" /><path clip-path=\"url(#clip300)\" d=\"M 0 0 M1957.99 379.786 L1962.25 379.786 L1962.25 405.712 L1957.99 405.712 L1957.99 379.786 M1957.99 369.694 L1962.25 369.694 L1962.25 375.087 L1957.99 375.087 L1957.99 369.694 Z\" fill=\"#000000\" fill-rule=\"evenodd\" fill-opacity=\"1\" /><path clip-path=\"url(#clip300)\" d=\"M 0 0 M1988.27 390.064 L1988.27 405.712 L1984.01 405.712 L1984.01 390.203 Q1984.01 386.522 1982.57 384.694 Q1981.14 382.865 1978.27 382.865 Q1974.82 382.865 1972.83 385.064 Q1970.84 387.263 1970.84 391.059 L1970.84 405.712 L1966.55 405.712 L1966.55 379.786 L1970.84 379.786 L1970.84 383.814 Q1972.36 381.476 1974.42 380.319 Q1976.51 379.161 1979.22 379.161 Q1983.68 379.161 1985.97 381.939 Q1988.27 384.694 1988.27 390.064 Z\" fill=\"#000000\" fill-rule=\"evenodd\" fill-opacity=\"1\" /><path clip-path=\"url(#clip300)\" d=\"M 0 0 M2004.52 392.68 Q1999.35 392.68 1997.36 393.86 Q1995.37 395.041 1995.37 397.888 Q1995.37 400.157 1996.85 401.499 Q1998.36 402.819 2000.93 402.819 Q2004.47 402.819 2006.6 400.319 Q2008.75 397.796 2008.75 393.629 L2008.75 392.68 L2004.52 392.68 M2013.01 390.921 L2013.01 405.712 L2008.75 405.712 L2008.75 401.777 Q2007.29 404.138 2005.12 405.272 Q2002.94 406.383 1999.79 406.383 Q1995.81 406.383 1993.45 404.161 Q1991.11 401.916 1991.11 398.166 Q1991.11 393.791 1994.03 391.569 Q1996.97 389.346 2002.78 389.346 L2008.75 389.346 L2008.75 388.93 Q2008.75 385.99 2006.81 384.393 Q2004.89 382.772 2001.39 382.772 Q1999.17 382.772 1997.06 383.305 Q1994.96 383.837 1993.01 384.902 L1993.01 380.967 Q1995.35 380.064 1997.55 379.624 Q1999.75 379.161 2001.83 379.161 Q2007.46 379.161 2010.23 382.078 Q2013.01 384.995 2013.01 390.921 Z\" fill=\"#000000\" fill-rule=\"evenodd\" fill-opacity=\"1\" /><polyline clip-path=\"url(#clip300)\" style=\"stroke:#c271d2; stroke-width:4; stroke-opacity:1; fill:none\" points=\"\n  1731.63,448.912 1875.63,448.912 \n  \"/>\n<path clip-path=\"url(#clip300)\" d=\"M 0 0 M1899.63 431.632 L1904.31 431.632 L1904.31 446.239 L1919.82 431.632 L1925.84 431.632 L1908.68 447.743 L1927.06 466.192 L1920.91 466.192 L1904.31 449.549 L1904.31 466.192 L1899.63 466.192 L1899.63 431.632 Z\" fill=\"#000000\" fill-rule=\"evenodd\" fill-opacity=\"1\" /><path clip-path=\"url(#clip300)\" d=\"M 0 0 M1939.22 443.252 Q1935.79 443.252 1933.8 445.938 Q1931.81 448.6 1931.81 453.252 Q1931.81 457.905 1933.78 460.59 Q1935.77 463.252 1939.22 463.252 Q1942.62 463.252 1944.61 460.567 Q1946.6 457.882 1946.6 453.252 Q1946.6 448.646 1944.61 445.961 Q1942.62 443.252 1939.22 443.252 M1939.22 439.641 Q1944.77 439.641 1947.94 443.252 Q1951.11 446.864 1951.11 453.252 Q1951.11 459.618 1947.94 463.252 Q1944.77 466.863 1939.22 466.863 Q1933.64 466.863 1930.47 463.252 Q1927.32 459.618 1927.32 453.252 Q1927.32 446.864 1930.47 443.252 Q1933.64 439.641 1939.22 439.641 Z\" fill=\"#000000\" fill-rule=\"evenodd\" fill-opacity=\"1\" /><path clip-path=\"url(#clip300)\" d=\"M 0 0 M1970.6 444.248 Q1969.89 443.831 1969.03 443.646 Q1968.2 443.438 1967.18 443.438 Q1963.57 443.438 1961.62 445.799 Q1959.7 448.137 1959.7 452.535 L1959.7 466.192 L1955.42 466.192 L1955.42 440.266 L1959.7 440.266 L1959.7 444.294 Q1961.04 441.933 1963.2 440.799 Q1965.35 439.641 1968.43 439.641 Q1968.87 439.641 1969.4 439.711 Q1969.93 439.757 1970.58 439.873 L1970.6 444.248 Z\" fill=\"#000000\" fill-rule=\"evenodd\" fill-opacity=\"1\" /><path clip-path=\"url(#clip300)\" d=\"M 0 0 M1996.21 452.164 L1996.21 454.248 L1976.62 454.248 Q1976.9 458.646 1979.26 460.961 Q1981.65 463.252 1985.88 463.252 Q1988.34 463.252 1990.63 462.65 Q1992.94 462.049 1995.21 460.845 L1995.21 464.873 Q1992.92 465.845 1990.51 466.354 Q1988.1 466.863 1985.63 466.863 Q1979.42 466.863 1975.79 463.252 Q1972.18 459.641 1972.18 453.484 Q1972.18 447.118 1975.6 443.391 Q1979.05 439.641 1984.89 439.641 Q1990.12 439.641 1993.15 443.021 Q1996.21 446.377 1996.21 452.164 M1991.95 450.914 Q1991.9 447.419 1989.98 445.336 Q1988.08 443.252 1984.93 443.252 Q1981.37 443.252 1979.22 445.266 Q1977.09 447.28 1976.76 450.938 L1991.95 450.914 Z\" fill=\"#000000\" fill-rule=\"evenodd\" fill-opacity=\"1\" /><path clip-path=\"url(#clip300)\" d=\"M 0 0 M2012.46 453.16 Q2007.29 453.16 2005.3 454.34 Q2003.31 455.521 2003.31 458.368 Q2003.31 460.637 2004.79 461.979 Q2006.3 463.299 2008.87 463.299 Q2012.41 463.299 2014.54 460.799 Q2016.69 458.276 2016.69 454.109 L2016.69 453.16 L2012.46 453.16 M2020.95 451.401 L2020.95 466.192 L2016.69 466.192 L2016.69 462.257 Q2015.23 464.618 2013.06 465.752 Q2010.88 466.863 2007.73 466.863 Q2003.75 466.863 2001.39 464.641 Q1999.05 462.396 1999.05 458.646 Q1999.05 454.271 2001.97 452.049 Q2004.91 449.826 2010.72 449.826 L2016.69 449.826 L2016.69 449.41 Q2016.69 446.47 2014.75 444.873 Q2012.83 443.252 2009.33 443.252 Q2007.11 443.252 2005 443.785 Q2002.9 444.317 2000.95 445.382 L2000.95 441.447 Q2003.29 440.544 2005.49 440.104 Q2007.69 439.641 2009.77 439.641 Q2015.4 439.641 2018.17 442.558 Q2020.95 445.475 2020.95 451.401 Z\" fill=\"#000000\" fill-rule=\"evenodd\" fill-opacity=\"1\" /><path clip-path=\"url(#clip300)\" d=\"M 0 0 M2026.51 460.313 L2031.39 460.313 L2031.39 464.294 L2027.59 471.701 L2024.61 471.701 L2026.51 464.294 L2026.51 460.313 Z\" fill=\"#000000\" fill-rule=\"evenodd\" fill-opacity=\"1\" /><path clip-path=\"url(#clip300)\" d=\"M 0 0 M2071.83 432.766 L2071.83 437.327 Q2069.17 436.053 2066.81 435.428 Q2064.45 434.803 2062.25 434.803 Q2058.43 434.803 2056.34 436.285 Q2054.28 437.766 2054.28 440.498 Q2054.28 442.789 2055.65 443.97 Q2057.04 445.127 2060.88 445.845 L2063.71 446.424 Q2068.94 447.419 2071.41 449.942 Q2073.91 452.442 2073.91 456.655 Q2073.91 461.678 2070.53 464.271 Q2067.18 466.863 2060.67 466.863 Q2058.22 466.863 2055.44 466.308 Q2052.69 465.752 2049.72 464.664 L2049.72 459.85 Q2052.57 461.447 2055.3 462.257 Q2058.03 463.067 2060.67 463.067 Q2064.68 463.067 2066.85 461.493 Q2069.03 459.919 2069.03 457.002 Q2069.03 454.456 2067.46 453.021 Q2065.9 451.586 2062.34 450.868 L2059.49 450.313 Q2054.26 449.271 2051.92 447.049 Q2049.59 444.826 2049.59 440.868 Q2049.59 436.285 2052.8 433.646 Q2056.04 431.007 2061.72 431.007 Q2064.15 431.007 2066.67 431.447 Q2069.19 431.887 2071.83 432.766 Z\" fill=\"#000000\" fill-rule=\"evenodd\" fill-opacity=\"1\" /><path clip-path=\"url(#clip300)\" d=\"M 0 0 M2088.43 443.252 Q2085 443.252 2083.01 445.938 Q2081.02 448.6 2081.02 453.252 Q2081.02 457.905 2082.99 460.59 Q2084.98 463.252 2088.43 463.252 Q2091.83 463.252 2093.82 460.567 Q2095.81 457.882 2095.81 453.252 Q2095.81 448.646 2093.82 445.961 Q2091.83 443.252 2088.43 443.252 M2088.43 439.641 Q2093.98 439.641 2097.15 443.252 Q2100.33 446.864 2100.33 453.252 Q2100.33 459.618 2097.15 463.252 Q2093.98 466.863 2088.43 466.863 Q2082.85 466.863 2079.68 463.252 Q2076.53 459.618 2076.53 453.252 Q2076.53 446.864 2079.68 443.252 Q2082.85 439.641 2088.43 439.641 Z\" fill=\"#000000\" fill-rule=\"evenodd\" fill-opacity=\"1\" /><path clip-path=\"url(#clip300)\" d=\"M 0 0 M2104.35 455.961 L2104.35 440.266 L2108.61 440.266 L2108.61 455.799 Q2108.61 459.479 2110.05 461.331 Q2111.48 463.16 2114.35 463.16 Q2117.8 463.16 2119.79 460.961 Q2121.81 458.762 2121.81 454.965 L2121.81 440.266 L2126.07 440.266 L2126.07 466.192 L2121.81 466.192 L2121.81 462.211 Q2120.26 464.572 2118.2 465.729 Q2116.16 466.863 2113.45 466.863 Q2108.98 466.863 2106.67 464.086 Q2104.35 461.308 2104.35 455.961 M2115.07 439.641 L2115.07 439.641 Z\" fill=\"#000000\" fill-rule=\"evenodd\" fill-opacity=\"1\" /><path clip-path=\"url(#clip300)\" d=\"M 0 0 M2134.75 432.905 L2134.75 440.266 L2143.52 440.266 L2143.52 443.577 L2134.75 443.577 L2134.75 457.651 Q2134.75 460.822 2135.6 461.725 Q2136.48 462.627 2139.15 462.627 L2143.52 462.627 L2143.52 466.192 L2139.15 466.192 Q2134.21 466.192 2132.34 464.363 Q2130.46 462.512 2130.46 457.651 L2130.46 443.577 L2127.34 443.577 L2127.34 440.266 L2130.46 440.266 L2130.46 432.905 L2134.75 432.905 Z\" fill=\"#000000\" fill-rule=\"evenodd\" fill-opacity=\"1\" /><path clip-path=\"url(#clip300)\" d=\"M 0 0 M2169.54 450.544 L2169.54 466.192 L2165.28 466.192 L2165.28 450.683 Q2165.28 447.002 2163.84 445.174 Q2162.41 443.345 2159.54 443.345 Q2156.09 443.345 2154.1 445.544 Q2152.11 447.743 2152.11 451.539 L2152.11 466.192 L2147.83 466.192 L2147.83 430.174 L2152.11 430.174 L2152.11 444.294 Q2153.64 441.956 2155.7 440.799 Q2157.78 439.641 2160.49 439.641 Q2164.96 439.641 2167.25 442.419 Q2169.54 445.174 2169.54 450.544 Z\" fill=\"#000000\" fill-rule=\"evenodd\" fill-opacity=\"1\" /><polyline clip-path=\"url(#clip300)\" style=\"stroke:#ac8d18; stroke-width:4; stroke-opacity:1; fill:none\" points=\"\n  1731.63,509.392 1875.63,509.392 \n  \"/>\n<path clip-path=\"url(#clip300)\" d=\"M 0 0 M1906.74 492.112 L1911.42 492.112 L1911.42 524.265 Q1911.42 530.515 1909.03 533.339 Q1906.67 536.163 1901.42 536.163 L1899.63 536.163 L1899.63 532.228 L1901.09 532.228 Q1904.19 532.228 1905.47 530.492 Q1906.74 528.755 1906.74 524.265 L1906.74 492.112 Z\" fill=\"#000000\" fill-rule=\"evenodd\" fill-opacity=\"1\" /><path clip-path=\"url(#clip300)\" d=\"M 0 0 M1927.66 513.64 Q1922.5 513.64 1920.51 514.82 Q1918.52 516.001 1918.52 518.848 Q1918.52 521.117 1920 522.459 Q1921.51 523.779 1924.08 523.779 Q1927.62 523.779 1929.75 521.279 Q1931.9 518.756 1931.9 514.589 L1931.9 513.64 L1927.66 513.64 M1936.16 511.881 L1936.16 526.672 L1931.9 526.672 L1931.9 522.737 Q1930.44 525.098 1928.27 526.232 Q1926.09 527.343 1922.94 527.343 Q1918.96 527.343 1916.6 525.121 Q1914.26 522.876 1914.26 519.126 Q1914.26 514.751 1917.18 512.529 Q1920.12 510.306 1925.93 510.306 L1931.9 510.306 L1931.9 509.89 Q1931.9 506.95 1929.96 505.353 Q1928.04 503.732 1924.54 503.732 Q1922.32 503.732 1920.21 504.265 Q1918.1 504.797 1916.16 505.862 L1916.16 501.927 Q1918.5 501.024 1920.7 500.584 Q1922.9 500.121 1924.98 500.121 Q1930.6 500.121 1933.38 503.038 Q1936.16 505.955 1936.16 511.881 Z\" fill=\"#000000\" fill-rule=\"evenodd\" fill-opacity=\"1\" /><path clip-path=\"url(#clip300)\" d=\"M 0 0 M1944.75 522.783 L1944.75 536.533 L1940.47 536.533 L1940.47 500.746 L1944.75 500.746 L1944.75 504.682 Q1946.09 502.367 1948.13 501.256 Q1950.19 500.121 1953.04 500.121 Q1957.76 500.121 1960.7 503.871 Q1963.66 507.621 1963.66 513.732 Q1963.66 519.843 1960.7 523.593 Q1957.76 527.343 1953.04 527.343 Q1950.19 527.343 1948.13 526.232 Q1946.09 525.098 1944.75 522.783 M1959.24 513.732 Q1959.24 509.033 1957.29 506.371 Q1955.37 503.686 1951.99 503.686 Q1948.61 503.686 1946.67 506.371 Q1944.75 509.033 1944.75 513.732 Q1944.75 518.431 1946.67 521.117 Q1948.61 523.779 1951.99 523.779 Q1955.37 523.779 1957.29 521.117 Q1959.24 518.431 1959.24 513.732 Z\" fill=\"#000000\" fill-rule=\"evenodd\" fill-opacity=\"1\" /><path clip-path=\"url(#clip300)\" d=\"M 0 0 M1979.91 513.64 Q1974.75 513.64 1972.76 514.82 Q1970.77 516.001 1970.77 518.848 Q1970.77 521.117 1972.25 522.459 Q1973.75 523.779 1976.32 523.779 Q1979.86 523.779 1981.99 521.279 Q1984.15 518.756 1984.15 514.589 L1984.15 513.64 L1979.91 513.64 M1988.41 511.881 L1988.41 526.672 L1984.15 526.672 L1984.15 522.737 Q1982.69 525.098 1980.51 526.232 Q1978.34 527.343 1975.19 527.343 Q1971.21 527.343 1968.85 525.121 Q1966.51 522.876 1966.51 519.126 Q1966.51 514.751 1969.42 512.529 Q1972.36 510.306 1978.17 510.306 L1984.15 510.306 L1984.15 509.89 Q1984.15 506.95 1982.2 505.353 Q1980.28 503.732 1976.79 503.732 Q1974.56 503.732 1972.46 504.265 Q1970.35 504.797 1968.41 505.862 L1968.41 501.927 Q1970.74 501.024 1972.94 500.584 Q1975.14 500.121 1977.22 500.121 Q1982.85 500.121 1985.63 503.038 Q1988.41 505.955 1988.41 511.881 Z\" fill=\"#000000\" fill-rule=\"evenodd\" fill-opacity=\"1\" /><path clip-path=\"url(#clip300)\" d=\"M 0 0 M2014.42 511.024 L2014.42 526.672 L2010.16 526.672 L2010.16 511.163 Q2010.16 507.482 2008.73 505.654 Q2007.29 503.825 2004.42 503.825 Q2000.97 503.825 1998.98 506.024 Q1996.99 508.223 1996.99 512.019 L1996.99 526.672 L1992.71 526.672 L1992.71 500.746 L1996.99 500.746 L1996.99 504.774 Q1998.52 502.436 2000.58 501.279 Q2002.66 500.121 2005.37 500.121 Q2009.84 500.121 2012.13 502.899 Q2014.42 505.654 2014.42 511.024 Z\" fill=\"#000000\" fill-rule=\"evenodd\" fill-opacity=\"1\" /><polyline clip-path=\"url(#clip300)\" style=\"stroke:#00a9ad; stroke-width:4; stroke-opacity:1; fill:none\" points=\"\n  1731.63,569.872 1875.63,569.872 \n  \"/>\n<path clip-path=\"url(#clip300)\" d=\"M 0 0 M1899.63 552.592 L1919.49 552.592 L1919.49 556.527 L1904.31 556.527 L1904.31 566.712 L1918.01 566.712 L1918.01 570.648 L1904.31 570.648 L1904.31 587.152 L1899.63 587.152 L1899.63 552.592 Z\" fill=\"#000000\" fill-rule=\"evenodd\" fill-opacity=\"1\" /><path clip-path=\"url(#clip300)\" d=\"M 0 0 M1935.54 565.208 Q1934.82 564.791 1933.96 564.606 Q1933.13 564.398 1932.11 564.398 Q1928.5 564.398 1926.55 566.759 Q1924.63 569.097 1924.63 573.495 L1924.63 587.152 L1920.35 587.152 L1920.35 561.226 L1924.63 561.226 L1924.63 565.254 Q1925.98 562.893 1928.13 561.759 Q1930.28 560.601 1933.36 560.601 Q1933.8 560.601 1934.33 560.671 Q1934.86 560.717 1935.51 560.833 L1935.54 565.208 Z\" fill=\"#000000\" fill-rule=\"evenodd\" fill-opacity=\"1\" /><path clip-path=\"url(#clip300)\" d=\"M 0 0 M1951.79 574.12 Q1946.62 574.12 1944.63 575.3 Q1942.64 576.481 1942.64 579.328 Q1942.64 581.597 1944.12 582.939 Q1945.63 584.259 1948.2 584.259 Q1951.74 584.259 1953.87 581.759 Q1956.02 579.236 1956.02 575.069 L1956.02 574.12 L1951.79 574.12 M1960.28 572.361 L1960.28 587.152 L1956.02 587.152 L1956.02 583.217 Q1954.56 585.578 1952.39 586.712 Q1950.21 587.823 1947.06 587.823 Q1943.08 587.823 1940.72 585.601 Q1938.38 583.356 1938.38 579.606 Q1938.38 575.231 1941.3 573.009 Q1944.24 570.786 1950.05 570.786 L1956.02 570.786 L1956.02 570.37 Q1956.02 567.43 1954.08 565.833 Q1952.16 564.212 1948.66 564.212 Q1946.44 564.212 1944.33 564.745 Q1942.23 565.277 1940.28 566.342 L1940.28 562.407 Q1942.62 561.504 1944.82 561.064 Q1947.02 560.601 1949.1 560.601 Q1954.72 560.601 1957.5 563.518 Q1960.28 566.435 1960.28 572.361 Z\" fill=\"#000000\" fill-rule=\"evenodd\" fill-opacity=\"1\" /><path clip-path=\"url(#clip300)\" d=\"M 0 0 M1986.3 571.504 L1986.3 587.152 L1982.04 587.152 L1982.04 571.643 Q1982.04 567.962 1980.6 566.134 Q1979.17 564.305 1976.3 564.305 Q1972.85 564.305 1970.86 566.504 Q1968.87 568.703 1968.87 572.499 L1968.87 587.152 L1964.59 587.152 L1964.59 561.226 L1968.87 561.226 L1968.87 565.254 Q1970.4 562.916 1972.46 561.759 Q1974.54 560.601 1977.25 560.601 Q1981.72 560.601 1984.01 563.379 Q1986.3 566.134 1986.3 571.504 Z\" fill=\"#000000\" fill-rule=\"evenodd\" fill-opacity=\"1\" /><path clip-path=\"url(#clip300)\" d=\"M 0 0 M2009.42 562.222 L2009.42 566.203 Q2007.62 565.208 2005.79 564.722 Q2003.98 564.212 2002.13 564.212 Q1997.99 564.212 1995.7 566.851 Q1993.41 569.467 1993.41 574.212 Q1993.41 578.958 1995.7 581.597 Q1997.99 584.212 2002.13 584.212 Q2003.98 584.212 2005.79 583.726 Q2007.62 583.217 2009.42 582.222 L2009.42 586.157 Q2007.64 586.99 2005.72 587.407 Q2003.82 587.823 2001.67 587.823 Q1995.81 587.823 1992.36 584.143 Q1988.91 580.462 1988.91 574.212 Q1988.91 567.87 1992.39 564.236 Q1995.88 560.601 2001.95 560.601 Q2003.91 560.601 2005.79 561.018 Q2007.66 561.412 2009.42 562.222 Z\" fill=\"#000000\" fill-rule=\"evenodd\" fill-opacity=\"1\" /><path clip-path=\"url(#clip300)\" d=\"M 0 0 M2036.07 573.124 L2036.07 575.208 L2016.48 575.208 Q2016.76 579.606 2019.12 581.921 Q2021.51 584.212 2025.74 584.212 Q2028.2 584.212 2030.49 583.61 Q2032.8 583.009 2035.07 581.805 L2035.07 585.833 Q2032.78 586.805 2030.37 587.314 Q2027.97 587.823 2025.49 587.823 Q2019.28 587.823 2015.65 584.212 Q2012.04 580.601 2012.04 574.444 Q2012.04 568.078 2015.47 564.351 Q2018.91 560.601 2024.75 560.601 Q2029.98 560.601 2033.01 563.981 Q2036.07 567.337 2036.07 573.124 M2031.81 571.874 Q2031.76 568.379 2029.84 566.296 Q2027.94 564.212 2024.79 564.212 Q2021.23 564.212 2019.08 566.226 Q2016.95 568.24 2016.62 571.898 L2031.81 571.874 Z\" fill=\"#000000\" fill-rule=\"evenodd\" fill-opacity=\"1\" /><polyline clip-path=\"url(#clip300)\" style=\"stroke:#ed5d92; stroke-width:4; stroke-opacity:1; fill:none\" points=\"\n  1731.63,630.352 1875.63,630.352 \n  \"/>\n<path clip-path=\"url(#clip300)\" d=\"M 0 0 M1899.63 613.072 L1904.33 613.072 L1904.33 634.067 Q1904.33 639.623 1906.35 642.077 Q1908.36 644.507 1912.87 644.507 Q1917.36 644.507 1919.38 642.077 Q1921.39 639.623 1921.39 634.067 L1921.39 613.072 L1926.09 613.072 L1926.09 634.646 Q1926.09 641.405 1922.73 644.854 Q1919.4 648.303 1912.87 648.303 Q1906.32 648.303 1902.97 644.854 Q1899.63 641.405 1899.63 634.646 L1899.63 613.072 Z\" fill=\"#000000\" fill-rule=\"evenodd\" fill-opacity=\"1\" /><path clip-path=\"url(#clip300)\" d=\"M 0 0 M1951.46 614.206 L1951.46 618.767 Q1948.8 617.493 1946.44 616.868 Q1944.08 616.243 1941.88 616.243 Q1938.06 616.243 1935.98 617.725 Q1933.91 619.206 1933.91 621.938 Q1933.91 624.229 1935.28 625.41 Q1936.67 626.567 1940.51 627.285 L1943.34 627.864 Q1948.57 628.859 1951.04 631.382 Q1953.54 633.882 1953.54 638.095 Q1953.54 643.118 1950.16 645.711 Q1946.81 648.303 1940.3 648.303 Q1937.85 648.303 1935.07 647.748 Q1932.32 647.192 1929.35 646.104 L1929.35 641.29 Q1932.2 642.887 1934.93 643.697 Q1937.66 644.507 1940.3 644.507 Q1944.31 644.507 1946.48 642.933 Q1948.66 641.359 1948.66 638.442 Q1948.66 635.896 1947.09 634.461 Q1945.54 633.026 1941.97 632.308 L1939.12 631.753 Q1933.89 630.711 1931.55 628.489 Q1929.22 626.266 1929.22 622.308 Q1929.22 617.725 1932.43 615.086 Q1935.67 612.447 1941.35 612.447 Q1943.78 612.447 1946.3 612.887 Q1948.82 613.327 1951.46 614.206 Z\" fill=\"#000000\" fill-rule=\"evenodd\" fill-opacity=\"1\" /></svg>\n"
               },
               "type": "node"
              }
             ],
             "instanceArgs": {
              "namespace": "html",
              "tag": "div"
             },
             "nodeType": "DOM",
             "props": {
              "className": "interact-flex-row interact-widget"
             },
             "type": "node"
            }
           }
          },
          "systemjs_options": null
         },
         "nodeType": "Scope",
         "props": {},
         "type": "node"
        }
       ],
       "instanceArgs": {
        "namespace": "html",
        "tag": "div"
       },
       "nodeType": "DOM",
       "props": {},
       "type": "node"
      },
      "text/html": [
       "<div\n",
       "    class=\"webio-mountpoint\"\n",
       "    data-webio-mountpoint=\"13299170178928165743\"\n",
       ">\n",
       "    <script>\n",
       "    if (window.require && require.defined && require.defined(\"nbextensions/webio-jupyter-notebook\")) {\n",
       "        console.log(\"Jupyter WebIO extension detected, not mounting.\");\n",
       "    } else if (window.WebIO) {\n",
       "        WebIO.mount(\n",
       "            document.querySelector('[data-webio-mountpoint=\"13299170178928165743\"]'),\n",
       "            {\"props\":{},\"nodeType\":\"DOM\",\"type\":\"node\",\"instanceArgs\":{\"namespace\":\"html\",\"tag\":\"div\"},\"children\":[{\"props\":{\"className\":\"field interact-widget\"},\"nodeType\":\"DOM\",\"type\":\"node\",\"instanceArgs\":{\"namespace\":\"html\",\"tag\":\"div\"},\"children\":[{\"props\":{},\"nodeType\":\"Scope\",\"type\":\"node\",\"instanceArgs\":{\"imports\":{\"data\":[{\"name\":\"knockout\",\"type\":\"js\",\"url\":\"\\/assetserver\\/2157388af3d6d86568eafc09a309e401c236faee-knockout.js\"},{\"name\":\"knockout_punches\",\"type\":\"js\",\"url\":\"\\/assetserver\\/b00210f913135d4addde28134ceecd2d9193c6e7-knockout_punches.js\"},{\"name\":null,\"type\":\"js\",\"url\":\"\\/assetserver\\/12c840a31458668260c09bf28698f40409d4e067-all.js\"},{\"name\":null,\"type\":\"css\",\"url\":\"\\/assetserver\\/6bd76268e6b605d1b5319ae30426172ea6079d91-style.css\"},{\"name\":null,\"type\":\"css\",\"url\":\"\\/assetserver\\/7e8ea1878bedc7a77aea469b5faf43596cabefa6-bulma_confined.min.css\"}],\"type\":\"async_block\"},\"id\":\"5670719907083174453\",\"handlers\":{\"changes\":[\"(function (val){return (val!=this.model[\\\"changes\\\"]()) ? (this.valueFromJulia[\\\"changes\\\"]=true, this.model[\\\"changes\\\"](val)) : undefined})\"],\"index\":[\"(function (val){return (val!=this.model[\\\"index\\\"]()) ? (this.valueFromJulia[\\\"index\\\"]=true, this.model[\\\"index\\\"](val)) : undefined})\"]},\"systemjs_options\":null,\"mount_callbacks\":[\"function () {\\n    var handler = (function (ko, koPunches) {\\n    ko.punches.enableAll();\\n    ko.bindingHandlers.numericValue = {\\n        init: function(element, valueAccessor, allBindings, data, context) {\\n            var stringified = ko.observable(ko.unwrap(valueAccessor()));\\n            stringified.subscribe(function(value) {\\n                var val = parseFloat(value);\\n                if (!isNaN(val)) {\\n                    valueAccessor()(val);\\n                }\\n            });\\n            valueAccessor().subscribe(function(value) {\\n                var str = JSON.stringify(value);\\n                if ((str == \\\"0\\\") && ([\\\"-0\\\", \\\"-0.\\\"].indexOf(stringified()) >= 0))\\n                     return;\\n                 if ([\\\"null\\\", \\\"\\\"].indexOf(str) >= 0)\\n                     return;\\n                stringified(str);\\n            });\\n            ko.applyBindingsToNode(\\n                element,\\n                {\\n                    value: stringified,\\n                    valueUpdate: allBindings.get('valueUpdate'),\\n                },\\n                context,\\n            );\\n        }\\n    };\\n    var json_data = {\\\"formatted_vals\\\":[\\\"1\\\",\\\"2\\\",\\\"3\\\",\\\"4\\\",\\\"5\\\",\\\"6\\\",\\\"7\\\",\\\"8\\\",\\\"9\\\",\\\"10\\\",\\\"11\\\",\\\"12\\\",\\\"13\\\",\\\"14\\\",\\\"15\\\",\\\"16\\\",\\\"17\\\",\\\"18\\\",\\\"19\\\",\\\"20\\\",\\\"21\\\",\\\"22\\\",\\\"23\\\",\\\"24\\\",\\\"25\\\",\\\"26\\\",\\\"27\\\",\\\"28\\\",\\\"29\\\",\\\"30\\\",\\\"31\\\",\\\"32\\\",\\\"33\\\",\\\"34\\\",\\\"35\\\",\\\"36\\\",\\\"37\\\",\\\"38\\\",\\\"39\\\",\\\"40\\\",\\\"41\\\",\\\"42\\\",\\\"43\\\",\\\"44\\\",\\\"45\\\",\\\"46\\\",\\\"47\\\",\\\"48\\\",\\\"49\\\",\\\"50\\\",\\\"51\\\",\\\"52\\\",\\\"53\\\",\\\"54\\\",\\\"55\\\",\\\"56\\\",\\\"57\\\",\\\"58\\\",\\\"59\\\",\\\"60\\\",\\\"61\\\",\\\"62\\\",\\\"63\\\",\\\"64\\\",\\\"65\\\",\\\"66\\\",\\\"67\\\",\\\"68\\\",\\\"69\\\",\\\"70\\\",\\\"71\\\",\\\"72\\\",\\\"73\\\",\\\"74\\\",\\\"75\\\",\\\"76\\\",\\\"77\\\",\\\"78\\\",\\\"79\\\",\\\"80\\\",\\\"81\\\",\\\"82\\\",\\\"83\\\",\\\"84\\\",\\\"85\\\",\\\"86\\\",\\\"87\\\",\\\"88\\\",\\\"89\\\",\\\"90\\\",\\\"91\\\",\\\"92\\\",\\\"93\\\",\\\"94\\\",\\\"95\\\",\\\"96\\\",\\\"97\\\",\\\"98\\\",\\\"99\\\",\\\"100\\\",\\\"101\\\",\\\"102\\\",\\\"103\\\",\\\"104\\\",\\\"105\\\",\\\"106\\\",\\\"107\\\",\\\"108\\\",\\\"109\\\",\\\"110\\\",\\\"111\\\",\\\"112\\\",\\\"113\\\",\\\"114\\\",\\\"115\\\",\\\"116\\\",\\\"117\\\",\\\"118\\\",\\\"119\\\",\\\"120\\\",\\\"121\\\",\\\"122\\\",\\\"123\\\",\\\"124\\\",\\\"125\\\",\\\"126\\\",\\\"127\\\",\\\"128\\\",\\\"129\\\",\\\"130\\\",\\\"131\\\",\\\"132\\\",\\\"133\\\",\\\"134\\\",\\\"135\\\",\\\"136\\\",\\\"137\\\",\\\"138\\\",\\\"139\\\",\\\"140\\\"],\\\"changes\\\":WebIO.getval({\\\"name\\\":\\\"changes\\\",\\\"scope\\\":\\\"5670719907083174453\\\",\\\"id\\\":\\\"15835865741898499462\\\",\\\"type\\\":\\\"observable\\\"}),\\\"index\\\":WebIO.getval({\\\"name\\\":\\\"index\\\",\\\"scope\\\":\\\"5670719907083174453\\\",\\\"id\\\":\\\"839363559751596114\\\",\\\"type\\\":\\\"observable\\\"})};\\n    var self = this;\\n    function AppViewModel() {\\n        for (var key in json_data) {\\n            var el = json_data[key];\\n            this[key] = Array.isArray(el) ? ko.observableArray(el) : ko.observable(el);\\n        }\\n        \\n        [this[\\\"formatted_val\\\"]=ko.computed(    function(){\\n        return this.formatted_vals()[parseInt(this.index())-(1)];\\n    }\\n,this)]\\n        [this[\\\"changes\\\"].subscribe((function (val){!(this.valueFromJulia[\\\"changes\\\"]) ? (WebIO.setval({\\\"name\\\":\\\"changes\\\",\\\"scope\\\":\\\"5670719907083174453\\\",\\\"id\\\":\\\"15835865741898499462\\\",\\\"type\\\":\\\"observable\\\"},val)) : undefined; return this.valueFromJulia[\\\"changes\\\"]=false}),self),this[\\\"index\\\"].subscribe((function (val){!(this.valueFromJulia[\\\"index\\\"]) ? (WebIO.setval({\\\"name\\\":\\\"index\\\",\\\"scope\\\":\\\"5670719907083174453\\\",\\\"id\\\":\\\"839363559751596114\\\",\\\"type\\\":\\\"observable\\\"},val)) : undefined; return this.valueFromJulia[\\\"index\\\"]=false}),self)]\\n        \\n    }\\n    self.model = new AppViewModel();\\n    self.valueFromJulia = {};\\n    for (var key in json_data) {\\n        self.valueFromJulia[key] = false;\\n    }\\n    ko.applyBindings(self.model, self.dom);\\n}\\n);\\n    (WebIO.importBlock({\\\"data\\\":[{\\\"name\\\":\\\"knockout\\\",\\\"type\\\":\\\"js\\\",\\\"url\\\":\\\"\\/assetserver\\/2157388af3d6d86568eafc09a309e401c236faee-knockout.js\\\"},{\\\"name\\\":\\\"knockout_punches\\\",\\\"type\\\":\\\"js\\\",\\\"url\\\":\\\"\\/assetserver\\/b00210f913135d4addde28134ceecd2d9193c6e7-knockout_punches.js\\\"}],\\\"type\\\":\\\"async_block\\\"})).then((imports) => handler.apply(this, imports));\\n}\\n\"],\"observables\":{\"changes\":{\"sync\":false,\"id\":\"15835865741898499462\",\"value\":0},\"index\":{\"sync\":true,\"id\":\"839363559751596114\",\"value\":70}}},\"children\":[{\"props\":{\"className\":\"interact-flex-row interact-widget\"},\"nodeType\":\"DOM\",\"type\":\"node\",\"instanceArgs\":{\"namespace\":\"html\",\"tag\":\"div\"},\"children\":[{\"props\":{\"className\":\"interact-flex-row-left\"},\"nodeType\":\"DOM\",\"type\":\"node\",\"instanceArgs\":{\"namespace\":\"html\",\"tag\":\"div\"},\"children\":[{\"props\":{\"className\":\"interact \",\"style\":{\"padding\":\"5px 10px 0px 10px\"}},\"nodeType\":\"DOM\",\"type\":\"node\",\"instanceArgs\":{\"namespace\":\"html\",\"tag\":\"label\"},\"children\":[\"i\"]}]},{\"props\":{\"className\":\"interact-flex-row-center\"},\"nodeType\":\"DOM\",\"type\":\"node\",\"instanceArgs\":{\"namespace\":\"html\",\"tag\":\"div\"},\"children\":[{\"props\":{\"max\":140,\"min\":1,\"attributes\":{\"type\":\"range\",\"data-bind\":\"numericValue: index, valueUpdate: 'input', event: {change: function (){this.changes(this.changes()+1)}}\",\"orient\":\"horizontal\"},\"step\":1,\"className\":\"slider slider is-fullwidth\",\"style\":{}},\"nodeType\":\"DOM\",\"type\":\"node\",\"instanceArgs\":{\"namespace\":\"html\",\"tag\":\"input\"},\"children\":[]}]},{\"props\":{\"className\":\"interact-flex-row-right\"},\"nodeType\":\"DOM\",\"type\":\"node\",\"instanceArgs\":{\"namespace\":\"html\",\"tag\":\"div\"},\"children\":[{\"props\":{\"attributes\":{\"data-bind\":\"text: formatted_val\"}},\"nodeType\":\"DOM\",\"type\":\"node\",\"instanceArgs\":{\"namespace\":\"html\",\"tag\":\"p\"},\"children\":[]}]}]}]}]},{\"props\":{},\"nodeType\":\"Scope\",\"type\":\"node\",\"instanceArgs\":{\"imports\":{\"data\":[],\"type\":\"async_block\"},\"id\":\"845323187836121682\",\"handlers\":{},\"systemjs_options\":null,\"mount_callbacks\":[],\"observables\":{\"obs-node\":{\"sync\":false,\"id\":\"366062179264041576\",\"value\":{\"props\":{\"className\":\"interact-flex-row interact-widget\"},\"nodeType\":\"DOM\",\"type\":\"node\",\"instanceArgs\":{\"namespace\":\"html\",\"tag\":\"div\"},\"children\":[{\"props\":{\"setInnerHtml\":\"<?xml version=\\\"1.0\\\" encoding=\\\"utf-8\\\"?>\\n<svg xmlns=\\\"http:\\/\\/www.w3.org\\/2000\\/svg\\\" xmlns:xlink=\\\"http:\\/\\/www.w3.org\\/1999\\/xlink\\\" width=\\\"600\\\" height=\\\"400\\\" viewBox=\\\"0 0 2400 1600\\\">\\n<defs>\\n  <clipPath id=\\\"clip260\\\">\\n    <rect x=\\\"0\\\" y=\\\"0\\\" width=\\\"2400\\\" height=\\\"1600\\\"\\/>\\n  <\\/clipPath>\\n<\\/defs>\\n<path clip-path=\\\"url(#clip260)\\\" d=\\\"\\nM0 1600 L2400 1600 L2400 0 L0 0  Z\\n  \\\" fill=\\\"#ffffff\\\" fill-rule=\\\"evenodd\\\" fill-opacity=\\\"1\\\"\\/>\\n<defs>\\n  <clipPath id=\\\"clip261\\\">\\n    <rect x=\\\"480\\\" y=\\\"0\\\" width=\\\"1681\\\" height=\\\"1600\\\"\\/>\\n  <\\/clipPath>\\n<\\/defs>\\n<path clip-path=\\\"url(#clip260)\\\" d=\\\"\\nM260.051 1423.18 L2352.76 1423.18 L2352.76 123.472 L260.051 123.472  Z\\n  \\\" fill=\\\"#ffffff\\\" fill-rule=\\\"evenodd\\\" fill-opacity=\\\"1\\\"\\/>\\n<defs>\\n  <clipPath id=\\\"clip262\\\">\\n    <rect x=\\\"260\\\" y=\\\"123\\\" width=\\\"2094\\\" height=\\\"1301\\\"\\/>\\n  <\\/clipPath>\\n<\\/defs>\\n<polyline clip-path=\\\"url(#clip262)\\\" style=\\\"stroke:#000000; stroke-width:2; stroke-opacity:0.1; fill:none\\\" points=\\\"\\n  260.051,1423.18 260.051,123.472 \\n  \\\"\\/>\\n<polyline clip-path=\\\"url(#clip262)\\\" style=\\\"stroke:#000000; stroke-width:2; stroke-opacity:0.1; fill:none\\\" points=\\\"\\n  559.009,1423.18 559.009,123.472 \\n  \\\"\\/>\\n<polyline clip-path=\\\"url(#clip262)\\\" style=\\\"stroke:#000000; stroke-width:2; stroke-opacity:0.1; fill:none\\\" points=\\\"\\n  857.967,1423.18 857.967,123.472 \\n  \\\"\\/>\\n<polyline clip-path=\\\"url(#clip262)\\\" style=\\\"stroke:#000000; stroke-width:2; stroke-opacity:0.1; fill:none\\\" points=\\\"\\n  1156.92,1423.18 1156.92,123.472 \\n  \\\"\\/>\\n<polyline clip-path=\\\"url(#clip262)\\\" style=\\\"stroke:#000000; stroke-width:2; stroke-opacity:0.1; fill:none\\\" points=\\\"\\n  1455.88,1423.18 1455.88,123.472 \\n  \\\"\\/>\\n<polyline clip-path=\\\"url(#clip262)\\\" style=\\\"stroke:#000000; stroke-width:2; stroke-opacity:0.1; fill:none\\\" points=\\\"\\n  1754.84,1423.18 1754.84,123.472 \\n  \\\"\\/>\\n<polyline clip-path=\\\"url(#clip262)\\\" style=\\\"stroke:#000000; stroke-width:2; stroke-opacity:0.1; fill:none\\\" points=\\\"\\n  2053.8,1423.18 2053.8,123.472 \\n  \\\"\\/>\\n<polyline clip-path=\\\"url(#clip262)\\\" style=\\\"stroke:#000000; stroke-width:2; stroke-opacity:0.1; fill:none\\\" points=\\\"\\n  2352.76,1423.18 2352.76,123.472 \\n  \\\"\\/>\\n<polyline clip-path=\\\"url(#clip262)\\\" style=\\\"stroke:#000000; stroke-width:2; stroke-opacity:0.1; fill:none\\\" points=\\\"\\n  260.051,1386.4 2352.76,1386.4 \\n  \\\"\\/>\\n<polyline clip-path=\\\"url(#clip262)\\\" style=\\\"stroke:#000000; stroke-width:2; stroke-opacity:0.1; fill:none\\\" points=\\\"\\n  260.051,1153.93 2352.76,1153.93 \\n  \\\"\\/>\\n<polyline clip-path=\\\"url(#clip262)\\\" style=\\\"stroke:#000000; stroke-width:2; stroke-opacity:0.1; fill:none\\\" points=\\\"\\n  260.051,921.469 2352.76,921.469 \\n  \\\"\\/>\\n<polyline clip-path=\\\"url(#clip262)\\\" style=\\\"stroke:#000000; stroke-width:2; stroke-opacity:0.1; fill:none\\\" points=\\\"\\n  260.051,689.006 2352.76,689.006 \\n  \\\"\\/>\\n<polyline clip-path=\\\"url(#clip262)\\\" style=\\\"stroke:#000000; stroke-width:2; stroke-opacity:0.1; fill:none\\\" points=\\\"\\n  260.051,456.543 2352.76,456.543 \\n  \\\"\\/>\\n<polyline clip-path=\\\"url(#clip262)\\\" style=\\\"stroke:#000000; stroke-width:2; stroke-opacity:0.1; fill:none\\\" points=\\\"\\n  260.051,224.08 2352.76,224.08 \\n  \\\"\\/>\\n<polyline clip-path=\\\"url(#clip260)\\\" style=\\\"stroke:#000000; stroke-width:4; stroke-opacity:1; fill:none\\\" points=\\\"\\n  260.051,1423.18 2352.76,1423.18 \\n  \\\"\\/>\\n<polyline clip-path=\\\"url(#clip260)\\\" style=\\\"stroke:#000000; stroke-width:4; stroke-opacity:1; fill:none\\\" points=\\\"\\n  260.051,1423.18 260.051,123.472 \\n  \\\"\\/>\\n<polyline clip-path=\\\"url(#clip260)\\\" style=\\\"stroke:#000000; stroke-width:4; stroke-opacity:1; fill:none\\\" points=\\\"\\n  260.051,1423.18 260.051,1407.58 \\n  \\\"\\/>\\n<polyline clip-path=\\\"url(#clip260)\\\" style=\\\"stroke:#000000; stroke-width:4; stroke-opacity:1; fill:none\\\" points=\\\"\\n  559.009,1423.18 559.009,1407.58 \\n  \\\"\\/>\\n<polyline clip-path=\\\"url(#clip260)\\\" style=\\\"stroke:#000000; stroke-width:4; stroke-opacity:1; fill:none\\\" points=\\\"\\n  857.967,1423.18 857.967,1407.58 \\n  \\\"\\/>\\n<polyline clip-path=\\\"url(#clip260)\\\" style=\\\"stroke:#000000; stroke-width:4; stroke-opacity:1; fill:none\\\" points=\\\"\\n  1156.92,1423.18 1156.92,1407.58 \\n  \\\"\\/>\\n<polyline clip-path=\\\"url(#clip260)\\\" style=\\\"stroke:#000000; stroke-width:4; stroke-opacity:1; fill:none\\\" points=\\\"\\n  1455.88,1423.18 1455.88,1407.58 \\n  \\\"\\/>\\n<polyline clip-path=\\\"url(#clip260)\\\" style=\\\"stroke:#000000; stroke-width:4; stroke-opacity:1; fill:none\\\" points=\\\"\\n  1754.84,1423.18 1754.84,1407.58 \\n  \\\"\\/>\\n<polyline clip-path=\\\"url(#clip260)\\\" style=\\\"stroke:#000000; stroke-width:4; stroke-opacity:1; fill:none\\\" points=\\\"\\n  2053.8,1423.18 2053.8,1407.58 \\n  \\\"\\/>\\n<polyline clip-path=\\\"url(#clip260)\\\" style=\\\"stroke:#000000; stroke-width:4; stroke-opacity:1; fill:none\\\" points=\\\"\\n  2352.76,1423.18 2352.76,1407.58 \\n  \\\"\\/>\\n<polyline clip-path=\\\"url(#clip260)\\\" style=\\\"stroke:#000000; stroke-width:4; stroke-opacity:1; fill:none\\\" points=\\\"\\n  260.051,1386.4 285.164,1386.4 \\n  \\\"\\/>\\n<polyline clip-path=\\\"url(#clip260)\\\" style=\\\"stroke:#000000; stroke-width:4; stroke-opacity:1; fill:none\\\" points=\\\"\\n  260.051,1153.93 285.164,1153.93 \\n  \\\"\\/>\\n<polyline clip-path=\\\"url(#clip260)\\\" style=\\\"stroke:#000000; stroke-width:4; stroke-opacity:1; fill:none\\\" points=\\\"\\n  260.051,921.469 285.164,921.469 \\n  \\\"\\/>\\n<polyline clip-path=\\\"url(#clip260)\\\" style=\\\"stroke:#000000; stroke-width:4; stroke-opacity:1; fill:none\\\" points=\\\"\\n  260.051,689.006 285.164,689.006 \\n  \\\"\\/>\\n<polyline clip-path=\\\"url(#clip260)\\\" style=\\\"stroke:#000000; stroke-width:4; stroke-opacity:1; fill:none\\\" points=\\\"\\n  260.051,456.543 285.164,456.543 \\n  \\\"\\/>\\n<polyline clip-path=\\\"url(#clip260)\\\" style=\\\"stroke:#000000; stroke-width:4; stroke-opacity:1; fill:none\\\" points=\\\"\\n  260.051,224.08 285.164,224.08 \\n  \\\"\\/>\\n<path clip-path=\\\"url(#clip260)\\\" d=\\\"M 0 0 M260.051 1445.17 Q256.44 1445.17 254.611 1448.74 Q252.806 1452.28 252.806 1459.41 Q252.806 1466.51 254.611 1470.08 Q256.44 1473.62 260.051 1473.62 Q263.685 1473.62 265.491 1470.08 Q267.32 1466.51 267.32 1459.41 Q267.32 1452.28 265.491 1448.74 Q263.685 1445.17 260.051 1445.17 M260.051 1441.47 Q265.861 1441.47 268.917 1446.07 Q271.996 1450.66 271.996 1459.41 Q271.996 1468.13 268.917 1472.74 Q265.861 1477.32 260.051 1477.32 Q254.241 1477.32 251.162 1472.74 Q248.107 1468.13 248.107 1459.41 Q248.107 1450.66 251.162 1446.07 Q254.241 1441.47 260.051 1441.47 Z\\\" fill=\\\"#000000\\\" fill-rule=\\\"evenodd\\\" fill-opacity=\\\"1\\\" \\/><path clip-path=\\\"url(#clip260)\\\" d=\\\"M 0 0 M540.155 1472.72 L556.474 1472.72 L556.474 1476.65 L534.53 1476.65 L534.53 1472.72 Q537.192 1469.96 541.775 1465.33 Q546.382 1460.68 547.562 1459.34 Q549.808 1456.81 550.687 1455.08 Q551.59 1453.32 551.59 1451.63 Q551.59 1448.87 549.646 1447.14 Q547.724 1445.4 544.623 1445.4 Q542.423 1445.4 539.97 1446.17 Q537.539 1446.93 534.761 1448.48 L534.761 1443.76 Q537.586 1442.62 540.039 1442.05 Q542.493 1441.47 544.53 1441.47 Q549.9 1441.47 553.095 1444.15 Q556.289 1446.84 556.289 1451.33 Q556.289 1453.46 555.479 1455.38 Q554.692 1457.28 552.585 1459.87 Q552.007 1460.54 548.905 1463.76 Q545.803 1466.95 540.155 1472.72 Z\\\" fill=\\\"#000000\\\" fill-rule=\\\"evenodd\\\" fill-opacity=\\\"1\\\" \\/><path clip-path=\\\"url(#clip260)\\\" d=\\\"M 0 0 M571.544 1445.17 Q567.933 1445.17 566.104 1448.74 Q564.298 1452.28 564.298 1459.41 Q564.298 1466.51 566.104 1470.08 Q567.933 1473.62 571.544 1473.62 Q575.178 1473.62 576.983 1470.08 Q578.812 1466.51 578.812 1459.41 Q578.812 1452.28 576.983 1448.74 Q575.178 1445.17 571.544 1445.17 M571.544 1441.47 Q577.354 1441.47 580.409 1446.07 Q583.488 1450.66 583.488 1459.41 Q583.488 1468.13 580.409 1472.74 Q577.354 1477.32 571.544 1477.32 Q565.734 1477.32 562.655 1472.74 Q559.599 1468.13 559.599 1459.41 Q559.599 1450.66 562.655 1446.07 Q565.734 1441.47 571.544 1441.47 Z\\\" fill=\\\"#000000\\\" fill-rule=\\\"evenodd\\\" fill-opacity=\\\"1\\\" \\/><path clip-path=\\\"url(#clip260)\\\" d=\\\"M 0 0 M847.469 1446.17 L835.664 1464.61 L847.469 1464.61 L847.469 1446.17 M846.242 1442.09 L852.122 1442.09 L852.122 1464.61 L857.053 1464.61 L857.053 1468.5 L852.122 1468.5 L852.122 1476.65 L847.469 1476.65 L847.469 1468.5 L831.867 1468.5 L831.867 1463.99 L846.242 1442.09 Z\\\" fill=\\\"#000000\\\" fill-rule=\\\"evenodd\\\" fill-opacity=\\\"1\\\" \\/><path clip-path=\\\"url(#clip260)\\\" d=\\\"M 0 0 M872.122 1445.17 Q868.511 1445.17 866.682 1448.74 Q864.877 1452.28 864.877 1459.41 Q864.877 1466.51 866.682 1470.08 Q868.511 1473.62 872.122 1473.62 Q875.756 1473.62 877.562 1470.08 Q879.39 1466.51 879.39 1459.41 Q879.39 1452.28 877.562 1448.74 Q875.756 1445.17 872.122 1445.17 M872.122 1441.47 Q877.932 1441.47 880.988 1446.07 Q884.066 1450.66 884.066 1459.41 Q884.066 1468.13 880.988 1472.74 Q877.932 1477.32 872.122 1477.32 Q866.312 1477.32 863.233 1472.74 Q860.177 1468.13 860.177 1459.41 Q860.177 1450.66 863.233 1446.07 Q866.312 1441.47 872.122 1441.47 Z\\\" fill=\\\"#000000\\\" fill-rule=\\\"evenodd\\\" fill-opacity=\\\"1\\\" \\/><path clip-path=\\\"url(#clip260)\\\" d=\\\"M 0 0 M1143.82 1457.51 Q1140.67 1457.51 1138.82 1459.66 Q1136.99 1461.81 1136.99 1465.56 Q1136.99 1469.29 1138.82 1471.47 Q1140.67 1473.62 1143.82 1473.62 Q1146.97 1473.62 1148.8 1471.47 Q1150.65 1469.29 1150.65 1465.56 Q1150.65 1461.81 1148.8 1459.66 Q1146.97 1457.51 1143.82 1457.51 M1153.11 1442.86 L1153.11 1447.11 Q1151.35 1446.28 1149.54 1445.84 Q1147.76 1445.4 1146 1445.4 Q1141.37 1445.4 1138.92 1448.53 Q1136.48 1451.65 1136.14 1457.97 Q1137.5 1455.96 1139.56 1454.89 Q1141.62 1453.8 1144.1 1453.8 Q1149.31 1453.8 1152.32 1456.98 Q1155.35 1460.12 1155.35 1465.56 Q1155.35 1470.89 1152.2 1474.11 Q1149.05 1477.32 1143.82 1477.32 Q1137.83 1477.32 1134.66 1472.74 Q1131.48 1468.13 1131.48 1459.41 Q1131.48 1451.21 1135.37 1446.35 Q1139.26 1441.47 1145.81 1441.47 Q1147.57 1441.47 1149.36 1441.81 Q1151.16 1442.16 1153.11 1442.86 Z\\\" fill=\\\"#000000\\\" fill-rule=\\\"evenodd\\\" fill-opacity=\\\"1\\\" \\/><path clip-path=\\\"url(#clip260)\\\" d=\\\"M 0 0 M1170.42 1445.17 Q1166.81 1445.17 1164.98 1448.74 Q1163.17 1452.28 1163.17 1459.41 Q1163.17 1466.51 1164.98 1470.08 Q1166.81 1473.62 1170.42 1473.62 Q1174.05 1473.62 1175.86 1470.08 Q1177.69 1466.51 1177.69 1459.41 Q1177.69 1452.28 1175.86 1448.74 Q1174.05 1445.17 1170.42 1445.17 M1170.42 1441.47 Q1176.23 1441.47 1179.29 1446.07 Q1182.36 1450.66 1182.36 1459.41 Q1182.36 1468.13 1179.29 1472.74 Q1176.23 1477.32 1170.42 1477.32 Q1164.61 1477.32 1161.53 1472.74 Q1158.48 1468.13 1158.48 1459.41 Q1158.48 1450.66 1161.53 1446.07 Q1164.61 1441.47 1170.42 1441.47 Z\\\" fill=\\\"#000000\\\" fill-rule=\\\"evenodd\\\" fill-opacity=\\\"1\\\" \\/><path clip-path=\\\"url(#clip260)\\\" d=\\\"M 0 0 M1442.38 1460.24 Q1439.04 1460.24 1437.12 1462.02 Q1435.22 1463.8 1435.22 1466.93 Q1435.22 1470.05 1437.12 1471.84 Q1439.04 1473.62 1442.38 1473.62 Q1445.71 1473.62 1447.63 1471.84 Q1449.55 1470.03 1449.55 1466.93 Q1449.55 1463.8 1447.63 1462.02 Q1445.73 1460.24 1442.38 1460.24 M1437.7 1458.25 Q1434.69 1457.51 1433 1455.45 Q1431.33 1453.39 1431.33 1450.43 Q1431.33 1446.28 1434.27 1443.87 Q1437.24 1441.47 1442.38 1441.47 Q1447.54 1441.47 1450.48 1443.87 Q1453.42 1446.28 1453.42 1450.43 Q1453.42 1453.39 1451.73 1455.45 Q1450.06 1457.51 1447.07 1458.25 Q1450.45 1459.04 1452.33 1461.33 Q1454.23 1463.62 1454.23 1466.93 Q1454.23 1471.95 1451.15 1474.64 Q1448.09 1477.32 1442.38 1477.32 Q1436.66 1477.32 1433.58 1474.64 Q1430.52 1471.95 1430.52 1466.93 Q1430.52 1463.62 1432.42 1461.33 Q1434.32 1459.04 1437.7 1458.25 M1435.99 1450.86 Q1435.99 1453.55 1437.65 1455.05 Q1439.34 1456.56 1442.38 1456.56 Q1445.38 1456.56 1447.07 1455.05 Q1448.79 1453.55 1448.79 1450.86 Q1448.79 1448.18 1447.07 1446.68 Q1445.38 1445.17 1442.38 1445.17 Q1439.34 1445.17 1437.65 1446.68 Q1435.99 1448.18 1435.99 1450.86 Z\\\" fill=\\\"#000000\\\" fill-rule=\\\"evenodd\\\" fill-opacity=\\\"1\\\" \\/><path clip-path=\\\"url(#clip260)\\\" d=\\\"M 0 0 M1469.3 1445.17 Q1465.69 1445.17 1463.86 1448.74 Q1462.05 1452.28 1462.05 1459.41 Q1462.05 1466.51 1463.86 1470.08 Q1465.69 1473.62 1469.3 1473.62 Q1472.93 1473.62 1474.74 1470.08 Q1476.57 1466.51 1476.57 1459.41 Q1476.57 1452.28 1474.74 1448.74 Q1472.93 1445.17 1469.3 1445.17 M1469.3 1441.47 Q1475.11 1441.47 1478.16 1446.07 Q1481.24 1450.66 1481.24 1459.41 Q1481.24 1468.13 1478.16 1472.74 Q1475.11 1477.32 1469.3 1477.32 Q1463.49 1477.32 1460.41 1472.74 Q1457.35 1468.13 1457.35 1459.41 Q1457.35 1450.66 1460.41 1446.07 Q1463.49 1441.47 1469.3 1441.47 Z\\\" fill=\\\"#000000\\\" fill-rule=\\\"evenodd\\\" fill-opacity=\\\"1\\\" \\/><path clip-path=\\\"url(#clip260)\\\" d=\\\"M 0 0 M1718.21 1472.72 L1725.85 1472.72 L1725.85 1446.35 L1717.54 1448.02 L1717.54 1443.76 L1725.8 1442.09 L1730.48 1442.09 L1730.48 1472.72 L1738.12 1472.72 L1738.12 1476.65 L1718.21 1476.65 L1718.21 1472.72 Z\\\" fill=\\\"#000000\\\" fill-rule=\\\"evenodd\\\" fill-opacity=\\\"1\\\" \\/><path clip-path=\\\"url(#clip260)\\\" d=\\\"M 0 0 M1753.19 1445.17 Q1749.57 1445.17 1747.75 1448.74 Q1745.94 1452.28 1745.94 1459.41 Q1745.94 1466.51 1747.75 1470.08 Q1749.57 1473.62 1753.19 1473.62 Q1756.82 1473.62 1758.62 1470.08 Q1760.45 1466.51 1760.45 1459.41 Q1760.45 1452.28 1758.62 1448.74 Q1756.82 1445.17 1753.19 1445.17 M1753.19 1441.47 Q1759 1441.47 1762.05 1446.07 Q1765.13 1450.66 1765.13 1459.41 Q1765.13 1468.13 1762.05 1472.74 Q1759 1477.32 1753.19 1477.32 Q1747.38 1477.32 1744.3 1472.74 Q1741.24 1468.13 1741.24 1459.41 Q1741.24 1450.66 1744.3 1446.07 Q1747.38 1441.47 1753.19 1441.47 Z\\\" fill=\\\"#000000\\\" fill-rule=\\\"evenodd\\\" fill-opacity=\\\"1\\\" \\/><path clip-path=\\\"url(#clip260)\\\" d=\\\"M 0 0 M1780.2 1445.17 Q1776.59 1445.17 1774.76 1448.74 Q1772.95 1452.28 1772.95 1459.41 Q1772.95 1466.51 1774.76 1470.08 Q1776.59 1473.62 1780.2 1473.62 Q1783.83 1473.62 1785.64 1470.08 Q1787.47 1466.51 1787.47 1459.41 Q1787.47 1452.28 1785.64 1448.74 Q1783.83 1445.17 1780.2 1445.17 M1780.2 1441.47 Q1786.01 1441.47 1789.06 1446.07 Q1792.14 1450.66 1792.14 1459.41 Q1792.14 1468.13 1789.06 1472.74 Q1786.01 1477.32 1780.2 1477.32 Q1774.39 1477.32 1771.31 1472.74 Q1768.25 1468.13 1768.25 1459.41 Q1768.25 1450.66 1771.31 1446.07 Q1774.39 1441.47 1780.2 1441.47 Z\\\" fill=\\\"#000000\\\" fill-rule=\\\"evenodd\\\" fill-opacity=\\\"1\\\" \\/><path clip-path=\\\"url(#clip260)\\\" d=\\\"M 0 0 M2017.96 1472.72 L2025.6 1472.72 L2025.6 1446.35 L2017.29 1448.02 L2017.29 1443.76 L2025.56 1442.09 L2030.23 1442.09 L2030.23 1472.72 L2037.87 1472.72 L2037.87 1476.65 L2017.96 1476.65 L2017.96 1472.72 Z\\\" fill=\\\"#000000\\\" fill-rule=\\\"evenodd\\\" fill-opacity=\\\"1\\\" \\/><path clip-path=\\\"url(#clip260)\\\" d=\\\"M 0 0 M2046.97 1472.72 L2063.29 1472.72 L2063.29 1476.65 L2041.34 1476.65 L2041.34 1472.72 Q2044.01 1469.96 2048.59 1465.33 Q2053.2 1460.68 2054.38 1459.34 Q2056.62 1456.81 2057.5 1455.08 Q2058.4 1453.32 2058.4 1451.63 Q2058.4 1448.87 2056.46 1447.14 Q2054.54 1445.4 2051.44 1445.4 Q2049.24 1445.4 2046.78 1446.17 Q2044.35 1446.93 2041.58 1448.48 L2041.58 1443.76 Q2044.4 1442.62 2046.85 1442.05 Q2049.31 1441.47 2051.34 1441.47 Q2056.71 1441.47 2059.91 1444.15 Q2063.1 1446.84 2063.1 1451.33 Q2063.1 1453.46 2062.29 1455.38 Q2061.51 1457.28 2059.4 1459.87 Q2058.82 1460.54 2055.72 1463.76 Q2052.62 1466.95 2046.97 1472.72 Z\\\" fill=\\\"#000000\\\" fill-rule=\\\"evenodd\\\" fill-opacity=\\\"1\\\" \\/><path clip-path=\\\"url(#clip260)\\\" d=\\\"M 0 0 M2078.36 1445.17 Q2074.75 1445.17 2072.92 1448.74 Q2071.11 1452.28 2071.11 1459.41 Q2071.11 1466.51 2072.92 1470.08 Q2074.75 1473.62 2078.36 1473.62 Q2081.99 1473.62 2083.8 1470.08 Q2085.63 1466.51 2085.63 1459.41 Q2085.63 1452.28 2083.8 1448.74 Q2081.99 1445.17 2078.36 1445.17 M2078.36 1441.47 Q2084.17 1441.47 2087.22 1446.07 Q2090.3 1450.66 2090.3 1459.41 Q2090.3 1468.13 2087.22 1472.74 Q2084.17 1477.32 2078.36 1477.32 Q2072.55 1477.32 2069.47 1472.74 Q2066.41 1468.13 2066.41 1459.41 Q2066.41 1450.66 2069.47 1446.07 Q2072.55 1441.47 2078.36 1441.47 Z\\\" fill=\\\"#000000\\\" fill-rule=\\\"evenodd\\\" fill-opacity=\\\"1\\\" \\/><path clip-path=\\\"url(#clip260)\\\" d=\\\"M 0 0 M2315.88 1472.72 L2323.52 1472.72 L2323.52 1446.35 L2315.21 1448.02 L2315.21 1443.76 L2323.47 1442.09 L2328.15 1442.09 L2328.15 1472.72 L2335.79 1472.72 L2335.79 1476.65 L2315.88 1476.65 L2315.88 1472.72 Z\\\" fill=\\\"#000000\\\" fill-rule=\\\"evenodd\\\" fill-opacity=\\\"1\\\" \\/><path clip-path=\\\"url(#clip260)\\\" d=\\\"M 0 0 M2353.7 1446.17 L2341.9 1464.61 L2353.7 1464.61 L2353.7 1446.17 M2352.48 1442.09 L2358.36 1442.09 L2358.36 1464.61 L2363.29 1464.61 L2363.29 1468.5 L2358.36 1468.5 L2358.36 1476.65 L2353.7 1476.65 L2353.7 1468.5 L2338.1 1468.5 L2338.1 1463.99 L2352.48 1442.09 Z\\\" fill=\\\"#000000\\\" fill-rule=\\\"evenodd\\\" fill-opacity=\\\"1\\\" \\/><path clip-path=\\\"url(#clip260)\\\" d=\\\"M 0 0 M2378.36 1445.17 Q2374.75 1445.17 2372.92 1448.74 Q2371.11 1452.28 2371.11 1459.41 Q2371.11 1466.51 2372.92 1470.08 Q2374.75 1473.62 2378.36 1473.62 Q2381.99 1473.62 2383.8 1470.08 Q2385.63 1466.51 2385.63 1459.41 Q2385.63 1452.28 2383.8 1448.74 Q2381.99 1445.17 2378.36 1445.17 M2378.36 1441.47 Q2384.17 1441.47 2387.22 1446.07 Q2390.3 1450.66 2390.3 1459.41 Q2390.3 1468.13 2387.22 1472.74 Q2384.17 1477.32 2378.36 1477.32 Q2372.55 1477.32 2369.47 1472.74 Q2366.41 1468.13 2366.41 1459.41 Q2366.41 1450.66 2369.47 1446.07 Q2372.55 1441.47 2378.36 1441.47 Z\\\" fill=\\\"#000000\\\" fill-rule=\\\"evenodd\\\" fill-opacity=\\\"1\\\" \\/><path clip-path=\\\"url(#clip260)\\\" d=\\\"M 0 0 M169.721 1406.19 L177.359 1406.19 L177.359 1379.82 L169.049 1381.49 L169.049 1377.23 L177.313 1375.56 L181.989 1375.56 L181.989 1406.19 L189.628 1406.19 L189.628 1410.12 L169.721 1410.12 L169.721 1406.19 Z\\\" fill=\\\"#000000\\\" fill-rule=\\\"evenodd\\\" fill-opacity=\\\"1\\\" \\/><path clip-path=\\\"url(#clip260)\\\" d=\\\"M 0 0 M204.697 1378.64 Q201.086 1378.64 199.257 1382.21 Q197.452 1385.75 197.452 1392.88 Q197.452 1399.98 199.257 1403.55 Q201.086 1407.09 204.697 1407.09 Q208.331 1407.09 210.137 1403.55 Q211.966 1399.98 211.966 1392.88 Q211.966 1385.75 210.137 1382.21 Q208.331 1378.64 204.697 1378.64 M204.697 1374.94 Q210.507 1374.94 213.563 1379.54 Q216.642 1384.13 216.642 1392.88 Q216.642 1401.6 213.563 1406.21 Q210.507 1410.79 204.697 1410.79 Q198.887 1410.79 195.808 1406.21 Q192.753 1401.6 192.753 1392.88 Q192.753 1384.13 195.808 1379.54 Q198.887 1374.94 204.697 1374.94 Z\\\" fill=\\\"#000000\\\" fill-rule=\\\"evenodd\\\" fill-opacity=\\\"1\\\" \\/><path clip-path=\\\"url(#clip260)\\\" d=\\\"M 0 0 M226.346 1357.13 Q223.412 1357.13 221.927 1360.03 Q220.46 1362.91 220.46 1368.7 Q220.46 1374.48 221.927 1377.37 Q223.412 1380.25 226.346 1380.25 Q229.299 1380.25 230.766 1377.37 Q232.252 1374.48 232.252 1368.7 Q232.252 1362.91 230.766 1360.03 Q229.299 1357.13 226.346 1357.13 M226.346 1354.13 Q231.067 1354.13 233.55 1357.87 Q236.051 1361.59 236.051 1368.7 Q236.051 1375.79 233.55 1379.53 Q231.067 1383.26 226.346 1383.26 Q221.626 1383.26 219.124 1379.53 Q216.642 1375.79 216.642 1368.7 Q216.642 1361.59 219.124 1357.87 Q221.626 1354.13 226.346 1354.13 Z\\\" fill=\\\"#000000\\\" fill-rule=\\\"evenodd\\\" fill-opacity=\\\"1\\\" \\/><path clip-path=\\\"url(#clip260)\\\" d=\\\"M 0 0 M172.41 1173.73 L180.049 1173.73 L180.049 1147.36 L171.739 1149.03 L171.739 1144.77 L180.003 1143.1 L184.679 1143.1 L184.679 1173.73 L192.317 1173.73 L192.317 1177.66 L172.41 1177.66 L172.41 1173.73 Z\\\" fill=\\\"#000000\\\" fill-rule=\\\"evenodd\\\" fill-opacity=\\\"1\\\" \\/><path clip-path=\\\"url(#clip260)\\\" d=\\\"M 0 0 M207.387 1146.18 Q203.776 1146.18 201.947 1149.74 Q200.141 1153.29 200.141 1160.41 Q200.141 1167.52 201.947 1171.09 Q203.776 1174.63 207.387 1174.63 Q211.021 1174.63 212.827 1171.09 Q214.655 1167.52 214.655 1160.41 Q214.655 1153.29 212.827 1149.74 Q211.021 1146.18 207.387 1146.18 M207.387 1142.48 Q213.197 1142.48 216.252 1147.08 Q219.331 1151.66 219.331 1160.41 Q219.331 1169.14 216.252 1173.75 Q213.197 1178.33 207.387 1178.33 Q201.577 1178.33 198.498 1173.75 Q195.442 1169.14 195.442 1160.41 Q195.442 1151.66 198.498 1147.08 Q201.577 1142.48 207.387 1142.48 Z\\\" fill=\\\"#000000\\\" fill-rule=\\\"evenodd\\\" fill-opacity=\\\"1\\\" \\/><path clip-path=\\\"url(#clip260)\\\" d=\\\"M 0 0 M219.877 1147.05 L226.083 1147.05 L226.083 1125.63 L219.331 1126.98 L219.331 1123.52 L226.046 1122.17 L229.845 1122.17 L229.845 1147.05 L236.051 1147.05 L236.051 1150.25 L219.877 1150.25 L219.877 1147.05 Z\\\" fill=\\\"#000000\\\" fill-rule=\\\"evenodd\\\" fill-opacity=\\\"1\\\" \\/><path clip-path=\\\"url(#clip260)\\\" d=\\\"M 0 0 M171.3 941.262 L178.939 941.262 L178.939 914.896 L170.629 916.563 L170.629 912.304 L178.893 910.637 L183.569 910.637 L183.569 941.262 L191.208 941.262 L191.208 945.197 L171.3 945.197 L171.3 941.262 Z\\\" fill=\\\"#000000\\\" fill-rule=\\\"evenodd\\\" fill-opacity=\\\"1\\\" \\/><path clip-path=\\\"url(#clip260)\\\" d=\\\"M 0 0 M206.277 913.716 Q202.666 913.716 200.837 917.281 Q199.032 920.822 199.032 927.952 Q199.032 935.058 200.837 938.623 Q202.666 942.165 206.277 942.165 Q209.911 942.165 211.717 938.623 Q213.546 935.058 213.546 927.952 Q213.546 920.822 211.717 917.281 Q209.911 913.716 206.277 913.716 M206.277 910.012 Q212.087 910.012 215.143 914.619 Q218.221 919.202 218.221 927.952 Q218.221 936.679 215.143 941.285 Q212.087 945.868 206.277 945.868 Q200.467 945.868 197.388 941.285 Q194.333 936.679 194.333 927.952 Q194.333 919.202 197.388 914.619 Q200.467 910.012 206.277 910.012 Z\\\" fill=\\\"#000000\\\" fill-rule=\\\"evenodd\\\" fill-opacity=\\\"1\\\" \\/><path clip-path=\\\"url(#clip260)\\\" d=\\\"M 0 0 M222.792 914.589 L236.051 914.589 L236.051 917.787 L218.221 917.787 L218.221 914.589 Q220.384 912.351 224.108 908.59 Q227.851 904.809 228.81 903.718 Q230.635 901.668 231.349 900.258 Q232.083 898.828 232.083 897.455 Q232.083 895.217 230.503 893.807 Q228.942 892.396 226.422 892.396 Q224.635 892.396 222.641 893.017 Q220.666 893.638 218.41 894.898 L218.41 891.061 Q220.704 890.139 222.698 889.669 Q224.691 889.199 226.346 889.199 Q230.71 889.199 233.305 891.381 Q235.901 893.562 235.901 897.211 Q235.901 898.941 235.243 900.502 Q234.603 902.045 232.892 904.151 Q232.421 904.696 229.901 907.311 Q227.381 909.906 222.792 914.589 Z\\\" fill=\\\"#000000\\\" fill-rule=\\\"evenodd\\\" fill-opacity=\\\"1\\\" \\/><path clip-path=\\\"url(#clip260)\\\" d=\\\"M 0 0 M170.642 708.799 L178.281 708.799 L178.281 682.433 L169.971 684.1 L169.971 679.841 L178.235 678.174 L182.911 678.174 L182.911 708.799 L190.549 708.799 L190.549 712.734 L170.642 712.734 L170.642 708.799 Z\\\" fill=\\\"#000000\\\" fill-rule=\\\"evenodd\\\" fill-opacity=\\\"1\\\" \\/><path clip-path=\\\"url(#clip260)\\\" d=\\\"M 0 0 M205.619 681.253 Q202.008 681.253 200.179 684.817 Q198.373 688.359 198.373 695.489 Q198.373 702.595 200.179 706.16 Q202.008 709.702 205.619 709.702 Q209.253 709.702 211.059 706.16 Q212.887 702.595 212.887 695.489 Q212.887 688.359 211.059 684.817 Q209.253 681.253 205.619 681.253 M205.619 677.549 Q211.429 677.549 214.485 682.155 Q217.563 686.739 217.563 695.489 Q217.563 704.216 214.485 708.822 Q211.429 713.405 205.619 713.405 Q199.809 713.405 196.73 708.822 Q193.674 704.216 193.674 695.489 Q193.674 686.739 196.73 682.155 Q199.809 677.549 205.619 677.549 Z\\\" fill=\\\"#000000\\\" fill-rule=\\\"evenodd\\\" fill-opacity=\\\"1\\\" \\/><path clip-path=\\\"url(#clip260)\\\" d=\\\"M 0 0 M230.258 670.183 Q232.986 670.766 234.509 672.61 Q236.051 674.453 236.051 677.161 Q236.051 681.318 233.192 683.593 Q230.334 685.869 225.067 685.869 Q223.3 685.869 221.419 685.512 Q219.557 685.173 217.563 684.477 L217.563 680.81 Q219.143 681.731 221.024 682.202 Q222.905 682.672 224.955 682.672 Q228.528 682.672 230.39 681.261 Q232.271 679.851 232.271 677.161 Q232.271 674.678 230.522 673.287 Q228.791 671.876 225.688 671.876 L222.416 671.876 L222.416 668.754 L225.839 668.754 Q228.641 668.754 230.127 667.644 Q231.613 666.516 231.613 664.409 Q231.613 662.246 230.07 661.099 Q228.547 659.933 225.688 659.933 Q224.127 659.933 222.34 660.272 Q220.554 660.61 218.41 661.325 L218.41 657.939 Q220.572 657.338 222.453 657.037 Q224.353 656.736 226.027 656.736 Q230.352 656.736 232.873 658.711 Q235.393 660.667 235.393 664.014 Q235.393 666.347 234.058 667.964 Q232.722 669.563 230.258 670.183 Z\\\" fill=\\\"#000000\\\" fill-rule=\\\"evenodd\\\" fill-opacity=\\\"1\\\" \\/><path clip-path=\\\"url(#clip260)\\\" d=\\\"M 0 0 M168.667 476.336 L176.306 476.336 L176.306 449.97 L167.996 451.637 L167.996 447.378 L176.26 445.711 L180.936 445.711 L180.936 476.336 L188.575 476.336 L188.575 480.271 L168.667 480.271 L168.667 476.336 Z\\\" fill=\\\"#000000\\\" fill-rule=\\\"evenodd\\\" fill-opacity=\\\"1\\\" \\/><path clip-path=\\\"url(#clip260)\\\" d=\\\"M 0 0 M203.644 448.79 Q200.033 448.79 198.204 452.354 Q196.399 455.896 196.399 463.026 Q196.399 470.132 198.204 473.697 Q200.033 477.239 203.644 477.239 Q207.278 477.239 209.084 473.697 Q210.912 470.132 210.912 463.026 Q210.912 455.896 209.084 452.354 Q207.278 448.79 203.644 448.79 M203.644 445.086 Q209.454 445.086 212.51 449.692 Q215.588 454.276 215.588 463.026 Q215.588 471.752 212.51 476.359 Q209.454 480.942 203.644 480.942 Q197.834 480.942 194.755 476.359 Q191.7 471.752 191.7 463.026 Q191.7 454.276 194.755 449.692 Q197.834 445.086 203.644 445.086 Z\\\" fill=\\\"#000000\\\" fill-rule=\\\"evenodd\\\" fill-opacity=\\\"1\\\" \\/><path clip-path=\\\"url(#clip260)\\\" d=\\\"M 0 0 M228.265 428.091 L218.673 443.08 L228.265 443.08 L228.265 428.091 M227.268 424.781 L232.045 424.781 L232.045 443.08 L236.051 443.08 L236.051 446.24 L232.045 446.24 L232.045 452.861 L228.265 452.861 L228.265 446.24 L215.588 446.24 L215.588 442.573 L227.268 424.781 Z\\\" fill=\\\"#000000\\\" fill-rule=\\\"evenodd\\\" fill-opacity=\\\"1\\\" \\/><path clip-path=\\\"url(#clip260)\\\" d=\\\"M 0 0 M170.962 243.873 L178.601 243.873 L178.601 217.507 L170.291 219.174 L170.291 214.914 L178.554 213.248 L183.23 213.248 L183.23 243.873 L190.869 243.873 L190.869 247.808 L170.962 247.808 L170.962 243.873 Z\\\" fill=\\\"#000000\\\" fill-rule=\\\"evenodd\\\" fill-opacity=\\\"1\\\" \\/><path clip-path=\\\"url(#clip260)\\\" d=\\\"M 0 0 M205.939 216.326 Q202.327 216.326 200.499 219.891 Q198.693 223.433 198.693 230.563 Q198.693 237.669 200.499 241.234 Q202.327 244.775 205.939 244.775 Q209.573 244.775 211.378 241.234 Q213.207 237.669 213.207 230.563 Q213.207 223.433 211.378 219.891 Q209.573 216.326 205.939 216.326 M205.939 212.623 Q211.749 212.623 214.804 217.229 Q217.883 221.813 217.883 230.563 Q217.883 239.289 214.804 243.896 Q211.749 248.479 205.939 248.479 Q200.128 248.479 197.05 243.896 Q193.994 239.289 193.994 230.563 Q193.994 221.813 197.05 217.229 Q200.128 212.623 205.939 212.623 Z\\\" fill=\\\"#000000\\\" fill-rule=\\\"evenodd\\\" fill-opacity=\\\"1\\\" \\/><path clip-path=\\\"url(#clip260)\\\" d=\\\"M 0 0 M219.068 192.317 L233.982 192.317 L233.982 195.515 L222.547 195.515 L222.547 202.398 Q223.375 202.116 224.202 201.985 Q225.03 201.834 225.857 201.834 Q230.559 201.834 233.305 204.411 Q236.051 206.987 236.051 211.388 Q236.051 215.921 233.23 218.441 Q230.409 220.943 225.274 220.943 Q223.506 220.943 221.663 220.642 Q219.839 220.341 217.883 219.739 L217.883 215.921 Q219.576 216.843 221.381 217.294 Q223.187 217.746 225.199 217.746 Q228.453 217.746 230.352 216.034 Q232.252 214.323 232.252 211.388 Q232.252 208.454 230.352 206.743 Q228.453 205.031 225.199 205.031 Q223.676 205.031 222.152 205.37 Q220.648 205.709 219.068 206.423 L219.068 192.317 Z\\\" fill=\\\"#000000\\\" fill-rule=\\\"evenodd\\\" fill-opacity=\\\"1\\\" \\/><path clip-path=\\\"url(#clip260)\\\" d=\\\"M 0 0 M844.641 28.9478 L844.641 35.9153 Q841.481 34.1734 838.281 33.3227 Q835.121 32.4315 831.881 32.4315 Q824.63 32.4315 820.619 37.0496 Q816.609 41.6271 816.609 49.9314 Q816.609 58.2358 820.619 62.8538 Q824.63 67.4314 831.881 67.4314 Q835.121 67.4314 838.281 66.5807 Q841.481 65.6895 844.641 63.9476 L844.641 70.8341 Q841.522 72.2924 838.16 73.0216 Q834.838 73.7508 831.07 73.7508 Q820.822 73.7508 814.786 67.3098 Q808.75 60.8689 808.75 49.9314 Q808.75 38.832 814.826 32.472 Q820.943 26.1121 831.557 26.1121 Q835 26.1121 838.281 26.8413 Q841.562 27.5299 844.641 28.9478 Z\\\" fill=\\\"#000000\\\" fill-rule=\\\"evenodd\\\" fill-opacity=\\\"1\\\" \\/><path clip-path=\\\"url(#clip260)\\\" d=\\\"M 0 0 M870.04 32.4315 Q864.045 32.4315 860.561 37.1306 Q857.077 41.7891 857.077 49.9314 Q857.077 58.0738 860.521 62.7728 Q864.004 67.4314 870.04 67.4314 Q875.995 67.4314 879.479 62.7323 Q882.963 58.0333 882.963 49.9314 Q882.963 41.8701 879.479 37.1711 Q875.995 32.4315 870.04 32.4315 M870.04 26.1121 Q879.762 26.1121 885.312 32.4315 Q890.862 38.7509 890.862 49.9314 Q890.862 61.0714 885.312 67.4314 Q879.762 73.7508 870.04 73.7508 Q860.277 73.7508 854.728 67.4314 Q849.219 61.0714 849.219 49.9314 Q849.219 38.7509 854.728 32.4315 Q860.277 26.1121 870.04 26.1121 Z\\\" fill=\\\"#000000\\\" fill-rule=\\\"evenodd\\\" fill-opacity=\\\"1\\\" \\/><path clip-path=\\\"url(#clip260)\\\" d=\\\"M 0 0 M936.394 45.1919 L936.394 72.576 L928.94 72.576 L928.94 45.4349 Q928.94 38.994 926.429 35.7938 Q923.917 32.5936 918.894 32.5936 Q912.858 32.5936 909.374 36.4419 Q905.891 40.2903 905.891 46.9338 L905.891 72.576 L898.396 72.576 L898.396 27.2059 L905.891 27.2059 L905.891 34.2544 Q908.564 30.163 912.17 28.1376 Q915.815 26.1121 920.555 26.1121 Q928.373 26.1121 932.384 30.9732 Q936.394 35.7938 936.394 45.1919 Z\\\" fill=\\\"#000000\\\" fill-rule=\\\"evenodd\\\" fill-opacity=\\\"1\\\" \\/><path clip-path=\\\"url(#clip260)\\\" d=\\\"M 0 0 M967.181 9.54393 L967.181 15.7418 L960.051 15.7418 Q956.041 15.7418 954.461 17.3622 Q952.922 18.9825 952.922 23.1955 L952.922 27.2059 L965.196 27.2059 L965.196 32.9987 L952.922 32.9987 L952.922 72.576 L945.427 72.576 L945.427 32.9987 L938.298 32.9987 L938.298 27.2059 L945.427 27.2059 L945.427 24.0462 Q945.427 16.471 948.952 13.0277 Q952.476 9.54393 960.132 9.54393 L967.181 9.54393 Z\\\" fill=\\\"#000000\\\" fill-rule=\\\"evenodd\\\" fill-opacity=\\\"1\\\" \\/><path clip-path=\\\"url(#clip260)\\\" d=\\\"M 0 0 M974.999 27.2059 L982.453 27.2059 L982.453 72.576 L974.999 72.576 L974.999 27.2059 M974.999 9.54393 L982.453 9.54393 L982.453 18.9825 L974.999 18.9825 L974.999 9.54393 Z\\\" fill=\\\"#000000\\\" fill-rule=\\\"evenodd\\\" fill-opacity=\\\"1\\\" \\/><path clip-path=\\\"url(#clip260)\\\" d=\\\"M 0 0 M1016.56 34.1734 Q1015.31 33.4443 1013.81 33.1202 Q1012.35 32.7556 1010.57 32.7556 Q1004.25 32.7556 1000.84 36.8875 Q997.482 40.9789 997.482 48.6757 L997.482 72.576 L989.987 72.576 L989.987 27.2059 L997.482 27.2059 L997.482 34.2544 Q999.831 30.1225 1003.6 28.1376 Q1007.37 26.1121 1012.75 26.1121 Q1013.52 26.1121 1014.45 26.2337 Q1015.39 26.3147 1016.52 26.5172 L1016.56 34.1734 Z\\\" fill=\\\"#000000\\\" fill-rule=\\\"evenodd\\\" fill-opacity=\\\"1\\\" \\/><path clip-path=\\\"url(#clip260)\\\" d=\\\"M 0 0 M1058.25 35.9153 Q1061.04 30.8922 1064.93 28.5022 Q1068.82 26.1121 1074.08 26.1121 Q1081.17 26.1121 1085.02 31.0947 Q1088.87 36.0368 1088.87 45.1919 L1088.87 72.576 L1081.38 72.576 L1081.38 45.4349 Q1081.38 38.913 1079.07 35.7533 Q1076.76 32.5936 1072.02 32.5936 Q1066.23 32.5936 1062.86 36.4419 Q1059.5 40.2903 1059.5 46.9338 L1059.5 72.576 L1052.01 72.576 L1052.01 45.4349 Q1052.01 38.8725 1049.7 35.7533 Q1047.39 32.5936 1042.57 32.5936 Q1036.86 32.5936 1033.49 36.4824 Q1030.13 40.3308 1030.13 46.9338 L1030.13 72.576 L1022.64 72.576 L1022.64 27.2059 L1030.13 27.2059 L1030.13 34.2544 Q1032.68 30.082 1036.25 28.0971 Q1039.81 26.1121 1044.72 26.1121 Q1049.66 26.1121 1053.1 28.6237 Q1056.58 31.1352 1058.25 35.9153 Z\\\" fill=\\\"#000000\\\" fill-rule=\\\"evenodd\\\" fill-opacity=\\\"1\\\" \\/><path clip-path=\\\"url(#clip260)\\\" d=\\\"M 0 0 M1135.5 48.0275 L1135.5 51.6733 L1101.23 51.6733 Q1101.71 59.3701 1105.84 63.421 Q1110.02 67.4314 1117.43 67.4314 Q1121.72 67.4314 1125.73 66.3781 Q1129.78 65.3249 1133.75 63.2184 L1133.75 70.267 Q1129.74 71.9684 1125.53 72.8596 Q1121.32 73.7508 1116.98 73.7508 Q1106.13 73.7508 1099.77 67.4314 Q1093.45 61.1119 1093.45 50.3365 Q1093.45 39.1965 1099.44 32.6746 Q1105.48 26.1121 1115.69 26.1121 Q1124.84 26.1121 1130.15 32.0264 Q1135.5 37.9003 1135.5 48.0275 M1128.04 45.84 Q1127.96 39.7232 1124.6 36.0774 Q1121.28 32.4315 1115.77 32.4315 Q1109.53 32.4315 1105.76 35.9558 Q1102.04 39.4801 1101.47 45.8805 L1128.04 45.84 Z\\\" fill=\\\"#000000\\\" fill-rule=\\\"evenodd\\\" fill-opacity=\\\"1\\\" \\/><path clip-path=\\\"url(#clip260)\\\" d=\\\"M 0 0 M1173.17 34.0924 L1173.17 9.54393 L1180.62 9.54393 L1180.62 72.576 L1173.17 72.576 L1173.17 65.7705 Q1170.82 69.8214 1167.21 71.8063 Q1163.65 73.7508 1158.63 73.7508 Q1150.4 73.7508 1145.22 67.1883 Q1140.07 60.6258 1140.07 49.9314 Q1140.07 39.2371 1145.22 32.6746 Q1150.4 26.1121 1158.63 26.1121 Q1163.65 26.1121 1167.21 28.0971 Q1170.82 30.0415 1173.17 34.0924 M1147.77 49.9314 Q1147.77 58.1548 1151.13 62.8538 Q1154.54 67.5124 1160.45 67.5124 Q1166.36 67.5124 1169.77 62.8538 Q1173.17 58.1548 1173.17 49.9314 Q1173.17 41.7081 1169.77 37.0496 Q1166.36 32.3505 1160.45 32.3505 Q1154.54 32.3505 1151.13 37.0496 Q1147.77 41.7081 1147.77 49.9314 Z\\\" fill=\\\"#000000\\\" fill-rule=\\\"evenodd\\\" fill-opacity=\\\"1\\\" \\/><path clip-path=\\\"url(#clip260)\\\" d=\\\"M 0 0 M1260.43 16.7545 L1260.43 25.383 Q1256.29 21.5346 1251.59 19.6307 Q1246.94 17.7268 1241.67 17.7268 Q1231.3 17.7268 1225.79 24.0867 Q1220.28 30.4061 1220.28 42.3968 Q1220.28 54.3469 1225.79 60.7069 Q1231.3 67.0263 1241.67 67.0263 Q1246.94 67.0263 1251.59 65.1223 Q1256.29 63.2184 1260.43 59.3701 L1260.43 67.9175 Q1256.13 70.8341 1251.31 72.2924 Q1246.53 73.7508 1241.18 73.7508 Q1227.45 73.7508 1219.55 65.3654 Q1211.65 56.9395 1211.65 42.3968 Q1211.65 27.8135 1219.55 19.4281 Q1227.45 11.0023 1241.18 11.0023 Q1246.61 11.0023 1251.39 12.4606 Q1256.21 13.8784 1260.43 16.7545 Z\\\" fill=\\\"#000000\\\" fill-rule=\\\"evenodd\\\" fill-opacity=\\\"1\\\" \\/><path clip-path=\\\"url(#clip260)\\\" d=\\\"M 0 0 M1293.12 17.6457 Q1284.2 17.6457 1278.94 24.2892 Q1273.71 30.9327 1273.71 42.3968 Q1273.71 53.8203 1278.94 60.4638 Q1284.2 67.1073 1293.12 67.1073 Q1302.03 67.1073 1307.21 60.4638 Q1312.44 53.8203 1312.44 42.3968 Q1312.44 30.9327 1307.21 24.2892 Q1302.03 17.6457 1293.12 17.6457 M1293.12 11.0023 Q1305.84 11.0023 1313.45 19.5497 Q1321.07 28.0566 1321.07 42.3968 Q1321.07 56.6965 1313.45 65.2439 Q1305.84 73.7508 1293.12 73.7508 Q1280.36 73.7508 1272.7 65.2439 Q1265.08 56.737 1265.08 42.3968 Q1265.08 28.0566 1272.7 19.5497 Q1280.36 11.0023 1293.12 11.0023 Z\\\" fill=\\\"#000000\\\" fill-rule=\\\"evenodd\\\" fill-opacity=\\\"1\\\" \\/><path clip-path=\\\"url(#clip260)\\\" d=\\\"M 0 0 M1343.35 72.576 L1320.26 12.096 L1328.81 12.096 L1347.97 63.0159 L1367.17 12.096 L1375.67 12.096 L1352.62 72.576 L1343.35 72.576 Z\\\" fill=\\\"#000000\\\" fill-rule=\\\"evenodd\\\" fill-opacity=\\\"1\\\" \\/><path clip-path=\\\"url(#clip260)\\\" d=\\\"M 0 0 M1383.82 12.096 L1392 12.096 L1392 72.576 L1383.82 72.576 L1383.82 12.096 Z\\\" fill=\\\"#000000\\\" fill-rule=\\\"evenodd\\\" fill-opacity=\\\"1\\\" \\/><path clip-path=\\\"url(#clip260)\\\" d=\\\"M 0 0 M1408.32 18.8205 L1408.32 65.8515 L1418.21 65.8515 Q1430.73 65.8515 1436.52 60.1802 Q1442.35 54.509 1442.35 42.2752 Q1442.35 30.1225 1436.52 24.4918 Q1430.73 18.8205 1418.21 18.8205 L1408.32 18.8205 M1400.14 12.096 L1416.95 12.096 Q1434.53 12.096 1442.76 19.4281 Q1450.98 26.7198 1450.98 42.2752 Q1450.98 57.9117 1442.72 65.2439 Q1434.45 72.576 1416.95 72.576 L1400.14 72.576 L1400.14 12.096 Z\\\" fill=\\\"#000000\\\" fill-rule=\\\"evenodd\\\" fill-opacity=\\\"1\\\" \\/><path clip-path=\\\"url(#clip260)\\\" d=\\\"M 0 0 M1455.03 46.5287 L1476.87 46.5287 L1476.87 53.1722 L1455.03 53.1722 L1455.03 46.5287 Z\\\" fill=\\\"#000000\\\" fill-rule=\\\"evenodd\\\" fill-opacity=\\\"1\\\" \\/><path clip-path=\\\"url(#clip260)\\\" d=\\\"M 0 0 M1487.15 65.6895 L1500.52 65.6895 L1500.52 19.5497 L1485.98 22.4663 L1485.98 15.0127 L1500.44 12.096 L1508.62 12.096 L1508.62 65.6895 L1521.99 65.6895 L1521.99 72.576 L1487.15 72.576 L1487.15 65.6895 Z\\\" fill=\\\"#000000\\\" fill-rule=\\\"evenodd\\\" fill-opacity=\\\"1\\\" \\/><path clip-path=\\\"url(#clip260)\\\" d=\\\"M 0 0 M1531.11 71.3202 L1531.11 63.8666 Q1534.19 65.3249 1537.35 66.0946 Q1540.51 66.8642 1543.54 66.8642 Q1551.65 66.8642 1555.9 61.436 Q1560.19 55.9673 1560.8 44.8678 Q1558.45 48.3516 1554.85 50.215 Q1551.24 52.0784 1546.87 52.0784 Q1537.79 52.0784 1532.48 46.6097 Q1527.22 41.1005 1527.22 31.5808 Q1527.22 22.2638 1532.73 16.633 Q1538.24 11.0023 1547.39 11.0023 Q1557.88 11.0023 1563.39 19.0636 Q1568.94 27.0843 1568.94 42.3968 Q1568.94 56.6965 1562.14 65.2439 Q1555.37 73.7508 1543.91 73.7508 Q1540.83 73.7508 1537.67 73.1431 Q1534.51 72.5355 1531.11 71.3202 M1547.39 45.678 Q1552.9 45.678 1556.1 41.9107 Q1559.34 38.1433 1559.34 31.5808 Q1559.34 25.0589 1556.1 21.2916 Q1552.9 17.4837 1547.39 17.4837 Q1541.88 17.4837 1538.64 21.2916 Q1535.44 25.0589 1535.44 31.5808 Q1535.44 38.1433 1538.64 41.9107 Q1541.88 45.678 1547.39 45.678 Z\\\" fill=\\\"#000000\\\" fill-rule=\\\"evenodd\\\" fill-opacity=\\\"1\\\" \\/><path clip-path=\\\"url(#clip260)\\\" d=\\\"M 0 0 M1635.78 28.9478 L1635.78 35.9153 Q1632.62 34.1734 1629.42 33.3227 Q1626.26 32.4315 1623.02 32.4315 Q1615.77 32.4315 1611.76 37.0496 Q1607.75 41.6271 1607.75 49.9314 Q1607.75 58.2358 1611.76 62.8538 Q1615.77 67.4314 1623.02 67.4314 Q1626.26 67.4314 1629.42 66.5807 Q1632.62 65.6895 1635.78 63.9476 L1635.78 70.8341 Q1632.66 72.2924 1629.3 73.0216 Q1625.98 73.7508 1622.21 73.7508 Q1611.96 73.7508 1605.93 67.3098 Q1599.89 60.8689 1599.89 49.9314 Q1599.89 38.832 1605.97 32.472 Q1612.08 26.1121 1622.7 26.1121 Q1626.14 26.1121 1629.42 26.8413 Q1632.7 27.5299 1635.78 28.9478 Z\\\" fill=\\\"#000000\\\" fill-rule=\\\"evenodd\\\" fill-opacity=\\\"1\\\" \\/><path clip-path=\\\"url(#clip260)\\\" d=\\\"M 0 0 M1664.22 49.7694 Q1655.19 49.7694 1651.7 51.8354 Q1648.22 53.9013 1648.22 58.8839 Q1648.22 62.8538 1650.81 65.2034 Q1653.44 67.5124 1657.94 67.5124 Q1664.14 67.5124 1667.87 63.1374 Q1671.63 58.7219 1671.63 51.4303 L1671.63 49.7694 L1664.22 49.7694 M1679.09 46.6907 L1679.09 72.576 L1671.63 72.576 L1671.63 65.6895 Q1669.08 69.8214 1665.27 71.8063 Q1661.47 73.7508 1655.96 73.7508 Q1648.99 73.7508 1644.86 69.8619 Q1640.77 65.9325 1640.77 59.3701 Q1640.77 51.7138 1645.87 47.825 Q1651.01 43.9361 1661.18 43.9361 L1671.63 43.9361 L1671.63 43.2069 Q1671.63 38.0623 1668.23 35.2672 Q1664.87 32.4315 1658.75 32.4315 Q1654.86 32.4315 1651.18 33.3632 Q1647.49 34.295 1644.09 36.1584 L1644.09 29.2718 Q1648.18 27.692 1652.03 26.9223 Q1655.88 26.1121 1659.52 26.1121 Q1669.36 26.1121 1674.23 31.2163 Q1679.09 36.3204 1679.09 46.6907 Z\\\" fill=\\\"#000000\\\" fill-rule=\\\"evenodd\\\" fill-opacity=\\\"1\\\" \\/><path clip-path=\\\"url(#clip260)\\\" d=\\\"M 0 0 M1715.83 28.5427 L1715.83 35.5912 Q1712.67 33.9709 1709.27 33.1607 Q1705.86 32.3505 1702.22 32.3505 Q1696.67 32.3505 1693.87 34.0519 Q1691.12 35.7533 1691.12 39.156 Q1691.12 41.7486 1693.1 43.2475 Q1695.09 44.7058 1701.08 46.0426 L1703.64 46.6097 Q1711.58 48.3111 1714.9 51.4303 Q1718.26 54.509 1718.26 60.0587 Q1718.26 66.3781 1713.24 70.0644 Q1708.25 73.7508 1699.5 73.7508 Q1695.86 73.7508 1691.89 73.0216 Q1687.96 72.3329 1683.58 70.9151 L1683.58 63.2184 Q1687.72 65.3654 1691.73 66.4591 Q1695.74 67.5124 1699.67 67.5124 Q1704.93 67.5124 1707.77 65.73 Q1710.6 63.9071 1710.6 60.6258 Q1710.6 57.5877 1708.54 55.9673 Q1706.51 54.3469 1699.58 52.8481 L1696.99 52.2405 Q1690.06 50.7821 1686.99 47.7845 Q1683.91 44.7463 1683.91 39.4801 Q1683.91 33.0797 1688.44 29.5959 Q1692.98 26.1121 1701.33 26.1121 Q1705.46 26.1121 1709.1 26.7198 Q1712.75 27.3274 1715.83 28.5427 Z\\\" fill=\\\"#000000\\\" fill-rule=\\\"evenodd\\\" fill-opacity=\\\"1\\\" \\/><path clip-path=\\\"url(#clip260)\\\" d=\\\"M 0 0 M1764.88 48.0275 L1764.88 51.6733 L1730.61 51.6733 Q1731.1 59.3701 1735.23 63.421 Q1739.4 67.4314 1746.82 67.4314 Q1751.11 67.4314 1755.12 66.3781 Q1759.17 65.3249 1763.14 63.2184 L1763.14 70.267 Q1759.13 71.9684 1754.92 72.8596 Q1750.71 73.7508 1746.37 73.7508 Q1735.52 73.7508 1729.16 67.4314 Q1722.84 61.1119 1722.84 50.3365 Q1722.84 39.1965 1728.83 32.6746 Q1734.87 26.1121 1745.08 26.1121 Q1754.23 26.1121 1759.54 32.0264 Q1764.88 37.9003 1764.88 48.0275 M1757.43 45.84 Q1757.35 39.7232 1753.99 36.0774 Q1750.67 32.4315 1745.16 32.4315 Q1738.92 32.4315 1735.15 35.9558 Q1731.42 39.4801 1730.86 45.8805 L1757.43 45.84 Z\\\" fill=\\\"#000000\\\" fill-rule=\\\"evenodd\\\" fill-opacity=\\\"1\\\" \\/><path clip-path=\\\"url(#clip260)\\\" d=\\\"M 0 0 M1801.63 28.5427 L1801.63 35.5912 Q1798.47 33.9709 1795.06 33.1607 Q1791.66 32.3505 1788.02 32.3505 Q1782.47 32.3505 1779.67 34.0519 Q1776.92 35.7533 1776.92 39.156 Q1776.92 41.7486 1778.9 43.2475 Q1780.89 44.7058 1786.88 46.0426 L1789.43 46.6097 Q1797.37 48.3111 1800.69 51.4303 Q1804.06 54.509 1804.06 60.0587 Q1804.06 66.3781 1799.03 70.0644 Q1794.05 73.7508 1785.3 73.7508 Q1781.66 73.7508 1777.69 73.0216 Q1773.76 72.3329 1769.38 70.9151 L1769.38 63.2184 Q1773.51 65.3654 1777.52 66.4591 Q1781.53 67.5124 1785.46 67.5124 Q1790.73 67.5124 1793.57 65.73 Q1796.4 63.9071 1796.4 60.6258 Q1796.4 57.5877 1794.33 55.9673 Q1792.31 54.3469 1785.38 52.8481 L1782.79 52.2405 Q1775.86 50.7821 1772.78 47.7845 Q1769.71 44.7463 1769.71 39.4801 Q1769.71 33.0797 1774.24 29.5959 Q1778.78 26.1121 1787.12 26.1121 Q1791.26 26.1121 1794.9 26.7198 Q1798.55 27.3274 1801.63 28.5427 Z\\\" fill=\\\"#000000\\\" fill-rule=\\\"evenodd\\\" fill-opacity=\\\"1\\\" \\/><path clip-path=\\\"url(#clip260)\\\" d=\\\"M 0 0 M1265.76 1525.81 L1265.76 1506.52 L1271.61 1506.52 L1271.61 1556.04 L1265.76 1556.04 L1265.76 1550.7 Q1263.91 1553.88 1261.08 1555.44 Q1258.28 1556.97 1254.33 1556.97 Q1247.87 1556.97 1243.8 1551.81 Q1239.75 1546.65 1239.75 1538.25 Q1239.75 1529.85 1243.8 1524.69 Q1247.87 1519.54 1254.33 1519.54 Q1258.28 1519.54 1261.08 1521.1 Q1263.91 1522.62 1265.76 1525.81 M1245.8 1538.25 Q1245.8 1544.71 1248.44 1548.4 Q1251.12 1552.07 1255.76 1552.07 Q1260.41 1552.07 1263.08 1548.4 Q1265.76 1544.71 1265.76 1538.25 Q1265.76 1531.79 1263.08 1528.13 Q1260.41 1524.44 1255.76 1524.44 Q1251.12 1524.44 1248.44 1528.13 Q1245.8 1531.79 1245.8 1538.25 Z\\\" fill=\\\"#000000\\\" fill-rule=\\\"evenodd\\\" fill-opacity=\\\"1\\\" \\/><path clip-path=\\\"url(#clip260)\\\" d=\\\"M 0 0 M1293.96 1538.12 Q1286.86 1538.12 1284.12 1539.75 Q1281.39 1541.37 1281.39 1545.29 Q1281.39 1548.4 1283.42 1550.25 Q1285.49 1552.07 1289.03 1552.07 Q1293.89 1552.07 1296.82 1548.63 Q1299.78 1545.16 1299.78 1539.43 L1299.78 1538.12 L1293.96 1538.12 M1305.64 1535.71 L1305.64 1556.04 L1299.78 1556.04 L1299.78 1550.63 Q1297.78 1553.88 1294.79 1555.44 Q1291.79 1556.97 1287.47 1556.97 Q1281.99 1556.97 1278.74 1553.91 Q1275.53 1550.82 1275.53 1545.67 Q1275.53 1539.65 1279.54 1536.6 Q1283.58 1533.54 1291.57 1533.54 L1299.78 1533.54 L1299.78 1532.97 Q1299.78 1528.93 1297.11 1526.73 Q1294.47 1524.5 1289.66 1524.5 Q1286.61 1524.5 1283.71 1525.23 Q1280.81 1525.97 1278.14 1527.43 L1278.14 1522.02 Q1281.35 1520.78 1284.38 1520.17 Q1287.4 1519.54 1290.27 1519.54 Q1298 1519.54 1301.82 1523.55 Q1305.64 1527.56 1305.64 1535.71 Z\\\" fill=\\\"#000000\\\" fill-rule=\\\"evenodd\\\" fill-opacity=\\\"1\\\" \\/><path clip-path=\\\"url(#clip260)\\\" d=\\\"M 0 0 M1326.61 1559.35 Q1324.13 1565.72 1321.78 1567.66 Q1319.42 1569.6 1315.47 1569.6 L1310.8 1569.6 L1310.8 1564.7 L1314.23 1564.7 Q1316.65 1564.7 1317.99 1563.56 Q1319.33 1562.41 1320.95 1558.14 L1322 1555.47 L1307.58 1520.4 L1313.79 1520.4 L1324.93 1548.28 L1336.07 1520.4 L1342.27 1520.4 L1326.61 1559.35 Z\\\" fill=\\\"#000000\\\" fill-rule=\\\"evenodd\\\" fill-opacity=\\\"1\\\" \\/><path clip-path=\\\"url(#clip260)\\\" d=\\\"M 0 0 M1371.14 1521.45 L1371.14 1526.98 Q1368.66 1525.71 1365.99 1525.07 Q1363.31 1524.44 1360.45 1524.44 Q1356.09 1524.44 1353.89 1525.77 Q1351.73 1527.11 1351.73 1529.79 Q1351.73 1531.82 1353.29 1533 Q1354.85 1534.15 1359.56 1535.2 L1361.56 1535.64 Q1367.8 1536.98 1370.41 1539.43 Q1373.05 1541.85 1373.05 1546.21 Q1373.05 1551.17 1369.11 1554.07 Q1365.19 1556.97 1358.32 1556.97 Q1355.45 1556.97 1352.33 1556.39 Q1349.24 1555.85 1345.81 1554.74 L1345.81 1548.69 Q1349.05 1550.38 1352.2 1551.24 Q1355.36 1552.07 1358.44 1552.07 Q1362.58 1552.07 1364.81 1550.66 Q1367.04 1549.23 1367.04 1546.65 Q1367.04 1544.27 1365.41 1542.99 Q1363.82 1541.72 1358.38 1540.54 L1356.34 1540.07 Q1350.9 1538.92 1348.48 1536.56 Q1346.06 1534.18 1346.06 1530.04 Q1346.06 1525.01 1349.63 1522.27 Q1353.19 1519.54 1359.75 1519.54 Q1362.99 1519.54 1365.86 1520.01 Q1368.72 1520.49 1371.14 1521.45 Z\\\" fill=\\\"#000000\\\" fill-rule=\\\"evenodd\\\" fill-opacity=\\\"1\\\" \\/><path clip-path=\\\"url(#clip260)\\\" d=\\\"M 0 0 M53.7248 947.539 L59.1993 947.539 Q57.8307 950.022 57.1623 952.537 Q56.4621 955.019 56.4621 957.565 Q56.4621 963.263 60.0905 966.414 Q63.6872 969.565 70.212 969.565 Q76.7369 969.565 80.3653 966.414 Q83.9619 963.263 83.9619 957.565 Q83.9619 955.019 83.2935 952.537 Q82.5933 950.022 81.2247 947.539 L86.6355 947.539 Q87.7814 949.99 88.3543 952.632 Q88.9272 955.242 88.9272 958.202 Q88.9272 966.255 83.8664 970.997 Q78.8057 975.74 70.212 975.74 Q61.491 975.74 56.4939 970.965 Q51.4968 966.159 51.4968 957.82 Q51.4968 955.115 52.0697 952.537 Q52.6108 949.958 53.7248 947.539 Z\\\" fill=\\\"#000000\\\" fill-rule=\\\"evenodd\\\" fill-opacity=\\\"1\\\" \\/><path clip-path=\\\"url(#clip260)\\\" d=\\\"M 0 0 M56.4621 927.583 Q56.4621 932.294 60.1542 935.031 Q63.8145 937.768 70.212 937.768 Q76.6095 937.768 80.3017 935.063 Q83.9619 932.325 83.9619 927.583 Q83.9619 922.904 80.2698 920.167 Q76.5777 917.43 70.212 917.43 Q63.8781 917.43 60.186 920.167 Q56.4621 922.904 56.4621 927.583 M51.4968 927.583 Q51.4968 919.944 56.4621 915.584 Q61.4273 911.223 70.212 911.223 Q78.9649 911.223 83.9619 915.584 Q88.9272 919.944 88.9272 927.583 Q88.9272 935.254 83.9619 939.614 Q78.9649 943.943 70.212 943.943 Q61.4273 943.943 56.4621 939.614 Q51.4968 935.254 51.4968 927.583 Z\\\" fill=\\\"#000000\\\" fill-rule=\\\"evenodd\\\" fill-opacity=\\\"1\\\" \\/><path clip-path=\\\"url(#clip260)\\\" d=\\\"M 0 0 M66.4881 875.448 L88.0042 875.448 L88.0042 881.304 L66.679 881.304 Q61.6183 881.304 59.1038 883.278 Q56.5894 885.251 56.5894 889.198 Q56.5894 893.94 59.6131 896.677 Q62.6368 899.415 67.8567 899.415 L88.0042 899.415 L88.0042 905.303 L52.3562 905.303 L52.3562 899.415 L57.8944 899.415 Q54.6797 897.314 53.0883 894.481 Q51.4968 891.617 51.4968 887.893 Q51.4968 881.75 55.3163 878.599 Q59.1038 875.448 66.4881 875.448 Z\\\" fill=\\\"#000000\\\" fill-rule=\\\"evenodd\\\" fill-opacity=\\\"1\\\" \\/><path clip-path=\\\"url(#clip260)\\\" d=\\\"M 0 0 M38.479 851.258 L43.3487 851.258 L43.3487 856.86 Q43.3487 860.011 44.6219 861.252 Q45.895 862.462 49.2052 862.462 L52.3562 862.462 L52.3562 852.818 L56.9077 852.818 L56.9077 862.462 L88.0042 862.462 L88.0042 868.35 L56.9077 868.35 L56.9077 873.952 L52.3562 873.952 L52.3562 868.35 L49.8736 868.35 Q43.9216 868.35 41.2162 865.581 Q38.479 862.812 38.479 856.796 L38.479 851.258 Z\\\" fill=\\\"#000000\\\" fill-rule=\\\"evenodd\\\" fill-opacity=\\\"1\\\" \\/><path clip-path=\\\"url(#clip260)\\\" d=\\\"M 0 0 M52.3562 845.115 L52.3562 839.259 L88.0042 839.259 L88.0042 845.115 L52.3562 845.115 M38.479 845.115 L38.479 839.259 L45.895 839.259 L45.895 845.115 L38.479 845.115 Z\\\" fill=\\\"#000000\\\" fill-rule=\\\"evenodd\\\" fill-opacity=\\\"1\\\" \\/><path clip-path=\\\"url(#clip260)\\\" d=\\\"M 0 0 M57.8307 812.459 Q57.2578 813.446 57.0032 814.624 Q56.7167 815.769 56.7167 817.17 Q56.7167 822.135 59.9632 824.809 Q63.1779 827.45 69.2253 827.45 L88.0042 827.45 L88.0042 833.339 L52.3562 833.339 L52.3562 827.45 L57.8944 827.45 Q54.6479 825.604 53.0883 822.644 Q51.4968 819.684 51.4968 815.451 Q51.4968 814.846 51.5923 814.114 Q51.656 813.382 51.8151 812.491 L57.8307 812.459 Z\\\" fill=\\\"#000000\\\" fill-rule=\\\"evenodd\\\" fill-opacity=\\\"1\\\" \\/><path clip-path=\\\"url(#clip260)\\\" d=\\\"M 0 0 M59.1993 779.708 Q55.2526 777.511 53.3747 774.456 Q51.4968 771.4 51.4968 767.263 Q51.4968 761.693 55.4117 758.669 Q59.2948 755.645 66.4881 755.645 L88.0042 755.645 L88.0042 761.534 L66.679 761.534 Q61.5546 761.534 59.072 763.348 Q56.5894 765.162 56.5894 768.886 Q56.5894 773.437 59.6131 776.079 Q62.6368 778.721 67.8567 778.721 L88.0042 778.721 L88.0042 784.609 L66.679 784.609 Q61.5228 784.609 59.072 786.423 Q56.5894 788.238 56.5894 792.025 Q56.5894 796.513 59.6449 799.155 Q62.6686 801.797 67.8567 801.797 L88.0042 801.797 L88.0042 807.685 L52.3562 807.685 L52.3562 801.797 L57.8944 801.797 Q54.616 799.791 53.0564 796.99 Q51.4968 794.19 51.4968 790.338 Q51.4968 786.455 53.4702 783.75 Q55.4436 781.013 59.1993 779.708 Z\\\" fill=\\\"#000000\\\" fill-rule=\\\"evenodd\\\" fill-opacity=\\\"1\\\" \\/><path clip-path=\\\"url(#clip260)\\\" d=\\\"M 0 0 M53.7248 703.128 L59.1993 703.128 Q57.8307 705.611 57.1623 708.125 Q56.4621 710.608 56.4621 713.154 Q56.4621 718.851 60.0905 722.002 Q63.6872 725.153 70.212 725.153 Q76.7369 725.153 80.3653 722.002 Q83.9619 718.851 83.9619 713.154 Q83.9619 710.608 83.2935 708.125 Q82.5933 705.611 81.2247 703.128 L86.6355 703.128 Q87.7814 705.579 88.3543 708.221 Q88.9272 710.831 88.9272 713.791 Q88.9272 721.843 83.8664 726.586 Q78.8057 731.328 70.212 731.328 Q61.491 731.328 56.4939 726.554 Q51.4968 721.748 51.4968 713.409 Q51.4968 710.703 52.0697 708.125 Q52.6108 705.547 53.7248 703.128 Z\\\" fill=\\\"#000000\\\" fill-rule=\\\"evenodd\\\" fill-opacity=\\\"1\\\" \\/><path clip-path=\\\"url(#clip260)\\\" d=\\\"M 0 0 M70.0847 680.785 Q70.0847 687.882 71.7079 690.62 Q73.3312 693.357 77.2461 693.357 Q80.3653 693.357 82.2114 691.32 Q84.0256 689.251 84.0256 685.718 Q84.0256 680.848 80.5881 677.92 Q77.1188 674.96 71.3897 674.96 L70.0847 674.96 L70.0847 680.785 M67.6657 669.103 L88.0042 669.103 L88.0042 674.96 L82.5933 674.96 Q85.8398 676.965 87.3994 679.957 Q88.9272 682.949 88.9272 687.278 Q88.9272 692.752 85.8716 695.999 Q82.7843 699.213 77.6281 699.213 Q71.6125 699.213 68.5569 695.203 Q65.5014 691.161 65.5014 683.172 L65.5014 674.96 L64.9285 674.96 Q60.8862 674.96 58.6901 677.633 Q56.4621 680.275 56.4621 685.081 Q56.4621 688.137 57.1941 691.033 Q57.9262 693.93 59.3903 696.603 L53.9795 696.603 Q52.7381 693.389 52.1334 690.365 Q51.4968 687.341 51.4968 684.477 Q51.4968 676.742 55.5072 672.923 Q59.5176 669.103 67.6657 669.103 Z\\\" fill=\\\"#000000\\\" fill-rule=\\\"evenodd\\\" fill-opacity=\\\"1\\\" \\/><path clip-path=\\\"url(#clip260)\\\" d=\\\"M 0 0 M53.4065 640.235 L58.9447 640.235 Q57.6716 642.718 57.035 645.391 Q56.3984 648.065 56.3984 650.929 Q56.3984 655.29 57.7352 657.486 Q59.072 659.65 61.7456 659.65 Q63.7826 659.65 64.9603 658.091 Q66.1061 656.531 67.1565 651.821 L67.6021 649.815 Q68.9389 643.577 71.3897 640.967 Q73.8086 638.325 78.1691 638.325 Q83.1344 638.325 86.0308 642.272 Q88.9272 646.187 88.9272 653.062 Q88.9272 655.926 88.3543 659.046 Q87.8132 662.133 86.6992 665.57 L80.6518 665.57 Q82.3387 662.324 83.198 659.173 Q84.0256 656.022 84.0256 652.935 Q84.0256 648.797 82.6251 646.569 Q81.1929 644.341 78.6147 644.341 Q76.2276 644.341 74.9545 645.964 Q73.6813 647.556 72.5037 652.998 L72.0262 655.035 Q70.8804 660.478 68.5251 662.897 Q66.138 665.316 62.0002 665.316 Q56.9713 665.316 54.2341 661.751 Q51.4968 658.186 51.4968 651.63 Q51.4968 648.383 51.9743 645.519 Q52.4517 642.654 53.4065 640.235 Z\\\" fill=\\\"#000000\\\" fill-rule=\\\"evenodd\\\" fill-opacity=\\\"1\\\" \\/><path clip-path=\\\"url(#clip260)\\\" d=\\\"M 0 0 M68.7161 601.691 L71.5806 601.691 L71.5806 628.618 Q77.6281 628.236 80.8109 624.989 Q83.9619 621.711 83.9619 615.886 Q83.9619 612.512 83.1344 609.361 Q82.3069 606.178 80.6518 603.059 L86.1899 603.059 Q87.5267 606.21 88.227 609.52 Q88.9272 612.831 88.9272 616.236 Q88.9272 624.766 83.9619 629.763 Q78.9967 634.729 70.5303 634.729 Q61.7774 634.729 56.6531 630.018 Q51.4968 625.276 51.4968 617.255 Q51.4968 610.062 56.1438 605.892 Q60.7589 601.691 68.7161 601.691 M66.9973 607.547 Q62.1912 607.611 59.3266 610.252 Q56.4621 612.862 56.4621 617.191 Q56.4621 622.093 59.2312 625.053 Q62.0002 627.981 67.0292 628.427 L66.9973 607.547 Z\\\" fill=\\\"#000000\\\" fill-rule=\\\"evenodd\\\" fill-opacity=\\\"1\\\" \\/><path clip-path=\\\"url(#clip260)\\\" d=\\\"M 0 0 M53.4065 572.822 L58.9447 572.822 Q57.6716 575.305 57.035 577.978 Q56.3984 580.652 56.3984 583.517 Q56.3984 587.877 57.7352 590.073 Q59.072 592.238 61.7456 592.238 Q63.7826 592.238 64.9603 590.678 Q66.1061 589.118 67.1565 584.408 L67.6021 582.403 Q68.9389 576.164 71.3897 573.554 Q73.8086 570.912 78.1691 570.912 Q83.1344 570.912 86.0308 574.859 Q88.9272 578.774 88.9272 585.649 Q88.9272 588.514 88.3543 591.633 Q87.8132 594.72 86.6992 598.158 L80.6518 598.158 Q82.3387 594.911 83.198 591.76 Q84.0256 588.609 84.0256 585.522 Q84.0256 581.384 82.6251 579.156 Q81.1929 576.928 78.6147 576.928 Q76.2276 576.928 74.9545 578.551 Q73.6813 580.143 72.5037 585.585 L72.0262 587.622 Q70.8804 593.065 68.5251 595.484 Q66.138 597.903 62.0002 597.903 Q56.9713 597.903 54.2341 594.338 Q51.4968 590.773 51.4968 584.217 Q51.4968 580.97 51.9743 578.106 Q52.4517 575.241 53.4065 572.822 Z\\\" fill=\\\"#000000\\\" fill-rule=\\\"evenodd\\\" fill-opacity=\\\"1\\\" \\/><polyline clip-path=\\\"url(#clip262)\\\" style=\\\"stroke:#009af9; stroke-width:4; stroke-opacity:1; fill:none\\\" points=\\\"\\n  349.739,1386.4 364.686,1246.44 379.634,1246.44 394.582,1246.44 409.53,1223.91 424.478,1176.46 439.426,1153.93 454.374,1135.53 469.322,1135.53 484.27,1135.53 \\n  499.217,1135.53 514.165,1127.44 529.113,1127.44 544.061,1119.96 559.009,1119.96 573.957,1106.48 588.905,1106.48 603.853,1106.48 618.801,1106.48 633.748,1106.48 \\n  648.696,1106.48 663.644,1106.48 678.592,1106.48 693.54,1106.48 708.488,1106.48 723.436,1106.48 738.384,1106.48 753.332,1106.48 768.28,1106.48 783.227,1100.36 \\n  798.175,1053.66 813.123,999.866 828.071,995.569 843.019,945.267 857.967,894.982 872.915,874.652 887.863,853.531 902.811,824.23 917.758,762.686 932.706,729.438 \\n  947.654,711.661 962.602,685.047 977.55,672.639 992.498,651.008 1007.45,623.782 1022.39,615.166 1037.34,557.605 1052.29,535.269 1067.24,511.625 1082.19,488.704 \\n  1097.13,464.338 1112.08,435.422 1127.03,413.477 1141.98,387.335 1156.92,375.97 1171.87,364.551 1186.82,348.858 1201.77,336.051 1216.72,323.58 1231.66,307.107 \\n  1246.61,292.315 1261.56,279.607 1276.51,272.187 1291.46,264.685 1306.4,257.515 \\n  \\\"\\/>\\n<polyline clip-path=\\\"url(#clip262)\\\" style=\\\"stroke:#e26f46; stroke-width:4; stroke-opacity:1; fill:none\\\" points=\\\"\\n  409.53,1316.42 424.478,1316.42 439.426,1316.42 454.374,1316.42 469.322,1316.42 484.27,1316.42 499.217,1316.42 514.165,1275.48 529.113,1275.48 544.061,1275.48 \\n  559.009,1176.46 573.957,1176.46 588.905,1164.57 603.853,1164.57 618.801,1164.57 633.748,1164.57 648.696,1164.57 663.644,1164.57 678.592,1164.57 693.54,1164.57 \\n  708.488,1164.57 723.436,1164.57 738.384,1164.57 753.332,1164.57 768.28,1127.44 783.227,1127.44 798.175,1127.44 813.123,1113 828.071,1083.95 843.019,1069.84 \\n  857.967,1024.61 872.915,1013.98 887.863,989.449 902.811,936.696 917.758,906.485 932.706,871.526 947.654,848.018 962.602,819.709 977.55,803.412 992.498,785.634 \\n  1007.45,767.622 1022.39,767.622 1037.34,711.282 1052.29,675.424 1067.24,675.336 1082.19,644.696 1097.13,621.068 1112.08,590.923 1127.03,588.134 1141.98,548.697 \\n  1156.92,525.178 1171.87,512.499 1186.82,496.583 1201.77,477.023 1216.72,460.245 1231.66,439.731 1246.61,417.34 1261.56,401.136 1276.51,387.682 1291.46,374.885 \\n  1306.4,362.113 \\n  \\\"\\/>\\n<polyline clip-path=\\\"url(#clip262)\\\" style=\\\"stroke:#3da44d; stroke-width:4; stroke-opacity:1; fill:none\\\" points=\\\"\\n  274.999,749.73 289.947,733.59 304.895,697.424 319.843,654.605 334.791,615.311 349.739,582.32 364.686,516.734 379.634,506.662 394.582,477.307 409.53,458.562 \\n  424.478,439.058 439.426,405.194 454.374,388.009 469.322,369.398 484.27,354.635 499.217,343.674 514.165,332.668 529.113,324.966 544.061,317.019 559.009,310.813 \\n  573.957,306.082 588.905,305.238 603.853,275.829 618.801,265.483 633.748,262.404 648.696,259.352 663.644,256.638 678.592,254.192 693.54,253.638 708.488,253.02 \\n  723.436,252.386 738.384,250.466 753.332,250.438 768.28,250.151 783.227,249.483 798.175,248.95 813.123,248.391 828.071,247.97 843.019,247.424 857.967,246.694 \\n  872.915,246.437 887.863,246.279 902.811,246.122 917.758,245.933 932.706,245.741 947.654,245.641 962.602,245.575 977.55,245.529 992.498,245.495 1007.45,245.453 \\n  1022.39,245.439 1037.34,245.423 1052.29,245.383 1067.24,245.35 1082.19,245.313 1097.13,245.282 1112.08,245.227 1127.03,245.16 1141.98,245.043 1156.92,244.975 \\n  1171.87,244.813 1186.82,244.735 1201.77,244.62 1216.72,244.534 1231.66,244.384 1246.61,244.242 1261.56,244.117 1276.51,243.965 1291.46,243.872 1306.4,243.772 \\n  \\n  \\\"\\/>\\n<polyline clip-path=\\\"url(#clip262)\\\" style=\\\"stroke:#c271d2; stroke-width:4; stroke-opacity:1; fill:none\\\" points=\\\"\\n  274.999,1386.4 289.947,1386.4 304.895,1316.42 319.843,1316.42 334.791,1275.48 349.739,1246.44 364.686,1246.44 379.634,1246.44 394.582,1246.44 409.53,1144.31 \\n  424.478,1135.53 439.426,1113 454.374,1113 469.322,1106.48 484.27,1089.13 499.217,1069.84 514.165,1065.55 529.113,1065.55 544.061,1061.43 559.009,1053.66 \\n  573.957,1049.98 588.905,1049.98 603.853,1049.98 618.801,1049.98 633.748,1049.98 648.696,1046.44 663.644,1043.02 678.592,1039.71 693.54,1039.71 708.488,917.51 \\n  723.436,849.492 738.384,773.51 753.332,740.242 768.28,707.453 783.227,691.356 798.175,665.594 813.123,631.59 828.071,603.307 843.019,573.168 857.967,555.943 \\n  872.915,540.93 887.863,522.834 902.811,514.702 917.758,506.645 932.706,498.6 947.654,491.963 962.602,488.122 977.55,485.884 992.498,485.412 1007.45,482.211 \\n  1022.39,480.738 1037.34,479.337 1052.29,477.992 1067.24,477.047 1082.19,476.136 1097.13,475.112 1112.08,473.989 1127.03,472.182 1141.98,471.161 1156.92,469.461 \\n  1171.87,467.619 1186.82,467.619 1201.77,466.766 1216.72,465.655 1231.66,464.512 1246.61,463.523 1261.56,461.956 1276.51,460.844 1291.46,460.025 1306.4,458.727 \\n  \\n  \\\"\\/>\\n<polyline clip-path=\\\"url(#clip262)\\\" style=\\\"stroke:#ac8d18; stroke-width:4; stroke-opacity:1; fill:none\\\" points=\\\"\\n  274.999,1316.42 289.947,1316.42 304.895,1316.42 319.843,1316.42 334.791,1246.44 349.739,1246.44 364.686,1189.94 379.634,1189.94 394.582,1144.31 409.53,1113 \\n  424.478,1083.95 439.426,1083.95 454.374,1083.95 469.322,1074.33 484.27,1074.33 499.217,1074.33 514.165,1061.43 529.113,1061.43 544.061,1057.47 559.009,1057.47 \\n  573.957,1057.47 588.905,1049.98 603.853,1049.98 618.801,1046.44 633.748,1006.67 648.696,974.738 663.644,963.419 678.592,951.868 693.54,939.072 708.488,927.716 \\n  723.436,916.544 738.384,901.394 753.332,882.574 768.28,874.652 783.227,867.899 798.175,857.202 813.123,844.66 828.071,838.263 843.019,832.665 857.967,826.569 \\n  872.915,819.709 887.863,812.94 902.811,800.629 917.758,792.15 932.706,776.587 947.654,767.184 962.602,758.582 977.55,756.788 992.498,743.827 1007.45,734.22 \\n  1022.39,734.22 1037.34,724.871 1052.29,715.001 1067.24,706.729 1082.19,706.729 1097.13,702.142 1112.08,700.885 1127.03,696.986 1141.98,692.813 1156.92,688.302 \\n  1171.87,679.292 1186.82,676.846 1201.77,671.19 1216.72,661.977 1231.66,655.979 1246.61,650.249 1261.56,635.852 1276.51,626.029 1291.46,626.029 1306.4,621.429 \\n  \\n  \\\"\\/>\\n<polyline clip-path=\\\"url(#clip262)\\\" style=\\\"stroke:#00a9ad; stroke-width:4; stroke-opacity:1; fill:none\\\" points=\\\"\\n  304.895,1316.42 319.843,1275.48 334.791,1275.48 349.739,1275.48 364.686,1246.44 379.634,1223.91 394.582,1223.91 409.53,1223.91 424.478,1205.5 439.426,1205.5 \\n  454.374,1205.5 469.322,1205.5 484.27,1205.5 499.217,1205.5 514.165,1205.5 529.113,1144.31 544.061,1144.31 559.009,1144.31 573.957,1144.31 588.905,1144.31 \\n  603.853,1144.31 618.801,1144.31 633.748,1135.53 648.696,1135.53 663.644,1135.53 678.592,1135.53 693.54,1135.53 708.488,1135.53 723.436,1135.53 738.384,1135.53 \\n  753.332,1135.53 768.28,1135.53 783.227,1119.96 798.175,1094.59 813.123,1019.15 828.071,978.22 843.019,921.469 857.967,894.982 872.915,856.14 887.863,849.492 \\n  902.811,814.678 917.758,786.691 932.706,731.569 947.654,693.233 962.602,676.133 977.55,669.014 992.498,630.002 1007.45,605.226 1022.39,605.226 1037.34,557.44 \\n  1052.29,537.248 1067.24,536.443 1082.19,497.231 1097.13,482.734 1112.08,465.799 1127.03,447.197 1141.98,431.953 1156.92,419.289 1171.87,407.571 1186.82,385.946 \\n  1201.77,374.128 1216.72,361.643 1231.66,347.153 1246.61,334.786 1261.56,321.486 1276.51,314.815 1291.46,304.315 1306.4,288.506 \\n  \\\"\\/>\\n<polyline clip-path=\\\"url(#clip262)\\\" style=\\\"stroke:#ed5d92; stroke-width:4; stroke-opacity:1; fill:none\\\" points=\\\"\\n  274.999,1386.4 289.947,1386.4 304.895,1316.42 319.843,1316.42 334.791,1223.91 349.739,1223.91 364.686,1223.91 379.634,1223.91 394.582,1223.91 409.53,1189.94 \\n  424.478,1176.46 439.426,1176.46 454.374,1144.31 469.322,1144.31 484.27,1144.31 499.217,1144.31 514.165,1144.31 529.113,1144.31 544.061,1144.31 559.009,1144.31 \\n  573.957,1135.53 588.905,1135.53 603.853,1127.44 618.801,1127.44 633.748,1127.44 648.696,1127.44 663.644,1127.44 678.592,1127.44 693.54,1127.44 708.488,1127.44 \\n  723.436,1113 738.384,1113 753.332,1113 768.28,989.449 783.227,989.449 798.175,978.22 813.123,976.464 828.071,973.041 843.019,960.405 857.967,951.868 \\n  872.915,923.509 887.863,904.76 902.811,881.21 917.758,842.329 932.706,822.321 947.654,780.758 962.602,755.219 977.55,742.618 992.498,692.918 1007.45,663.69 \\n  1022.39,637.415 1037.34,610.281 1052.29,587.652 1067.24,561.498 1082.19,533.61 1097.13,501.017 1112.08,481.874 1127.03,424.408 1141.98,390.298 1156.92,361.643 \\n  1171.87,335.155 1186.82,307.281 1201.77,286.429 1216.72,266.268 1231.66,241.88 1246.61,222.119 1261.56,204.182 1276.51,189.457 1291.46,175.284 1306.4,160.256 \\n  \\n  \\\"\\/>\\n<path clip-path=\\\"url(#clip260)\\\" d=\\\"\\nM1707.63 690.832 L2280.76 690.832 L2280.76 206.992 L1707.63 206.992  Z\\n  \\\" fill=\\\"#ffffff\\\" fill-rule=\\\"evenodd\\\" fill-opacity=\\\"1\\\"\\/>\\n<polyline clip-path=\\\"url(#clip260)\\\" style=\\\"stroke:#000000; stroke-width:4; stroke-opacity:1; fill:none\\\" points=\\\"\\n  1707.63,690.832 2280.76,690.832 2280.76,206.992 1707.63,206.992 1707.63,690.832 \\n  \\\"\\/>\\n<polyline clip-path=\\\"url(#clip260)\\\" style=\\\"stroke:#009af9; stroke-width:4; stroke-opacity:1; fill:none\\\" points=\\\"\\n  1731.63,267.472 1875.63,267.472 \\n  \\\"\\/>\\n<path clip-path=\\\"url(#clip260)\\\" d=\\\"M 0 0 M1925.19 279.822 L1925.19 270.539 L1917.55 270.539 L1917.55 266.697 L1929.82 266.697 L1929.82 281.535 Q1927.11 283.456 1923.85 284.451 Q1920.58 285.423 1916.88 285.423 Q1908.78 285.423 1904.19 280.701 Q1899.63 275.956 1899.63 267.507 Q1899.63 259.035 1904.19 254.312 Q1908.78 249.567 1916.88 249.567 Q1920.26 249.567 1923.29 250.4 Q1926.35 251.234 1928.91 252.854 L1928.91 257.831 Q1926.32 255.632 1923.41 254.521 Q1920.49 253.41 1917.27 253.41 Q1910.93 253.41 1907.73 256.951 Q1904.56 260.493 1904.56 267.507 Q1904.56 274.498 1907.73 278.039 Q1910.93 281.581 1917.27 281.581 Q1919.75 281.581 1921.69 281.164 Q1923.64 280.724 1925.19 279.822 Z\\\" fill=\\\"#000000\\\" fill-rule=\\\"evenodd\\\" fill-opacity=\\\"1\\\" \\/><path clip-path=\\\"url(#clip260)\\\" d=\\\"M 0 0 M1956.46 270.724 L1956.46 272.808 L1936.88 272.808 Q1937.16 277.206 1939.52 279.521 Q1941.9 281.812 1946.14 281.812 Q1948.59 281.812 1950.88 281.21 Q1953.2 280.609 1955.47 279.405 L1955.47 283.433 Q1953.17 284.405 1950.77 284.914 Q1948.36 285.423 1945.88 285.423 Q1939.68 285.423 1936.04 281.812 Q1932.43 278.201 1932.43 272.044 Q1932.43 265.678 1935.86 261.951 Q1939.31 258.201 1945.14 258.201 Q1950.37 258.201 1953.41 261.581 Q1956.46 264.937 1956.46 270.724 M1952.2 269.474 Q1952.16 265.979 1950.23 263.896 Q1948.34 261.812 1945.19 261.812 Q1941.62 261.812 1939.47 263.826 Q1937.34 265.84 1937.02 269.498 L1952.2 269.474 Z\\\" fill=\\\"#000000\\\" fill-rule=\\\"evenodd\\\" fill-opacity=\\\"1\\\" \\/><path clip-path=\\\"url(#clip260)\\\" d=\\\"M 0 0 M1975.95 262.808 Q1975.23 262.391 1974.38 262.206 Q1973.54 261.998 1972.53 261.998 Q1968.91 261.998 1966.97 264.359 Q1965.05 266.697 1965.05 271.095 L1965.05 284.752 L1960.77 284.752 L1960.77 258.826 L1965.05 258.826 L1965.05 262.854 Q1966.39 260.493 1968.54 259.359 Q1970.7 258.201 1973.78 258.201 Q1974.22 258.201 1974.75 258.271 Q1975.28 258.317 1975.93 258.433 L1975.95 262.808 Z\\\" fill=\\\"#000000\\\" fill-rule=\\\"evenodd\\\" fill-opacity=\\\"1\\\" \\/><path clip-path=\\\"url(#clip260)\\\" d=\\\"M 0 0 M1999.77 263.803 Q2001.37 260.933 2003.59 259.567 Q2005.81 258.201 2008.82 258.201 Q2012.87 258.201 2015.07 261.049 Q2017.27 263.873 2017.27 269.104 L2017.27 284.752 L2012.99 284.752 L2012.99 269.243 Q2012.99 265.516 2011.67 263.711 Q2010.35 261.905 2007.64 261.905 Q2004.33 261.905 2002.41 264.104 Q2000.49 266.303 2000.49 270.099 L2000.49 284.752 L1996.21 284.752 L1996.21 269.243 Q1996.21 265.493 1994.89 263.711 Q1993.57 261.905 1990.81 261.905 Q1987.55 261.905 1985.63 264.127 Q1983.71 266.326 1983.71 270.099 L1983.71 284.752 L1979.42 284.752 L1979.42 258.826 L1983.71 258.826 L1983.71 262.854 Q1985.16 260.47 1987.2 259.336 Q1989.24 258.201 1992.04 258.201 Q1994.86 258.201 1996.83 259.637 Q1998.82 261.072 1999.77 263.803 Z\\\" fill=\\\"#000000\\\" fill-rule=\\\"evenodd\\\" fill-opacity=\\\"1\\\" \\/><path clip-path=\\\"url(#clip260)\\\" d=\\\"M 0 0 M2033.52 271.72 Q2028.36 271.72 2026.37 272.9 Q2024.38 274.081 2024.38 276.928 Q2024.38 279.197 2025.86 280.539 Q2027.36 281.859 2029.93 281.859 Q2033.47 281.859 2035.6 279.359 Q2037.76 276.836 2037.76 272.669 L2037.76 271.72 L2033.52 271.72 M2042.02 269.961 L2042.02 284.752 L2037.76 284.752 L2037.76 280.817 Q2036.3 283.178 2034.12 284.312 Q2031.95 285.423 2028.8 285.423 Q2024.82 285.423 2022.46 283.201 Q2020.12 280.956 2020.12 277.206 Q2020.12 272.831 2023.03 270.609 Q2025.97 268.386 2031.78 268.386 L2037.76 268.386 L2037.76 267.97 Q2037.76 265.03 2035.81 263.433 Q2033.89 261.812 2030.4 261.812 Q2028.17 261.812 2026.07 262.345 Q2023.96 262.877 2022.02 263.942 L2022.02 260.007 Q2024.35 259.104 2026.55 258.664 Q2028.75 258.201 2030.84 258.201 Q2036.46 258.201 2039.24 261.118 Q2042.02 264.035 2042.02 269.961 Z\\\" fill=\\\"#000000\\\" fill-rule=\\\"evenodd\\\" fill-opacity=\\\"1\\\" \\/><path clip-path=\\\"url(#clip260)\\\" d=\\\"M 0 0 M2068.03 269.104 L2068.03 284.752 L2063.78 284.752 L2063.78 269.243 Q2063.78 265.562 2062.34 263.734 Q2060.9 261.905 2058.03 261.905 Q2054.59 261.905 2052.59 264.104 Q2050.6 266.303 2050.6 270.099 L2050.6 284.752 L2046.32 284.752 L2046.32 258.826 L2050.6 258.826 L2050.6 262.854 Q2052.13 260.516 2054.19 259.359 Q2056.28 258.201 2058.98 258.201 Q2063.45 258.201 2065.74 260.979 Q2068.03 263.734 2068.03 269.104 Z\\\" fill=\\\"#000000\\\" fill-rule=\\\"evenodd\\\" fill-opacity=\\\"1\\\" \\/><path clip-path=\\\"url(#clip260)\\\" d=\\\"M 0 0 M2083.29 287.16 Q2081.48 291.789 2079.77 293.201 Q2078.06 294.613 2075.19 294.613 L2071.78 294.613 L2071.78 291.048 L2074.28 291.048 Q2076.04 291.048 2077.02 290.215 Q2077.99 289.382 2079.17 286.28 L2079.93 284.335 L2069.45 258.826 L2073.96 258.826 L2082.06 279.104 L2090.16 258.826 L2094.68 258.826 L2083.29 287.16 Z\\\" fill=\\\"#000000\\\" fill-rule=\\\"evenodd\\\" fill-opacity=\\\"1\\\" \\/><polyline clip-path=\\\"url(#clip260)\\\" style=\\\"stroke:#e26f46; stroke-width:4; stroke-opacity:1; fill:none\\\" points=\\\"\\n  1731.63,327.952 1875.63,327.952 \\n  \\\"\\/>\\n<path clip-path=\\\"url(#clip260)\\\" d=\\\"M 0 0 M1899.63 310.672 L1904.33 310.672 L1904.33 331.667 Q1904.33 337.223 1906.35 339.677 Q1908.36 342.107 1912.87 342.107 Q1917.36 342.107 1919.38 339.677 Q1921.39 337.223 1921.39 331.667 L1921.39 310.672 L1926.09 310.672 L1926.09 332.246 Q1926.09 339.005 1922.73 342.454 Q1919.4 345.903 1912.87 345.903 Q1906.32 345.903 1902.97 342.454 Q1899.63 339.005 1899.63 332.246 L1899.63 310.672 Z\\\" fill=\\\"#000000\\\" fill-rule=\\\"evenodd\\\" fill-opacity=\\\"1\\\" \\/><path clip-path=\\\"url(#clip260)\\\" d=\\\"M 0 0 M1952.11 329.584 L1952.11 345.232 L1947.85 345.232 L1947.85 329.723 Q1947.85 326.042 1946.41 324.214 Q1944.98 322.385 1942.11 322.385 Q1938.66 322.385 1936.67 324.584 Q1934.68 326.783 1934.68 330.579 L1934.68 345.232 L1930.4 345.232 L1930.4 319.306 L1934.68 319.306 L1934.68 323.334 Q1936.21 320.996 1938.27 319.839 Q1940.35 318.681 1943.06 318.681 Q1947.53 318.681 1949.82 321.459 Q1952.11 324.214 1952.11 329.584 Z\\\" fill=\\\"#000000\\\" fill-rule=\\\"evenodd\\\" fill-opacity=\\\"1\\\" \\/><path clip-path=\\\"url(#clip260)\\\" d=\\\"M 0 0 M1956.58 319.306 L1960.84 319.306 L1960.84 345.232 L1956.58 345.232 L1956.58 319.306 M1956.58 309.214 L1960.84 309.214 L1960.84 314.607 L1956.58 314.607 L1956.58 309.214 Z\\\" fill=\\\"#000000\\\" fill-rule=\\\"evenodd\\\" fill-opacity=\\\"1\\\" \\/><path clip-path=\\\"url(#clip260)\\\" d=\\\"M 0 0 M1969.52 311.945 L1969.52 319.306 L1978.29 319.306 L1978.29 322.617 L1969.52 322.617 L1969.52 336.691 Q1969.52 339.862 1970.37 340.765 Q1971.25 341.667 1973.91 341.667 L1978.29 341.667 L1978.29 345.232 L1973.91 345.232 Q1968.98 345.232 1967.11 343.403 Q1965.23 341.552 1965.23 336.691 L1965.23 322.617 L1962.11 322.617 L1962.11 319.306 L1965.23 319.306 L1965.23 311.945 L1969.52 311.945 Z\\\" fill=\\\"#000000\\\" fill-rule=\\\"evenodd\\\" fill-opacity=\\\"1\\\" \\/><path clip-path=\\\"url(#clip260)\\\" d=\\\"M 0 0 M2004.93 331.204 L2004.93 333.288 L1985.35 333.288 Q1985.63 337.686 1987.99 340.001 Q1990.37 342.292 1994.61 342.292 Q1997.06 342.292 1999.35 341.69 Q2001.67 341.089 2003.94 339.885 L2003.94 343.913 Q2001.65 344.885 1999.24 345.394 Q1996.83 345.903 1994.35 345.903 Q1988.15 345.903 1984.52 342.292 Q1980.91 338.681 1980.91 332.524 Q1980.91 326.158 1984.33 322.431 Q1987.78 318.681 1993.61 318.681 Q1998.85 318.681 2001.88 322.061 Q2004.93 325.417 2004.93 331.204 M2000.67 329.954 Q2000.63 326.459 1998.71 324.376 Q1996.81 322.292 1993.66 322.292 Q1990.1 322.292 1987.94 324.306 Q1985.81 326.32 1985.49 329.978 L2000.67 329.954 Z\\\" fill=\\\"#000000\\\" fill-rule=\\\"evenodd\\\" fill-opacity=\\\"1\\\" \\/><path clip-path=\\\"url(#clip260)\\\" d=\\\"M 0 0 M2026.46 323.242 L2026.46 309.214 L2030.72 309.214 L2030.72 345.232 L2026.46 345.232 L2026.46 341.343 Q2025.12 343.658 2023.06 344.792 Q2021.02 345.903 2018.15 345.903 Q2013.45 345.903 2010.49 342.153 Q2007.55 338.403 2007.55 332.292 Q2007.55 326.181 2010.49 322.431 Q2013.45 318.681 2018.15 318.681 Q2021.02 318.681 2023.06 319.816 Q2025.12 320.927 2026.46 323.242 M2011.95 332.292 Q2011.95 336.991 2013.87 339.677 Q2015.81 342.339 2019.19 342.339 Q2022.57 342.339 2024.52 339.677 Q2026.46 336.991 2026.46 332.292 Q2026.46 327.593 2024.52 324.931 Q2022.57 322.246 2019.19 322.246 Q2015.81 322.246 2013.87 324.931 Q2011.95 327.593 2011.95 332.292 Z\\\" fill=\\\"#000000\\\" fill-rule=\\\"evenodd\\\" fill-opacity=\\\"1\\\" \\/><path clip-path=\\\"url(#clip260)\\\" d=\\\"M 0 0 M2050.44 310.672 L2055.12 310.672 L2055.12 325.279 L2070.63 310.672 L2076.65 310.672 L2059.49 326.783 L2077.87 345.232 L2071.72 345.232 L2055.12 328.589 L2055.12 345.232 L2050.44 345.232 L2050.44 310.672 Z\\\" fill=\\\"#000000\\\" fill-rule=\\\"evenodd\\\" fill-opacity=\\\"1\\\" \\/><path clip-path=\\\"url(#clip260)\\\" d=\\\"M 0 0 M2082.34 319.306 L2086.6 319.306 L2086.6 345.232 L2082.34 345.232 L2082.34 319.306 M2082.34 309.214 L2086.6 309.214 L2086.6 314.607 L2082.34 314.607 L2082.34 309.214 Z\\\" fill=\\\"#000000\\\" fill-rule=\\\"evenodd\\\" fill-opacity=\\\"1\\\" \\/><path clip-path=\\\"url(#clip260)\\\" d=\\\"M 0 0 M2112.62 329.584 L2112.62 345.232 L2108.36 345.232 L2108.36 329.723 Q2108.36 326.042 2106.92 324.214 Q2105.49 322.385 2102.62 322.385 Q2099.17 322.385 2097.18 324.584 Q2095.19 326.783 2095.19 330.579 L2095.19 345.232 L2090.9 345.232 L2090.9 319.306 L2095.19 319.306 L2095.19 323.334 Q2096.71 320.996 2098.78 319.839 Q2100.86 318.681 2103.57 318.681 Q2108.03 318.681 2110.33 321.459 Q2112.62 324.214 2112.62 329.584 Z\\\" fill=\\\"#000000\\\" fill-rule=\\\"evenodd\\\" fill-opacity=\\\"1\\\" \\/><path clip-path=\\\"url(#clip260)\\\" d=\\\"M 0 0 M2134.15 331.968 Q2134.15 327.339 2132.22 324.792 Q2130.33 322.246 2126.88 322.246 Q2123.45 322.246 2121.53 324.792 Q2119.63 327.339 2119.63 331.968 Q2119.63 336.575 2121.53 339.121 Q2123.45 341.667 2126.88 341.667 Q2130.33 341.667 2132.22 339.121 Q2134.15 336.575 2134.15 331.968 M2138.4 342.015 Q2138.4 348.635 2135.46 351.852 Q2132.52 355.093 2126.46 355.093 Q2124.21 355.093 2122.22 354.746 Q2120.23 354.422 2118.36 353.727 L2118.36 349.584 Q2120.23 350.602 2122.06 351.089 Q2123.89 351.575 2125.79 351.575 Q2129.98 351.575 2132.06 349.376 Q2134.15 347.2 2134.15 342.778 L2134.15 340.672 Q2132.83 342.964 2130.77 344.098 Q2128.71 345.232 2125.84 345.232 Q2121.07 345.232 2118.15 341.598 Q2115.23 337.964 2115.23 331.968 Q2115.23 325.95 2118.15 322.316 Q2121.07 318.681 2125.84 318.681 Q2128.71 318.681 2130.77 319.816 Q2132.83 320.95 2134.15 323.242 L2134.15 319.306 L2138.4 319.306 L2138.4 342.015 Z\\\" fill=\\\"#000000\\\" fill-rule=\\\"evenodd\\\" fill-opacity=\\\"1\\\" \\/><path clip-path=\\\"url(#clip260)\\\" d=\\\"M 0 0 M2159.93 323.242 L2159.93 309.214 L2164.19 309.214 L2164.19 345.232 L2159.93 345.232 L2159.93 341.343 Q2158.59 343.658 2156.53 344.792 Q2154.49 345.903 2151.62 345.903 Q2146.92 345.903 2143.96 342.153 Q2141.02 338.403 2141.02 332.292 Q2141.02 326.181 2143.96 322.431 Q2146.92 318.681 2151.62 318.681 Q2154.49 318.681 2156.53 319.816 Q2158.59 320.927 2159.93 323.242 M2145.42 332.292 Q2145.42 336.991 2147.34 339.677 Q2149.28 342.339 2152.66 342.339 Q2156.04 342.339 2157.99 339.677 Q2159.93 336.991 2159.93 332.292 Q2159.93 327.593 2157.99 324.931 Q2156.04 322.246 2152.66 322.246 Q2149.28 322.246 2147.34 324.931 Q2145.42 327.593 2145.42 332.292 Z\\\" fill=\\\"#000000\\\" fill-rule=\\\"evenodd\\\" fill-opacity=\\\"1\\\" \\/><path clip-path=\\\"url(#clip260)\\\" d=\\\"M 0 0 M2178.71 322.292 Q2175.28 322.292 2173.29 324.978 Q2171.3 327.64 2171.3 332.292 Q2171.3 336.945 2173.27 339.63 Q2175.26 342.292 2178.71 342.292 Q2182.11 342.292 2184.1 339.607 Q2186.09 336.922 2186.09 332.292 Q2186.09 327.686 2184.1 325.001 Q2182.11 322.292 2178.71 322.292 M2178.71 318.681 Q2184.26 318.681 2187.43 322.292 Q2190.6 325.904 2190.6 332.292 Q2190.6 338.658 2187.43 342.292 Q2184.26 345.903 2178.71 345.903 Q2173.13 345.903 2169.96 342.292 Q2166.81 338.658 2166.81 332.292 Q2166.81 325.904 2169.96 322.292 Q2173.13 318.681 2178.71 318.681 Z\\\" fill=\\\"#000000\\\" fill-rule=\\\"evenodd\\\" fill-opacity=\\\"1\\\" \\/><path clip-path=\\\"url(#clip260)\\\" d=\\\"M 0 0 M2215.26 324.283 Q2216.85 321.413 2219.08 320.047 Q2221.3 318.681 2224.31 318.681 Q2228.36 318.681 2230.56 321.529 Q2232.76 324.353 2232.76 329.584 L2232.76 345.232 L2228.47 345.232 L2228.47 329.723 Q2228.47 325.996 2227.15 324.191 Q2225.83 322.385 2223.13 322.385 Q2219.82 322.385 2217.89 324.584 Q2215.97 326.783 2215.97 330.579 L2215.97 345.232 L2211.69 345.232 L2211.69 329.723 Q2211.69 325.973 2210.37 324.191 Q2209.05 322.385 2206.3 322.385 Q2203.03 322.385 2201.11 324.607 Q2199.19 326.806 2199.19 330.579 L2199.19 345.232 L2194.91 345.232 L2194.91 319.306 L2199.19 319.306 L2199.19 323.334 Q2200.65 320.95 2202.69 319.816 Q2204.72 318.681 2207.52 318.681 Q2210.35 318.681 2212.32 320.117 Q2214.31 321.552 2215.26 324.283 Z\\\" fill=\\\"#000000\\\" fill-rule=\\\"evenodd\\\" fill-opacity=\\\"1\\\" \\/><polyline clip-path=\\\"url(#clip260)\\\" style=\\\"stroke:#3da44d; stroke-width:4; stroke-opacity:1; fill:none\\\" points=\\\"\\n  1731.63,388.432 1875.63,388.432 \\n  \\\"\\/>\\n<path clip-path=\\\"url(#clip260)\\\" d=\\\"M 0 0 M1927.5 373.814 L1927.5 378.745 Q1925.14 376.546 1922.46 375.458 Q1919.79 374.37 1916.79 374.37 Q1910.86 374.37 1907.71 378.004 Q1904.56 381.615 1904.56 388.467 Q1904.56 395.296 1907.71 398.93 Q1910.86 402.541 1916.79 402.541 Q1919.79 402.541 1922.46 401.453 Q1925.14 400.365 1927.5 398.166 L1927.5 403.05 Q1925.05 404.717 1922.29 405.55 Q1919.56 406.383 1916.51 406.383 Q1908.66 406.383 1904.15 401.592 Q1899.63 396.777 1899.63 388.467 Q1899.63 380.134 1904.15 375.342 Q1908.66 370.527 1916.51 370.527 Q1919.61 370.527 1922.34 371.36 Q1925.1 372.171 1927.5 373.814 Z\\\" fill=\\\"#000000\\\" fill-rule=\\\"evenodd\\\" fill-opacity=\\\"1\\\" \\/><path clip-path=\\\"url(#clip260)\\\" d=\\\"M 0 0 M1953.52 390.064 L1953.52 405.712 L1949.26 405.712 L1949.26 390.203 Q1949.26 386.522 1947.83 384.694 Q1946.39 382.865 1943.52 382.865 Q1940.07 382.865 1938.08 385.064 Q1936.09 387.263 1936.09 391.059 L1936.09 405.712 L1931.81 405.712 L1931.81 369.694 L1936.09 369.694 L1936.09 383.814 Q1937.62 381.476 1939.68 380.319 Q1941.76 379.161 1944.47 379.161 Q1948.94 379.161 1951.23 381.939 Q1953.52 384.694 1953.52 390.064 Z\\\" fill=\\\"#000000\\\" fill-rule=\\\"evenodd\\\" fill-opacity=\\\"1\\\" \\/><path clip-path=\\\"url(#clip260)\\\" d=\\\"M 0 0 M1957.99 379.786 L1962.25 379.786 L1962.25 405.712 L1957.99 405.712 L1957.99 379.786 M1957.99 369.694 L1962.25 369.694 L1962.25 375.087 L1957.99 375.087 L1957.99 369.694 Z\\\" fill=\\\"#000000\\\" fill-rule=\\\"evenodd\\\" fill-opacity=\\\"1\\\" \\/><path clip-path=\\\"url(#clip260)\\\" d=\\\"M 0 0 M1988.27 390.064 L1988.27 405.712 L1984.01 405.712 L1984.01 390.203 Q1984.01 386.522 1982.57 384.694 Q1981.14 382.865 1978.27 382.865 Q1974.82 382.865 1972.83 385.064 Q1970.84 387.263 1970.84 391.059 L1970.84 405.712 L1966.55 405.712 L1966.55 379.786 L1970.84 379.786 L1970.84 383.814 Q1972.36 381.476 1974.42 380.319 Q1976.51 379.161 1979.22 379.161 Q1983.68 379.161 1985.97 381.939 Q1988.27 384.694 1988.27 390.064 Z\\\" fill=\\\"#000000\\\" fill-rule=\\\"evenodd\\\" fill-opacity=\\\"1\\\" \\/><path clip-path=\\\"url(#clip260)\\\" d=\\\"M 0 0 M2004.52 392.68 Q1999.35 392.68 1997.36 393.86 Q1995.37 395.041 1995.37 397.888 Q1995.37 400.157 1996.85 401.499 Q1998.36 402.819 2000.93 402.819 Q2004.47 402.819 2006.6 400.319 Q2008.75 397.796 2008.75 393.629 L2008.75 392.68 L2004.52 392.68 M2013.01 390.921 L2013.01 405.712 L2008.75 405.712 L2008.75 401.777 Q2007.29 404.138 2005.12 405.272 Q2002.94 406.383 1999.79 406.383 Q1995.81 406.383 1993.45 404.161 Q1991.11 401.916 1991.11 398.166 Q1991.11 393.791 1994.03 391.569 Q1996.97 389.346 2002.78 389.346 L2008.75 389.346 L2008.75 388.93 Q2008.75 385.99 2006.81 384.393 Q2004.89 382.772 2001.39 382.772 Q1999.17 382.772 1997.06 383.305 Q1994.96 383.837 1993.01 384.902 L1993.01 380.967 Q1995.35 380.064 1997.55 379.624 Q1999.75 379.161 2001.83 379.161 Q2007.46 379.161 2010.23 382.078 Q2013.01 384.995 2013.01 390.921 Z\\\" fill=\\\"#000000\\\" fill-rule=\\\"evenodd\\\" fill-opacity=\\\"1\\\" \\/><polyline clip-path=\\\"url(#clip260)\\\" style=\\\"stroke:#c271d2; stroke-width:4; stroke-opacity:1; fill:none\\\" points=\\\"\\n  1731.63,448.912 1875.63,448.912 \\n  \\\"\\/>\\n<path clip-path=\\\"url(#clip260)\\\" d=\\\"M 0 0 M1899.63 431.632 L1904.31 431.632 L1904.31 446.239 L1919.82 431.632 L1925.84 431.632 L1908.68 447.743 L1927.06 466.192 L1920.91 466.192 L1904.31 449.549 L1904.31 466.192 L1899.63 466.192 L1899.63 431.632 Z\\\" fill=\\\"#000000\\\" fill-rule=\\\"evenodd\\\" fill-opacity=\\\"1\\\" \\/><path clip-path=\\\"url(#clip260)\\\" d=\\\"M 0 0 M1939.22 443.252 Q1935.79 443.252 1933.8 445.938 Q1931.81 448.6 1931.81 453.252 Q1931.81 457.905 1933.78 460.59 Q1935.77 463.252 1939.22 463.252 Q1942.62 463.252 1944.61 460.567 Q1946.6 457.882 1946.6 453.252 Q1946.6 448.646 1944.61 445.961 Q1942.62 443.252 1939.22 443.252 M1939.22 439.641 Q1944.77 439.641 1947.94 443.252 Q1951.11 446.864 1951.11 453.252 Q1951.11 459.618 1947.94 463.252 Q1944.77 466.863 1939.22 466.863 Q1933.64 466.863 1930.47 463.252 Q1927.32 459.618 1927.32 453.252 Q1927.32 446.864 1930.47 443.252 Q1933.64 439.641 1939.22 439.641 Z\\\" fill=\\\"#000000\\\" fill-rule=\\\"evenodd\\\" fill-opacity=\\\"1\\\" \\/><path clip-path=\\\"url(#clip260)\\\" d=\\\"M 0 0 M1970.6 444.248 Q1969.89 443.831 1969.03 443.646 Q1968.2 443.438 1967.18 443.438 Q1963.57 443.438 1961.62 445.799 Q1959.7 448.137 1959.7 452.535 L1959.7 466.192 L1955.42 466.192 L1955.42 440.266 L1959.7 440.266 L1959.7 444.294 Q1961.04 441.933 1963.2 440.799 Q1965.35 439.641 1968.43 439.641 Q1968.87 439.641 1969.4 439.711 Q1969.93 439.757 1970.58 439.873 L1970.6 444.248 Z\\\" fill=\\\"#000000\\\" fill-rule=\\\"evenodd\\\" fill-opacity=\\\"1\\\" \\/><path clip-path=\\\"url(#clip260)\\\" d=\\\"M 0 0 M1996.21 452.164 L1996.21 454.248 L1976.62 454.248 Q1976.9 458.646 1979.26 460.961 Q1981.65 463.252 1985.88 463.252 Q1988.34 463.252 1990.63 462.65 Q1992.94 462.049 1995.21 460.845 L1995.21 464.873 Q1992.92 465.845 1990.51 466.354 Q1988.1 466.863 1985.63 466.863 Q1979.42 466.863 1975.79 463.252 Q1972.18 459.641 1972.18 453.484 Q1972.18 447.118 1975.6 443.391 Q1979.05 439.641 1984.89 439.641 Q1990.12 439.641 1993.15 443.021 Q1996.21 446.377 1996.21 452.164 M1991.95 450.914 Q1991.9 447.419 1989.98 445.336 Q1988.08 443.252 1984.93 443.252 Q1981.37 443.252 1979.22 445.266 Q1977.09 447.28 1976.76 450.938 L1991.95 450.914 Z\\\" fill=\\\"#000000\\\" fill-rule=\\\"evenodd\\\" fill-opacity=\\\"1\\\" \\/><path clip-path=\\\"url(#clip260)\\\" d=\\\"M 0 0 M2012.46 453.16 Q2007.29 453.16 2005.3 454.34 Q2003.31 455.521 2003.31 458.368 Q2003.31 460.637 2004.79 461.979 Q2006.3 463.299 2008.87 463.299 Q2012.41 463.299 2014.54 460.799 Q2016.69 458.276 2016.69 454.109 L2016.69 453.16 L2012.46 453.16 M2020.95 451.401 L2020.95 466.192 L2016.69 466.192 L2016.69 462.257 Q2015.23 464.618 2013.06 465.752 Q2010.88 466.863 2007.73 466.863 Q2003.75 466.863 2001.39 464.641 Q1999.05 462.396 1999.05 458.646 Q1999.05 454.271 2001.97 452.049 Q2004.91 449.826 2010.72 449.826 L2016.69 449.826 L2016.69 449.41 Q2016.69 446.47 2014.75 444.873 Q2012.83 443.252 2009.33 443.252 Q2007.11 443.252 2005 443.785 Q2002.9 444.317 2000.95 445.382 L2000.95 441.447 Q2003.29 440.544 2005.49 440.104 Q2007.69 439.641 2009.77 439.641 Q2015.4 439.641 2018.17 442.558 Q2020.95 445.475 2020.95 451.401 Z\\\" fill=\\\"#000000\\\" fill-rule=\\\"evenodd\\\" fill-opacity=\\\"1\\\" \\/><path clip-path=\\\"url(#clip260)\\\" d=\\\"M 0 0 M2026.51 460.313 L2031.39 460.313 L2031.39 464.294 L2027.59 471.701 L2024.61 471.701 L2026.51 464.294 L2026.51 460.313 Z\\\" fill=\\\"#000000\\\" fill-rule=\\\"evenodd\\\" fill-opacity=\\\"1\\\" \\/><path clip-path=\\\"url(#clip260)\\\" d=\\\"M 0 0 M2071.83 432.766 L2071.83 437.327 Q2069.17 436.053 2066.81 435.428 Q2064.45 434.803 2062.25 434.803 Q2058.43 434.803 2056.34 436.285 Q2054.28 437.766 2054.28 440.498 Q2054.28 442.789 2055.65 443.97 Q2057.04 445.127 2060.88 445.845 L2063.71 446.424 Q2068.94 447.419 2071.41 449.942 Q2073.91 452.442 2073.91 456.655 Q2073.91 461.678 2070.53 464.271 Q2067.18 466.863 2060.67 466.863 Q2058.22 466.863 2055.44 466.308 Q2052.69 465.752 2049.72 464.664 L2049.72 459.85 Q2052.57 461.447 2055.3 462.257 Q2058.03 463.067 2060.67 463.067 Q2064.68 463.067 2066.85 461.493 Q2069.03 459.919 2069.03 457.002 Q2069.03 454.456 2067.46 453.021 Q2065.9 451.586 2062.34 450.868 L2059.49 450.313 Q2054.26 449.271 2051.92 447.049 Q2049.59 444.826 2049.59 440.868 Q2049.59 436.285 2052.8 433.646 Q2056.04 431.007 2061.72 431.007 Q2064.15 431.007 2066.67 431.447 Q2069.19 431.887 2071.83 432.766 Z\\\" fill=\\\"#000000\\\" fill-rule=\\\"evenodd\\\" fill-opacity=\\\"1\\\" \\/><path clip-path=\\\"url(#clip260)\\\" d=\\\"M 0 0 M2088.43 443.252 Q2085 443.252 2083.01 445.938 Q2081.02 448.6 2081.02 453.252 Q2081.02 457.905 2082.99 460.59 Q2084.98 463.252 2088.43 463.252 Q2091.83 463.252 2093.82 460.567 Q2095.81 457.882 2095.81 453.252 Q2095.81 448.646 2093.82 445.961 Q2091.83 443.252 2088.43 443.252 M2088.43 439.641 Q2093.98 439.641 2097.15 443.252 Q2100.33 446.864 2100.33 453.252 Q2100.33 459.618 2097.15 463.252 Q2093.98 466.863 2088.43 466.863 Q2082.85 466.863 2079.68 463.252 Q2076.53 459.618 2076.53 453.252 Q2076.53 446.864 2079.68 443.252 Q2082.85 439.641 2088.43 439.641 Z\\\" fill=\\\"#000000\\\" fill-rule=\\\"evenodd\\\" fill-opacity=\\\"1\\\" \\/><path clip-path=\\\"url(#clip260)\\\" d=\\\"M 0 0 M2104.35 455.961 L2104.35 440.266 L2108.61 440.266 L2108.61 455.799 Q2108.61 459.479 2110.05 461.331 Q2111.48 463.16 2114.35 463.16 Q2117.8 463.16 2119.79 460.961 Q2121.81 458.762 2121.81 454.965 L2121.81 440.266 L2126.07 440.266 L2126.07 466.192 L2121.81 466.192 L2121.81 462.211 Q2120.26 464.572 2118.2 465.729 Q2116.16 466.863 2113.45 466.863 Q2108.98 466.863 2106.67 464.086 Q2104.35 461.308 2104.35 455.961 M2115.07 439.641 L2115.07 439.641 Z\\\" fill=\\\"#000000\\\" fill-rule=\\\"evenodd\\\" fill-opacity=\\\"1\\\" \\/><path clip-path=\\\"url(#clip260)\\\" d=\\\"M 0 0 M2134.75 432.905 L2134.75 440.266 L2143.52 440.266 L2143.52 443.577 L2134.75 443.577 L2134.75 457.651 Q2134.75 460.822 2135.6 461.725 Q2136.48 462.627 2139.15 462.627 L2143.52 462.627 L2143.52 466.192 L2139.15 466.192 Q2134.21 466.192 2132.34 464.363 Q2130.46 462.512 2130.46 457.651 L2130.46 443.577 L2127.34 443.577 L2127.34 440.266 L2130.46 440.266 L2130.46 432.905 L2134.75 432.905 Z\\\" fill=\\\"#000000\\\" fill-rule=\\\"evenodd\\\" fill-opacity=\\\"1\\\" \\/><path clip-path=\\\"url(#clip260)\\\" d=\\\"M 0 0 M2169.54 450.544 L2169.54 466.192 L2165.28 466.192 L2165.28 450.683 Q2165.28 447.002 2163.84 445.174 Q2162.41 443.345 2159.54 443.345 Q2156.09 443.345 2154.1 445.544 Q2152.11 447.743 2152.11 451.539 L2152.11 466.192 L2147.83 466.192 L2147.83 430.174 L2152.11 430.174 L2152.11 444.294 Q2153.64 441.956 2155.7 440.799 Q2157.78 439.641 2160.49 439.641 Q2164.96 439.641 2167.25 442.419 Q2169.54 445.174 2169.54 450.544 Z\\\" fill=\\\"#000000\\\" fill-rule=\\\"evenodd\\\" fill-opacity=\\\"1\\\" \\/><polyline clip-path=\\\"url(#clip260)\\\" style=\\\"stroke:#ac8d18; stroke-width:4; stroke-opacity:1; fill:none\\\" points=\\\"\\n  1731.63,509.392 1875.63,509.392 \\n  \\\"\\/>\\n<path clip-path=\\\"url(#clip260)\\\" d=\\\"M 0 0 M1906.74 492.112 L1911.42 492.112 L1911.42 524.265 Q1911.42 530.515 1909.03 533.339 Q1906.67 536.163 1901.42 536.163 L1899.63 536.163 L1899.63 532.228 L1901.09 532.228 Q1904.19 532.228 1905.47 530.492 Q1906.74 528.755 1906.74 524.265 L1906.74 492.112 Z\\\" fill=\\\"#000000\\\" fill-rule=\\\"evenodd\\\" fill-opacity=\\\"1\\\" \\/><path clip-path=\\\"url(#clip260)\\\" d=\\\"M 0 0 M1927.66 513.64 Q1922.5 513.64 1920.51 514.82 Q1918.52 516.001 1918.52 518.848 Q1918.52 521.117 1920 522.459 Q1921.51 523.779 1924.08 523.779 Q1927.62 523.779 1929.75 521.279 Q1931.9 518.756 1931.9 514.589 L1931.9 513.64 L1927.66 513.64 M1936.16 511.881 L1936.16 526.672 L1931.9 526.672 L1931.9 522.737 Q1930.44 525.098 1928.27 526.232 Q1926.09 527.343 1922.94 527.343 Q1918.96 527.343 1916.6 525.121 Q1914.26 522.876 1914.26 519.126 Q1914.26 514.751 1917.18 512.529 Q1920.12 510.306 1925.93 510.306 L1931.9 510.306 L1931.9 509.89 Q1931.9 506.95 1929.96 505.353 Q1928.04 503.732 1924.54 503.732 Q1922.32 503.732 1920.21 504.265 Q1918.1 504.797 1916.16 505.862 L1916.16 501.927 Q1918.5 501.024 1920.7 500.584 Q1922.9 500.121 1924.98 500.121 Q1930.6 500.121 1933.38 503.038 Q1936.16 505.955 1936.16 511.881 Z\\\" fill=\\\"#000000\\\" fill-rule=\\\"evenodd\\\" fill-opacity=\\\"1\\\" \\/><path clip-path=\\\"url(#clip260)\\\" d=\\\"M 0 0 M1944.75 522.783 L1944.75 536.533 L1940.47 536.533 L1940.47 500.746 L1944.75 500.746 L1944.75 504.682 Q1946.09 502.367 1948.13 501.256 Q1950.19 500.121 1953.04 500.121 Q1957.76 500.121 1960.7 503.871 Q1963.66 507.621 1963.66 513.732 Q1963.66 519.843 1960.7 523.593 Q1957.76 527.343 1953.04 527.343 Q1950.19 527.343 1948.13 526.232 Q1946.09 525.098 1944.75 522.783 M1959.24 513.732 Q1959.24 509.033 1957.29 506.371 Q1955.37 503.686 1951.99 503.686 Q1948.61 503.686 1946.67 506.371 Q1944.75 509.033 1944.75 513.732 Q1944.75 518.431 1946.67 521.117 Q1948.61 523.779 1951.99 523.779 Q1955.37 523.779 1957.29 521.117 Q1959.24 518.431 1959.24 513.732 Z\\\" fill=\\\"#000000\\\" fill-rule=\\\"evenodd\\\" fill-opacity=\\\"1\\\" \\/><path clip-path=\\\"url(#clip260)\\\" d=\\\"M 0 0 M1979.91 513.64 Q1974.75 513.64 1972.76 514.82 Q1970.77 516.001 1970.77 518.848 Q1970.77 521.117 1972.25 522.459 Q1973.75 523.779 1976.32 523.779 Q1979.86 523.779 1981.99 521.279 Q1984.15 518.756 1984.15 514.589 L1984.15 513.64 L1979.91 513.64 M1988.41 511.881 L1988.41 526.672 L1984.15 526.672 L1984.15 522.737 Q1982.69 525.098 1980.51 526.232 Q1978.34 527.343 1975.19 527.343 Q1971.21 527.343 1968.85 525.121 Q1966.51 522.876 1966.51 519.126 Q1966.51 514.751 1969.42 512.529 Q1972.36 510.306 1978.17 510.306 L1984.15 510.306 L1984.15 509.89 Q1984.15 506.95 1982.2 505.353 Q1980.28 503.732 1976.79 503.732 Q1974.56 503.732 1972.46 504.265 Q1970.35 504.797 1968.41 505.862 L1968.41 501.927 Q1970.74 501.024 1972.94 500.584 Q1975.14 500.121 1977.22 500.121 Q1982.85 500.121 1985.63 503.038 Q1988.41 505.955 1988.41 511.881 Z\\\" fill=\\\"#000000\\\" fill-rule=\\\"evenodd\\\" fill-opacity=\\\"1\\\" \\/><path clip-path=\\\"url(#clip260)\\\" d=\\\"M 0 0 M2014.42 511.024 L2014.42 526.672 L2010.16 526.672 L2010.16 511.163 Q2010.16 507.482 2008.73 505.654 Q2007.29 503.825 2004.42 503.825 Q2000.97 503.825 1998.98 506.024 Q1996.99 508.223 1996.99 512.019 L1996.99 526.672 L1992.71 526.672 L1992.71 500.746 L1996.99 500.746 L1996.99 504.774 Q1998.52 502.436 2000.58 501.279 Q2002.66 500.121 2005.37 500.121 Q2009.84 500.121 2012.13 502.899 Q2014.42 505.654 2014.42 511.024 Z\\\" fill=\\\"#000000\\\" fill-rule=\\\"evenodd\\\" fill-opacity=\\\"1\\\" \\/><polyline clip-path=\\\"url(#clip260)\\\" style=\\\"stroke:#00a9ad; stroke-width:4; stroke-opacity:1; fill:none\\\" points=\\\"\\n  1731.63,569.872 1875.63,569.872 \\n  \\\"\\/>\\n<path clip-path=\\\"url(#clip260)\\\" d=\\\"M 0 0 M1899.63 552.592 L1919.49 552.592 L1919.49 556.527 L1904.31 556.527 L1904.31 566.712 L1918.01 566.712 L1918.01 570.648 L1904.31 570.648 L1904.31 587.152 L1899.63 587.152 L1899.63 552.592 Z\\\" fill=\\\"#000000\\\" fill-rule=\\\"evenodd\\\" fill-opacity=\\\"1\\\" \\/><path clip-path=\\\"url(#clip260)\\\" d=\\\"M 0 0 M1935.54 565.208 Q1934.82 564.791 1933.96 564.606 Q1933.13 564.398 1932.11 564.398 Q1928.5 564.398 1926.55 566.759 Q1924.63 569.097 1924.63 573.495 L1924.63 587.152 L1920.35 587.152 L1920.35 561.226 L1924.63 561.226 L1924.63 565.254 Q1925.98 562.893 1928.13 561.759 Q1930.28 560.601 1933.36 560.601 Q1933.8 560.601 1934.33 560.671 Q1934.86 560.717 1935.51 560.833 L1935.54 565.208 Z\\\" fill=\\\"#000000\\\" fill-rule=\\\"evenodd\\\" fill-opacity=\\\"1\\\" \\/><path clip-path=\\\"url(#clip260)\\\" d=\\\"M 0 0 M1951.79 574.12 Q1946.62 574.12 1944.63 575.3 Q1942.64 576.481 1942.64 579.328 Q1942.64 581.597 1944.12 582.939 Q1945.63 584.259 1948.2 584.259 Q1951.74 584.259 1953.87 581.759 Q1956.02 579.236 1956.02 575.069 L1956.02 574.12 L1951.79 574.12 M1960.28 572.361 L1960.28 587.152 L1956.02 587.152 L1956.02 583.217 Q1954.56 585.578 1952.39 586.712 Q1950.21 587.823 1947.06 587.823 Q1943.08 587.823 1940.72 585.601 Q1938.38 583.356 1938.38 579.606 Q1938.38 575.231 1941.3 573.009 Q1944.24 570.786 1950.05 570.786 L1956.02 570.786 L1956.02 570.37 Q1956.02 567.43 1954.08 565.833 Q1952.16 564.212 1948.66 564.212 Q1946.44 564.212 1944.33 564.745 Q1942.23 565.277 1940.28 566.342 L1940.28 562.407 Q1942.62 561.504 1944.82 561.064 Q1947.02 560.601 1949.1 560.601 Q1954.72 560.601 1957.5 563.518 Q1960.28 566.435 1960.28 572.361 Z\\\" fill=\\\"#000000\\\" fill-rule=\\\"evenodd\\\" fill-opacity=\\\"1\\\" \\/><path clip-path=\\\"url(#clip260)\\\" d=\\\"M 0 0 M1986.3 571.504 L1986.3 587.152 L1982.04 587.152 L1982.04 571.643 Q1982.04 567.962 1980.6 566.134 Q1979.17 564.305 1976.3 564.305 Q1972.85 564.305 1970.86 566.504 Q1968.87 568.703 1968.87 572.499 L1968.87 587.152 L1964.59 587.152 L1964.59 561.226 L1968.87 561.226 L1968.87 565.254 Q1970.4 562.916 1972.46 561.759 Q1974.54 560.601 1977.25 560.601 Q1981.72 560.601 1984.01 563.379 Q1986.3 566.134 1986.3 571.504 Z\\\" fill=\\\"#000000\\\" fill-rule=\\\"evenodd\\\" fill-opacity=\\\"1\\\" \\/><path clip-path=\\\"url(#clip260)\\\" d=\\\"M 0 0 M2009.42 562.222 L2009.42 566.203 Q2007.62 565.208 2005.79 564.722 Q2003.98 564.212 2002.13 564.212 Q1997.99 564.212 1995.7 566.851 Q1993.41 569.467 1993.41 574.212 Q1993.41 578.958 1995.7 581.597 Q1997.99 584.212 2002.13 584.212 Q2003.98 584.212 2005.79 583.726 Q2007.62 583.217 2009.42 582.222 L2009.42 586.157 Q2007.64 586.99 2005.72 587.407 Q2003.82 587.823 2001.67 587.823 Q1995.81 587.823 1992.36 584.143 Q1988.91 580.462 1988.91 574.212 Q1988.91 567.87 1992.39 564.236 Q1995.88 560.601 2001.95 560.601 Q2003.91 560.601 2005.79 561.018 Q2007.66 561.412 2009.42 562.222 Z\\\" fill=\\\"#000000\\\" fill-rule=\\\"evenodd\\\" fill-opacity=\\\"1\\\" \\/><path clip-path=\\\"url(#clip260)\\\" d=\\\"M 0 0 M2036.07 573.124 L2036.07 575.208 L2016.48 575.208 Q2016.76 579.606 2019.12 581.921 Q2021.51 584.212 2025.74 584.212 Q2028.2 584.212 2030.49 583.61 Q2032.8 583.009 2035.07 581.805 L2035.07 585.833 Q2032.78 586.805 2030.37 587.314 Q2027.97 587.823 2025.49 587.823 Q2019.28 587.823 2015.65 584.212 Q2012.04 580.601 2012.04 574.444 Q2012.04 568.078 2015.47 564.351 Q2018.91 560.601 2024.75 560.601 Q2029.98 560.601 2033.01 563.981 Q2036.07 567.337 2036.07 573.124 M2031.81 571.874 Q2031.76 568.379 2029.84 566.296 Q2027.94 564.212 2024.79 564.212 Q2021.23 564.212 2019.08 566.226 Q2016.95 568.24 2016.62 571.898 L2031.81 571.874 Z\\\" fill=\\\"#000000\\\" fill-rule=\\\"evenodd\\\" fill-opacity=\\\"1\\\" \\/><polyline clip-path=\\\"url(#clip260)\\\" style=\\\"stroke:#ed5d92; stroke-width:4; stroke-opacity:1; fill:none\\\" points=\\\"\\n  1731.63,630.352 1875.63,630.352 \\n  \\\"\\/>\\n<path clip-path=\\\"url(#clip260)\\\" d=\\\"M 0 0 M1899.63 613.072 L1904.33 613.072 L1904.33 634.067 Q1904.33 639.623 1906.35 642.077 Q1908.36 644.507 1912.87 644.507 Q1917.36 644.507 1919.38 642.077 Q1921.39 639.623 1921.39 634.067 L1921.39 613.072 L1926.09 613.072 L1926.09 634.646 Q1926.09 641.405 1922.73 644.854 Q1919.4 648.303 1912.87 648.303 Q1906.32 648.303 1902.97 644.854 Q1899.63 641.405 1899.63 634.646 L1899.63 613.072 Z\\\" fill=\\\"#000000\\\" fill-rule=\\\"evenodd\\\" fill-opacity=\\\"1\\\" \\/><path clip-path=\\\"url(#clip260)\\\" d=\\\"M 0 0 M1951.46 614.206 L1951.46 618.767 Q1948.8 617.493 1946.44 616.868 Q1944.08 616.243 1941.88 616.243 Q1938.06 616.243 1935.98 617.725 Q1933.91 619.206 1933.91 621.938 Q1933.91 624.229 1935.28 625.41 Q1936.67 626.567 1940.51 627.285 L1943.34 627.864 Q1948.57 628.859 1951.04 631.382 Q1953.54 633.882 1953.54 638.095 Q1953.54 643.118 1950.16 645.711 Q1946.81 648.303 1940.3 648.303 Q1937.85 648.303 1935.07 647.748 Q1932.32 647.192 1929.35 646.104 L1929.35 641.29 Q1932.2 642.887 1934.93 643.697 Q1937.66 644.507 1940.3 644.507 Q1944.31 644.507 1946.48 642.933 Q1948.66 641.359 1948.66 638.442 Q1948.66 635.896 1947.09 634.461 Q1945.54 633.026 1941.97 632.308 L1939.12 631.753 Q1933.89 630.711 1931.55 628.489 Q1929.22 626.266 1929.22 622.308 Q1929.22 617.725 1932.43 615.086 Q1935.67 612.447 1941.35 612.447 Q1943.78 612.447 1946.3 612.887 Q1948.82 613.327 1951.46 614.206 Z\\\" fill=\\\"#000000\\\" fill-rule=\\\"evenodd\\\" fill-opacity=\\\"1\\\" \\/><\\/svg>\\n\"},\"nodeType\":\"DOM\",\"type\":\"node\",\"instanceArgs\":{\"namespace\":\"html\",\"tag\":\"div\"},\"children\":[]}]}}}},\"children\":[{\"props\":{},\"nodeType\":\"ObservableNode\",\"type\":\"node\",\"instanceArgs\":{\"id\":\"366062179264041576\",\"name\":\"obs-node\"},\"children\":[]}]}]},\n",
       "            window,\n",
       "        );\n",
       "    } else {\n",
       "        document\n",
       "            .querySelector('[data-webio-mountpoint=\"13299170178928165743\"]')\n",
       "            .innerHTML = (\n",
       "                '<div style=\"padding: 1em; background-color: #f8d6da; border: 1px solid #f5c6cb\">' +\n",
       "                '<p><strong>WebIO not detected.</strong></p>' +\n",
       "                '<p>Please read ' +\n",
       "                '<a href=\"https://juliagizmos.github.io/WebIO.jl/latest/troubleshooting/not-detected/\" target=\"_blank\">the troubleshooting guide</a> ' +\n",
       "                'for more information on how to resolve this issue.</p>' +\n",
       "                '<p><a href=\"https://juliagizmos.github.io/WebIO.jl/latest/troubleshooting/not-detected/\" target=\"_blank\">https://juliagizmos.github.io/WebIO.jl/latest/troubleshooting/not-detected/</a></p>' +\n",
       "                '</div>'\n",
       "            );\n",
       "    }\n",
       "    </script>\n",
       "</div>\n"
      ],
      "text/plain": [
       "Node{WebIO.DOM}(WebIO.DOM(:html, :div), Any[Node{WebIO.DOM}(WebIO.DOM(:html, :div), Any[Scope(Node{WebIO.DOM}(WebIO.DOM(:html, :div), Any[Node{WebIO.DOM}(WebIO.DOM(:html, :div), Any[Node{WebIO.DOM}(WebIO.DOM(:html, :label), Any[\"i\"], Dict{Symbol,Any}(:className => \"interact \",:style => Dict{Any,Any}(:padding => \"5px 10px 0px 10px\")))], Dict{Symbol,Any}(:className => \"interact-flex-row-left\")), Node{WebIO.DOM}(WebIO.DOM(:html, :div), Any[Node{WebIO.DOM}(WebIO.DOM(:html, :input), Any[], Dict{Symbol,Any}(:max => 140,:min => 1,:attributes => Dict{Any,Any}(:type => \"range\",Symbol(\"data-bind\") => \"numericValue: index, valueUpdate: 'input', event: {change: function (){this.changes(this.changes()+1)}}\",\"orient\" => \"horizontal\"),:step => 1,:className => \"slider slider is-fullwidth\",:style => Dict{Any,Any}()))], Dict{Symbol,Any}(:className => \"interact-flex-row-center\")), Node{WebIO.DOM}(WebIO.DOM(:html, :div), Any[Node{WebIO.DOM}(WebIO.DOM(:html, :p), Any[], Dict{Symbol,Any}(:attributes => Dict(\"data-bind\" => \"text: formatted_val\")))], Dict{Symbol,Any}(:className => \"interact-flex-row-right\"))], Dict{Symbol,Any}(:className => \"interact-flex-row interact-widget\")), Dict{String,Tuple{Observables.AbstractObservable,Union{Nothing, Bool}}}(\"changes\" => (Observable{Int64} with 1 listeners. Value:\n",
       "0, nothing),\"index\" => (Observable{Int64} with 2 listeners. Value:\n",
       "70, nothing)), Set(String[]), nothing, Asset[Asset(\"js\", \"knockout\", \"/home/geekj3t/.julia/packages/Knockout/IP1uR/src/../assets/knockout.js\"), Asset(\"js\", \"knockout_punches\", \"/home/geekj3t/.julia/packages/Knockout/IP1uR/src/../assets/knockout_punches.js\"), Asset(\"js\", nothing, \"/home/geekj3t/.julia/packages/InteractBase/sOe2Z/src/../assets/all.js\"), Asset(\"css\", nothing, \"/home/geekj3t/.julia/packages/InteractBase/sOe2Z/src/../assets/style.css\"), Asset(\"css\", nothing, \"/home/geekj3t/.julia/packages/Interact/SbgIk/src/../assets/bulma_confined.min.css\")], Dict{Any,Any}(\"changes\" => Any[WebIO.JSString(\"(function (val){return (val!=this.model[\\\"changes\\\"]()) ? (this.valueFromJulia[\\\"changes\\\"]=true, this.model[\\\"changes\\\"](val)) : undefined})\")],\"index\" => Any[WebIO.JSString(\"(function (val){return (val!=this.model[\\\"index\\\"]()) ? (this.valueFromJulia[\\\"index\\\"]=true, this.model[\\\"index\\\"](val)) : undefined})\")]), WebIO.ConnectionPool(Channel{Any}(sz_max:32,sz_curr:0), Set(AbstractConnection[]), Base.GenericCondition{Base.AlwaysLockedST}(Base.InvasiveLinkedList{Task}(Task (runnable) @0x00007f5c1d726710, Task (runnable) @0x00007f5c1d726710), Base.AlwaysLockedST(1))), WebIO.JSString[WebIO.JSString(\"function () {\\n    var handler = (function (ko, koPunches) {\\n    ko.punches.enableAll();\\n    ko.bindingHandlers.numericValue = {\\n        init: function(element, valueAccessor, allBindings, data, context) {\\n            var stringified = ko.observable(ko.unwrap(valueAccessor()));\\n            stringified.subscribe(function(value) {\\n                var val = parseFloat(value);\\n                if (!isNaN(val)) {\\n                    valueAccessor()(val);\\n                }\\n            });\\n            valueAccessor().subscribe(function(value) {\\n                var str = JSON.stringify(value);\\n                if ((str == \\\"0\\\") && ([\\\"-0\\\", \\\"-0.\\\"].indexOf(stringified()) >= 0))\\n                     return;\\n                 if ([\\\"null\\\", \\\"\\\"].indexOf(str) >= 0)\\n                     return;\\n                stringified(str);\\n            });\\n            ko.applyBindingsToNode(\\n                element,\\n                {\\n                    value: stringified,\\n                    valueUpdate: allBindings.get('valueUpdate'),\\n                },\\n                context,\\n            );\\n        }\\n    };\\n    var json_data = {\\\"formatted_vals\\\":[\\\"1\\\",\\\"2\\\",\\\"3\\\",\\\"4\\\",\\\"5\\\",\\\"6\\\",\\\"7\\\",\\\"8\\\",\\\"9\\\",\\\"10\\\",\\\"11\\\",\\\"12\\\",\\\"13\\\",\\\"14\\\",\\\"15\\\",\\\"16\\\",\\\"17\\\",\\\"18\\\",\\\"19\\\",\\\"20\\\",\\\"21\\\",\\\"22\\\",\\\"23\\\",\\\"24\\\",\\\"25\\\",\\\"26\\\",\\\"27\\\",\\\"28\\\",\\\"29\\\",\\\"30\\\",\\\"31\\\",\\\"32\\\",\\\"33\\\",\\\"34\\\",\\\"35\\\",\\\"36\\\",\\\"37\\\",\\\"38\\\",\\\"39\\\",\\\"40\\\",\\\"41\\\",\\\"42\\\",\\\"43\\\",\\\"44\\\",\\\"45\\\",\\\"46\\\",\\\"47\\\",\\\"48\\\",\\\"49\\\",\\\"50\\\",\\\"51\\\",\\\"52\\\",\\\"53\\\",\\\"54\\\",\\\"55\\\",\\\"56\\\",\\\"57\\\",\\\"58\\\",\\\"59\\\",\\\"60\\\",\\\"61\\\",\\\"62\\\",\\\"63\\\",\\\"64\\\",\\\"65\\\",\\\"66\\\",\\\"67\\\",\\\"68\\\",\\\"69\\\",\\\"70\\\",\\\"71\\\",\\\"72\\\",\\\"73\\\",\\\"74\\\",\\\"75\\\",\\\"76\\\",\\\"77\\\",\\\"78\\\",\\\"79\\\",\\\"80\\\",\\\"81\\\",\\\"82\\\",\\\"83\\\",\\\"84\\\",\\\"85\\\",\\\"86\\\",\\\"87\\\",\\\"88\\\",\\\"89\\\",\\\"90\\\",\\\"91\\\",\\\"92\\\",\\\"93\\\",\\\"94\\\",\\\"95\\\",\\\"96\\\",\\\"97\\\",\\\"98\\\",\\\"99\\\",\\\"100\\\",\\\"101\\\",\\\"102\\\",\\\"103\\\",\\\"104\\\",\\\"105\\\",\\\"106\\\",\\\"107\\\",\\\"108\\\",\\\"109\\\",\\\"110\\\",\\\"111\\\",\\\"112\\\",\\\"113\\\",\\\"114\\\",\\\"115\\\",\\\"116\\\",\\\"117\\\",\\\"118\\\",\\\"119\\\",\\\"120\\\",\\\"121\\\",\\\"122\\\",\\\"123\\\",\\\"124\\\",\\\"125\\\",\\\"126\\\",\\\"127\\\",\\\"128\\\",\\\"129\\\",\\\"130\\\",\\\"131\\\",\\\"132\\\",\\\"133\\\",\\\"134\\\",\\\"135\\\",\\\"136\\\",\\\"137\\\",\\\"138\\\",\\\"139\\\",\\\"140\\\"],\\\"changes\\\":WebIO.getval({\\\"name\\\":\\\"changes\\\",\\\"scope\\\":\\\"5670719907083174453\\\",\\\"id\\\":\\\"15835865741898499462\\\",\\\"type\\\":\\\"observable\\\"}),\\\"index\\\":WebIO.getval({\\\"name\\\":\\\"index\\\",\\\"scope\\\":\\\"5670719907083174453\\\",\\\"id\\\":\\\"839363559751596114\\\",\\\"type\\\":\\\"observable\\\"})};\\n    var self = this;\\n    function AppViewModel() {\\n        for (var key in json_data) {\\n            var el = json_data[key];\\n            this[key] = Array.isArray(el) ? ko.observableArray(el) : ko.observable(el);\\n        }\\n        \\n        [this[\\\"formatted_val\\\"]=ko.computed(    function(){\\n        return this.formatted_vals()[parseInt(this.index())-(1)];\\n    }\\n,this)]\\n        [this[\\\"changes\\\"].subscribe((function (val){!(this.valueFromJulia[\\\"changes\\\"]) ? (WebIO.setval({\\\"name\\\":\\\"changes\\\",\\\"scope\\\":\\\"5670719907083174453\\\",\\\"id\\\":\\\"15835865741898499462\\\",\\\"type\\\":\\\"observable\\\"},val)) : undefined; return this.valueFromJulia[\\\"changes\\\"]=false}),self),this[\\\"index\\\"].subscribe((function (val){!(this.valueFromJulia[\\\"index\\\"]) ? (WebIO.setval({\\\"name\\\":\\\"index\\\",\\\"scope\\\":\\\"5670719907083174453\\\",\\\"id\\\":\\\"839363559751596114\\\",\\\"type\\\":\\\"observable\\\"},val)) : undefined; return this.valueFromJulia[\\\"index\\\"]=false}),self)]\\n        \\n    }\\n    self.model = new AppViewModel();\\n    self.valueFromJulia = {};\\n    for (var key in json_data) {\\n        self.valueFromJulia[key] = false;\\n    }\\n    ko.applyBindings(self.model, self.dom);\\n}\\n);\\n    (WebIO.importBlock({\\\"data\\\":[{\\\"name\\\":\\\"knockout\\\",\\\"type\\\":\\\"js\\\",\\\"url\\\":\\\"/assetserver/2157388af3d6d86568eafc09a309e401c236faee-knockout.js\\\"},{\\\"name\\\":\\\"knockout_punches\\\",\\\"type\\\":\\\"js\\\",\\\"url\\\":\\\"/assetserver/b00210f913135d4addde28134ceecd2d9193c6e7-knockout_punches.js\\\"}],\\\"type\\\":\\\"async_block\\\"})).then((imports) => handler.apply(this, imports));\\n}\\n\")])], Dict{Symbol,Any}(:className => \"field interact-widget\")), Observable{Any} with 0 listeners. Value:\n",
       "Node{WebIO.DOM}(WebIO.DOM(:html, :div), Any[Plot{Plots.GRBackend() n=7}], Dict{Symbol,Any}(:className => \"interact-flex-row interact-widget\"))], Dict{Symbol,Any}())"
      ]
     },
     "execution_count": 304,
     "metadata": {
      "application/vnd.webio.node+json": {
       "kernelId": "cb8ff918-c7dd-4b70-bf5c-3d3aa19adfaf"
      }
     },
     "output_type": "execute_result"
    }
   ],
   "source": [
    "@manipulate for i in 1:num_days\n",
    "    p = plot(xlims=(0, num_days), yscale=:log10);\n",
    "        xlabel!(\"days\")\n",
    "        ylabel!(\"confirm cases\")\n",
    "        title!(\"confirmed COVID-19 cases\")\n",
    "    for (key, val) in countries_case_count\n",
    "        plot!(val[1:i], label=key, yscale=:log10)\n",
    "    end\n",
    "    p\n",
    "end"
   ]
  },
  {
   "cell_type": "code",
   "execution_count": 165,
   "metadata": {},
   "outputs": [
    {
     "data": {
      "text/plain": [
       "Base.ValueIterator for a Dict{String,Array{Int32,1}} with 7 entries. Values:\n",
       "  Int32[0, 0, 0, 0, 0, 1, 4, 4, 4, 5  …  183410, 183594, 183879, 184121, 184472…\n",
       "  Int32[0, 0, 0, 0, 0, 0, 0, 0, 0, 2  …  276156, 277736, 279392, 281270, 283079…\n",
       "  Int32[548, 643, 920, 1406, 2075, 2877, 5509, 6087, 8141, 9802  …  84146, 8415…\n",
       "  Int32[1, 1, 2, 2, 3, 4, 4, 4, 4, 11  …  11503, 11541, 11590, 11629, 11668, 11…\n",
       "  Int32[2, 2, 2, 2, 4, 4, 7, 7, 11, 15  …  16751, 16787, 16837, 16867, 16911, 1…\n",
       "  Int32[0, 0, 2, 3, 3, 3, 4, 5, 5, 5  …  189009, 189348, 188450, 192330, 189569…\n",
       "  Int32[1, 1, 2, 2, 5, 5, 5, 5, 5, 7  …  1790172, 1811020, 1831821, 1851520, 18…"
      ]
     },
     "execution_count": 165,
     "metadata": {},
     "output_type": "execute_result"
    }
   ],
   "source": [
    "map!(x -> convert(Array{Float64,1}, x),values(countries_case_count))"
   ]
  },
  {
   "cell_type": "code",
   "execution_count": 166,
   "metadata": {},
   "outputs": [
    {
     "data": {
      "text/plain": [
       "Dict{String,Array{Int32,1}} with 7 entries:\n",
       "  \"Germany\"        => Int32[0, 0, 0, 0, 0, 1, 4, 4, 4, 5  …  183410, 183594, 18…\n",
       "  \"United Kingdom\" => Int32[0, 0, 0, 0, 0, 0, 0, 0, 0, 2  …  276156, 277736, 27…\n",
       "  \"China\"          => Int32[548, 643, 920, 1406, 2075, 2877, 5509, 6087, 8141, …\n",
       "  \"Korea, South\"   => Int32[1, 1, 2, 2, 3, 4, 4, 4, 4, 11  …  11503, 11541, 115…\n",
       "  \"Japan\"          => Int32[2, 2, 2, 2, 4, 4, 7, 7, 11, 15  …  16751, 16787, 16…\n",
       "  \"France\"         => Int32[0, 0, 2, 3, 3, 3, 4, 5, 5, 5  …  189009, 189348, 18…\n",
       "  \"US\"             => Int32[1, 1, 2, 2, 5, 5, 5, 5, 5, 7  …  1790172, 1811020, …"
      ]
     },
     "execution_count": 166,
     "metadata": {},
     "output_type": "execute_result"
    }
   ],
   "source": [
    "countries_case_count"
   ]
  },
  {
   "cell_type": "code",
   "execution_count": 156,
   "metadata": {
    "scrolled": true
   },
   "outputs": [
    {
     "data": {
      "text/plain": [
       "Base.ValueIterator for a Dict{String,Array{Int32,1}} with 7 entries. Values:\n",
       "  Int32[0, 0, 0, 0, 0, 1, 4, 4, 4, 5  …  183410, 183594, 183879, 184121, 184472…\n",
       "  Int32[0, 0, 0, 0, 0, 0, 0, 0, 0, 2  …  276156, 277736, 279392, 281270, 283079…\n",
       "  Int32[548, 643, 920, 1406, 2075, 2877, 5509, 6087, 8141, 9802  …  84146, 8415…\n",
       "  Int32[1, 1, 2, 2, 3, 4, 4, 4, 4, 11  …  11503, 11541, 11590, 11629, 11668, 11…\n",
       "  Int32[2, 2, 2, 2, 4, 4, 7, 7, 11, 15  …  16751, 16787, 16837, 16867, 16911, 1…\n",
       "  Int32[0, 0, 2, 3, 3, 3, 4, 5, 5, 5  …  189009, 189348, 188450, 192330, 189569…\n",
       "  Int32[1, 1, 2, 2, 5, 5, 5, 5, 5, 7  …  1790172, 1811020, 1831821, 1851520, 18…"
      ]
     },
     "execution_count": 156,
     "metadata": {},
     "output_type": "execute_result"
    }
   ],
   "source": [
    "convert(values(countries_case_count), )"
   ]
  },
  {
   "cell_type": "code",
   "execution_count": 27,
   "metadata": {},
   "outputs": [
    {
     "data": {
      "text/html": [
       "<p>DataFrameRow (144 columns)</p><table class=\"data-frame\"><thead><tr><th></th><th>province</th><th>all_countries</th><th>Lat</th><th>Long</th><th>1/22/20</th><th>1/23/20</th><th>1/24/20</th><th>1/25/20</th></tr><tr><th></th><th>String?</th><th>String</th><th>Float64</th><th>Float64</th><th>Int64</th><th>Int64</th><th>Int64</th><th>Int64</th></tr></thead><tbody><tr><th>226</th><td><em>missing</em></td><td>US</td><td>37.0902</td><td>-95.7129</td><td>1</td><td>1</td><td>2</td><td>2</td></tr></tbody></table>"
      ],
      "text/latex": [
       "\\begin{tabular}{r|ccccccccc}\n",
       "\t& province & all\\_countries & Lat & Long & 1/22/20 & 1/23/20 & 1/24/20 & 1/25/20 & \\\\\n",
       "\t\\hline\n",
       "\t& String? & String & Float64 & Float64 & Int64 & Int64 & Int64 & Int64 & \\\\\n",
       "\t\\hline\n",
       "\t226 & \\emph{missing} & US & 37.0902 & -95.7129 & 1 & 1 & 2 & 2 & $\\dots$ \\\\\n",
       "\\end{tabular}\n"
      ],
      "text/plain": [
       "DataFrameRow. Omitted printing of 138 columns\n",
       "│ Row │ province │ all_countries │ Lat     │ Long     │ 1/22/20 │ 1/23/20 │\n",
       "│     │ \u001b[90mString?\u001b[39m  │ \u001b[90mString\u001b[39m        │ \u001b[90mFloat64\u001b[39m │ \u001b[90mFloat64\u001b[39m  │ \u001b[90mInt64\u001b[39m   │ \u001b[90mInt64\u001b[39m   │\n",
       "├─────┼──────────┼───────────────┼─────────┼──────────┼─────────┼─────────┤\n",
       "│ 226 │ \u001b[90mmissing\u001b[39m  │ US            │ 37.0902 │ -95.7129 │ 1       │ 1       │"
      ]
     },
     "execution_count": 27,
     "metadata": {},
     "output_type": "execute_result"
    }
   ],
   "source": [
    "US_row = findfirst(collect(data[:,2]) .== \"US\")\n",
    "# US_row\n",
    "US_data_row = data[US_row,:]"
   ]
  },
  {
   "cell_type": "code",
   "execution_count": 28,
   "metadata": {},
   "outputs": [
    {
     "data": {
      "text/plain": [
       "140-element Array{Int64,1}:\n",
       "       1\n",
       "       1\n",
       "       2\n",
       "       2\n",
       "       5\n",
       "       5\n",
       "       5\n",
       "       5\n",
       "       5\n",
       "       7\n",
       "       8\n",
       "       8\n",
       "      11\n",
       "       ⋮\n",
       " 1746019\n",
       " 1770165\n",
       " 1790172\n",
       " 1811020\n",
       " 1831821\n",
       " 1851520\n",
       " 1872660\n",
       " 1902632\n",
       " 1925765\n",
       " 1943882\n",
       " 1961428\n",
       " 1973230"
      ]
     },
     "execution_count": 28,
     "metadata": {},
     "output_type": "execute_result"
    }
   ],
   "source": [
    "US_data = convert(Vector, US_data_row[5:end])"
   ]
  },
  {
   "cell_type": "code",
   "execution_count": 33,
   "metadata": {},
   "outputs": [],
   "source": [
    "using Dates"
   ]
  },
  {
   "cell_type": "code",
   "execution_count": 34,
   "metadata": {
    "scrolled": true
   },
   "outputs": [
    {
     "data": {
      "text/plain": [
       "140-element Array{String,1}:\n",
       " \"1/22/20\"\n",
       " \"1/23/20\"\n",
       " \"1/24/20\"\n",
       " \"1/25/20\"\n",
       " \"1/26/20\"\n",
       " \"1/27/20\"\n",
       " \"1/28/20\"\n",
       " \"1/29/20\"\n",
       " \"1/30/20\"\n",
       " \"1/31/20\"\n",
       " \"2/1/20\"\n",
       " \"2/2/20\"\n",
       " \"2/3/20\"\n",
       " ⋮\n",
       " \"5/29/20\"\n",
       " \"5/30/20\"\n",
       " \"5/31/20\"\n",
       " \"6/1/20\"\n",
       " \"6/2/20\"\n",
       " \"6/3/20\"\n",
       " \"6/4/20\"\n",
       " \"6/5/20\"\n",
       " \"6/6/20\"\n",
       " \"6/7/20\"\n",
       " \"6/8/20\"\n",
       " \"6/9/20\""
      ]
     },
     "execution_count": 34,
     "metadata": {},
     "output_type": "execute_result"
    }
   ],
   "source": [
    "date_strings = String.(names(data))[5:end]"
   ]
  },
  {
   "cell_type": "code",
   "execution_count": 36,
   "metadata": {},
   "outputs": [
    {
     "data": {
      "text/plain": [
       "dateformat\"m/d/Y\""
      ]
     },
     "execution_count": 36,
     "metadata": {},
     "output_type": "execute_result"
    }
   ],
   "source": [
    "format = Dates.DateFormat(\"m/d/Y\")"
   ]
  },
  {
   "cell_type": "code",
   "execution_count": 39,
   "metadata": {},
   "outputs": [
    {
     "data": {
      "text/plain": [
       "2020-01-22"
      ]
     },
     "execution_count": 39,
     "metadata": {},
     "output_type": "execute_result"
    }
   ],
   "source": [
    "parse(Date, date_strings[1], format) + Year(2000)"
   ]
  },
  {
   "cell_type": "code",
   "execution_count": 40,
   "metadata": {
    "scrolled": true
   },
   "outputs": [
    {
     "data": {
      "text/plain": [
       "140-element Array{Date,1}:\n",
       " 2020-01-22\n",
       " 2020-01-23\n",
       " 2020-01-24\n",
       " 2020-01-25\n",
       " 2020-01-26\n",
       " 2020-01-27\n",
       " 2020-01-28\n",
       " 2020-01-29\n",
       " 2020-01-30\n",
       " 2020-01-31\n",
       " 2020-02-01\n",
       " 2020-02-02\n",
       " 2020-02-03\n",
       " ⋮\n",
       " 2020-05-29\n",
       " 2020-05-30\n",
       " 2020-05-31\n",
       " 2020-06-01\n",
       " 2020-06-02\n",
       " 2020-06-03\n",
       " 2020-06-04\n",
       " 2020-06-05\n",
       " 2020-06-06\n",
       " 2020-06-07\n",
       " 2020-06-08\n",
       " 2020-06-09"
      ]
     },
     "execution_count": 40,
     "metadata": {},
     "output_type": "execute_result"
    }
   ],
   "source": [
    "dates = parse.(Date, date_strings, format) .+ Year(2000)"
   ]
  },
  {
   "cell_type": "code",
   "execution_count": null,
   "metadata": {},
   "outputs": [],
   "source": []
  }
 ],
 "metadata": {
  "@webio": {
   "lastCommId": "a6cb1b57990a41c48f19b053885bce0a",
   "lastKernelId": "cb8ff918-c7dd-4b70-bf5c-3d3aa19adfaf"
  },
  "kernelspec": {
   "display_name": "Julia 1.4.2",
   "language": "julia",
   "name": "julia-1.4"
  },
  "language_info": {
   "file_extension": ".jl",
   "mimetype": "application/julia",
   "name": "julia",
   "version": "1.4.2"
  }
 },
 "nbformat": 4,
 "nbformat_minor": 4
}
